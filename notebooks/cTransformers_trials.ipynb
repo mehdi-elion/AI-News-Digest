{
 "cells": [
  {
   "cell_type": "markdown",
   "metadata": {},
   "source": [
    "# (C)Transformers trials"
   ]
  },
  {
   "cell_type": "markdown",
   "metadata": {},
   "source": [
    "## Setup"
   ]
  },
  {
   "cell_type": "code",
   "execution_count": null,
   "metadata": {},
   "outputs": [],
   "source": [
    "import huggingface_hub\n",
    "import torch\n",
    "import transformers\n",
    "from transformers import AutoTokenizer"
   ]
  },
  {
   "cell_type": "code",
   "execution_count": 1,
   "metadata": {},
   "outputs": [],
   "source": [
    "MODEL_PATHS = {\n",
    "    \"llama-2-13b-chat.ggmlv3.q8_0\": \"C:/Users/mehdi/Downloads/Models/llama-2-13b-chat.ggmlv3.q8_0.bin\",\n",
    "    \"llama-2-7b-chat\": \"C:/Users/mehdi/Downloads/Models/llama/llama-2-7b-chat\",\n",
    "}"
   ]
  },
  {
   "cell_type": "markdown",
   "metadata": {},
   "source": [
    "## Text Generation"
   ]
  },
  {
   "cell_type": "code",
   "execution_count": 2,
   "metadata": {},
   "outputs": [],
   "source": [
    "# from ctransformers import AutoModelForCausalLM\n",
    "\n",
    "# llm = AutoModelForCausalLM.from_pretrained(\n",
    "#     model_path_or_repo_id=MODEL_PATHS[\"llama-2-13b-chat.ggmlv3.q8_0\"],\n",
    "#     model_type='llama'\n",
    "# )\n",
    "\n",
    "# print(llm('AI is going to'))"
   ]
  },
  {
   "cell_type": "markdown",
   "metadata": {},
   "source": [
    "have a significant impact on the future of work and will disrupt many industries. Here are some potential impacts of AI on various sectors:\n",
    "1. Healthcare: AI has already made inroads into healthcare, with applications such as medical imaging analysis and drug discovery. As AI becomes more advanced, it could lead to personalized medicine, where treatments are tailored to individual patients based on their genetic profiles and medical history.\n",
    "2. Finance: AI is being used in finance for fraud detection, credit scoring, and portfolio management. It could potentially automate many back-office functions, freeing up human professionals to focus on higher-level tasks.\n",
    "3. Education: AI could revolutionize education by providing personalized learning experiences tailored to individual students' needs and abilities. It could also help teachers by automating administrative tasks and grading.\n",
    "4. Manufacturing: AI is already being used in manufacturing to optimize production processes, predict maintenance needs, and improve product quality. As it becomes more advanced, it could lead to the development of smart factories where machines and robots work together seamlessly.\n",
    "5. Transportation: AI is"
   ]
  },
  {
   "cell_type": "code",
   "execution_count": 3,
   "metadata": {},
   "outputs": [
    {
     "data": {
      "application/vnd.jupyter.widget-view+json": {
       "model_id": "42c2f5c190c646d1a37542c27051ab7a",
       "version_major": 2,
       "version_minor": 0
      },
      "text/plain": [
       "VBox(children=(HTML(value='<center> <img\\nsrc=https://huggingface.co/front/assets/huggingface_logo-noborder.sv…"
      ]
     },
     "metadata": {},
     "output_type": "display_data"
    }
   ],
   "source": [
    "huggingface_hub.notebook_login()"
   ]
  },
  {
   "cell_type": "code",
   "execution_count": 4,
   "metadata": {},
   "outputs": [],
   "source": [
    "# tokenizer = LlamaTokenizer.from_pretrained(\"C:/Users/mehdi/Downloads/Models/llama/tokenizer\")\n",
    "# model = LlamaForCausalLM.from_pretrained(MODEL_PATHS[\"llama-2-7b-chat\"])"
   ]
  },
  {
   "cell_type": "code",
   "execution_count": 5,
   "metadata": {},
   "outputs": [],
   "source": [
    "# # Load model directly\n",
    "# from transformers import AutoTokenizer, AutoModelForCausalLM\n",
    "\n",
    "# tokenizer = AutoTokenizer.from_pretrained(\"meta-llama/Llama-2-13b-chat-hf\")\n",
    "# model = AutoModelForCausalLM.from_pretrained(\"meta-llama/Llama-2-13b-chat-hf\")"
   ]
  },
  {
   "cell_type": "code",
   "execution_count": 2,
   "metadata": {},
   "outputs": [
    {
     "data": {
      "application/vnd.jupyter.widget-view+json": {
       "model_id": "70b8fef4bdcb408ab54949b0b1c8faa2",
       "version_major": 2,
       "version_minor": 0
      },
      "text/plain": [
       "Loading checkpoint shards:   0%|          | 0/2 [00:00<?, ?it/s]"
      ]
     },
     "metadata": {},
     "output_type": "display_data"
    }
   ],
   "source": [
    "model_name = \"meta-llama/Llama-2-7b-chat-hf\"\n",
    "# model_name = \"meta-llama/Llama-2-13b-chat-hf\"\n",
    "\n",
    "tokenizer = AutoTokenizer.from_pretrained(model_name)\n",
    "pipeline = transformers.pipeline(\n",
    "    \"text-generation\",\n",
    "    model=model_name,\n",
    "    torch_dtype=torch.float16,\n",
    "    device_map=\"auto\",\n",
    ")\n",
    "\n",
    "sequences = pipeline(\n",
    "    'I liked \"Breaking Bad\" and \"Band of Brothers\". Do you have any recommendations of other shows I might like?\\n',\n",
    "    do_sample=True,\n",
    "    top_k=10,\n",
    "    num_return_sequences=1,\n",
    "    eos_token_id=tokenizer.eos_token_id,\n",
    "    max_length=200,\n",
    ")\n",
    "for seq in sequences:\n",
    "    print(f\"Result: {seq['generated_text']}\")"
   ]
  }
 ],
 "metadata": {
  "kernelspec": {
   "display_name": "Python 3 (ipykernel)",
   "language": "python",
   "name": "python3"
  },
  "language_info": {
   "codemirror_mode": {
    "name": "ipython",
    "version": 3
   },
   "file_extension": ".py",
   "mimetype": "text/x-python",
   "name": "python",
   "nbconvert_exporter": "python",
   "pygments_lexer": "ipython3",
   "version": "3.10.13"
  }
 },
 "nbformat": 4,
 "nbformat_minor": 4
}
