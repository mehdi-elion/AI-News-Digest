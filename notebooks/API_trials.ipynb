{
 "cells": [
  {
   "cell_type": "markdown",
   "metadata": {},
   "source": [
    "# API Trials"
   ]
  },
  {
   "cell_type": "markdown",
   "metadata": {},
   "source": [
    "## Setup"
   ]
  },
  {
   "cell_type": "code",
   "execution_count": null,
   "metadata": {},
   "outputs": [],
   "source": [
    "import json\n",
    "import urllib\n",
    "import urllib.request\n",
    "\n",
    "import arxiv\n",
    "import pandas as pd\n",
    "import xmltodict\n",
    "from rich import print"
   ]
  },
  {
   "cell_type": "markdown",
   "metadata": {},
   "source": [
    "## Arxiv API with `urllib`"
   ]
  },
  {
   "cell_type": "code",
   "execution_count": null,
   "metadata": {},
   "outputs": [],
   "source": [
    "# url = 'http://export.arxiv.org/api/query?search_query=all:electron&start=0&max_results=3'\n",
    "url = \"http://export.arxiv.org/api/query?search_query=ti:deep+AND+ti:learning&start=0&max_results=3\"\n",
    "data = urllib.request.urlopen(url)\n",
    "xml_res = data.read().decode(\"utf-8\")\n",
    "print(xml_res)"
   ]
  },
  {
   "cell_type": "code",
   "execution_count": null,
   "metadata": {},
   "outputs": [],
   "source": [
    "d = xmltodict.parse(xml_res)\n",
    "print(d[\"feed\"][\"entry\"])"
   ]
  },
  {
   "cell_type": "code",
   "execution_count": null,
   "metadata": {},
   "outputs": [],
   "source": [
    "print(d[\"feed\"][\"entry\"][2][\"summary\"])"
   ]
  },
  {
   "cell_type": "markdown",
   "metadata": {},
   "source": [
    "## Arxiv API with `arxiv`"
   ]
  },
  {
   "cell_type": "code",
   "execution_count": null,
   "metadata": {},
   "outputs": [],
   "source": [
    "search = arxiv.Search(\n",
    "    # query = \"ti:quantum\",\n",
    "    # query = \"abs:graph\",\n",
    "    # query = \"ti:quantum+OR+abs:graph\",\n",
    "    query=\"ti:deep AND ti:learning\",\n",
    "    max_results=3,\n",
    "    sort_by=arxiv.SortCriterion.SubmittedDate,\n",
    ")\n",
    "\n",
    "for result in search.results():\n",
    "    print(f\"--- {result.title} [{result.published}] ---\")\n",
    "    print(result.summary)"
   ]
  },
  {
   "cell_type": "code",
   "execution_count": null,
   "metadata": {},
   "outputs": [],
   "source": [
    "with open(\"../data/03_primary/arxiv_dict_2023-09-04_01-09-05.json\", \"r\") as f:\n",
    "    info_dict = json.load(f)[\"results\"]"
   ]
  },
  {
   "cell_type": "code",
   "execution_count": null,
   "metadata": {},
   "outputs": [],
   "source": [
    "pd.DataFrame(info_dict).transpose().head()"
   ]
  },
  {
   "cell_type": "code",
   "execution_count": null,
   "metadata": {},
   "outputs": [],
   "source": []
  },
  {
   "cell_type": "markdown",
   "metadata": {},
   "source": [
    "## Semantics Scholar API with `urllib`"
   ]
  },
  {
   "cell_type": "code",
   "execution_count": null,
   "metadata": {},
   "outputs": [],
   "source": []
  },
  {
   "cell_type": "code",
   "execution_count": null,
   "metadata": {},
   "outputs": [],
   "source": []
  },
  {
   "cell_type": "markdown",
   "metadata": {},
   "source": [
    "## Google News with `GoogleNews`\n",
    "[https://github.com/Iceloof/GoogleNews](https://github.com/Iceloof/GoogleNews)"
   ]
  },
  {
   "cell_type": "code",
   "execution_count": null,
   "metadata": {},
   "outputs": [],
   "source": []
  },
  {
   "cell_type": "code",
   "execution_count": null,
   "metadata": {},
   "outputs": [],
   "source": []
  },
  {
   "cell_type": "markdown",
   "metadata": {},
   "source": [
    "## Google News with `GNews`\n",
    "[https://github.com/ranahaani/GNews/](https://github.com/ranahaani/GNews/)"
   ]
  },
  {
   "cell_type": "code",
   "execution_count": 98,
   "metadata": {},
   "outputs": [
    {
     "data": {
      "text/html": [
       "<pre style=\"white-space:pre;overflow-x:auto;line-height:normal;font-family:Menlo,'DejaVu Sans Mono',consolas,'Courier New',monospace\"><span style=\"font-weight: bold\">[</span>\n",
       "    <span style=\"font-weight: bold\">{</span>\n",
       "        <span style=\"color: #008000; text-decoration-color: #008000\">'title'</span>: <span style=\"color: #008000; text-decoration-color: #008000\">'Abortion rights will be in French constitution next year, Macron vows - The Guardian'</span>,\n",
       "        <span style=\"color: #008000; text-decoration-color: #008000\">'description'</span>: <span style=\"color: #008000; text-decoration-color: #008000\">'Abortion rights will be in French constitution next year, Macron vows  The Guardian'</span>,\n",
       "        <span style=\"color: #008000; text-decoration-color: #008000\">'published date'</span>: <span style=\"color: #008000; text-decoration-color: #008000\">'Sun, 29 Oct 2023 16:30:00 GMT'</span>,\n",
       "        <span style=\"color: #008000; text-decoration-color: #008000\">'url'</span>: \n",
       "<span style=\"color: #008000; text-decoration-color: #008000\">'https://consent.google.com/m?continue=https://news.google.com/rss/articles/CBMibGh0dHBzOi8vd3d3LnRoZWd1YXJkaWFuLmN</span>\n",
       "<span style=\"color: #008000; text-decoration-color: #008000\">vbS93b3JsZC8yMDIzL29jdC8yOS9lbW1hbnVlbC1tYWNyb24tdG8tZW5zaHJpbmUtd29tZW5zLXJpZ2h0LXRvLWFib3J0aW9uLWluLWZyYW5jZdIBbG</span>\n",
       "<span style=\"color: #008000; text-decoration-color: #008000\">h0dHBzOi8vYW1wLnRoZWd1YXJkaWFuLmNvbS93b3JsZC8yMDIzL29jdC8yOS9lbW1hbnVlbC1tYWNyb24tdG8tZW5zaHJpbmUtd29tZW5zLXJpZ2h0L</span>\n",
       "<span style=\"color: #008000; text-decoration-color: #008000\">XRvLWFib3J0aW9uLWluLWZyYW5jZQ?oc%3D5&amp;gl=FR&amp;m=0&amp;pc=n&amp;cm=2&amp;hl=en-US&amp;src=1'</span>,\n",
       "        <span style=\"color: #008000; text-decoration-color: #008000\">'publisher'</span>: <span style=\"font-weight: bold\">{</span><span style=\"color: #008000; text-decoration-color: #008000\">'href'</span>: <span style=\"color: #008000; text-decoration-color: #008000\">'https://www.theguardian.com'</span>, <span style=\"color: #008000; text-decoration-color: #008000\">'title'</span>: <span style=\"color: #008000; text-decoration-color: #008000\">'The Guardian'</span><span style=\"font-weight: bold\">}</span>\n",
       "    <span style=\"font-weight: bold\">}</span>,\n",
       "    <span style=\"font-weight: bold\">{</span>\n",
       "        <span style=\"color: #008000; text-decoration-color: #008000\">'title'</span>: <span style=\"color: #008000; text-decoration-color: #008000\">\"France's Macron announces plans to enshrine abortion rights in constitution - FRANCE 24 English\"</span>,\n",
       "        <span style=\"color: #008000; text-decoration-color: #008000\">'description'</span>: <span style=\"color: #008000; text-decoration-color: #008000\">\"France's Macron announces plans to enshrine abortion rights in constitution  FRANCE 24 </span>\n",
       "<span style=\"color: #008000; text-decoration-color: #008000\">English\"</span>,\n",
       "        <span style=\"color: #008000; text-decoration-color: #008000\">'published date'</span>: <span style=\"color: #008000; text-decoration-color: #008000\">'Sun, 29 Oct 2023 10:03:43 GMT'</span>,\n",
       "        <span style=\"color: #008000; text-decoration-color: #008000\">'url'</span>: \n",
       "<span style=\"color: #008000; text-decoration-color: #008000\">'https://consent.google.com/m?continue=https://news.google.com/rss/articles/CBMidmh0dHBzOi8vd3d3LmZyYW5jZTI0LmNvbS9</span>\n",
       "<span style=\"color: #008000; text-decoration-color: #008000\">lbi9ldXJvcGUvMjAyMzEwMjktZnJhbmNlLXMtbWFjcm9uLWFubm91bmNlcy1wbGFuLXRvLWVuc2hyaW5lLWFib3J0aW9uLXJpZ2h0cy1pbi1jb25zdG</span>\n",
       "<span style=\"color: #008000; text-decoration-color: #008000\">l0dXRpb27SAQA?oc%3D5&amp;gl=FR&amp;m=0&amp;pc=n&amp;cm=2&amp;hl=en-US&amp;src=1'</span>,\n",
       "        <span style=\"color: #008000; text-decoration-color: #008000\">'publisher'</span>: <span style=\"font-weight: bold\">{</span><span style=\"color: #008000; text-decoration-color: #008000\">'href'</span>: <span style=\"color: #008000; text-decoration-color: #008000\">'https://www.france24.com'</span>, <span style=\"color: #008000; text-decoration-color: #008000\">'title'</span>: <span style=\"color: #008000; text-decoration-color: #008000\">'FRANCE 24 English'</span><span style=\"font-weight: bold\">}</span>\n",
       "    <span style=\"font-weight: bold\">}</span>,\n",
       "    <span style=\"font-weight: bold\">{</span>\n",
       "        <span style=\"color: #008000; text-decoration-color: #008000\">'title'</span>: <span style=\"color: #008000; text-decoration-color: #008000\">'France: Macron promises to make abortion rights irreversible - DW (English)'</span>,\n",
       "        <span style=\"color: #008000; text-decoration-color: #008000\">'description'</span>: <span style=\"color: #008000; text-decoration-color: #008000\">'France: Macron promises to make abortion rights irreversible  DW (English)'</span>,\n",
       "        <span style=\"color: #008000; text-decoration-color: #008000\">'published date'</span>: <span style=\"color: #008000; text-decoration-color: #008000\">'Sun, 29 Oct 2023 17:46:45 GMT'</span>,\n",
       "        <span style=\"color: #008000; text-decoration-color: #008000\">'url'</span>: \n",
       "<span style=\"color: #008000; text-decoration-color: #008000\">'https://consent.google.com/m?continue=https://news.google.com/rss/articles/CBMiXGh0dHBzOi8vd3d3LmR3LmNvbS9lbi9mcmF</span>\n",
       "<span style=\"color: #008000; text-decoration-color: #008000\">uY2UtbWFjcm9uLXByb21pc2VzLXRvLW1ha2UtYWJvcnRpb24tcmlnaHRzLWlycmV2ZXJzaWJsZS9hLTY3MjQ5MTM30gFcaHR0cHM6Ly9hbXAuZHcuY2</span>\n",
       "<span style=\"color: #008000; text-decoration-color: #008000\">9tL2VuL2ZyYW5jZS1tYWNyb24tcHJvbWlzZXMtdG8tbWFrZS1hYm9ydGlvbi1yaWdodHMtaXJyZXZlcnNpYmxlL2EtNjcyNDkxMzc?oc%3D5&amp;gl=FR&amp;</span>\n",
       "<span style=\"color: #008000; text-decoration-color: #008000\">m=0&amp;pc=n&amp;cm=2&amp;hl=en-US&amp;src=1'</span>,\n",
       "        <span style=\"color: #008000; text-decoration-color: #008000\">'publisher'</span>: <span style=\"font-weight: bold\">{</span><span style=\"color: #008000; text-decoration-color: #008000\">'href'</span>: <span style=\"color: #008000; text-decoration-color: #008000\">'https://www.dw.com'</span>, <span style=\"color: #008000; text-decoration-color: #008000\">'title'</span>: <span style=\"color: #008000; text-decoration-color: #008000\">'DW (English)'</span><span style=\"font-weight: bold\">}</span>\n",
       "    <span style=\"font-weight: bold\">}</span>,\n",
       "    <span style=\"font-weight: bold\">{</span>\n",
       "        <span style=\"color: #008000; text-decoration-color: #008000\">'title'</span>: <span style=\"color: #008000; text-decoration-color: #008000\">'France bids adieu to World Cup as rugby chiefs impose new world order - RFI English'</span>,\n",
       "        <span style=\"color: #008000; text-decoration-color: #008000\">'description'</span>: <span style=\"color: #008000; text-decoration-color: #008000\">'France bids adieu to World Cup as rugby chiefs impose new world order  RFI English'</span>,\n",
       "        <span style=\"color: #008000; text-decoration-color: #008000\">'published date'</span>: <span style=\"color: #008000; text-decoration-color: #008000\">'Sun, 29 Oct 2023 12:11:54 GMT'</span>,\n",
       "        <span style=\"color: #008000; text-decoration-color: #008000\">'url'</span>: \n",
       "<span style=\"color: #008000; text-decoration-color: #008000\">'https://consent.google.com/m?continue=https://news.google.com/rss/articles/CBMia2h0dHBzOi8vd3d3LnJmaS5mci9lbi9zcG9</span>\n",
       "<span style=\"color: #008000; text-decoration-color: #008000\">ydHMvMjAyMzEwMjktZnJhbmNlLWJpZHMtYWRpZXUtdG8td29ybGQtY3VwLWFzLXJ1Z2J5LWNoaWVmcy1pbXBvc2UtbmV3LXdvcmxkLW9yZGVy0gEA?o</span>\n",
       "<span style=\"color: #008000; text-decoration-color: #008000\">c%3D5&amp;gl=FR&amp;m=0&amp;pc=n&amp;cm=2&amp;hl=en-US&amp;src=1'</span>,\n",
       "        <span style=\"color: #008000; text-decoration-color: #008000\">'publisher'</span>: <span style=\"font-weight: bold\">{</span><span style=\"color: #008000; text-decoration-color: #008000\">'href'</span>: <span style=\"color: #008000; text-decoration-color: #008000\">'https://www.rfi.fr'</span>, <span style=\"color: #008000; text-decoration-color: #008000\">'title'</span>: <span style=\"color: #008000; text-decoration-color: #008000\">'RFI English'</span><span style=\"font-weight: bold\">}</span>\n",
       "    <span style=\"font-weight: bold\">}</span>,\n",
       "    <span style=\"font-weight: bold\">{</span>\n",
       "        <span style=\"color: #008000; text-decoration-color: #008000\">'title'</span>: <span style=\"color: #008000; text-decoration-color: #008000\">'Coach hurt as Lyon soccer team bus attacked before game in France - Honolulu Star-Advertiser'</span>,\n",
       "        <span style=\"color: #008000; text-decoration-color: #008000\">'description'</span>: <span style=\"color: #008000; text-decoration-color: #008000\">'Coach hurt as Lyon soccer team bus attacked before game in France  Honolulu </span>\n",
       "<span style=\"color: #008000; text-decoration-color: #008000\">Star-Advertiser'</span>,\n",
       "        <span style=\"color: #008000; text-decoration-color: #008000\">'published date'</span>: <span style=\"color: #008000; text-decoration-color: #008000\">'Sun, 29 Oct 2023 21:05:11 GMT'</span>,\n",
       "        <span style=\"color: #008000; text-decoration-color: #008000\">'url'</span>: \n",
       "<span style=\"color: #008000; text-decoration-color: #008000\">'https://consent.google.com/m?continue=https://news.google.com/rss/articles/CBMigwFodHRwczovL3d3dy5zdGFyYWR2ZXJ0aXN</span>\n",
       "<span style=\"color: #008000; text-decoration-color: #008000\">lci5jb20vMjAyMy8xMC8yOS9zcG9ydHMvc3BvcnRzLWJyZWFraW5nL2NvYWNoLWh1cnQtYXMtbHlvbi1zb2NjZXItdGVhbS1idXMtYXR0YWNrZWQtYm</span>\n",
       "<span style=\"color: #008000; text-decoration-color: #008000\">Vmb3JlLWdhbWUtaW4tZnJhbmNlL9IBAA?oc%3D5&amp;gl=FR&amp;m=0&amp;pc=n&amp;cm=2&amp;hl=en-US&amp;src=1'</span>,\n",
       "        <span style=\"color: #008000; text-decoration-color: #008000\">'publisher'</span>: <span style=\"font-weight: bold\">{</span><span style=\"color: #008000; text-decoration-color: #008000\">'href'</span>: <span style=\"color: #008000; text-decoration-color: #008000\">'https://www.staradvertiser.com'</span>, <span style=\"color: #008000; text-decoration-color: #008000\">'title'</span>: <span style=\"color: #008000; text-decoration-color: #008000\">'Honolulu Star-Advertiser'</span><span style=\"font-weight: bold\">}</span>\n",
       "    <span style=\"font-weight: bold\">}</span>\n",
       "<span style=\"font-weight: bold\">]</span>\n",
       "</pre>\n"
      ],
      "text/plain": [
       "\u001b[1m[\u001b[0m\n",
       "    \u001b[1m{\u001b[0m\n",
       "        \u001b[32m'title'\u001b[0m: \u001b[32m'Abortion rights will be in French constitution next year, Macron vows - The Guardian'\u001b[0m,\n",
       "        \u001b[32m'description'\u001b[0m: \u001b[32m'Abortion rights will be in French constitution next year, Macron vows  The Guardian'\u001b[0m,\n",
       "        \u001b[32m'published date'\u001b[0m: \u001b[32m'Sun, 29 Oct 2023 16:30:00 GMT'\u001b[0m,\n",
       "        \u001b[32m'url'\u001b[0m: \n",
       "\u001b[32m'https://consent.google.com/m?\u001b[0m\u001b[32mcontinue\u001b[0m\u001b[32m=\u001b[0m\u001b[32mhttps\u001b[0m\u001b[32m://news.google.com/rss/articles/CBMibGh0dHBzOi8vd3d3LnRoZWd1YXJkaWFuLmN\u001b[0m\n",
       "\u001b[32mvbS93b3JsZC8yMDIzL29jdC8yOS9lbW1hbnVlbC1tYWNyb24tdG8tZW5zaHJpbmUtd29tZW5zLXJpZ2h0LXRvLWFib3J0aW9uLWluLWZyYW5jZdIBbG\u001b[0m\n",
       "\u001b[32mh0dHBzOi8vYW1wLnRoZWd1YXJkaWFuLmNvbS93b3JsZC8yMDIzL29jdC8yOS9lbW1hbnVlbC1tYWNyb24tdG8tZW5zaHJpbmUtd29tZW5zLXJpZ2h0L\u001b[0m\n",
       "\u001b[32mXRvLWFib3J0aW9uLWluLWZyYW5jZQ?oc%3D5&\u001b[0m\u001b[32mgl\u001b[0m\u001b[32m=\u001b[0m\u001b[32mFR\u001b[0m\u001b[32m&\u001b[0m\u001b[32mm\u001b[0m\u001b[32m=\u001b[0m\u001b[32m0\u001b[0m\u001b[32m&\u001b[0m\u001b[32mpc\u001b[0m\u001b[32m=\u001b[0m\u001b[32mn\u001b[0m\u001b[32m&\u001b[0m\u001b[32mcm\u001b[0m\u001b[32m=\u001b[0m\u001b[32m2\u001b[0m\u001b[32m&\u001b[0m\u001b[32mhl\u001b[0m\u001b[32m=\u001b[0m\u001b[32men\u001b[0m\u001b[32m-US&\u001b[0m\u001b[32msrc\u001b[0m\u001b[32m=\u001b[0m\u001b[32m1\u001b[0m\u001b[32m'\u001b[0m,\n",
       "        \u001b[32m'publisher'\u001b[0m: \u001b[1m{\u001b[0m\u001b[32m'href'\u001b[0m: \u001b[32m'https://www.theguardian.com'\u001b[0m, \u001b[32m'title'\u001b[0m: \u001b[32m'The Guardian'\u001b[0m\u001b[1m}\u001b[0m\n",
       "    \u001b[1m}\u001b[0m,\n",
       "    \u001b[1m{\u001b[0m\n",
       "        \u001b[32m'title'\u001b[0m: \u001b[32m\"France's Macron announces plans to enshrine abortion rights in constitution - FRANCE 24 English\"\u001b[0m,\n",
       "        \u001b[32m'description'\u001b[0m: \u001b[32m\"France's Macron announces plans to enshrine abortion rights in constitution  FRANCE 24 \u001b[0m\n",
       "\u001b[32mEnglish\"\u001b[0m,\n",
       "        \u001b[32m'published date'\u001b[0m: \u001b[32m'Sun, 29 Oct 2023 10:03:43 GMT'\u001b[0m,\n",
       "        \u001b[32m'url'\u001b[0m: \n",
       "\u001b[32m'https://consent.google.com/m?\u001b[0m\u001b[32mcontinue\u001b[0m\u001b[32m=\u001b[0m\u001b[32mhttps\u001b[0m\u001b[32m://news.google.com/rss/articles/CBMidmh0dHBzOi8vd3d3LmZyYW5jZTI0LmNvbS9\u001b[0m\n",
       "\u001b[32mlbi9ldXJvcGUvMjAyMzEwMjktZnJhbmNlLXMtbWFjcm9uLWFubm91bmNlcy1wbGFuLXRvLWVuc2hyaW5lLWFib3J0aW9uLXJpZ2h0cy1pbi1jb25zdG\u001b[0m\n",
       "\u001b[32ml0dXRpb27SAQA?oc%3D5&\u001b[0m\u001b[32mgl\u001b[0m\u001b[32m=\u001b[0m\u001b[32mFR\u001b[0m\u001b[32m&\u001b[0m\u001b[32mm\u001b[0m\u001b[32m=\u001b[0m\u001b[32m0\u001b[0m\u001b[32m&\u001b[0m\u001b[32mpc\u001b[0m\u001b[32m=\u001b[0m\u001b[32mn\u001b[0m\u001b[32m&\u001b[0m\u001b[32mcm\u001b[0m\u001b[32m=\u001b[0m\u001b[32m2\u001b[0m\u001b[32m&\u001b[0m\u001b[32mhl\u001b[0m\u001b[32m=\u001b[0m\u001b[32men\u001b[0m\u001b[32m-US&\u001b[0m\u001b[32msrc\u001b[0m\u001b[32m=\u001b[0m\u001b[32m1\u001b[0m\u001b[32m'\u001b[0m,\n",
       "        \u001b[32m'publisher'\u001b[0m: \u001b[1m{\u001b[0m\u001b[32m'href'\u001b[0m: \u001b[32m'https://www.france24.com'\u001b[0m, \u001b[32m'title'\u001b[0m: \u001b[32m'FRANCE 24 English'\u001b[0m\u001b[1m}\u001b[0m\n",
       "    \u001b[1m}\u001b[0m,\n",
       "    \u001b[1m{\u001b[0m\n",
       "        \u001b[32m'title'\u001b[0m: \u001b[32m'France: Macron promises to make abortion rights irreversible - DW \u001b[0m\u001b[32m(\u001b[0m\u001b[32mEnglish\u001b[0m\u001b[32m)\u001b[0m\u001b[32m'\u001b[0m,\n",
       "        \u001b[32m'description'\u001b[0m: \u001b[32m'France: Macron promises to make abortion rights irreversible  DW \u001b[0m\u001b[32m(\u001b[0m\u001b[32mEnglish\u001b[0m\u001b[32m)\u001b[0m\u001b[32m'\u001b[0m,\n",
       "        \u001b[32m'published date'\u001b[0m: \u001b[32m'Sun, 29 Oct 2023 17:46:45 GMT'\u001b[0m,\n",
       "        \u001b[32m'url'\u001b[0m: \n",
       "\u001b[32m'https://consent.google.com/m?\u001b[0m\u001b[32mcontinue\u001b[0m\u001b[32m=\u001b[0m\u001b[32mhttps\u001b[0m\u001b[32m://news.google.com/rss/articles/CBMiXGh0dHBzOi8vd3d3LmR3LmNvbS9lbi9mcmF\u001b[0m\n",
       "\u001b[32muY2UtbWFjcm9uLXByb21pc2VzLXRvLW1ha2UtYWJvcnRpb24tcmlnaHRzLWlycmV2ZXJzaWJsZS9hLTY3MjQ5MTM30gFcaHR0cHM6Ly9hbXAuZHcuY2\u001b[0m\n",
       "\u001b[32m9tL2VuL2ZyYW5jZS1tYWNyb24tcHJvbWlzZXMtdG8tbWFrZS1hYm9ydGlvbi1yaWdodHMtaXJyZXZlcnNpYmxlL2EtNjcyNDkxMzc?oc%3D5&\u001b[0m\u001b[32mgl\u001b[0m\u001b[32m=\u001b[0m\u001b[32mFR\u001b[0m\u001b[32m&\u001b[0m\n",
       "\u001b[32mm\u001b[0m\u001b[32m=\u001b[0m\u001b[32m0\u001b[0m\u001b[32m&\u001b[0m\u001b[32mpc\u001b[0m\u001b[32m=\u001b[0m\u001b[32mn\u001b[0m\u001b[32m&\u001b[0m\u001b[32mcm\u001b[0m\u001b[32m=\u001b[0m\u001b[32m2\u001b[0m\u001b[32m&\u001b[0m\u001b[32mhl\u001b[0m\u001b[32m=\u001b[0m\u001b[32men\u001b[0m\u001b[32m-US&\u001b[0m\u001b[32msrc\u001b[0m\u001b[32m=\u001b[0m\u001b[32m1\u001b[0m\u001b[32m'\u001b[0m,\n",
       "        \u001b[32m'publisher'\u001b[0m: \u001b[1m{\u001b[0m\u001b[32m'href'\u001b[0m: \u001b[32m'https://www.dw.com'\u001b[0m, \u001b[32m'title'\u001b[0m: \u001b[32m'DW \u001b[0m\u001b[32m(\u001b[0m\u001b[32mEnglish\u001b[0m\u001b[32m)\u001b[0m\u001b[32m'\u001b[0m\u001b[1m}\u001b[0m\n",
       "    \u001b[1m}\u001b[0m,\n",
       "    \u001b[1m{\u001b[0m\n",
       "        \u001b[32m'title'\u001b[0m: \u001b[32m'France bids adieu to World Cup as rugby chiefs impose new world order - RFI English'\u001b[0m,\n",
       "        \u001b[32m'description'\u001b[0m: \u001b[32m'France bids adieu to World Cup as rugby chiefs impose new world order  RFI English'\u001b[0m,\n",
       "        \u001b[32m'published date'\u001b[0m: \u001b[32m'Sun, 29 Oct 2023 12:11:54 GMT'\u001b[0m,\n",
       "        \u001b[32m'url'\u001b[0m: \n",
       "\u001b[32m'https://consent.google.com/m?\u001b[0m\u001b[32mcontinue\u001b[0m\u001b[32m=\u001b[0m\u001b[32mhttps\u001b[0m\u001b[32m://news.google.com/rss/articles/CBMia2h0dHBzOi8vd3d3LnJmaS5mci9lbi9zcG9\u001b[0m\n",
       "\u001b[32mydHMvMjAyMzEwMjktZnJhbmNlLWJpZHMtYWRpZXUtdG8td29ybGQtY3VwLWFzLXJ1Z2J5LWNoaWVmcy1pbXBvc2UtbmV3LXdvcmxkLW9yZGVy0gEA?o\u001b[0m\n",
       "\u001b[32mc%3D5&\u001b[0m\u001b[32mgl\u001b[0m\u001b[32m=\u001b[0m\u001b[32mFR\u001b[0m\u001b[32m&\u001b[0m\u001b[32mm\u001b[0m\u001b[32m=\u001b[0m\u001b[32m0\u001b[0m\u001b[32m&\u001b[0m\u001b[32mpc\u001b[0m\u001b[32m=\u001b[0m\u001b[32mn\u001b[0m\u001b[32m&\u001b[0m\u001b[32mcm\u001b[0m\u001b[32m=\u001b[0m\u001b[32m2\u001b[0m\u001b[32m&\u001b[0m\u001b[32mhl\u001b[0m\u001b[32m=\u001b[0m\u001b[32men\u001b[0m\u001b[32m-US&\u001b[0m\u001b[32msrc\u001b[0m\u001b[32m=\u001b[0m\u001b[32m1\u001b[0m\u001b[32m'\u001b[0m,\n",
       "        \u001b[32m'publisher'\u001b[0m: \u001b[1m{\u001b[0m\u001b[32m'href'\u001b[0m: \u001b[32m'https://www.rfi.fr'\u001b[0m, \u001b[32m'title'\u001b[0m: \u001b[32m'RFI English'\u001b[0m\u001b[1m}\u001b[0m\n",
       "    \u001b[1m}\u001b[0m,\n",
       "    \u001b[1m{\u001b[0m\n",
       "        \u001b[32m'title'\u001b[0m: \u001b[32m'Coach hurt as Lyon soccer team bus attacked before game in France - Honolulu Star-Advertiser'\u001b[0m,\n",
       "        \u001b[32m'description'\u001b[0m: \u001b[32m'Coach hurt as Lyon soccer team bus attacked before game in France  Honolulu \u001b[0m\n",
       "\u001b[32mStar-Advertiser'\u001b[0m,\n",
       "        \u001b[32m'published date'\u001b[0m: \u001b[32m'Sun, 29 Oct 2023 21:05:11 GMT'\u001b[0m,\n",
       "        \u001b[32m'url'\u001b[0m: \n",
       "\u001b[32m'https://consent.google.com/m?\u001b[0m\u001b[32mcontinue\u001b[0m\u001b[32m=\u001b[0m\u001b[32mhttps\u001b[0m\u001b[32m://news.google.com/rss/articles/CBMigwFodHRwczovL3d3dy5zdGFyYWR2ZXJ0aXN\u001b[0m\n",
       "\u001b[32mlci5jb20vMjAyMy8xMC8yOS9zcG9ydHMvc3BvcnRzLWJyZWFraW5nL2NvYWNoLWh1cnQtYXMtbHlvbi1zb2NjZXItdGVhbS1idXMtYXR0YWNrZWQtYm\u001b[0m\n",
       "\u001b[32mVmb3JlLWdhbWUtaW4tZnJhbmNlL9IBAA?oc%3D5&\u001b[0m\u001b[32mgl\u001b[0m\u001b[32m=\u001b[0m\u001b[32mFR\u001b[0m\u001b[32m&\u001b[0m\u001b[32mm\u001b[0m\u001b[32m=\u001b[0m\u001b[32m0\u001b[0m\u001b[32m&\u001b[0m\u001b[32mpc\u001b[0m\u001b[32m=\u001b[0m\u001b[32mn\u001b[0m\u001b[32m&\u001b[0m\u001b[32mcm\u001b[0m\u001b[32m=\u001b[0m\u001b[32m2\u001b[0m\u001b[32m&\u001b[0m\u001b[32mhl\u001b[0m\u001b[32m=\u001b[0m\u001b[32men\u001b[0m\u001b[32m-US&\u001b[0m\u001b[32msrc\u001b[0m\u001b[32m=\u001b[0m\u001b[32m1\u001b[0m\u001b[32m'\u001b[0m,\n",
       "        \u001b[32m'publisher'\u001b[0m: \u001b[1m{\u001b[0m\u001b[32m'href'\u001b[0m: \u001b[32m'https://www.staradvertiser.com'\u001b[0m, \u001b[32m'title'\u001b[0m: \u001b[32m'Honolulu Star-Advertiser'\u001b[0m\u001b[1m}\u001b[0m\n",
       "    \u001b[1m}\u001b[0m\n",
       "\u001b[1m]\u001b[0m\n"
      ]
     },
     "metadata": {},
     "output_type": "display_data"
    }
   ],
   "source": [
    "from gnews import GNews\n",
    "\n",
    "google_news = GNews()\n",
    "found_news = google_news.get_news('France')\n",
    "print(found_news[:5])"
   ]
  },
  {
   "cell_type": "code",
   "execution_count": null,
   "metadata": {},
   "outputs": [],
   "source": []
  },
  {
   "cell_type": "code",
   "execution_count": null,
   "metadata": {},
   "outputs": [],
   "source": []
  },
  {
   "cell_type": "code",
   "execution_count": null,
   "metadata": {},
   "outputs": [],
   "source": []
  },
  {
   "cell_type": "code",
   "execution_count": null,
   "metadata": {},
   "outputs": [],
   "source": []
  },
  {
   "cell_type": "code",
   "execution_count": null,
   "metadata": {},
   "outputs": [],
   "source": []
  },
  {
   "cell_type": "code",
   "execution_count": null,
   "metadata": {},
   "outputs": [],
   "source": []
  },
  {
   "cell_type": "markdown",
   "metadata": {},
   "source": [
    "## `newspaper3k`"
   ]
  },
  {
   "cell_type": "code",
   "execution_count": 90,
   "metadata": {},
   "outputs": [
    {
     "data": {
      "text/html": [
       "<pre style=\"white-space:pre;overflow-x:auto;line-height:normal;font-family:Menlo,'DejaVu Sans Mono',consolas,'Courier New',monospace\"><span style=\"font-weight: bold\">[</span>\n",
       "    <span style=\"color: #008000; text-decoration-color: #008000\">'http://cnn.com/2023/10/30/asia/india-vizianagaram-train-collision-deaths/index.html'</span>,\n",
       "    <span style=\"color: #008000; text-decoration-color: #008000\">'http://edition.cnn.com/2023/10/30/asia/india-vizianagaram-train-collision-deaths/index.html'</span>,\n",
       "    <span style=\"color: #008000; text-decoration-color: #008000\">'https://www.cnn.com/2023/10/30/asia/india-vizianagaram-train-collision-deaths/index.html'</span>,\n",
       "    <span style=\"color: #008000; text-decoration-color: #008000\">'https://us.cnn.com/2023/10/30/asia/india-vizianagaram-train-collision-deaths/index.html'</span>,\n",
       "    <span style=\"color: #008000; text-decoration-color: #008000\">'https://edition.cnn.com/2023/10/30/asia/india-vizianagaram-train-collision-deaths/index.html'</span>\n",
       "<span style=\"font-weight: bold\">]</span>\n",
       "</pre>\n"
      ],
      "text/plain": [
       "\u001b[1m[\u001b[0m\n",
       "    \u001b[32m'http://cnn.com/2023/10/30/asia/india-vizianagaram-train-collision-deaths/index.html'\u001b[0m,\n",
       "    \u001b[32m'http://edition.cnn.com/2023/10/30/asia/india-vizianagaram-train-collision-deaths/index.html'\u001b[0m,\n",
       "    \u001b[32m'https://www.cnn.com/2023/10/30/asia/india-vizianagaram-train-collision-deaths/index.html'\u001b[0m,\n",
       "    \u001b[32m'https://us.cnn.com/2023/10/30/asia/india-vizianagaram-train-collision-deaths/index.html'\u001b[0m,\n",
       "    \u001b[32m'https://edition.cnn.com/2023/10/30/asia/india-vizianagaram-train-collision-deaths/index.html'\u001b[0m\n",
       "\u001b[1m]\u001b[0m\n"
      ]
     },
     "metadata": {},
     "output_type": "display_data"
    }
   ],
   "source": [
    "import newspaper\n",
    "cnn_paper = newspaper.build('http://cnn.com')\n",
    "# cnn_paper = newspaper.build(\"https://www.sudouest.fr/\")\n",
    "\n",
    "print([article.url for article in cnn_paper.articles[:10]])"
   ]
  },
  {
   "cell_type": "code",
   "execution_count": 91,
   "metadata": {},
   "outputs": [
    {
     "data": {
      "text/html": [
       "<pre style=\"white-space:pre;overflow-x:auto;line-height:normal;font-family:Menlo,'DejaVu Sans Mono',consolas,'Courier New',monospace\"><span style=\"font-weight: bold\">[</span>\n",
       "    <span style=\"color: #008000; text-decoration-color: #008000\">'http://cnn.com'</span>,\n",
       "    <span style=\"color: #008000; text-decoration-color: #008000\">'https://arabic.cnn.com'</span>,\n",
       "    <span style=\"color: #008000; text-decoration-color: #008000\">'http://edition.cnn.com'</span>,\n",
       "    <span style=\"color: #008000; text-decoration-color: #008000\">'https://www.cnn.com'</span>,\n",
       "    <span style=\"color: #008000; text-decoration-color: #008000\">'https://money.cnn.com'</span>\n",
       "<span style=\"font-weight: bold\">]</span>\n",
       "</pre>\n"
      ],
      "text/plain": [
       "\u001b[1m[\u001b[0m\n",
       "    \u001b[32m'http://cnn.com'\u001b[0m,\n",
       "    \u001b[32m'https://arabic.cnn.com'\u001b[0m,\n",
       "    \u001b[32m'http://edition.cnn.com'\u001b[0m,\n",
       "    \u001b[32m'https://www.cnn.com'\u001b[0m,\n",
       "    \u001b[32m'https://money.cnn.com'\u001b[0m\n",
       "\u001b[1m]\u001b[0m\n"
      ]
     },
     "metadata": {},
     "output_type": "display_data"
    }
   ],
   "source": [
    "print(cnn_paper.category_urls()[:5])"
   ]
  },
  {
   "cell_type": "code",
   "execution_count": 96,
   "metadata": {},
   "outputs": [],
   "source": [
    "# cnn_article = cnn_paper.articles[0]\n",
    "# cnn_article.download()\n",
    "# cnn_article.parse()\n",
    "# cnn_article.nlp()"
   ]
  },
  {
   "cell_type": "code",
   "execution_count": null,
   "metadata": {},
   "outputs": [],
   "source": []
  },
  {
   "cell_type": "code",
   "execution_count": null,
   "metadata": {},
   "outputs": [],
   "source": []
  },
  {
   "cell_type": "code",
   "execution_count": null,
   "metadata": {},
   "outputs": [],
   "source": []
  },
  {
   "cell_type": "markdown",
   "metadata": {},
   "source": [
    "## `News API`"
   ]
  },
  {
   "cell_type": "code",
   "execution_count": 7,
   "metadata": {},
   "outputs": [],
   "source": [
    "# load API key\n",
    "import yaml\n",
    "with open('../conf/local/credentials.yml', 'r') as file:\n",
    "    credentials = yaml.safe_load(file)"
   ]
  },
  {
   "cell_type": "code",
   "execution_count": 46,
   "metadata": {},
   "outputs": [],
   "source": [
    "from newsapi import NewsApiClient\n",
    "\n",
    "# Init\n",
    "newsapi = NewsApiClient(api_key=credentials[\"news_api\"][\"key\"])\n",
    "\n",
    "# /v2/top-headlines\n",
    "top_headlines = newsapi.get_top_headlines(\n",
    "    # q='bitcoin',\n",
    "    q='',\n",
    "    # sources='bbc-news,the-verge',\n",
    "    # category='business',\n",
    "    language='en',\n",
    "    # country='us'\n",
    ")\n",
    "\n",
    "# /v2/everything\n",
    "all_articles = newsapi.get_everything(\n",
    "    # q='bitcoin',\n",
    "    q='economy',\n",
    "    # sources='bbc-news,the-verge',\n",
    "    # domains='bbc.co.uk,techcrunch.com',\n",
    "    from_param='2023-09-29',\n",
    "    to='2023-10-02',\n",
    "    language='en',\n",
    "    sort_by='relevancy',\n",
    "    page=2\n",
    ")\n",
    "\n",
    "# /v2/top-headlines/sources\n",
    "sources = newsapi.get_sources()"
   ]
  },
  {
   "cell_type": "code",
   "execution_count": 47,
   "metadata": {},
   "outputs": [
    {
     "data": {
      "text/html": [
       "<pre style=\"white-space:pre;overflow-x:auto;line-height:normal;font-family:Menlo,'DejaVu Sans Mono',consolas,'Courier New',monospace\"><span style=\"font-weight: bold\">[</span>\n",
       "    <span style=\"font-weight: bold\">{</span>\n",
       "        <span style=\"color: #008000; text-decoration-color: #008000\">'source'</span>: <span style=\"font-weight: bold\">{</span><span style=\"color: #008000; text-decoration-color: #008000\">'id'</span>: <span style=\"color: #800080; text-decoration-color: #800080; font-style: italic\">None</span>, <span style=\"color: #008000; text-decoration-color: #008000\">'name'</span>: <span style=\"color: #008000; text-decoration-color: #008000\">'News18'</span><span style=\"font-weight: bold\">}</span>,\n",
       "        <span style=\"color: #008000; text-decoration-color: #008000\">'author'</span>: <span style=\"color: #008000; text-decoration-color: #008000\">'Chirag Sehgal'</span>,\n",
       "        <span style=\"color: #008000; text-decoration-color: #008000\">'title'</span>: <span style=\"color: #008000; text-decoration-color: #008000\">\"Isha Malviya's Rumoured Boyfriend Samarth Jurel Enters Bigg Boss 17 House; Abhishek Kumar Breaks </span>\n",
       "<span style=\"color: #008000; text-decoration-color: #008000\">Down - News18\"</span>,\n",
       "        <span style=\"color: #008000; text-decoration-color: #008000\">'description'</span>: <span style=\"color: #008000; text-decoration-color: #008000\">'In a surprising twist, Samarth Jurel, rumoured to be dating Isha Malviya, entered the Bigg </span>\n",
       "<span style=\"color: #008000; text-decoration-color: #008000\">Boss 17 house as a wildcard contestant.'</span>,\n",
       "        <span style=\"color: #008000; text-decoration-color: #008000\">'url'</span>: \n",
       "<span style=\"color: #008000; text-decoration-color: #008000\">'https://www.news18.com/entertainment/television/isha-malviyas-rumoured-bf-samarth-jurel-enters-bigg-boss-17-house-</span>\n",
       "<span style=\"color: #008000; text-decoration-color: #008000\">abhishek-kumar-breaks-down-8637355.html'</span>,\n",
       "        <span style=\"color: #008000; text-decoration-color: #008000\">'urlToImage'</span>: \n",
       "<span style=\"color: #008000; text-decoration-color: #008000\">'https://images.news18.com/ibnlive/uploads/2023/10/untitled-design-2023-10-28t114443.075-2023-10-479a2e9ca889022d1f</span>\n",
       "<span style=\"color: #008000; text-decoration-color: #008000\">d39c25f9fbe871-16x9.png?impolicy=website&amp;width=1200&amp;height=675'</span>,\n",
       "        <span style=\"color: #008000; text-decoration-color: #008000\">'publishedAt'</span>: <span style=\"color: #008000; text-decoration-color: #008000\">'2023-10-28T18:27:07Z'</span>,\n",
       "        <span style=\"color: #008000; text-decoration-color: #008000\">'content'</span>: <span style=\"color: #008000; text-decoration-color: #008000\">'In just two weeks of going on air, the 17th Season of Salman Khans Bigg Boss has already </span>\n",
       "<span style=\"color: #008000; text-decoration-color: #008000\">created a lot of stir with contestants locked up in the house. Besides giving a fair share of gossip and drama… </span>\n",
       "<span style=\"color: #008000; text-decoration-color: #008000\">[+2311 chars]'</span>\n",
       "    <span style=\"font-weight: bold\">}</span>,\n",
       "    <span style=\"font-weight: bold\">{</span>\n",
       "        <span style=\"color: #008000; text-decoration-color: #008000\">'source'</span>: <span style=\"font-weight: bold\">{</span><span style=\"color: #008000; text-decoration-color: #008000\">'id'</span>: <span style=\"color: #800080; text-decoration-color: #800080; font-style: italic\">None</span>, <span style=\"color: #008000; text-decoration-color: #008000\">'name'</span>: <span style=\"color: #008000; text-decoration-color: #008000\">\"Investor's Business Daily\"</span><span style=\"font-weight: bold\">}</span>,\n",
       "        <span style=\"color: #008000; text-decoration-color: #008000\">'author'</span>: <span style=\"color: #008000; text-decoration-color: #008000\">\"Investor's Business Daily\"</span>,\n",
       "        <span style=\"color: #008000; text-decoration-color: #008000\">'title'</span>: <span style=\"color: #008000; text-decoration-color: #008000\">\"Dow Jones Futures: Apple, Fed Loom For Market Correction; Microsoft Leads Stocks To Watch - </span>\n",
       "<span style=\"color: #008000; text-decoration-color: #008000\">Investor's Business Daily\"</span>,\n",
       "        <span style=\"color: #008000; text-decoration-color: #008000\">'description'</span>: <span style=\"color: #008000; text-decoration-color: #008000\">'The Nasdaq is in better shape than the other key indexes. Uh oh.'</span>,\n",
       "        <span style=\"color: #008000; text-decoration-color: #008000\">'url'</span>: \n",
       "<span style=\"color: #008000; text-decoration-color: #008000\">'https://www.investors.com/market-trend/stock-market-today/dow-jones-futures-apple-fed-loom-for-battered-market-mic</span>\n",
       "<span style=\"color: #008000; text-decoration-color: #008000\">rosoft-leads-stocks-to-watch/'</span>,\n",
       "        <span style=\"color: #008000; text-decoration-color: #008000\">'urlToImage'</span>: <span style=\"color: #008000; text-decoration-color: #008000\">'https://www.investors.com/wp-content/uploads/2021/08/Stock-dramaticstorm-01-adobe.jpg'</span>,\n",
       "        <span style=\"color: #008000; text-decoration-color: #008000\">'publishedAt'</span>: <span style=\"color: #008000; text-decoration-color: #008000\">'2023-10-28T18:10:00Z'</span>,\n",
       "        <span style=\"color: #008000; text-decoration-color: #008000\">'content'</span>: <span style=\"color: #008000; text-decoration-color: #008000\">'Dow Jones futures will open Sunday evening, along with S&amp;amp;P 500 futures and Nasdaq futures. </span>\n",
       "<span style=\"color: #008000; text-decoration-color: #008000\">Apple (AAPL), the Federal Reserve and the October jobs report will headline another busy week of news.\\r\\n… [+8510 </span>\n",
       "<span style=\"color: #008000; text-decoration-color: #008000\">chars]'</span>\n",
       "    <span style=\"font-weight: bold\">}</span>,\n",
       "    <span style=\"font-weight: bold\">{</span>\n",
       "        <span style=\"color: #008000; text-decoration-color: #008000\">'source'</span>: <span style=\"font-weight: bold\">{</span><span style=\"color: #008000; text-decoration-color: #008000\">'id'</span>: <span style=\"color: #008000; text-decoration-color: #008000\">'associated-press'</span>, <span style=\"color: #008000; text-decoration-color: #008000\">'name'</span>: <span style=\"color: #008000; text-decoration-color: #008000\">'Associated Press'</span><span style=\"font-weight: bold\">}</span>,\n",
       "        <span style=\"color: #008000; text-decoration-color: #008000\">'author'</span>: <span style=\"color: #008000; text-decoration-color: #008000\">'ISABEL DEBRE, JULIA FRANKEL, SAMY MAGDY'</span>,\n",
       "        <span style=\"color: #008000; text-decoration-color: #008000\">'title'</span>: <span style=\"color: #008000; text-decoration-color: #008000\">'Palestinian officials say death toll rises from expanded Israel military operation - The </span>\n",
       "<span style=\"color: #008000; text-decoration-color: #008000\">Associated Press'</span>,\n",
       "        <span style=\"color: #008000; text-decoration-color: #008000\">'description'</span>: <span style=\"color: #008000; text-decoration-color: #008000\">'Israeli Prime Minister Benjamin Netanyahu has told the nation that the military has opened </span>\n",
       "<span style=\"color: #008000; text-decoration-color: #008000\">a “second stage” in the war against Hamas by sending ground forces into Gaza and expanding attacks from the ground,</span>\n",
       "<span style=\"color: #008000; text-decoration-color: #008000\">air and sea. He says it will only increase ahead of …'</span>,\n",
       "        <span style=\"color: #008000; text-decoration-color: #008000\">'url'</span>: <span style=\"color: #008000; text-decoration-color: #008000\">'https://apnews.com/article/israel-hamas-war-news-10-28-2023-c9bd7ecc5f4a9fe9d46486f66675244c'</span>,\n",
       "        <span style=\"color: #008000; text-decoration-color: #008000\">'urlToImage'</span>: \n",
       "<span style=\"color: #008000; text-decoration-color: #008000\">'https://dims.apnews.com/dims4/default/2529fe2/2147483647/strip/true/crop/5760x3240+0+300/resize/1440x810!/quality/</span>\n",
       "<span style=\"color: #008000; text-decoration-color: #008000\">90/?url=https%3A%2F%2Fassets.apnews.com%2Fd4%2F84%2F12675fbbc7043a26134f3f07afde%2F444c9832972c4788b701c467ee37d873</span>\n",
       "<span style=\"color: #008000; text-decoration-color: #008000\">'</span>,\n",
       "        <span style=\"color: #008000; text-decoration-color: #008000\">'publishedAt'</span>: <span style=\"color: #008000; text-decoration-color: #008000\">'2023-10-28T18:09:00Z'</span>,\n",
       "        <span style=\"color: #008000; text-decoration-color: #008000\">'content'</span>: <span style=\"color: #008000; text-decoration-color: #008000\">'JERUSALEM (AP) Israeli Prime Minister Benjamin Netanyahu told the nation Saturday night that </span>\n",
       "<span style=\"color: #008000; text-decoration-color: #008000\">the military has opened a second stage in the war against Hamas by sending ground forces into Gaza and exp… [+9510 </span>\n",
       "<span style=\"color: #008000; text-decoration-color: #008000\">chars]'</span>\n",
       "    <span style=\"font-weight: bold\">}</span>\n",
       "<span style=\"font-weight: bold\">]</span>\n",
       "</pre>\n"
      ],
      "text/plain": [
       "\u001b[1m[\u001b[0m\n",
       "    \u001b[1m{\u001b[0m\n",
       "        \u001b[32m'source'\u001b[0m: \u001b[1m{\u001b[0m\u001b[32m'id'\u001b[0m: \u001b[3;35mNone\u001b[0m, \u001b[32m'name'\u001b[0m: \u001b[32m'News18'\u001b[0m\u001b[1m}\u001b[0m,\n",
       "        \u001b[32m'author'\u001b[0m: \u001b[32m'Chirag Sehgal'\u001b[0m,\n",
       "        \u001b[32m'title'\u001b[0m: \u001b[32m\"Isha Malviya's Rumoured Boyfriend Samarth Jurel Enters Bigg Boss 17 House; Abhishek Kumar Breaks \u001b[0m\n",
       "\u001b[32mDown - News18\"\u001b[0m,\n",
       "        \u001b[32m'description'\u001b[0m: \u001b[32m'In a surprising twist, Samarth Jurel, rumoured to be dating Isha Malviya, entered the Bigg \u001b[0m\n",
       "\u001b[32mBoss 17 house as a wildcard contestant.'\u001b[0m,\n",
       "        \u001b[32m'url'\u001b[0m: \n",
       "\u001b[32m'https://www.news18.com/entertainment/television/isha-malviyas-rumoured-bf-samarth-jurel-enters-bigg-boss-17-house-\u001b[0m\n",
       "\u001b[32mabhishek-kumar-breaks-down-8637355.html'\u001b[0m,\n",
       "        \u001b[32m'urlToImage'\u001b[0m: \n",
       "\u001b[32m'https://images.news18.com/ibnlive/uploads/2023/10/untitled-design-2023-10-28t114443.075-2023-10-479a2e9ca889022d1f\u001b[0m\n",
       "\u001b[32md39c25f9fbe871-16x9.png?\u001b[0m\u001b[32mimpolicy\u001b[0m\u001b[32m=\u001b[0m\u001b[32mwebsite\u001b[0m\u001b[32m&\u001b[0m\u001b[32mwidth\u001b[0m\u001b[32m=\u001b[0m\u001b[32m1200\u001b[0m\u001b[32m&\u001b[0m\u001b[32mheight\u001b[0m\u001b[32m=\u001b[0m\u001b[32m675\u001b[0m\u001b[32m'\u001b[0m,\n",
       "        \u001b[32m'publishedAt'\u001b[0m: \u001b[32m'2023-10-28T18:27:07Z'\u001b[0m,\n",
       "        \u001b[32m'content'\u001b[0m: \u001b[32m'In just two weeks of going on air, the 17th Season of Salman Khans Bigg Boss has already \u001b[0m\n",
       "\u001b[32mcreated a lot of stir with contestants locked up in the house. Besides giving a fair share of gossip and drama… \u001b[0m\n",
       "\u001b[32m[\u001b[0m\u001b[32m+2311 chars\u001b[0m\u001b[32m]\u001b[0m\u001b[32m'\u001b[0m\n",
       "    \u001b[1m}\u001b[0m,\n",
       "    \u001b[1m{\u001b[0m\n",
       "        \u001b[32m'source'\u001b[0m: \u001b[1m{\u001b[0m\u001b[32m'id'\u001b[0m: \u001b[3;35mNone\u001b[0m, \u001b[32m'name'\u001b[0m: \u001b[32m\"Investor's Business Daily\"\u001b[0m\u001b[1m}\u001b[0m,\n",
       "        \u001b[32m'author'\u001b[0m: \u001b[32m\"Investor's Business Daily\"\u001b[0m,\n",
       "        \u001b[32m'title'\u001b[0m: \u001b[32m\"Dow Jones Futures: Apple, Fed Loom For Market Correction; Microsoft Leads Stocks To Watch - \u001b[0m\n",
       "\u001b[32mInvestor's Business Daily\"\u001b[0m,\n",
       "        \u001b[32m'description'\u001b[0m: \u001b[32m'The Nasdaq is in better shape than the other key indexes. Uh oh.'\u001b[0m,\n",
       "        \u001b[32m'url'\u001b[0m: \n",
       "\u001b[32m'https://www.investors.com/market-trend/stock-market-today/dow-jones-futures-apple-fed-loom-for-battered-market-mic\u001b[0m\n",
       "\u001b[32mrosoft-leads-stocks-to-watch/'\u001b[0m,\n",
       "        \u001b[32m'urlToImage'\u001b[0m: \u001b[32m'https://www.investors.com/wp-content/uploads/2021/08/Stock-dramaticstorm-01-adobe.jpg'\u001b[0m,\n",
       "        \u001b[32m'publishedAt'\u001b[0m: \u001b[32m'2023-10-28T18:10:00Z'\u001b[0m,\n",
       "        \u001b[32m'content'\u001b[0m: \u001b[32m'Dow Jones futures will open Sunday evening, along with S&amp;P 500 futures and Nasdaq futures. \u001b[0m\n",
       "\u001b[32mApple \u001b[0m\u001b[32m(\u001b[0m\u001b[32mAAPL\u001b[0m\u001b[32m)\u001b[0m\u001b[32m, the Federal Reserve and the October jobs report will headline another busy week of news.\\r\\n… \u001b[0m\u001b[32m[\u001b[0m\u001b[32m+8510 \u001b[0m\n",
       "\u001b[32mchars\u001b[0m\u001b[32m]\u001b[0m\u001b[32m'\u001b[0m\n",
       "    \u001b[1m}\u001b[0m,\n",
       "    \u001b[1m{\u001b[0m\n",
       "        \u001b[32m'source'\u001b[0m: \u001b[1m{\u001b[0m\u001b[32m'id'\u001b[0m: \u001b[32m'associated-press'\u001b[0m, \u001b[32m'name'\u001b[0m: \u001b[32m'Associated Press'\u001b[0m\u001b[1m}\u001b[0m,\n",
       "        \u001b[32m'author'\u001b[0m: \u001b[32m'ISABEL DEBRE, JULIA FRANKEL, SAMY MAGDY'\u001b[0m,\n",
       "        \u001b[32m'title'\u001b[0m: \u001b[32m'Palestinian officials say death toll rises from expanded Israel military operation - The \u001b[0m\n",
       "\u001b[32mAssociated Press'\u001b[0m,\n",
       "        \u001b[32m'description'\u001b[0m: \u001b[32m'Israeli Prime Minister Benjamin Netanyahu has told the nation that the military has opened \u001b[0m\n",
       "\u001b[32ma “second stage” in the war against Hamas by sending ground forces into Gaza and expanding attacks from the ground,\u001b[0m\n",
       "\u001b[32mair and sea. He says it will only increase ahead of …'\u001b[0m,\n",
       "        \u001b[32m'url'\u001b[0m: \u001b[32m'https://apnews.com/article/israel-hamas-war-news-10-28-2023-c9bd7ecc5f4a9fe9d46486f66675244c'\u001b[0m,\n",
       "        \u001b[32m'urlToImage'\u001b[0m: \n",
       "\u001b[32m'https://dims.apnews.com/dims4/default/2529fe2/2147483647/strip/true/crop/5760x3240+0+300/resize/1440x810!/quality/\u001b[0m\n",
       "\u001b[32m90/?\u001b[0m\u001b[32murl\u001b[0m\u001b[32m=\u001b[0m\u001b[32mhttps\u001b[0m\u001b[32m%3A%2F%2Fassets.apnews.com%2Fd4%2F84%2F12675fbbc7043a26134f3f07afde%2F444c9832972c4788b701c467ee37d873\u001b[0m\n",
       "\u001b[32m'\u001b[0m,\n",
       "        \u001b[32m'publishedAt'\u001b[0m: \u001b[32m'2023-10-28T18:09:00Z'\u001b[0m,\n",
       "        \u001b[32m'content'\u001b[0m: \u001b[32m'JERUSALEM \u001b[0m\u001b[32m(\u001b[0m\u001b[32mAP\u001b[0m\u001b[32m)\u001b[0m\u001b[32m Israeli Prime Minister Benjamin Netanyahu told the nation Saturday night that \u001b[0m\n",
       "\u001b[32mthe military has opened a second stage in the war against Hamas by sending ground forces into Gaza and exp… \u001b[0m\u001b[32m[\u001b[0m\u001b[32m+9510 \u001b[0m\n",
       "\u001b[32mchars\u001b[0m\u001b[32m]\u001b[0m\u001b[32m'\u001b[0m\n",
       "    \u001b[1m}\u001b[0m\n",
       "\u001b[1m]\u001b[0m\n"
      ]
     },
     "metadata": {},
     "output_type": "display_data"
    }
   ],
   "source": [
    "# print(top_headlines)\n",
    "print(top_headlines[\"articles\"][:3])"
   ]
  },
  {
   "cell_type": "code",
   "execution_count": 51,
   "metadata": {},
   "outputs": [
    {
     "data": {
      "text/html": [
       "<pre style=\"white-space:pre;overflow-x:auto;line-height:normal;font-family:Menlo,'DejaVu Sans Mono',consolas,'Courier New',monospace\">totalResults:  <span style=\"color: #008080; text-decoration-color: #008080; font-weight: bold\">3805</span>\n",
       "</pre>\n"
      ],
      "text/plain": [
       "totalResults:  \u001b[1;36m3805\u001b[0m\n"
      ]
     },
     "metadata": {},
     "output_type": "display_data"
    },
    {
     "data": {
      "text/html": [
       "<pre style=\"white-space:pre;overflow-x:auto;line-height:normal;font-family:Menlo,'DejaVu Sans Mono',consolas,'Courier New',monospace\"><span style=\"font-weight: bold\">[</span>\n",
       "    <span style=\"font-weight: bold\">{</span>\n",
       "        <span style=\"color: #008000; text-decoration-color: #008000\">'source'</span>: <span style=\"font-weight: bold\">{</span><span style=\"color: #008000; text-decoration-color: #008000\">'id'</span>: <span style=\"color: #800080; text-decoration-color: #800080; font-style: italic\">None</span>, <span style=\"color: #008000; text-decoration-color: #008000\">'name'</span>: <span style=\"color: #008000; text-decoration-color: #008000\">'Nakedcapitalism.com'</span><span style=\"font-weight: bold\">}</span>,\n",
       "        <span style=\"color: #008000; text-decoration-color: #008000\">'author'</span>: <span style=\"color: #008000; text-decoration-color: #008000\">'Yves Smith'</span>,\n",
       "        <span style=\"color: #008000; text-decoration-color: #008000\">'title'</span>: <span style=\"color: #008000; text-decoration-color: #008000\">'The Neoclassical Growth of China'</span>,\n",
       "        <span style=\"color: #008000; text-decoration-color: #008000\">'description'</span>: <span style=\"color: #008000; text-decoration-color: #008000\">'A model finds that China closely tracked the trajectory of Japan, South Korea, and Taiwan. </span>\n",
       "<span style=\"color: #008000; text-decoration-color: #008000\">Does this claim hold up to close scrutiny?'</span>,\n",
       "        <span style=\"color: #008000; text-decoration-color: #008000\">'url'</span>: <span style=\"color: #008000; text-decoration-color: #008000\">'https://www.nakedcapitalism.com/2023/09/the-neoclassical-growth-of-china.html'</span>,\n",
       "        <span style=\"color: #008000; text-decoration-color: #008000\">'urlToImage'</span>: <span style=\"color: #008000; text-decoration-color: #008000\">'https://www.nakedcapitalism.com/wp-content/uploads/2023/09/00-China.png'</span>,\n",
       "        <span style=\"color: #008000; text-decoration-color: #008000\">'publishedAt'</span>: <span style=\"color: #008000; text-decoration-color: #008000\">'2023-09-29T13:54:28Z'</span>,\n",
       "        <span style=\"color: #008000; text-decoration-color: #008000\">'content'</span>: <span style=\"color: #008000; text-decoration-color: #008000\">'Yves here. I’m skeptical of models with n = 3 (although the authors claim results would be </span>\n",
       "<span style=\"color: #008000; text-decoration-color: #008000\">pretty similar with n = 5. There are lots of other quibbles. Michael Pettis has explained why GDP in China i… </span>\n",
       "<span style=\"color: #008000; text-decoration-color: #008000\">[+9820 chars]'</span>\n",
       "    <span style=\"font-weight: bold\">}</span>,\n",
       "    <span style=\"font-weight: bold\">{</span>\n",
       "        <span style=\"color: #008000; text-decoration-color: #008000\">'source'</span>: <span style=\"font-weight: bold\">{</span><span style=\"color: #008000; text-decoration-color: #008000\">'id'</span>: <span style=\"color: #008000; text-decoration-color: #008000\">'the-hill'</span>, <span style=\"color: #008000; text-decoration-color: #008000\">'name'</span>: <span style=\"color: #008000; text-decoration-color: #008000\">'The Hill'</span><span style=\"font-weight: bold\">}</span>,\n",
       "        <span style=\"color: #008000; text-decoration-color: #008000\">'author'</span>: <span style=\"color: #008000; text-decoration-color: #008000\">'Tara Suter'</span>,\n",
       "        <span style=\"color: #008000; text-decoration-color: #008000\">'title'</span>: <span style=\"color: #008000; text-decoration-color: #008000\">'Americans’ views of economy worsen: Gallup'</span>,\n",
       "        <span style=\"color: #008000; text-decoration-color: #008000\">'description'</span>: <span style=\"color: #008000; text-decoration-color: #008000\">'Americans’ views of the economy worsened in September, according to recent data from </span>\n",
       "<span style=\"color: #008000; text-decoration-color: #008000\">Gallup. The survey giant found that only 20 percent of U.S. adults say...'</span>,\n",
       "        <span style=\"color: #008000; text-decoration-color: #008000\">'url'</span>: <span style=\"color: #008000; text-decoration-color: #008000\">'https://thehill.com/policy/4229644-americans-views-of-economy-worsen-gallup/'</span>,\n",
       "        <span style=\"color: #008000; text-decoration-color: #008000\">'urlToImage'</span>: <span style=\"color: #008000; text-decoration-color: #008000\">'https://media.zenfs.com/en/the_hill_articles_341/aeb390b4da17485fbbc8cd44c0496e9b'</span>,\n",
       "        <span style=\"color: #008000; text-decoration-color: #008000\">'publishedAt'</span>: <span style=\"color: #008000; text-decoration-color: #008000\">'2023-09-29T12:30:01Z'</span>,\n",
       "        <span style=\"color: #008000; text-decoration-color: #008000\">'content'</span>: <span style=\"color: #008000; text-decoration-color: #008000\">'Americans views of the economy worsened in September, according to recent data from </span>\n",
       "<span style=\"color: #008000; text-decoration-color: #008000\">Gallup.\\r\\nThe survey giant found that only 20 percent of U.S. adults say economic conditions are excellent or </span>\n",
       "<span style=\"color: #008000; text-decoration-color: #008000\">good. … [+1843 chars]'</span>\n",
       "    <span style=\"font-weight: bold\">}</span>,\n",
       "    <span style=\"font-weight: bold\">{</span>\n",
       "        <span style=\"color: #008000; text-decoration-color: #008000\">'source'</span>: <span style=\"font-weight: bold\">{</span><span style=\"color: #008000; text-decoration-color: #008000\">'id'</span>: <span style=\"color: #800080; text-decoration-color: #800080; font-style: italic\">None</span>, <span style=\"color: #008000; text-decoration-color: #008000\">'name'</span>: <span style=\"color: #008000; text-decoration-color: #008000\">'BBC News'</span><span style=\"font-weight: bold\">}</span>,\n",
       "        <span style=\"color: #008000; text-decoration-color: #008000\">'author'</span>: <span style=\"color: #008000; text-decoration-color: #008000\">'https://www.facebook.com/bbcnews'</span>,\n",
       "        <span style=\"color: #008000; text-decoration-color: #008000\">'title'</span>: <span style=\"color: #008000; text-decoration-color: #008000\">\"People going 'monk mode' to limit social media use\"</span>,\n",
       "        <span style=\"color: #008000; text-decoration-color: #008000\">'description'</span>: <span style=\"color: #008000; text-decoration-color: #008000\">'A growing number of individuals are using apps to block access to social media and the </span>\n",
       "<span style=\"color: #008000; text-decoration-color: #008000\">internet.'</span>,\n",
       "        <span style=\"color: #008000; text-decoration-color: #008000\">'url'</span>: <span style=\"color: #008000; text-decoration-color: #008000\">'https://www.bbc.com/news/business-66934688'</span>,\n",
       "        <span style=\"color: #008000; text-decoration-color: #008000\">'urlToImage'</span>: \n",
       "<span style=\"color: #008000; text-decoration-color: #008000\">'https://ichef.bbci.co.uk/news/1024/branded_news/2814/production/_131306201_dsc_3018_high.jpg'</span>,\n",
       "        <span style=\"color: #008000; text-decoration-color: #008000\">'publishedAt'</span>: <span style=\"color: #008000; text-decoration-color: #008000\">'2023-10-02T07:29:13Z'</span>,\n",
       "        <span style=\"color: #008000; text-decoration-color: #008000\">'content'</span>: <span style=\"color: #008000; text-decoration-color: #008000\">'When she really needs to focus on her work, Susie Alegre uses an app on her phone that blocks </span>\n",
       "<span style=\"color: #008000; text-decoration-color: #008000\">her access to social media sites for however long she requires.\\r\\nMs Alegre, a human rights lawyer and aut… [+5624</span>\n",
       "<span style=\"color: #008000; text-decoration-color: #008000\">chars]'</span>\n",
       "    <span style=\"font-weight: bold\">}</span>\n",
       "<span style=\"font-weight: bold\">]</span>\n",
       "</pre>\n"
      ],
      "text/plain": [
       "\u001b[1m[\u001b[0m\n",
       "    \u001b[1m{\u001b[0m\n",
       "        \u001b[32m'source'\u001b[0m: \u001b[1m{\u001b[0m\u001b[32m'id'\u001b[0m: \u001b[3;35mNone\u001b[0m, \u001b[32m'name'\u001b[0m: \u001b[32m'Nakedcapitalism.com'\u001b[0m\u001b[1m}\u001b[0m,\n",
       "        \u001b[32m'author'\u001b[0m: \u001b[32m'Yves Smith'\u001b[0m,\n",
       "        \u001b[32m'title'\u001b[0m: \u001b[32m'The Neoclassical Growth of China'\u001b[0m,\n",
       "        \u001b[32m'description'\u001b[0m: \u001b[32m'A model finds that China closely tracked the trajectory of Japan, South Korea, and Taiwan. \u001b[0m\n",
       "\u001b[32mDoes this claim hold up to close scrutiny?'\u001b[0m,\n",
       "        \u001b[32m'url'\u001b[0m: \u001b[32m'https://www.nakedcapitalism.com/2023/09/the-neoclassical-growth-of-china.html'\u001b[0m,\n",
       "        \u001b[32m'urlToImage'\u001b[0m: \u001b[32m'https://www.nakedcapitalism.com/wp-content/uploads/2023/09/00-China.png'\u001b[0m,\n",
       "        \u001b[32m'publishedAt'\u001b[0m: \u001b[32m'2023-09-29T13:54:28Z'\u001b[0m,\n",
       "        \u001b[32m'content'\u001b[0m: \u001b[32m'Yves here. I’m skeptical of models with n = 3 \u001b[0m\u001b[32m(\u001b[0m\u001b[32malthough the authors claim results would be \u001b[0m\n",
       "\u001b[32mpretty similar with n = 5. There are lots of other quibbles. Michael Pettis has explained why GDP in China i… \u001b[0m\n",
       "\u001b[32m[\u001b[0m\u001b[32m+9820 chars\u001b[0m\u001b[32m]\u001b[0m\u001b[32m'\u001b[0m\n",
       "    \u001b[1m}\u001b[0m,\n",
       "    \u001b[1m{\u001b[0m\n",
       "        \u001b[32m'source'\u001b[0m: \u001b[1m{\u001b[0m\u001b[32m'id'\u001b[0m: \u001b[32m'the-hill'\u001b[0m, \u001b[32m'name'\u001b[0m: \u001b[32m'The Hill'\u001b[0m\u001b[1m}\u001b[0m,\n",
       "        \u001b[32m'author'\u001b[0m: \u001b[32m'Tara Suter'\u001b[0m,\n",
       "        \u001b[32m'title'\u001b[0m: \u001b[32m'Americans’ views of economy worsen: Gallup'\u001b[0m,\n",
       "        \u001b[32m'description'\u001b[0m: \u001b[32m'Americans’ views of the economy worsened in September, according to recent data from \u001b[0m\n",
       "\u001b[32mGallup. The survey giant found that only 20 percent of U.S. adults say...'\u001b[0m,\n",
       "        \u001b[32m'url'\u001b[0m: \u001b[32m'https://thehill.com/policy/4229644-americans-views-of-economy-worsen-gallup/'\u001b[0m,\n",
       "        \u001b[32m'urlToImage'\u001b[0m: \u001b[32m'https://media.zenfs.com/en/the_hill_articles_341/aeb390b4da17485fbbc8cd44c0496e9b'\u001b[0m,\n",
       "        \u001b[32m'publishedAt'\u001b[0m: \u001b[32m'2023-09-29T12:30:01Z'\u001b[0m,\n",
       "        \u001b[32m'content'\u001b[0m: \u001b[32m'Americans views of the economy worsened in September, according to recent data from \u001b[0m\n",
       "\u001b[32mGallup.\\r\\nThe survey giant found that only 20 percent of U.S. adults say economic conditions are excellent or \u001b[0m\n",
       "\u001b[32mgood. … \u001b[0m\u001b[32m[\u001b[0m\u001b[32m+1843 chars\u001b[0m\u001b[32m]\u001b[0m\u001b[32m'\u001b[0m\n",
       "    \u001b[1m}\u001b[0m,\n",
       "    \u001b[1m{\u001b[0m\n",
       "        \u001b[32m'source'\u001b[0m: \u001b[1m{\u001b[0m\u001b[32m'id'\u001b[0m: \u001b[3;35mNone\u001b[0m, \u001b[32m'name'\u001b[0m: \u001b[32m'BBC News'\u001b[0m\u001b[1m}\u001b[0m,\n",
       "        \u001b[32m'author'\u001b[0m: \u001b[32m'https://www.facebook.com/bbcnews'\u001b[0m,\n",
       "        \u001b[32m'title'\u001b[0m: \u001b[32m\"People going 'monk mode' to limit social media use\"\u001b[0m,\n",
       "        \u001b[32m'description'\u001b[0m: \u001b[32m'A growing number of individuals are using apps to block access to social media and the \u001b[0m\n",
       "\u001b[32minternet.'\u001b[0m,\n",
       "        \u001b[32m'url'\u001b[0m: \u001b[32m'https://www.bbc.com/news/business-66934688'\u001b[0m,\n",
       "        \u001b[32m'urlToImage'\u001b[0m: \n",
       "\u001b[32m'https://ichef.bbci.co.uk/news/1024/branded_news/2814/production/_131306201_dsc_3018_high.jpg'\u001b[0m,\n",
       "        \u001b[32m'publishedAt'\u001b[0m: \u001b[32m'2023-10-02T07:29:13Z'\u001b[0m,\n",
       "        \u001b[32m'content'\u001b[0m: \u001b[32m'When she really needs to focus on her work, Susie Alegre uses an app on her phone that blocks \u001b[0m\n",
       "\u001b[32mher access to social media sites for however long she requires.\\r\\nMs Alegre, a human rights lawyer and aut… \u001b[0m\u001b[32m[\u001b[0m\u001b[32m+5624\u001b[0m\n",
       "\u001b[32mchars\u001b[0m\u001b[32m]\u001b[0m\u001b[32m'\u001b[0m\n",
       "    \u001b[1m}\u001b[0m\n",
       "\u001b[1m]\u001b[0m\n"
      ]
     },
     "metadata": {},
     "output_type": "display_data"
    }
   ],
   "source": [
    "# print(all_articles)\n",
    "print(\"totalResults: \", all_articles[\"totalResults\"])\n",
    "print(all_articles[\"articles\"][:3])"
   ]
  },
  {
   "cell_type": "code",
   "execution_count": 52,
   "metadata": {},
   "outputs": [],
   "source": [
    "# print(sources)"
   ]
  },
  {
   "cell_type": "code",
   "execution_count": null,
   "metadata": {},
   "outputs": [],
   "source": []
  }
 ],
 "metadata": {
  "kernelspec": {
   "display_name": "Python 3 (ipykernel)",
   "language": "python",
   "name": "python3"
  },
  "language_info": {
   "codemirror_mode": {
    "name": "ipython",
    "version": 3
   },
   "file_extension": ".py",
   "mimetype": "text/x-python",
   "name": "python",
   "nbconvert_exporter": "python",
   "pygments_lexer": "ipython3",
   "version": "3.10.13"
  }
 },
 "nbformat": 4,
 "nbformat_minor": 4
}
