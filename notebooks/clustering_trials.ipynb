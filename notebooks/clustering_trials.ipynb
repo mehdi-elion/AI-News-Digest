{
 "cells": [
  {
   "cell_type": "markdown",
   "metadata": {},
   "source": [
    "# Clustering trials"
   ]
  },
  {
   "cell_type": "markdown",
   "metadata": {},
   "source": [
    "## Setup"
   ]
  },
  {
   "cell_type": "markdown",
   "metadata": {},
   "source": [
    "### Imports"
   ]
  },
  {
   "cell_type": "code",
   "execution_count": 1,
   "metadata": {},
   "outputs": [],
   "source": [
    "import datetime, os, json, random, sys\n",
    "from pathlib import Path\n",
    "from time import time\n",
    "from typing import Any, Dict, List, Literal, Optional, Union, Tuple\n",
    "from tqdm import tqdm\n",
    "\n",
    "import numpy as np\n",
    "import numpy.typing as npt\n",
    "import pandas as pd\n",
    "import plotly.express as px\n",
    "import torch\n",
    "import umap\n",
    "import yaml\n",
    "from langchain.embeddings import HuggingFaceEmbeddings\n",
    "from loguru import logger\n",
    "from rich import print\n",
    "from sklearn.cluster import KMeans, HDBSCAN\n",
    "from sklearn.metrics import (\n",
    "    calinski_harabasz_score,\n",
    "    davies_bouldin_score,\n",
    "    silhouette_score,\n",
    ")\n",
    "from transformers import AutoTokenizer, BertModel, BertTokenizer, BertTokenizerFast"
   ]
  },
  {
   "cell_type": "code",
   "execution_count": 2,
   "metadata": {},
   "outputs": [],
   "source": [
    "# check GPU availability\n",
    "sys.path.append(\"../\")\n",
    "from src.ai_news_digest.utils import check_gpu_availability, create_run_folder\n",
    "from src.ai_news_digest.steps.benchmark import entropy"
   ]
  },
  {
   "cell_type": "markdown",
   "metadata": {},
   "source": [
    "### Set random seeds"
   ]
  },
  {
   "cell_type": "code",
   "execution_count": 3,
   "metadata": {},
   "outputs": [
    {
     "data": {
      "text/plain": [
       "<torch._C.Generator at 0x1e167076570>"
      ]
     },
     "execution_count": 3,
     "metadata": {},
     "output_type": "execute_result"
    }
   ],
   "source": [
    "np.random.seed(123)\n",
    "random.seed(123)\n",
    "torch.manual_seed(123)"
   ]
  },
  {
   "cell_type": "markdown",
   "metadata": {},
   "source": [
    "### Check GPU availability"
   ]
  },
  {
   "cell_type": "code",
   "execution_count": 4,
   "metadata": {},
   "outputs": [
    {
     "name": "stderr",
     "output_type": "stream",
     "text": [
      "\u001b[32m2024-01-21 19:46:45.620\u001b[0m | \u001b[1mINFO    \u001b[0m | \u001b[36msrc.ai_news_digest.utils\u001b[0m:\u001b[36mcheck_gpu_availability\u001b[0m:\u001b[36m49\u001b[0m - \u001b[1mIs cuda available ? --> True\u001b[0m\n"
     ]
    },
    {
     "data": {
      "text/html": [
       "<pre style=\"white-space:pre;overflow-x:auto;line-height:normal;font-family:Menlo,'DejaVu Sans Mono',consolas,'Courier New',monospace\"><span style=\"color: #800080; text-decoration-color: #800080; font-weight: bold\">_CudaDeviceProperties</span><span style=\"font-weight: bold\">(</span><span style=\"color: #808000; text-decoration-color: #808000\">name</span>=<span style=\"color: #008000; text-decoration-color: #008000\">'NVIDIA GeForce RTX 3090 Ti'</span>, <span style=\"color: #808000; text-decoration-color: #808000\">major</span>=<span style=\"color: #008080; text-decoration-color: #008080; font-weight: bold\">8</span>, <span style=\"color: #808000; text-decoration-color: #808000\">minor</span>=<span style=\"color: #008080; text-decoration-color: #008080; font-weight: bold\">6</span>, <span style=\"color: #808000; text-decoration-color: #808000\">total_memory</span>=<span style=\"color: #800080; text-decoration-color: #800080\">24563MB</span>, \n",
       "<span style=\"color: #808000; text-decoration-color: #808000\">multi_processor_count</span>=<span style=\"color: #008080; text-decoration-color: #008080; font-weight: bold\">84</span><span style=\"font-weight: bold\">)</span>\n",
       "</pre>\n"
      ],
      "text/plain": [
       "\u001b[1;35m_CudaDeviceProperties\u001b[0m\u001b[1m(\u001b[0m\u001b[33mname\u001b[0m=\u001b[32m'NVIDIA GeForce RTX 3090 Ti'\u001b[0m, \u001b[33mmajor\u001b[0m=\u001b[1;36m8\u001b[0m, \u001b[33mminor\u001b[0m=\u001b[1;36m6\u001b[0m, \u001b[33mtotal_memory\u001b[0m=\u001b[35m24563MB\u001b[0m, \n",
       "\u001b[33mmulti_processor_count\u001b[0m=\u001b[1;36m84\u001b[0m\u001b[1m)\u001b[0m\n"
      ]
     },
     "metadata": {},
     "output_type": "display_data"
    },
    {
     "name": "stderr",
     "output_type": "stream",
     "text": [
      "\u001b[32m2024-01-21 19:46:45.660\u001b[0m | \u001b[1mINFO    \u001b[0m | \u001b[36msrc.ai_news_digest.utils\u001b[0m:\u001b[36mcheck_gpu_availability\u001b[0m:\u001b[36m55\u001b[0m - \u001b[1mChose following device: 'cuda:0'\u001b[0m\n"
     ]
    }
   ],
   "source": [
    "device = check_gpu_availability()"
   ]
  },
  {
   "cell_type": "markdown",
   "metadata": {},
   "source": [
    "### Config"
   ]
  },
  {
   "cell_type": "code",
   "execution_count": 5,
   "metadata": {},
   "outputs": [],
   "source": [
    "MODEL_CONFIG_PATH = \"../conf/base/cluster_bench_models.yml\"\n",
    "DATA_PATH = \"../data/03_primary/arxiv_dict_2023-11-06_00-22-42.json\"\n",
    "\n",
    "MODEL_KWARGS = {\"device\": device}\n",
    "ENCODE_KWARGS = {\n",
    "    \"normalize_embeddings\": True,\n",
    "    \"batch_size\": 16,\n",
    "    \"output_value\": \"sentence_embedding\",\n",
    "    \"convert_to_numpy\": True,\n",
    "    \"show_progress_bar\": True,\n",
    "}"
   ]
  },
  {
   "cell_type": "code",
   "execution_count": 6,
   "metadata": {},
   "outputs": [],
   "source": [
    "PATH_INFO_DICT = \"data/03_primary/arxiv_dict_2023-11-06_00-22-42.json\"\n",
    "MODEL_ID = \"BAAI/bge-small-en\""
   ]
  },
  {
   "cell_type": "markdown",
   "metadata": {},
   "source": [
    "## Load data"
   ]
  },
  {
   "cell_type": "code",
   "execution_count": 7,
   "metadata": {},
   "outputs": [
    {
     "name": "stderr",
     "output_type": "stream",
     "text": [
      "\u001b[32m2024-01-21 19:46:45.746\u001b[0m | \u001b[1mINFO    \u001b[0m | \u001b[36m__main__\u001b[0m:\u001b[36m<module>\u001b[0m:\u001b[36m4\u001b[0m - \u001b[1mSuccessfully loaded prepared data from : ../data/03_primary/arxiv_dict_2023-11-06_00-22-42.json\u001b[0m\n"
     ]
    },
    {
     "data": {
      "text/html": [
       "<div>\n",
       "<style scoped>\n",
       "    .dataframe tbody tr th:only-of-type {\n",
       "        vertical-align: middle;\n",
       "    }\n",
       "\n",
       "    .dataframe tbody tr th {\n",
       "        vertical-align: top;\n",
       "    }\n",
       "\n",
       "    .dataframe thead th {\n",
       "        text-align: right;\n",
       "    }\n",
       "</style>\n",
       "<table border=\"1\" class=\"dataframe\">\n",
       "  <thead>\n",
       "    <tr style=\"text-align: right;\">\n",
       "      <th></th>\n",
       "      <th>title</th>\n",
       "      <th>abstract</th>\n",
       "      <th>date</th>\n",
       "      <th>category</th>\n",
       "    </tr>\n",
       "  </thead>\n",
       "  <tbody>\n",
       "    <tr>\n",
       "      <th>http://arxiv.org/abs/2311.01425v1</th>\n",
       "      <td>Exploring Deep Learning Techniques for Glaucom...</td>\n",
       "      <td>Glaucoma is one of the primary causes of visio...</td>\n",
       "      <td>2023-11-02 17:39:40+00:00</td>\n",
       "      <td>eess.IV</td>\n",
       "    </tr>\n",
       "    <tr>\n",
       "      <th>http://arxiv.org/abs/2311.01352v1</th>\n",
       "      <td>Deep learning based Image Compression for Micr...</td>\n",
       "      <td>With the fast development of modern microscope...</td>\n",
       "      <td>2023-11-02 16:00:32+00:00</td>\n",
       "      <td>eess.IV</td>\n",
       "    </tr>\n",
       "    <tr>\n",
       "      <th>http://arxiv.org/abs/2311.01241v1</th>\n",
       "      <td>Exploring Deep Learning Image Super-Resolution...</td>\n",
       "      <td>In this work we test the ability of deep learn...</td>\n",
       "      <td>2023-11-02 13:57:48+00:00</td>\n",
       "      <td>eess.IV</td>\n",
       "    </tr>\n",
       "    <tr>\n",
       "      <th>http://arxiv.org/abs/2311.01130v1</th>\n",
       "      <td>A deep learning experiment for semantic segmen...</td>\n",
       "      <td>Palimpsests refer to historical manuscripts wh...</td>\n",
       "      <td>2023-11-02 10:25:47+00:00</td>\n",
       "      <td>cs.CV</td>\n",
       "    </tr>\n",
       "    <tr>\n",
       "      <th>http://arxiv.org/abs/2311.01061v1</th>\n",
       "      <td>Deep Learning for real-time neural decoding of...</td>\n",
       "      <td>Neural decoding involves correlating signals a...</td>\n",
       "      <td>2023-11-02 08:26:29+00:00</td>\n",
       "      <td>cs.LG</td>\n",
       "    </tr>\n",
       "  </tbody>\n",
       "</table>\n",
       "</div>"
      ],
      "text/plain": [
       "                                                                               title  \\\n",
       "http://arxiv.org/abs/2311.01425v1  Exploring Deep Learning Techniques for Glaucom...   \n",
       "http://arxiv.org/abs/2311.01352v1  Deep learning based Image Compression for Micr...   \n",
       "http://arxiv.org/abs/2311.01241v1  Exploring Deep Learning Image Super-Resolution...   \n",
       "http://arxiv.org/abs/2311.01130v1  A deep learning experiment for semantic segmen...   \n",
       "http://arxiv.org/abs/2311.01061v1  Deep Learning for real-time neural decoding of...   \n",
       "\n",
       "                                                                            abstract  \\\n",
       "http://arxiv.org/abs/2311.01425v1  Glaucoma is one of the primary causes of visio...   \n",
       "http://arxiv.org/abs/2311.01352v1  With the fast development of modern microscope...   \n",
       "http://arxiv.org/abs/2311.01241v1  In this work we test the ability of deep learn...   \n",
       "http://arxiv.org/abs/2311.01130v1  Palimpsests refer to historical manuscripts wh...   \n",
       "http://arxiv.org/abs/2311.01061v1  Neural decoding involves correlating signals a...   \n",
       "\n",
       "                                                        date category  \n",
       "http://arxiv.org/abs/2311.01425v1  2023-11-02 17:39:40+00:00  eess.IV  \n",
       "http://arxiv.org/abs/2311.01352v1  2023-11-02 16:00:32+00:00  eess.IV  \n",
       "http://arxiv.org/abs/2311.01241v1  2023-11-02 13:57:48+00:00  eess.IV  \n",
       "http://arxiv.org/abs/2311.01130v1  2023-11-02 10:25:47+00:00    cs.CV  \n",
       "http://arxiv.org/abs/2311.01061v1  2023-11-02 08:26:29+00:00    cs.LG  "
      ]
     },
     "execution_count": 7,
     "metadata": {},
     "output_type": "execute_result"
    }
   ],
   "source": [
    "# load data\n",
    "with open(DATA_PATH, \"r\") as f:\n",
    "    info_dict = json.load(f)[\"results\"]\n",
    "logger.info(f\"Successfully loaded prepared data from : {DATA_PATH}\")\n",
    "\n",
    "# retrieve abstracts, titles, dates & paper IDs\n",
    "df_data = pd.DataFrame(info_dict).transpose()\n",
    "\n",
    "# display\n",
    "df_data.head()"
   ]
  },
  {
   "cell_type": "markdown",
   "metadata": {},
   "source": [
    "## Embed Data"
   ]
  },
  {
   "cell_type": "code",
   "execution_count": 8,
   "metadata": {},
   "outputs": [],
   "source": [
    "# load model\n",
    "hf = HuggingFaceEmbeddings(\n",
    "    model_name=MODEL_ID,\n",
    "    model_kwargs={\"device\": device},\n",
    "    encode_kwargs=ENCODE_KWARGS,\n",
    ")"
   ]
  },
  {
   "cell_type": "code",
   "execution_count": 9,
   "metadata": {},
   "outputs": [
    {
     "data": {
      "application/vnd.jupyter.widget-view+json": {
       "model_id": "218588ac9b4f43eca12269ae00b68a3c",
       "version_major": 2,
       "version_minor": 0
      },
      "text/plain": [
       "Batches:   0%|          | 0/25 [00:00<?, ?it/s]"
      ]
     },
     "metadata": {},
     "output_type": "display_data"
    },
    {
     "data": {
      "text/html": [
       "<div>\n",
       "<style scoped>\n",
       "    .dataframe tbody tr th:only-of-type {\n",
       "        vertical-align: middle;\n",
       "    }\n",
       "\n",
       "    .dataframe tbody tr th {\n",
       "        vertical-align: top;\n",
       "    }\n",
       "\n",
       "    .dataframe thead th {\n",
       "        text-align: right;\n",
       "    }\n",
       "</style>\n",
       "<table border=\"1\" class=\"dataframe\">\n",
       "  <thead>\n",
       "    <tr style=\"text-align: right;\">\n",
       "      <th></th>\n",
       "      <th>embed_0</th>\n",
       "      <th>embed_1</th>\n",
       "      <th>embed_2</th>\n",
       "      <th>embed_3</th>\n",
       "      <th>embed_4</th>\n",
       "      <th>embed_5</th>\n",
       "      <th>embed_6</th>\n",
       "      <th>embed_7</th>\n",
       "      <th>embed_8</th>\n",
       "      <th>embed_9</th>\n",
       "      <th>...</th>\n",
       "      <th>embed_374</th>\n",
       "      <th>embed_375</th>\n",
       "      <th>embed_376</th>\n",
       "      <th>embed_377</th>\n",
       "      <th>embed_378</th>\n",
       "      <th>embed_379</th>\n",
       "      <th>embed_380</th>\n",
       "      <th>embed_381</th>\n",
       "      <th>embed_382</th>\n",
       "      <th>embed_383</th>\n",
       "    </tr>\n",
       "  </thead>\n",
       "  <tbody>\n",
       "    <tr>\n",
       "      <th>http://arxiv.org/abs/2311.01425v1</th>\n",
       "      <td>-0.001384</td>\n",
       "      <td>-0.009538</td>\n",
       "      <td>0.033621</td>\n",
       "      <td>0.015548</td>\n",
       "      <td>0.049827</td>\n",
       "      <td>0.052703</td>\n",
       "      <td>0.042258</td>\n",
       "      <td>0.009232</td>\n",
       "      <td>-0.011007</td>\n",
       "      <td>-0.016927</td>\n",
       "      <td>...</td>\n",
       "      <td>-0.022196</td>\n",
       "      <td>-0.004898</td>\n",
       "      <td>-0.032707</td>\n",
       "      <td>0.004455</td>\n",
       "      <td>-0.017643</td>\n",
       "      <td>-0.007212</td>\n",
       "      <td>-0.065930</td>\n",
       "      <td>-0.036846</td>\n",
       "      <td>-0.000682</td>\n",
       "      <td>-0.009616</td>\n",
       "    </tr>\n",
       "    <tr>\n",
       "      <th>http://arxiv.org/abs/2311.01352v1</th>\n",
       "      <td>-0.002659</td>\n",
       "      <td>-0.010493</td>\n",
       "      <td>0.005734</td>\n",
       "      <td>0.018259</td>\n",
       "      <td>0.056982</td>\n",
       "      <td>0.040098</td>\n",
       "      <td>-0.018745</td>\n",
       "      <td>0.010841</td>\n",
       "      <td>0.017799</td>\n",
       "      <td>0.002271</td>\n",
       "      <td>...</td>\n",
       "      <td>0.024147</td>\n",
       "      <td>-0.013133</td>\n",
       "      <td>-0.048883</td>\n",
       "      <td>0.008194</td>\n",
       "      <td>-0.012212</td>\n",
       "      <td>0.048880</td>\n",
       "      <td>-0.050996</td>\n",
       "      <td>-0.051632</td>\n",
       "      <td>0.037865</td>\n",
       "      <td>-0.019642</td>\n",
       "    </tr>\n",
       "    <tr>\n",
       "      <th>http://arxiv.org/abs/2311.01241v1</th>\n",
       "      <td>-0.025940</td>\n",
       "      <td>-0.004279</td>\n",
       "      <td>-0.002302</td>\n",
       "      <td>-0.010307</td>\n",
       "      <td>0.044994</td>\n",
       "      <td>0.062084</td>\n",
       "      <td>-0.002210</td>\n",
       "      <td>0.006609</td>\n",
       "      <td>0.020242</td>\n",
       "      <td>-0.006194</td>\n",
       "      <td>...</td>\n",
       "      <td>-0.006990</td>\n",
       "      <td>-0.019892</td>\n",
       "      <td>-0.021326</td>\n",
       "      <td>-0.021109</td>\n",
       "      <td>0.002532</td>\n",
       "      <td>0.006111</td>\n",
       "      <td>-0.024448</td>\n",
       "      <td>-0.020554</td>\n",
       "      <td>0.012528</td>\n",
       "      <td>-0.004717</td>\n",
       "    </tr>\n",
       "    <tr>\n",
       "      <th>http://arxiv.org/abs/2311.01130v1</th>\n",
       "      <td>-0.038666</td>\n",
       "      <td>0.013733</td>\n",
       "      <td>0.005050</td>\n",
       "      <td>0.005592</td>\n",
       "      <td>0.002929</td>\n",
       "      <td>0.026078</td>\n",
       "      <td>-0.004111</td>\n",
       "      <td>-0.005976</td>\n",
       "      <td>0.033418</td>\n",
       "      <td>-0.019905</td>\n",
       "      <td>...</td>\n",
       "      <td>-0.029723</td>\n",
       "      <td>-0.032662</td>\n",
       "      <td>-0.027974</td>\n",
       "      <td>0.000945</td>\n",
       "      <td>0.003917</td>\n",
       "      <td>-0.009779</td>\n",
       "      <td>-0.032067</td>\n",
       "      <td>0.007589</td>\n",
       "      <td>0.006462</td>\n",
       "      <td>-0.008279</td>\n",
       "    </tr>\n",
       "    <tr>\n",
       "      <th>http://arxiv.org/abs/2311.01061v1</th>\n",
       "      <td>-0.015999</td>\n",
       "      <td>-0.018669</td>\n",
       "      <td>0.000763</td>\n",
       "      <td>-0.013080</td>\n",
       "      <td>0.023814</td>\n",
       "      <td>0.046864</td>\n",
       "      <td>0.060731</td>\n",
       "      <td>-0.004812</td>\n",
       "      <td>0.036577</td>\n",
       "      <td>-0.033680</td>\n",
       "      <td>...</td>\n",
       "      <td>-0.009631</td>\n",
       "      <td>0.009133</td>\n",
       "      <td>-0.049814</td>\n",
       "      <td>0.008142</td>\n",
       "      <td>-0.012620</td>\n",
       "      <td>0.073099</td>\n",
       "      <td>-0.062735</td>\n",
       "      <td>-0.003177</td>\n",
       "      <td>-0.027720</td>\n",
       "      <td>-0.001277</td>\n",
       "    </tr>\n",
       "  </tbody>\n",
       "</table>\n",
       "<p>5 rows × 384 columns</p>\n",
       "</div>"
      ],
      "text/plain": [
       "                                    embed_0   embed_1   embed_2   embed_3  \\\n",
       "http://arxiv.org/abs/2311.01425v1 -0.001384 -0.009538  0.033621  0.015548   \n",
       "http://arxiv.org/abs/2311.01352v1 -0.002659 -0.010493  0.005734  0.018259   \n",
       "http://arxiv.org/abs/2311.01241v1 -0.025940 -0.004279 -0.002302 -0.010307   \n",
       "http://arxiv.org/abs/2311.01130v1 -0.038666  0.013733  0.005050  0.005592   \n",
       "http://arxiv.org/abs/2311.01061v1 -0.015999 -0.018669  0.000763 -0.013080   \n",
       "\n",
       "                                    embed_4   embed_5   embed_6   embed_7  \\\n",
       "http://arxiv.org/abs/2311.01425v1  0.049827  0.052703  0.042258  0.009232   \n",
       "http://arxiv.org/abs/2311.01352v1  0.056982  0.040098 -0.018745  0.010841   \n",
       "http://arxiv.org/abs/2311.01241v1  0.044994  0.062084 -0.002210  0.006609   \n",
       "http://arxiv.org/abs/2311.01130v1  0.002929  0.026078 -0.004111 -0.005976   \n",
       "http://arxiv.org/abs/2311.01061v1  0.023814  0.046864  0.060731 -0.004812   \n",
       "\n",
       "                                    embed_8   embed_9  ...  embed_374  \\\n",
       "http://arxiv.org/abs/2311.01425v1 -0.011007 -0.016927  ...  -0.022196   \n",
       "http://arxiv.org/abs/2311.01352v1  0.017799  0.002271  ...   0.024147   \n",
       "http://arxiv.org/abs/2311.01241v1  0.020242 -0.006194  ...  -0.006990   \n",
       "http://arxiv.org/abs/2311.01130v1  0.033418 -0.019905  ...  -0.029723   \n",
       "http://arxiv.org/abs/2311.01061v1  0.036577 -0.033680  ...  -0.009631   \n",
       "\n",
       "                                   embed_375  embed_376  embed_377  embed_378  \\\n",
       "http://arxiv.org/abs/2311.01425v1  -0.004898  -0.032707   0.004455  -0.017643   \n",
       "http://arxiv.org/abs/2311.01352v1  -0.013133  -0.048883   0.008194  -0.012212   \n",
       "http://arxiv.org/abs/2311.01241v1  -0.019892  -0.021326  -0.021109   0.002532   \n",
       "http://arxiv.org/abs/2311.01130v1  -0.032662  -0.027974   0.000945   0.003917   \n",
       "http://arxiv.org/abs/2311.01061v1   0.009133  -0.049814   0.008142  -0.012620   \n",
       "\n",
       "                                   embed_379  embed_380  embed_381  embed_382  \\\n",
       "http://arxiv.org/abs/2311.01425v1  -0.007212  -0.065930  -0.036846  -0.000682   \n",
       "http://arxiv.org/abs/2311.01352v1   0.048880  -0.050996  -0.051632   0.037865   \n",
       "http://arxiv.org/abs/2311.01241v1   0.006111  -0.024448  -0.020554   0.012528   \n",
       "http://arxiv.org/abs/2311.01130v1  -0.009779  -0.032067   0.007589   0.006462   \n",
       "http://arxiv.org/abs/2311.01061v1   0.073099  -0.062735  -0.003177  -0.027720   \n",
       "\n",
       "                                   embed_383  \n",
       "http://arxiv.org/abs/2311.01425v1  -0.009616  \n",
       "http://arxiv.org/abs/2311.01352v1  -0.019642  \n",
       "http://arxiv.org/abs/2311.01241v1  -0.004717  \n",
       "http://arxiv.org/abs/2311.01130v1  -0.008279  \n",
       "http://arxiv.org/abs/2311.01061v1  -0.001277  \n",
       "\n",
       "[5 rows x 384 columns]"
      ]
     },
     "execution_count": 9,
     "metadata": {},
     "output_type": "execute_result"
    }
   ],
   "source": [
    "# compute embeddings\n",
    "embeddings = np.array(hf.embed_documents(df_data[\"abstract\"]))\n",
    "\n",
    "# store embeddings in a dataframe\n",
    "df_embed = pd.DataFrame(\n",
    "    data=embeddings, \n",
    "    columns=[f\"embed_{i}\" for i in range(embeddings.shape[1])],\n",
    "    index=df_data.index\n",
    ")\n",
    "\n",
    "# display\n",
    "df_embed.head()"
   ]
  },
  {
   "cell_type": "markdown",
   "metadata": {},
   "source": [
    "## Dimensionality reduction"
   ]
  },
  {
   "cell_type": "code",
   "execution_count": 10,
   "metadata": {},
   "outputs": [
    {
     "data": {
      "text/html": [
       "<div>\n",
       "<style scoped>\n",
       "    .dataframe tbody tr th:only-of-type {\n",
       "        vertical-align: middle;\n",
       "    }\n",
       "\n",
       "    .dataframe tbody tr th {\n",
       "        vertical-align: top;\n",
       "    }\n",
       "\n",
       "    .dataframe thead th {\n",
       "        text-align: right;\n",
       "    }\n",
       "</style>\n",
       "<table border=\"1\" class=\"dataframe\">\n",
       "  <thead>\n",
       "    <tr style=\"text-align: right;\">\n",
       "      <th></th>\n",
       "      <th>umap_0</th>\n",
       "      <th>umap_1</th>\n",
       "      <th>ID</th>\n",
       "      <th>title</th>\n",
       "      <th>abstract</th>\n",
       "      <th>date</th>\n",
       "      <th>category</th>\n",
       "    </tr>\n",
       "  </thead>\n",
       "  <tbody>\n",
       "    <tr>\n",
       "      <th>0</th>\n",
       "      <td>0.824424</td>\n",
       "      <td>0.279553</td>\n",
       "      <td>http://arxiv.org/abs/2311.01425v1</td>\n",
       "      <td>Exploring Deep Learning Techniques for Glaucom...</td>\n",
       "      <td>Glaucoma is one of the primary causes of visio...</td>\n",
       "      <td>2023-11-02 17:39:40+00:00</td>\n",
       "      <td>eess.IV</td>\n",
       "    </tr>\n",
       "    <tr>\n",
       "      <th>1</th>\n",
       "      <td>0.611574</td>\n",
       "      <td>0.570841</td>\n",
       "      <td>http://arxiv.org/abs/2311.01352v1</td>\n",
       "      <td>Deep learning based Image Compression for Micr...</td>\n",
       "      <td>With the fast development of modern microscope...</td>\n",
       "      <td>2023-11-02 16:00:32+00:00</td>\n",
       "      <td>eess.IV</td>\n",
       "    </tr>\n",
       "    <tr>\n",
       "      <th>2</th>\n",
       "      <td>0.609362</td>\n",
       "      <td>0.553106</td>\n",
       "      <td>http://arxiv.org/abs/2311.01241v1</td>\n",
       "      <td>Exploring Deep Learning Image Super-Resolution...</td>\n",
       "      <td>In this work we test the ability of deep learn...</td>\n",
       "      <td>2023-11-02 13:57:48+00:00</td>\n",
       "      <td>eess.IV</td>\n",
       "    </tr>\n",
       "    <tr>\n",
       "      <th>3</th>\n",
       "      <td>0.876372</td>\n",
       "      <td>0.672962</td>\n",
       "      <td>http://arxiv.org/abs/2311.01130v1</td>\n",
       "      <td>A deep learning experiment for semantic segmen...</td>\n",
       "      <td>Palimpsests refer to historical manuscripts wh...</td>\n",
       "      <td>2023-11-02 10:25:47+00:00</td>\n",
       "      <td>cs.CV</td>\n",
       "    </tr>\n",
       "    <tr>\n",
       "      <th>4</th>\n",
       "      <td>0.554575</td>\n",
       "      <td>0.434635</td>\n",
       "      <td>http://arxiv.org/abs/2311.01061v1</td>\n",
       "      <td>Deep Learning for real-time neural decoding of...</td>\n",
       "      <td>Neural decoding involves correlating signals a...</td>\n",
       "      <td>2023-11-02 08:26:29+00:00</td>\n",
       "      <td>cs.LG</td>\n",
       "    </tr>\n",
       "  </tbody>\n",
       "</table>\n",
       "</div>"
      ],
      "text/plain": [
       "     umap_0    umap_1                                 ID  \\\n",
       "0  0.824424  0.279553  http://arxiv.org/abs/2311.01425v1   \n",
       "1  0.611574  0.570841  http://arxiv.org/abs/2311.01352v1   \n",
       "2  0.609362  0.553106  http://arxiv.org/abs/2311.01241v1   \n",
       "3  0.876372  0.672962  http://arxiv.org/abs/2311.01130v1   \n",
       "4  0.554575  0.434635  http://arxiv.org/abs/2311.01061v1   \n",
       "\n",
       "                                               title  \\\n",
       "0  Exploring Deep Learning Techniques for Glaucom...   \n",
       "1  Deep learning based Image Compression for Micr...   \n",
       "2  Exploring Deep Learning Image Super-Resolution...   \n",
       "3  A deep learning experiment for semantic segmen...   \n",
       "4  Deep Learning for real-time neural decoding of...   \n",
       "\n",
       "                                            abstract  \\\n",
       "0  Glaucoma is one of the primary causes of visio...   \n",
       "1  With the fast development of modern microscope...   \n",
       "2  In this work we test the ability of deep learn...   \n",
       "3  Palimpsests refer to historical manuscripts wh...   \n",
       "4  Neural decoding involves correlating signals a...   \n",
       "\n",
       "                        date category  \n",
       "0  2023-11-02 17:39:40+00:00  eess.IV  \n",
       "1  2023-11-02 16:00:32+00:00  eess.IV  \n",
       "2  2023-11-02 13:57:48+00:00  eess.IV  \n",
       "3  2023-11-02 10:25:47+00:00    cs.CV  \n",
       "4  2023-11-02 08:26:29+00:00    cs.LG  "
      ]
     },
     "execution_count": 10,
     "metadata": {},
     "output_type": "execute_result"
    }
   ],
   "source": [
    "# set umap params\n",
    "umap_kwargs = {\n",
    "    \"n_neighbors\": 5,\n",
    "    \"min_dist\": 0.001,\n",
    "    \"n_components\": 2,\n",
    "    \"metric\": \"cosine\",\n",
    "}\n",
    "\n",
    "# instanciate umap projector\n",
    "reducer = umap.UMAP(random_state=123, **umap_kwargs)\n",
    "\n",
    "# project data\n",
    "umap_proj = reducer.fit_transform(df_embed)\n",
    "\n",
    "# normalize umap coords\n",
    "umap_proj = (umap_proj - umap_proj.min(axis=0)) / (umap_proj.max(axis=0) - umap_proj.min(axis=0))\n",
    "\n",
    "# store in a dataframe with metadata\n",
    "df_umap = pd.DataFrame(columns=[f\"umap_{i}\" for i in range(umap_proj.shape[1])], data=umap_proj)\n",
    "df_umap = pd.concat((df_umap, df_data.reset_index(names=[\"ID\"])), axis=1)\n",
    "\n",
    "# display\n",
    "df_umap.head()"
   ]
  },
  {
   "cell_type": "markdown",
   "metadata": {},
   "source": [
    "## Clustering"
   ]
  },
  {
   "cell_type": "code",
   "execution_count": 11,
   "metadata": {},
   "outputs": [
    {
     "data": {
      "text/html": [
       "<style>#sk-container-id-1 {color: black;}#sk-container-id-1 pre{padding: 0;}#sk-container-id-1 div.sk-toggleable {background-color: white;}#sk-container-id-1 label.sk-toggleable__label {cursor: pointer;display: block;width: 100%;margin-bottom: 0;padding: 0.3em;box-sizing: border-box;text-align: center;}#sk-container-id-1 label.sk-toggleable__label-arrow:before {content: \"▸\";float: left;margin-right: 0.25em;color: #696969;}#sk-container-id-1 label.sk-toggleable__label-arrow:hover:before {color: black;}#sk-container-id-1 div.sk-estimator:hover label.sk-toggleable__label-arrow:before {color: black;}#sk-container-id-1 div.sk-toggleable__content {max-height: 0;max-width: 0;overflow: hidden;text-align: left;background-color: #f0f8ff;}#sk-container-id-1 div.sk-toggleable__content pre {margin: 0.2em;color: black;border-radius: 0.25em;background-color: #f0f8ff;}#sk-container-id-1 input.sk-toggleable__control:checked~div.sk-toggleable__content {max-height: 200px;max-width: 100%;overflow: auto;}#sk-container-id-1 input.sk-toggleable__control:checked~label.sk-toggleable__label-arrow:before {content: \"▾\";}#sk-container-id-1 div.sk-estimator input.sk-toggleable__control:checked~label.sk-toggleable__label {background-color: #d4ebff;}#sk-container-id-1 div.sk-label input.sk-toggleable__control:checked~label.sk-toggleable__label {background-color: #d4ebff;}#sk-container-id-1 input.sk-hidden--visually {border: 0;clip: rect(1px 1px 1px 1px);clip: rect(1px, 1px, 1px, 1px);height: 1px;margin: -1px;overflow: hidden;padding: 0;position: absolute;width: 1px;}#sk-container-id-1 div.sk-estimator {font-family: monospace;background-color: #f0f8ff;border: 1px dotted black;border-radius: 0.25em;box-sizing: border-box;margin-bottom: 0.5em;}#sk-container-id-1 div.sk-estimator:hover {background-color: #d4ebff;}#sk-container-id-1 div.sk-parallel-item::after {content: \"\";width: 100%;border-bottom: 1px solid gray;flex-grow: 1;}#sk-container-id-1 div.sk-label:hover label.sk-toggleable__label {background-color: #d4ebff;}#sk-container-id-1 div.sk-serial::before {content: \"\";position: absolute;border-left: 1px solid gray;box-sizing: border-box;top: 0;bottom: 0;left: 50%;z-index: 0;}#sk-container-id-1 div.sk-serial {display: flex;flex-direction: column;align-items: center;background-color: white;padding-right: 0.2em;padding-left: 0.2em;position: relative;}#sk-container-id-1 div.sk-item {position: relative;z-index: 1;}#sk-container-id-1 div.sk-parallel {display: flex;align-items: stretch;justify-content: center;background-color: white;position: relative;}#sk-container-id-1 div.sk-item::before, #sk-container-id-1 div.sk-parallel-item::before {content: \"\";position: absolute;border-left: 1px solid gray;box-sizing: border-box;top: 0;bottom: 0;left: 50%;z-index: -1;}#sk-container-id-1 div.sk-parallel-item {display: flex;flex-direction: column;z-index: 1;position: relative;background-color: white;}#sk-container-id-1 div.sk-parallel-item:first-child::after {align-self: flex-end;width: 50%;}#sk-container-id-1 div.sk-parallel-item:last-child::after {align-self: flex-start;width: 50%;}#sk-container-id-1 div.sk-parallel-item:only-child::after {width: 0;}#sk-container-id-1 div.sk-dashed-wrapped {border: 1px dashed gray;margin: 0 0.4em 0.5em 0.4em;box-sizing: border-box;padding-bottom: 0.4em;background-color: white;}#sk-container-id-1 div.sk-label label {font-family: monospace;font-weight: bold;display: inline-block;line-height: 1.2em;}#sk-container-id-1 div.sk-label-container {text-align: center;}#sk-container-id-1 div.sk-container {/* jupyter's `normalize.less` sets `[hidden] { display: none; }` but bootstrap.min.css set `[hidden] { display: none !important; }` so we also need the `!important` here to be able to override the default hidden behavior on the sphinx rendered scikit-learn.org. See: https://github.com/scikit-learn/scikit-learn/issues/21755 */display: inline-block !important;position: relative;}#sk-container-id-1 div.sk-text-repr-fallback {display: none;}</style><div id=\"sk-container-id-1\" class=\"sk-top-container\"><div class=\"sk-text-repr-fallback\"><pre>HDBSCAN(cluster_selection_epsilon=0.05, min_cluster_size=10, min_samples=3)</pre><b>In a Jupyter environment, please rerun this cell to show the HTML representation or trust the notebook. <br />On GitHub, the HTML representation is unable to render, please try loading this page with nbviewer.org.</b></div><div class=\"sk-container\" hidden><div class=\"sk-item\"><div class=\"sk-estimator sk-toggleable\"><input class=\"sk-toggleable__control sk-hidden--visually\" id=\"sk-estimator-id-1\" type=\"checkbox\" checked><label for=\"sk-estimator-id-1\" class=\"sk-toggleable__label sk-toggleable__label-arrow\">HDBSCAN</label><div class=\"sk-toggleable__content\"><pre>HDBSCAN(cluster_selection_epsilon=0.05, min_cluster_size=10, min_samples=3)</pre></div></div></div></div></div>"
      ],
      "text/plain": [
       "HDBSCAN(cluster_selection_epsilon=0.05, min_cluster_size=10, min_samples=3)"
      ]
     },
     "execution_count": 11,
     "metadata": {},
     "output_type": "execute_result"
    }
   ],
   "source": [
    "X_cluster = df_umap[[col for col in df_umap.columns if \"umap\" in col]]\n",
    "\n",
    "clustering = HDBSCAN(\n",
    "    min_cluster_size=10, \n",
    "    min_samples=3, \n",
    "    max_cluster_size=None, \n",
    "    cluster_selection_epsilon=0.05\n",
    ")\n",
    "clustering.fit(X_cluster)"
   ]
  },
  {
   "cell_type": "code",
   "execution_count": 12,
   "metadata": {},
   "outputs": [
    {
     "data": {
      "application/vnd.plotly.v1+json": {
       "config": {
        "plotlyServerURL": "https://plot.ly"
       },
       "data": [
        {
         "customdata": [
          [
           "A deep learning experiment for semantic segmentation of overlapping characters in palimpsests",
           "http://arxiv.org/abs/2311.01130v1"
          ],
          [
           "Space Narrative: Generating Images and 3D Scenes of Chinese Garden from Text using Deep Learning",
           "http://arxiv.org/abs/2311.00339v1"
          ],
          [
           "Deep Learning-Enabled Text Semantic Communication under Interference: An Empirical Study",
           "http://arxiv.org/abs/2310.19974v1"
          ],
          [
           "AdapINT: A Flexible and Adaptive In-Band Network Telemetry System Based on Deep Reinforcement Learning",
           "http://arxiv.org/abs/2310.19331v1"
          ],
          [
           "Deep3DSketch+: Obtaining Customized 3D Model by Single Free-Hand Sketch through Deep Learning",
           "http://arxiv.org/abs/2310.18609v1"
          ],
          [
           "DESiRED -- Dynamic, Enhanced, and Smart iRED: A P4-AQM with Deep Reinforcement Learning and In-band Network Telemetry",
           "http://arxiv.org/abs/2310.18159v1"
          ],
          [
           "Adaptive Resource Management for Edge Network Slicing using Incremental Multi-Agent Deep Reinforcement Learning",
           "http://arxiv.org/abs/2310.17523v2"
          ],
          [
           "Orchestration of Emulator Assisted Mobile Edge Tuning for AI Foundation Models: A Multi-Agent Deep Reinforcement Learning Approach",
           "http://arxiv.org/abs/2310.17492v1"
          ],
          [
           "Regularized Shannon sampling formulas related to the special affine Fourier transform",
           "http://arxiv.org/abs/2311.00610v1"
          ],
          [
           "Fourier transforms and iterated function systems",
           "http://arxiv.org/abs/2311.00585v1"
          ],
          [
           "A simple range characterization for spherical mean transform in odd dimensions and its applications",
           "http://arxiv.org/abs/2310.20702v1"
          ],
          [
           "Transformation vs Tradition: Artificial General Intelligence (AGI) for Arts and Humanities",
           "http://arxiv.org/abs/2310.19626v1"
          ],
          [
           "On the Hankel Transform of Bessel Functions on Complex Numbers and Explicit Spectral Formulae over the Gaussian Field",
           "http://arxiv.org/abs/2310.19480v1"
          ],
          [
           "Semigroups of transformations whose characters belong to a given semigroup",
           "http://arxiv.org/abs/2310.19414v1"
          ],
          [
           "The Roelcke Precompactness and Compactifications of Transformations Groups of Discrete Spaces and Homogeneous Chains",
           "http://arxiv.org/abs/2310.18570v1"
          ],
          [
           "New Fast Transform for Orthogonal Frequency Division Multiplexing",
           "http://arxiv.org/abs/2310.18064v1"
          ],
          [
           "Harmonic Berezin transform on half-space with vertical weights",
           "http://arxiv.org/abs/2310.17562v2"
          ],
          [
           "The limiting distribution of a random variable transformed by Chebyshev Polynomials",
           "http://arxiv.org/abs/2310.17039v1"
          ],
          [
           "Dolfin: Diffusion Layout Transformers without Autoencoder",
           "http://arxiv.org/abs/2310.16305v1"
          ],
          [
           "Mobile Traffic Prediction at the Edge through Distributed and Transfer Learning",
           "http://arxiv.org/abs/2310.14456v1"
          ],
          [
           "From Neural Activations to Concepts: A Survey on Explaining Concepts in Neural Networks",
           "http://arxiv.org/abs/2310.11884v1"
          ],
          [
           "Recursive Segmentation Living Image: An eXplainable AI (XAI) Approach for Computing Structural Beauty of Images or the Livingness of Space",
           "http://arxiv.org/abs/2310.10149v1"
          ],
          [
           "Causal Reasoning: Charting a Revolutionary Course for Next-Generation AI-Native Wireless Networks",
           "http://arxiv.org/abs/2309.13223v1"
          ],
          [
           "Augmenting deep neural networks with symbolic knowledge: Towards trustworthy and interpretable AI for education",
           "http://arxiv.org/abs/2311.00393v1"
          ],
          [
           "Integrating Symbolic Reasoning into Neural Generative Models for Design Generation",
           "http://arxiv.org/abs/2310.09383v1"
          ],
          [
           "Deep Aramaic: Towards a Synthetic Data Paradigm Enabling Machine Learning in Epigraphy",
           "http://arxiv.org/abs/2310.07310v1"
          ]
         ],
         "hovertemplate": "cluster=-1<br>noise=1<br>umap_0=%{x}<br>umap_1=%{y}<br>title=%{customdata[0]}<br>ID=%{customdata[1]}<extra></extra>",
         "legendgroup": "-1, 1",
         "marker": {
          "color": "#636efa",
          "symbol": "diamond"
         },
         "mode": "markers",
         "name": "-1, 1",
         "orientation": "v",
         "showlegend": true,
         "type": "scatter",
         "x": [
          0.8763715028762817,
          0.8749061822891235,
          0.18702059984207153,
          0.1741267293691635,
          0.8202253580093384,
          0.17544019222259521,
          0.17282068729400635,
          0.16946206986904144,
          0.06616169214248657,
          0.06526736170053482,
          0.06265374273061752,
          0.8720390796661377,
          0.060759659856557846,
          0.057243816554546356,
          0.054194290190935135,
          0.0725119486451149,
          0.05653531104326248,
          0.07343599200248718,
          0.8166612982749939,
          0.17329508066177368,
          0.5172193050384521,
          0.8658266067504883,
          0.18134838342666626,
          0.5311827659606934,
          0.8227168917655945,
          0.8766065239906311
         ],
         "xaxis": "x",
         "y": [
          0.6729623079299927,
          0.6718158721923828,
          0.8530446290969849,
          0.8634043335914612,
          0.6649605631828308,
          0.8655460476875305,
          0.8650068640708923,
          0.8641712069511414,
          0.434666246175766,
          0.4340203106403351,
          0.43648457527160645,
          0.6712396740913391,
          0.43423375487327576,
          0.4311733543872833,
          0.42924442887306213,
          0.43752631545066833,
          0.43438565731048584,
          0.44537153840065,
          0.6749838590621948,
          0.8661035895347595,
          0.6687880754470825,
          0.6680880188941956,
          0.8570675253868103,
          0.6679204106330872,
          0.6708515882492065,
          0.6724486947059631
         ],
         "yaxis": "y"
        },
        {
         "customdata": [
          [
           "Exploring Deep Learning Techniques for Glaucoma Detection: A Comprehensive Review",
           "http://arxiv.org/abs/2311.01425v1"
          ],
          [
           "A Robust Deep Learning Method with Uncertainty Estimation for the Pathological Classification of Renal Cell Carcinoma based on CT Images",
           "http://arxiv.org/abs/2311.00567v1"
          ],
          [
           "Feature-oriented Deep Learning Framework for Pulmonary Cone-beam CT (CBCT) Enhancement with Multi-task Customized Perceptual Loss",
           "http://arxiv.org/abs/2311.00412v1"
          ],
          [
           "View Classification and Object Detection in Cardiac Ultrasound to Localize Valves via Deep Learning",
           "http://arxiv.org/abs/2311.00068v1"
          ],
          [
           "Assessing and Enhancing Robustness of Deep Learning Models with Corruption Emulation in Digital Pathology",
           "http://arxiv.org/abs/2310.20427v1"
          ],
          [
           "Low-Dose CT Image Enhancement Using Deep Learning",
           "http://arxiv.org/abs/2310.20265v1"
          ],
          [
           "LinFlo-Net: A two-stage deep learning method to generate simulation ready meshes of the heart",
           "http://arxiv.org/abs/2310.20065v1"
          ],
          [
           "Predicting recovery following stroke: deep learning, multimodal data and feature selection using explainable AI",
           "http://arxiv.org/abs/2310.19174v1"
          ],
          [
           "DySurv: Dynamic Deep Learning Model for Survival Prediction in the ICU",
           "http://arxiv.org/abs/2310.18681v1"
          ],
          [
           "Alzheimers Disease Diagnosis by Deep Learning Using MRI-Based Approaches",
           "http://arxiv.org/abs/2310.17755v1"
          ],
          [
           "A Deep Learning Approach to Teeth Segmentation and Orientation from Panoramic X-rays",
           "http://arxiv.org/abs/2310.17176v1"
          ],
          [
           "Technical Note: Feasibility of translating 3.0T-trained Deep-Learning Segmentation Models Out-of-the-Box on Low-Field MRI 0.55T Knee-MRI of Healthy Controls",
           "http://arxiv.org/abs/2310.17152v1"
          ],
          [
           "Trust, but Verify: Robust Image Segmentation using Deep Learning",
           "http://arxiv.org/abs/2310.16999v2"
          ],
          [
           "Improving Performance in Colorectal Cancer Histology Decomposition using Deep and Ensemble Machine Learning",
           "http://arxiv.org/abs/2310.16954v1"
          ],
          [
           "Deep Learning Techniques for Cervical Cancer Diagnosis based on Pathology and Colposcopy Images",
           "http://arxiv.org/abs/2310.16662v1"
          ],
          [
           "Blip-Up Blip-Down Circular EPI (BUDA-cEPI) for Distortion-Free dMRI with Rapid Unrolled Deep Learning Reconstruction",
           "http://arxiv.org/abs/2310.15939v1"
          ],
          [
           "Deep Learning Models for Classification of COVID-19 Cases by Medical Images",
           "http://arxiv.org/abs/2310.16851v1"
          ],
          [
           "DeepVox and SAVE-CT: a contrast- and dose-independent 3D deep learning approach for thoracic aorta segmentation and aneurysm prediction using computed tomography scans",
           "http://arxiv.org/abs/2310.15328v1"
          ],
          [
           "Hybrid-Fusion Transformer for Multisequence MRI",
           "http://arxiv.org/abs/2311.01308v1"
          ],
          [
           "Learning A Multi-Task Transformer Via Unified And Customized Instruction Tuning For Chest Radiograph Interpretation",
           "http://arxiv.org/abs/2311.01092v1"
          ],
          [
           "What a Whole Slide Image Can Tell? Subtype-guided Masked Transformer for Pathological Image Captioning",
           "http://arxiv.org/abs/2310.20607v1"
          ],
          [
           "Muscle volume quantification: guiding transformers with anatomical priors",
           "http://arxiv.org/abs/2310.20355v1"
          ],
          [
           "MIST: Medical Image Segmentation Transformer with Convolutional Attention Mixing (CAM) Decoder",
           "http://arxiv.org/abs/2310.19898v1"
          ],
          [
           "Generating Medical Instructions with Conditional Transformer",
           "http://arxiv.org/abs/2310.19727v1"
          ],
          [
           "HCT: Hybrid Convnet-Transformer for Parkinson's disease detection and severity prediction from gait",
           "http://arxiv.org/abs/2310.17078v1"
          ],
          [
           "One-dimensional convolutional neural network model for breast cancer subtypes classification and biochemical content evaluation using micro-FTIR hyperspectral images",
           "http://arxiv.org/abs/2310.15094v1"
          ],
          [
           "Pathologist-Like Explanations Unveiled: an Explainable Deep Learning System for White Blood Cell Classification",
           "http://arxiv.org/abs/2310.13279v1"
          ],
          [
           "Interpretable Predictive Models to Understand Risk Factors for Maternal and Fetal Outcomes",
           "http://arxiv.org/abs/2310.10203v1"
          ],
          [
           "VisionFM: a Multi-Modal Multi-Task Vision Foundation Model for Generalist Ophthalmic Artificial Intelligence",
           "http://arxiv.org/abs/2310.04992v1"
          ],
          [
           "Propagation and Attribution of Uncertainty in Medical Imaging Pipelines",
           "http://arxiv.org/abs/2309.16831v1"
          ],
          [
           "Gastro-Intestinal Tract Segmentation Using an Explainable 3D Unet",
           "http://arxiv.org/abs/2309.14474v1"
          ],
          [
           "Understanding Calibration of Deep Neural Networks for Medical Image Classification",
           "http://arxiv.org/abs/2309.13132v1"
          ],
          [
           "Signature Activation: A Sparse Signal View for Holistic Saliency",
           "http://arxiv.org/abs/2309.11443v1"
          ],
          [
           "QXAI: Explainable AI Framework for Quantitative Analysis in Patient Monitoring Systems",
           "http://arxiv.org/abs/2309.10293v2"
          ],
          [
           "Graph AI in Medicine",
           "http://arxiv.org/abs/2310.13767v1"
          ],
          [
           "An Interpretable Deep-Learning Framework for Predicting Hospital Readmissions From Electronic Health Records",
           "http://arxiv.org/abs/2310.10187v1"
          ]
         ],
         "hovertemplate": "cluster=0<br>noise=0<br>umap_0=%{x}<br>umap_1=%{y}<br>title=%{customdata[0]}<br>ID=%{customdata[1]}<extra></extra>",
         "legendgroup": "0, 0",
         "marker": {
          "color": "#EF553B",
          "symbol": "circle"
         },
         "mode": "markers",
         "name": "0, 0",
         "orientation": "v",
         "showlegend": true,
         "type": "scatter",
         "x": [
          0.8244240880012512,
          0.9626430869102478,
          0.9959635138511658,
          0.9553777575492859,
          0.9337101578712463,
          0.9963601231575012,
          0.9624704718589783,
          0.8415281176567078,
          0.923248291015625,
          0.8410753607749939,
          0.9620420932769775,
          0.9629127383232117,
          0.9057363271713257,
          0.939491868019104,
          0.9190067052841187,
          0.9598943591117859,
          0.9454224109649658,
          1,
          0.9404758810997009,
          0.971168577671051,
          0.9356886148452759,
          0.9557541012763977,
          0.9581717848777771,
          0.9233085513114929,
          0.8431318402290344,
          0.9550240635871887,
          0.94370037317276,
          0.9104896783828735,
          0.8113544583320618,
          0.9664956331253052,
          0.9945987462997437,
          0.9509188532829285,
          0.9453999400138855,
          0.9183832406997681,
          0.9203830361366272,
          0.9208490252494812
         ],
         "xaxis": "x",
         "y": [
          0.2795533537864685,
          0.2640097141265869,
          0.21150127053260803,
          0.22130489349365234,
          0.2823742926120758,
          0.2107631415128708,
          0.21783608198165894,
          0.24032893776893616,
          0.16322879493236542,
          0.23867814242839813,
          0.23557867109775543,
          0.23397722840309143,
          0.25967592000961304,
          0.2901199162006378,
          0.2949937880039215,
          0.22400836646556854,
          0.22340823709964752,
          0.20741140842437744,
          0.26812806725502014,
          0.21555761992931366,
          0.2822706699371338,
          0.25559988617897034,
          0.24668413400650024,
          0.15971054136753082,
          0.23861531913280487,
          0.2816140949726105,
          0.2948102355003357,
          0.17677080631256104,
          0.27239060401916504,
          0.22761043906211853,
          0.2075686752796173,
          0.2200762778520584,
          0.22103442251682281,
          0.16141633689403534,
          0.15963900089263916,
          0.15687288343906403
         ],
         "yaxis": "y"
        },
        {
         "customdata": [
          [
           "Deep Transformed Gaussian Processes",
           "http://arxiv.org/abs/2310.18230v2"
          ],
          [
           "Negativity-preserving transforms of tuples of symmetric matrices",
           "http://arxiv.org/abs/2310.18041v1"
          ],
          [
           "Stochastic Latent Transformer: Efficient Modelling of Stochastically Forced Zonal Jets",
           "http://arxiv.org/abs/2310.16741v1"
          ],
          [
           "A Unified Framework to Enforce, Discover, and Promote Symmetry in Machine Learning",
           "http://arxiv.org/abs/2311.00212v1"
          ],
          [
           "Stochastic Gradient Descent for Gaussian Processes Done Right",
           "http://arxiv.org/abs/2310.20581v1"
          ],
          [
           "Thin and Deep Gaussian Processes",
           "http://arxiv.org/abs/2310.11527v1"
          ],
          [
           "Explaining Deep Neural Networks for Bearing Fault Detection with Vibration Concepts",
           "http://arxiv.org/abs/2310.11450v1"
          ],
          [
           "Symmetry Leads to Structured Constraint of Learning",
           "http://arxiv.org/abs/2309.16932v1"
          ],
          [
           "Deep Learning in Deterministic Computational Mechanics",
           "http://arxiv.org/abs/2309.15421v1"
          ],
          [
           "Deep learning in bifurcations of particle trajectories",
           "http://arxiv.org/abs/2309.16727v1"
          ],
          [
           "Improving Robustness via Tilted Exponential Layer: A Communication-Theoretic Perspective",
           "http://arxiv.org/abs/2311.01047v1"
          ],
          [
           "Multi-level Gated Bayesian Recurrent Neural Network for State Estimation",
           "http://arxiv.org/abs/2310.17187v1"
          ],
          [
           "Optimal Transport-based Nonlinear Filtering in High-dimensional Settings",
           "http://arxiv.org/abs/2310.13886v1"
          ],
          [
           "Prediction and control of spatiotemporal chaos by learning conjugate tubular neighborhoods",
           "http://arxiv.org/abs/2310.12178v1"
          ],
          [
           "Reinforcement Learning for Reduced-order Models of Legged Robots",
           "http://arxiv.org/abs/2310.09873v1"
          ],
          [
           "A Mass-Conserving-Perceptron for Machine Learning-Based Modeling of Geoscientific Systems",
           "http://arxiv.org/abs/2310.08644v2"
          ],
          [
           "A Bayesian framework for discovering interpretable Lagrangian of dynamical systems from data",
           "http://arxiv.org/abs/2310.06241v1"
          ],
          [
           "Fully Spiking Neural Network for Legged Robots",
           "http://arxiv.org/abs/2310.05022v1"
          ]
         ],
         "hovertemplate": "cluster=1<br>noise=0<br>umap_0=%{x}<br>umap_1=%{y}<br>title=%{customdata[0]}<br>ID=%{customdata[1]}<extra></extra>",
         "legendgroup": "1, 0",
         "marker": {
          "color": "#00cc96",
          "symbol": "circle"
         },
         "mode": "markers",
         "name": "1, 0",
         "orientation": "v",
         "showlegend": true,
         "type": "scatter",
         "x": [
          0.2636098861694336,
          0.19147829711437225,
          0.2830670177936554,
          0.1992546170949936,
          0.26007789373397827,
          0.2632317841053009,
          0.36945241689682007,
          0.20169760286808014,
          0.30577999353408813,
          0.2814439535140991,
          0.29232901334762573,
          0.28827711939811707,
          0.28565335273742676,
          0.2840292453765869,
          0.3493039011955261,
          0.28857171535491943,
          0.28469711542129517,
          0.357185035943985
         ],
         "xaxis": "x",
         "y": [
          0.4915606379508972,
          0.49868276715278625,
          0.400348037481308,
          0.5005428791046143,
          0.4938100278377533,
          0.4974415600299835,
          0.39306724071502686,
          0.5065200924873352,
          0.3800922930240631,
          0.37396079301834106,
          0.46290093660354614,
          0.4320177137851715,
          0.4178275167942047,
          0.3823445737361908,
          0.38953864574432373,
          0.3425242602825165,
          0.3578683137893677,
          0.39022040367126465
         ],
         "yaxis": "y"
        },
        {
         "customdata": [
          [
           "Deep Learning-Based Classification of Gamma Photon Interactions in Room-Temperature Semiconductor Radiation Detectors",
           "http://arxiv.org/abs/2311.00682v1"
          ],
          [
           "Inverse folding for antibody sequence design using deep learning",
           "http://arxiv.org/abs/2310.19513v1"
          ],
          [
           "Measuring arrangement and size distributions of flowing droplets in microchannels through deep learning",
           "http://arxiv.org/abs/2310.19374v1"
          ],
          [
           "Topological, or Non-topological? A Deep Learning Based Prediction",
           "http://arxiv.org/abs/2310.18907v1"
          ],
          [
           "Electrical Impedance Tomography: A Fair Comparative Study on Deep Learning and Analytic-based Approaches",
           "http://arxiv.org/abs/2310.18636v1"
          ],
          [
           "Deep Learning Enables Large Depth-of-Field Images for Sub-Diffraction-Limit Scanning Superlens Microscopy",
           "http://arxiv.org/abs/2310.17997v1"
          ],
          [
           "Spatio-temporal reconstruction of drop impact dynamics by means of color-coded glare points and deep learning",
           "http://arxiv.org/abs/2310.16009v1"
          ],
          [
           "Deep learning denoiser assisted roughness measurements extraction from thin resists with low Signal-to-Noise Ratio(SNR) SEM images: analysis with SMILE",
           "http://arxiv.org/abs/2310.14815v1"
          ],
          [
           "Transformable Super-Isostatic Crystals Self-Assembled from Segment Colloidal Rods",
           "http://arxiv.org/abs/2311.01160v1"
          ],
          [
           "Soliton equations: admitted solutions and invariances via Bäcklund transformations",
           "http://arxiv.org/abs/2310.20459v1"
          ],
          [
           "Free fermions with no Jordan-Wigner transformation",
           "http://arxiv.org/abs/2310.19897v1"
          ],
          [
           "Integration of persistent Laplacian and pre-trained transformer for protein solubility changes upon mutation",
           "http://arxiv.org/abs/2310.18760v1"
          ],
          [
           "Functional Group Induced Transformations in Stacking and Electron Structure in Mo2CTx/NiS Heterostructures",
           "http://arxiv.org/abs/2310.18579v1"
          ],
          [
           "Extra Time Dimension: Deriving Five-Dimensional Relativistic Space-Time Transformations, Kinematics, and Time-Dependent Non-Relativistic Quantum Mechanics Compactification",
           "http://arxiv.org/abs/2310.18120v1"
          ],
          [
           "Broadband CPW-based impedance-transformed Josephson parametric amplifier",
           "http://arxiv.org/abs/2310.17084v1"
          ],
          [
           "The Brans-Dicke field in Non-metricity gravity: Cosmological solutions and Conformal transformations",
           "http://arxiv.org/abs/2310.16357v1"
          ],
          [
           "The effects of cavitation position on the velocity of a laser-induced microjet extracted using explainable artificial intelligence",
           "http://arxiv.org/abs/2310.14734v1"
          ],
          [
           "Optimising the exchange of Majorana zero modes in a quantum nanowire network",
           "http://arxiv.org/abs/2310.13634v1"
          ],
          [
           "Neural Stochastic Differential Equations for Robust and Explainable Analysis of Electromagnetic Unintended Radiated Emissions",
           "http://arxiv.org/abs/2309.15386v1"
          ],
          [
           "Rational design of oxide catalysts for OER with OC22",
           "http://arxiv.org/abs/2311.00784v1"
          ],
          [
           "Generative retrieval-augmented ontologic graph and multi-agent strategies for interpretive large language model-based materials design",
           "http://arxiv.org/abs/2310.19998v1"
          ],
          [
           "Structure discovery in Atomic Force Microscopy imaging of ice",
           "http://arxiv.org/abs/2310.17161v1"
          ],
          [
           "Machine-learning the phase diagram of a strongly-interacting Fermi gas",
           "http://arxiv.org/abs/2310.16006v1"
          ],
          [
           "ReLM: Leveraging Language Models for Enhanced Chemical Reaction Prediction",
           "http://arxiv.org/abs/2310.13590v1"
          ],
          [
           "On sparse regression, Lp-regularization, and automated model discovery",
           "http://arxiv.org/abs/2310.06872v1"
          ],
          [
           "PointGAT: A quantum chemical property prediction model integrating graph attention and 3D geometry",
           "http://arxiv.org/abs/2310.05217v1"
          ]
         ],
         "hovertemplate": "cluster=2<br>noise=0<br>umap_0=%{x}<br>umap_1=%{y}<br>title=%{customdata[0]}<br>ID=%{customdata[1]}<extra></extra>",
         "legendgroup": "2, 0",
         "marker": {
          "color": "#ab63fa",
          "symbol": "circle"
         },
         "mode": "markers",
         "name": "2, 0",
         "orientation": "v",
         "showlegend": true,
         "type": "scatter",
         "x": [
          0.3249386250972748,
          0.13474075496196747,
          0.18061110377311707,
          0.11324027925729752,
          0.24291932582855225,
          0.23709671199321747,
          0.19845974445343018,
          0.24074894189834595,
          0.13087929785251617,
          0.08321724086999893,
          0.0786767229437828,
          0.1641162782907486,
          0.1245122104883194,
          0.07835651189088821,
          0.07475370913743973,
          0.07885710895061493,
          0.19575892388820648,
          0.08349636942148209,
          0.3135147988796234,
          0.12031320482492447,
          0.2055622786283493,
          0.1256798952817917,
          0.09425041824579239,
          0.19152873754501343,
          0.2114558219909668,
          0.12782901525497437
         ],
         "xaxis": "x",
         "y": [
          0.21109971404075623,
          0.2603045403957367,
          0.2465013712644577,
          0.2563290596008301,
          0.2619020640850067,
          0.25252994894981384,
          0.2527845501899719,
          0.25189220905303955,
          0.22276349365711212,
          0.33142024278640747,
          0.290393203496933,
          0.2614820897579193,
          0.2262154370546341,
          0.29117855429649353,
          0.28665971755981445,
          0.29203686118125916,
          0.2531798779964447,
          0.2772201597690582,
          0.25689995288848877,
          0.2319066822528839,
          0.3161501884460449,
          0.22456173598766327,
          0.27152588963508606,
          0.30390557646751404,
          0.3175446391105652,
          0.259513258934021
         ],
         "yaxis": "y"
        },
        {
         "customdata": [
          [
           "The stability of deep learning for 21cm foreground removal across various sky models and frequency-dependent systematics",
           "http://arxiv.org/abs/2311.00493v1"
          ],
          [
           "Deep Compressed Learning for 3D Seismic Inversion",
           "http://arxiv.org/abs/2311.00107v1"
          ],
          [
           "Deep Learning for Spatiotemporal Big Data: A Vision on Opportunities and Challenges",
           "http://arxiv.org/abs/2310.19957v1"
          ],
          [
           "Deep-learning-based decomposition of overlapping-sparse images: application at the vertex of neutrino interactions",
           "http://arxiv.org/abs/2310.19695v1"
          ],
          [
           "Density Estimation for Entry Guidance Problems using Deep Learning",
           "http://arxiv.org/abs/2310.19684v1"
          ],
          [
           "There Are No Data Like More Data- Datasets for Deep Learning in Earth Observation",
           "http://arxiv.org/abs/2310.19231v1"
          ],
          [
           "The Power of Explainability in Forecast-Informed Deep Learning Models for Flood Mitigation",
           "http://arxiv.org/abs/2310.19166v1"
          ],
          [
           "Multi-task deep learning for large-scale building detail extraction from high-resolution satellite imagery",
           "http://arxiv.org/abs/2310.18899v1"
          ],
          [
           "Deep Learning on SAR Imagery: Transfer Learning Versus Randomly Initialized Weights",
           "http://arxiv.org/abs/2310.17126v1"
          ],
          [
           "Deep machine learning for meteor monitoring: advances with transfer learning and gradient-weighted class activation mapping",
           "http://arxiv.org/abs/2310.16826v2"
          ],
          [
           "Deep Learning Approach to Photometric Redshift Estimation",
           "http://arxiv.org/abs/2310.16304v1"
          ],
          [
           "Sea-Land-Cloud Segmentation in Satellite Hyperspectral Imagery by Deep Learning",
           "http://arxiv.org/abs/2310.16210v1"
          ],
          [
           "Physically Explainable Deep Learning for Convective Initiation Nowcasting Using GOES-16 Satellite Observations",
           "http://arxiv.org/abs/2310.16015v1"
          ],
          [
           "Super-resolved rainfall prediction with physics-aware deep learning",
           "http://arxiv.org/abs/2310.15615v1"
          ],
          [
           "Detecting Intentional AIS Shutdown in Open Sea Maritime Surveillance Using Self-Supervised Deep Learning",
           "http://arxiv.org/abs/2310.15586v1"
          ],
          [
           "Resource-aware Research on Universe and Matter: Call-to-Action in Digital Transformation",
           "http://arxiv.org/abs/2311.01169v1"
          ],
          [
           "Compact Binary Systems Waveform Generation with Generative Pre-trained Transformer",
           "http://arxiv.org/abs/2310.20172v1"
          ],
          [
           "Transformer-based nowcasting of radar composites from satellite images for severe weather",
           "http://arxiv.org/abs/2310.19515v1"
          ],
          [
           "FaultSeg Swin-UNETR: Transformer-Based Self-Supervised Pretraining Model for Fault Recognition",
           "http://arxiv.org/abs/2310.17974v1"
          ],
          [
           "Simulation-based Inference of Reionization Parameters from 3D Tomographic 21 cm Light-cone Images -- II: Application of Solid Harmonic Wavelet Scattering Transform",
           "http://arxiv.org/abs/2310.17602v1"
          ],
          [
           "Wave transformations near a coronal magnetic null-point",
           "http://arxiv.org/abs/2310.17573v1"
          ],
          [
           "Dark Energy Survey Year 3 results: simulation-based cosmological inference with wavelet harmonics, scattering transforms, and moments of weak lensing mass maps I: validation on simulations",
           "http://arxiv.org/abs/2310.17557v1"
          ],
          [
           "Transformer-based Atmospheric Density Forecasting",
           "http://arxiv.org/abs/2310.16912v1"
          ],
          [
           "Trainable Noise Model as an XAI evaluation method: application on Sobol for remote sensing image segmentation",
           "http://arxiv.org/abs/2310.01828v1"
          ],
          [
           "Granularity at Scale: Estimating Neighborhood Well-Being from High-Resolution Orthographic Imagery and Hybrid Learning",
           "http://arxiv.org/abs/2309.16808v1"
          ],
          [
           "Prediction of Tropical Pacific Rain Rates with Over-parameterized Neural Networks",
           "http://arxiv.org/abs/2309.14358v1"
          ],
          [
           "Learning-Initialized Trajectory Planning in Unknown Environments",
           "http://arxiv.org/abs/2309.10683v1"
          ],
          [
           "Active Sensing for Localization with Reconfigurable Intelligent Surface",
           "http://arxiv.org/abs/2310.13160v1"
          ],
          [
           "Unlocking the capabilities of explainable fewshot learning in remote sensing",
           "http://arxiv.org/abs/2310.08619v1"
          ],
          [
           "Characterizing climate pathways using feature importance on echo state networks",
           "http://arxiv.org/abs/2310.08495v1"
          ],
          [
           "Geographic Location Encoding with Spherical Harmonics and Sinusoidal Representation Networks",
           "http://arxiv.org/abs/2310.06743v1"
          ]
         ],
         "hovertemplate": "cluster=3<br>noise=0<br>umap_0=%{x}<br>umap_1=%{y}<br>title=%{customdata[0]}<br>ID=%{customdata[1]}<extra></extra>",
         "legendgroup": "3, 0",
         "marker": {
          "color": "#FFA15A",
          "symbol": "circle"
         },
         "mode": "markers",
         "name": "3, 0",
         "orientation": "v",
         "showlegend": true,
         "type": "scatter",
         "x": [
          0.333230197429657,
          0.3641851246356964,
          0.40422895550727844,
          0.3244251608848572,
          0.2794746160507202,
          0.3769134283065796,
          0.3029021620750427,
          0.4078494906425476,
          0.33458927273750305,
          0.34833893179893494,
          0.3329499363899231,
          0.33624976873397827,
          0.29993942379951477,
          0.30709338188171387,
          0.34081363677978516,
          0.34798118472099304,
          0.32576000690460205,
          0.29722878336906433,
          0.36730778217315674,
          0.3234296143054962,
          0.30462926626205444,
          0.3215090334415436,
          0.2901649475097656,
          0.4314015805721283,
          0.4111156165599823,
          0.29311472177505493,
          0.2716507315635681,
          0.27368128299713135,
          0.40901461243629456,
          0.28837457299232483,
          0.39916038513183594
         ],
         "xaxis": "x",
         "y": [
          0.09298454970121384,
          0.09533650428056717,
          0.07446228712797165,
          0.13597972691059113,
          0.05870518088340759,
          0.090815469622612,
          0.010121802799403667,
          0.07239709794521332,
          0.03974318131804466,
          0.08817891031503677,
          0.09972140192985535,
          0.048118721693754196,
          0.00957427266985178,
          0.0032970826141536236,
          0.044163431972265244,
          0.0829901397228241,
          0.10825303941965103,
          0.012458400800824165,
          0.09397722780704498,
          0.10775502026081085,
          0.06933462619781494,
          0.10933742672204971,
          0.04697319120168686,
          0.08016585558652878,
          0.0713760107755661,
          0.0019842132460325956,
          0.06629232317209244,
          0.06275332719087601,
          0.06860039383172989,
          0,
          0.08034263551235199
         ],
         "yaxis": "y"
        },
        {
         "customdata": [
          [
           "Deep Neural Networks for Automatic Speaker Recognition Do Not Learn Supra-Segmental Temporal Features",
           "http://arxiv.org/abs/2311.00489v2"
          ],
          [
           "A multi-artifact EEG denoising by frequency-based deep learning",
           "http://arxiv.org/abs/2310.17335v1"
          ],
          [
           "Real-time Neonatal Chest Sound Separation using Deep Learning",
           "http://arxiv.org/abs/2310.17116v1"
          ],
          [
           "An Explainable Deep Learning-Based Method For Schizophrenia Diagnosis Using Generative Data-Augmentation",
           "http://arxiv.org/abs/2310.16867v1"
          ],
          [
           "Learning Robust Deep Visual Representations from EEG Brain Recordings",
           "http://arxiv.org/abs/2310.16532v1"
          ],
          [
           "Video2Music: Suitable Music Generation from Videos using an Affective Multimodal Transformer model",
           "http://arxiv.org/abs/2311.00968v1"
          ],
          [
           "fMRI-PTE: A Large-scale fMRI Pretrained Transformer Encoder for Multi-Subject Brain Activity Decoding",
           "http://arxiv.org/abs/2311.00342v1"
          ],
          [
           "DCHT: Deep Complex Hybrid Transformer for Speech Enhancement",
           "http://arxiv.org/abs/2310.19602v1"
          ],
          [
           "DPATD: Dual-Phase Audio Transformer for Denoising",
           "http://arxiv.org/abs/2310.19588v1"
          ],
          [
           "Gray matter volume correlates of Comorbid Depression in Autism Spectrum Disorder",
           "http://arxiv.org/abs/2311.00997v1"
          ],
          [
           "Do self-supervised speech and language models extract similar representations as human brain?",
           "http://arxiv.org/abs/2310.04645v1"
          ],
          [
           "MindGPT: Interpreting What You See with Non-invasive Brain Recordings",
           "http://arxiv.org/abs/2309.15729v1"
          ],
          [
           "Dynamic Processing Neural Network Architecture For Hearing Loss Compensation",
           "http://arxiv.org/abs/2310.16550v1"
          ],
          [
           "High-Fidelity Noise Reduction with Differentiable Signal Processing",
           "http://arxiv.org/abs/2310.11364v1"
          ],
          [
           "A Digital Language Coherence Marker for Monitoring Dementia",
           "http://arxiv.org/abs/2310.09623v1"
          ],
          [
           "Neural Harmonium: An Interpretable Deep Structure for Nonlinear Dynamic System Identification with Application to Audio Processing",
           "http://arxiv.org/abs/2310.07032v1"
          ]
         ],
         "hovertemplate": "cluster=4<br>noise=0<br>umap_0=%{x}<br>umap_1=%{y}<br>title=%{customdata[0]}<br>ID=%{customdata[1]}<extra></extra>",
         "legendgroup": "4, 0",
         "marker": {
          "color": "#19d3f3",
          "symbol": "circle"
         },
         "mode": "markers",
         "name": "4, 0",
         "orientation": "v",
         "showlegend": true,
         "type": "scatter",
         "x": [
          0.7147573232650757,
          0.6241254210472107,
          0.7472649812698364,
          0.6351553201675415,
          0.6273449063301086,
          0.7106590270996094,
          0.6418591737747192,
          0.7254350781440735,
          0.7256229519844055,
          0.7307659983634949,
          0.7066039443016052,
          0.6737825274467468,
          0.7161825895309448,
          0.720984160900116,
          0.731489360332489,
          0.7107627987861633
         ],
         "xaxis": "x",
         "y": [
          0.3607911467552185,
          0.3353795111179352,
          0.35175955295562744,
          0.32599344849586487,
          0.3294810950756073,
          0.3756324350833893,
          0.32050010561943054,
          0.3655920922756195,
          0.3664608299732208,
          0.2900528907775879,
          0.3259407877922058,
          0.3192783296108246,
          0.37340661883354187,
          0.368102103471756,
          0.29103919863700867,
          0.37644585967063904
         ],
         "yaxis": "y"
        },
        {
         "customdata": [
          [
           "Deep learning based Image Compression for Microscopy Images: An Empirical Study",
           "http://arxiv.org/abs/2311.01352v1"
          ],
          [
           "Exploring Deep Learning Image Super-Resolution for Iris Recognition",
           "http://arxiv.org/abs/2311.01241v1"
          ],
          [
           "Deep Learning for real-time neural decoding of grasp",
           "http://arxiv.org/abs/2311.01061v1"
          ],
          [
           "Occluded Person Re-Identification with Deep Learning: A Survey and Perspectives",
           "http://arxiv.org/abs/2311.00603v1"
          ],
          [
           "A Principled Hierarchical Deep Learning Approach to Joint Image Compression and Classification",
           "http://arxiv.org/abs/2310.19675v1"
          ],
          [
           "Deep Learning for Visual Navigation of Underwater Robots",
           "http://arxiv.org/abs/2310.19495v1"
          ],
          [
           "Modular Anti-noise Deep Learning Network for Robotic Grasp Detection Based on RGB Images",
           "http://arxiv.org/abs/2310.19223v1"
          ],
          [
           "Deep Learning-based Compressed Domain Multimedia for Man and Machine: A Taxonomy and Application to Point Cloud Classification",
           "http://arxiv.org/abs/2310.18849v1"
          ],
          [
           "Deep Intrinsic Decomposition with Adversarial Learning for Hyperspectral Image Classification",
           "http://arxiv.org/abs/2310.18549v1"
          ],
          [
           "torchdistill Meets Hugging Face Libraries for Reproducible, Coding-Free Deep Learning Studies: A Case Study on NLP",
           "http://arxiv.org/abs/2310.17644v1"
          ],
          [
           "An Efficient Deep Learning-based approach for Recognizing Agricultural Pests in the Wild",
           "http://arxiv.org/abs/2310.16991v1"
          ],
          [
           "Single-pixel imaging based on deep learning",
           "http://arxiv.org/abs/2310.16869v1"
          ],
          [
           "Deep Learning for Plant Identification and Disease Classification from Leaf Images: Multi-prediction Approaches",
           "http://arxiv.org/abs/2310.16273v1"
          ],
          [
           "Pix2HDR -- A pixel-wise acquisition and deep learning-based synthesis approach for high-speed HDR videos",
           "http://arxiv.org/abs/2310.16139v1"
          ],
          [
           "LaksNet: an end-to-end deep learning model for self-driving cars in Udacity simulator",
           "http://arxiv.org/abs/2310.16103v1"
          ],
          [
           "Cross-feature Contrastive Loss for Decentralized Deep Learning on Heterogeneous Data",
           "http://arxiv.org/abs/2310.15890v2"
          ],
          [
           "NetDistiller: Empowering Tiny Deep Learning via In-Situ Distillation",
           "http://arxiv.org/abs/2310.19820v1"
          ],
          [
           "Transformation Decoupling Strategy based on Screw Theory for Deterministic Point Cloud Registration with Gravity Prior",
           "http://arxiv.org/abs/2311.01432v1"
          ],
          [
           "Efficient Vision Transformer for Accurate Traffic Sign Detection",
           "http://arxiv.org/abs/2311.01429v1"
          ],
          [
           "Scattering Vision Transformer: Spectral Mixing Matters",
           "http://arxiv.org/abs/2311.01310v1"
          ],
          [
           "Distilling Knowledge from CNN-Transformer Models for Enhanced Human Action Recognition",
           "http://arxiv.org/abs/2311.01283v1"
          ],
          [
           "M2T2: Multi-Task Masked Transformer for Object-centric Pick and Place",
           "http://arxiv.org/abs/2311.00926v1"
          ],
          [
           "PAUMER: Patch Pausing Transformer for Semantic Segmentation",
           "http://arxiv.org/abs/2311.00586v1"
          ],
          [
           "Improving Robustness for Vision Transformer with a Simple Dynamic Scanning Augmentation",
           "http://arxiv.org/abs/2311.00441v1"
          ],
          [
           "A Spatial-Temporal Transformer based Framework For Human Pose Assessment And Correction in Education Scenarios",
           "http://arxiv.org/abs/2311.00401v1"
          ],
          [
           "1DFormer: Learning 1D Landmark Representations via Transformer for Facial Landmark Tracking",
           "http://arxiv.org/abs/2311.00241v1"
          ],
          [
           "A Transformer-Based Model With Self-Distillation for Multimodal Emotion Recognition in Conversations",
           "http://arxiv.org/abs/2310.20494v1"
          ],
          [
           "Causal Interpretation of Self-Attention in Pre-Trained Transformers",
           "http://arxiv.org/abs/2310.20307v1"
          ],
          [
           "UWFormer: Underwater Image Enhancement via a Semi-Supervised Multi-Scale Transformer",
           "http://arxiv.org/abs/2310.20210v1"
          ],
          [
           "Partial Tensorized Transformers for Natural Language Processing",
           "http://arxiv.org/abs/2310.20077v1"
          ],
          [
           "Towards Few-Annotation Learning for Object Detection: Are Transformer-based Models More Efficient ?",
           "http://arxiv.org/abs/2310.19936v1"
          ],
          [
           "Towards Grouping in Large Scenes with Occlusion-aware Spatio-temporal Transformers",
           "http://arxiv.org/abs/2310.19447v1"
          ],
          [
           "Analyzing Vision Transformers for Image Classification in Class Embedding Space",
           "http://arxiv.org/abs/2310.18969v1"
          ],
          [
           "Triplet Attention Transformer for Spatiotemporal Predictive Learning",
           "http://arxiv.org/abs/2310.18698v1"
          ],
          [
           "MultiScale Spectral-Spatial Convolutional Transformer for Hyperspectral Image Classification",
           "http://arxiv.org/abs/2310.18550v1"
          ],
          [
           "Fast Machine Learning Method with Vector Embedding on Orthonormal Basis and Spectral Transform",
           "http://arxiv.org/abs/2310.18424v1"
          ],
          [
           "ZeroQuant-HERO: Hardware-Enhanced Robust Optimized Post-Training Quantization Framework for W8A8 Transformers",
           "http://arxiv.org/abs/2310.17723v1"
          ],
          [
           "LLM-FP4: 4-Bit Floating-Point Quantized Transformers",
           "http://arxiv.org/abs/2310.16836v1"
          ],
          [
           "ConvNets Match Vision Transformers at Scale",
           "http://arxiv.org/abs/2310.16764v1"
          ],
          [
           "Video Referring Expression Comprehension via Transformer with Content-conditioned Query",
           "http://arxiv.org/abs/2310.16402v1"
          ],
          [
           "Frequency-Aware Transformer for Learned Image Compression",
           "http://arxiv.org/abs/2310.16387v1"
          ],
          [
           "MotionAGFormer: Enhancing 3D Human Pose Estimation with a Transformer-GCNFormer Network",
           "http://arxiv.org/abs/2310.16288v1"
          ],
          [
           "TransPose: 6D Object Pose Estimation with Geometry-Aware Transformer",
           "http://arxiv.org/abs/2310.16279v1"
          ],
          [
           "GraFT: Gradual Fusion Transformer for Multimodal Re-Identification",
           "http://arxiv.org/abs/2310.16856v1"
          ],
          [
           "Multimodal Representations for Teacher-Guided Compositional Visual Reasoning",
           "http://arxiv.org/abs/2310.15585v1"
          ],
          [
           "LICO: Explainable Models with Language-Image Consistency",
           "http://arxiv.org/abs/2310.09821v1"
          ],
          [
           "Evaluating Explanation Methods for Vision-and-Language Navigation",
           "http://arxiv.org/abs/2310.06654v1"
          ],
          [
           "Runway Sign Classifier: A DAL C Certifiable Machine Learning System",
           "http://arxiv.org/abs/2310.06506v1"
          ],
          [
           "Inferring Inference",
           "http://arxiv.org/abs/2310.03186v3"
          ],
          [
           "ViT-ReciproCAM: Gradient and Attention-Free Visual Explanations for Vision Transformer",
           "http://arxiv.org/abs/2310.02588v1"
          ],
          [
           "Improving Knowledge Distillation with Teacher's Explanation",
           "http://arxiv.org/abs/2310.02572v1"
          ],
          [
           "Counterfactual Image Generation for adversarially robust and interpretable Classifiers",
           "http://arxiv.org/abs/2310.00761v1"
          ],
          [
           "Black-box Attacks on Image Activity Prediction and its Natural Language Explanations",
           "http://arxiv.org/abs/2310.00503v1"
          ],
          [
           "Dynamic DAG Discovery for Interpretable Imitation Learning",
           "http://arxiv.org/abs/2310.00489v2"
          ],
          [
           "Symbolic Imitation Learning: From Black-Box to Explainable Driving Policies",
           "http://arxiv.org/abs/2309.16025v1"
          ],
          [
           "Spatial-frequency channels, shape bias, and adversarial robustness",
           "http://arxiv.org/abs/2309.13190v1"
          ],
          [
           "When to Trust AI: Advances and Challenges for Certification of Neural Networks",
           "http://arxiv.org/abs/2309.11196v1"
          ],
          [
           "A Cognitively-Inspired Neural Architecture for Visual Abstract Reasoning Using Contrastive Perceptual and Conceptual Processing",
           "http://arxiv.org/abs/2309.10532v3"
          ],
          [
           "Explaining Agent Behavior with Large Language Models",
           "http://arxiv.org/abs/2309.10346v1"
          ],
          [
           "RPCANet: Deep Unfolding RPCA Based Infrared Small Target Detection",
           "http://arxiv.org/abs/2311.00917v1"
          ],
          [
           "SmoothHess: ReLU Network Feature Interactions via Stein's Lemma",
           "http://arxiv.org/abs/2311.00858v1"
          ],
          [
           "Interpretable Neural PDE Solvers using Symbolic Frameworks",
           "http://arxiv.org/abs/2310.20463v1"
          ],
          [
           "A Hybrid Graph Network for Complex Activity Detection in Video",
           "http://arxiv.org/abs/2310.17493v2"
          ],
          [
           "Interpretable time series neural representation for classification purposes",
           "http://arxiv.org/abs/2310.16696v1"
          ],
          [
           "One-hot Generalized Linear Model for Switching Brain State Discovery",
           "http://arxiv.org/abs/2310.15263v1"
          ],
          [
           "ESVAE: An Efficient Spiking Variational Autoencoder with Reparameterizable Poisson Spiking Sampling",
           "http://arxiv.org/abs/2310.14839v1"
          ],
          [
           "Spiking mode-based neural networks",
           "http://arxiv.org/abs/2310.14621v1"
          ],
          [
           "Personalized identification, prediction, and stimulation of neural oscillations via data-driven models of epileptic network dynamics",
           "http://arxiv.org/abs/2310.13480v1"
          ],
          [
           "Salted Inference: Enhancing Privacy while Maintaining Efficiency of Split Inference in Mobile Computing",
           "http://arxiv.org/abs/2310.13384v1"
          ],
          [
           "Using Logic Programming and Kernel-Grouping for Improving Interpretability of Convolutional Neural Networks",
           "http://arxiv.org/abs/2310.13073v1"
          ],
          [
           "Multistable Perception, False Consensus, and Information Complements",
           "http://arxiv.org/abs/2310.11857v1"
          ],
          [
           "Identifying Interpretable Visual Features in Artificial and Biological Neural Systems",
           "http://arxiv.org/abs/2310.11431v2"
          ],
          [
           "Automated Natural Language Explanation of Deep Visual Neurons with Large Models",
           "http://arxiv.org/abs/2310.10708v1"
          ],
          [
           "Loci-Segmented: Improving Scene Segmentation Learning",
           "http://arxiv.org/abs/2310.10410v1"
          ],
          [
           "What Do Deep Saliency Models Learn about Visual Attention?",
           "http://arxiv.org/abs/2310.09679v1"
          ],
          [
           "Neural activity in quarks language: Lattice Field Theory for a network of real neurons",
           "http://arxiv.org/abs/2310.09178v1"
          ],
          [
           "Towards Interpretable Controllability in Object-Centric Learning",
           "http://arxiv.org/abs/2310.08929v2"
          ],
          [
           "Dynamic Appearance Particle Neural Radiance Field",
           "http://arxiv.org/abs/2310.07916v1"
          ],
          [
           "Growing Brains: Co-emergence of Anatomical and Functional Modularity in Recurrent Neural Networks",
           "http://arxiv.org/abs/2310.07711v1"
          ],
          [
           "Energy-Efficient Visual Search by Eye Movement and Low-Latency Spiking Neural Network",
           "http://arxiv.org/abs/2310.06578v1"
          ],
          [
           "Predictive auxiliary objectives in deep RL mimic learning in the brain",
           "http://arxiv.org/abs/2310.06089v1"
          ],
          [
           "Crystal: Introspective Reasoners Reinforced with Self-Feedback",
           "http://arxiv.org/abs/2310.04921v2"
          ]
         ],
         "hovertemplate": "cluster=5<br>noise=0<br>umap_0=%{x}<br>umap_1=%{y}<br>title=%{customdata[0]}<br>ID=%{customdata[1]}<extra></extra>",
         "legendgroup": "5, 0",
         "marker": {
          "color": "#FF6692",
          "symbol": "circle"
         },
         "mode": "markers",
         "name": "5, 0",
         "orientation": "v",
         "showlegend": true,
         "type": "scatter",
         "x": [
          0.611574113368988,
          0.609362006187439,
          0.554574728012085,
          0.7787625789642334,
          0.5878011584281921,
          0.6217645406723022,
          0.7567383646965027,
          0.6310487389564514,
          0.646998941898346,
          0.6903747320175171,
          0.5921274423599243,
          0.6127301454544067,
          0.5834866166114807,
          0.7103900909423828,
          0.7426965832710266,
          0.6322515606880188,
          0.6380994915962219,
          0.760430634021759,
          0.7304397821426392,
          0.7020061612129211,
          0.7099010348320007,
          0.7578541040420532,
          0.6799742579460144,
          0.7073202729225159,
          0.7539991140365601,
          0.7719151973724365,
          0.6778823137283325,
          0.6767951846122742,
          0.6565981507301331,
          0.6615419983863831,
          0.7189527750015259,
          0.7985992431640625,
          0.6710306406021118,
          0.8010420799255371,
          0.6610268354415894,
          0.6432879567146301,
          0.6119259595870972,
          0.6143189668655396,
          0.6603952050209045,
          0.6738191246986389,
          0.6906715631484985,
          0.7531026005744934,
          0.7637558579444885,
          0.7131401300430298,
          0.5555742383003235,
          0.5831194519996643,
          0.5426725745201111,
          0.43533843755722046,
          0.5421927571296692,
          0.6872109174728394,
          0.63040691614151,
          0.47968098521232605,
          0.47561994194984436,
          0.7302147150039673,
          0.7398008108139038,
          0.6012651324272156,
          0.45067694783210754,
          0.552911102771759,
          0.5213389992713928,
          0.5913695693016052,
          0.5299513936042786,
          0.48062863945961,
          0.7989552617073059,
          0.4813317656517029,
          0.5425186157226562,
          0.5873122215270996,
          0.5556439757347107,
          0.5696152448654175,
          0.5802573561668396,
          0.5677958130836487,
          0.5419749617576599,
          0.5629331469535828,
          0.5625618696212769,
          0.7085035443305969,
          0.6048761010169983,
          0.5392382144927979,
          0.7000364661216736,
          0.7200140953063965,
          0.5509172081947327,
          0.5947290062904358,
          0.5373294949531555,
          0.5427352786064148
         ],
         "xaxis": "x",
         "y": [
          0.5708407163619995,
          0.5531060695648193,
          0.4346349835395813,
          0.5893150568008423,
          0.5587015748023987,
          0.45374631881713867,
          0.5270213484764099,
          0.5644734501838684,
          0.4824673533439636,
          0.6019139289855957,
          0.6090852618217468,
          0.5566748380661011,
          0.5985342264175415,
          0.5391861200332642,
          0.6452171206474304,
          0.604071855545044,
          0.5842121839523315,
          0.540109395980835,
          0.6263411045074463,
          0.6102656126022339,
          0.5987223982810974,
          0.5297808051109314,
          0.6414253115653992,
          0.6177617907524109,
          0.5453973412513733,
          0.5827904939651489,
          0.722999632358551,
          0.7215065956115723,
          0.4613193869590759,
          0.6563332676887512,
          0.603733241558075,
          0.6012731194496155,
          0.6328920722007751,
          0.6041205525398254,
          0.48080459237098694,
          0.6828523278236389,
          0.6849483847618103,
          0.6914331316947937,
          0.5949954986572266,
          0.6488314270973206,
          0.4973858892917633,
          0.5380790829658508,
          0.5494920015335083,
          0.6081428527832031,
          0.459855318069458,
          0.4634309411048889,
          0.45433786511421204,
          0.5044988989830017,
          0.36423107981681824,
          0.6244063377380371,
          0.6066789627075195,
          0.4977281391620636,
          0.5009729266166687,
          0.6738271713256836,
          0.6619390845298767,
          0.3849823772907257,
          0.5090975165367126,
          0.46671274304389954,
          0.4723917245864868,
          0.5546786785125732,
          0.36158987879753113,
          0.36604949831962585,
          0.6015059947967529,
          0.3842242956161499,
          0.3564416468143463,
          0.38815760612487793,
          0.3887908458709717,
          0.3397420346736908,
          0.5504240989685059,
          0.47401726245880127,
          0.3656435012817383,
          0.38205647468566895,
          0.45885783433914185,
          0.5788847208023071,
          0.42024657130241394,
          0.35129812359809875,
          0.5962358713150024,
          0.5483307838439941,
          0.38244664669036865,
          0.39433911442756653,
          0.3681987226009369,
          0.486046701669693
         ],
         "yaxis": "y"
        },
        {
         "customdata": [
          [
           "Learning impartial policies for sequential counterfactual explanations using Deep Reinforcement Learning",
           "http://arxiv.org/abs/2311.00523v1"
          ],
          [
           "Sample-Efficient and Safe Deep Reinforcement Learning via Reset Deep Ensemble Agents",
           "http://arxiv.org/abs/2310.20287v1"
          ],
          [
           "Data Market Design through Deep Learning",
           "http://arxiv.org/abs/2310.20096v1"
          ],
          [
           "Automaton Distillation: Neuro-Symbolic Transfer Learning for Deep Reinforcement Learning",
           "http://arxiv.org/abs/2310.19137v1"
          ],
          [
           "A hybrid deep learning method for finite-horizon mean-field game problems",
           "http://arxiv.org/abs/2310.18968v1"
          ],
          [
           "Deep Reinforcement Learning for Weapons to Targets Assignment in a Hypersonic strike",
           "http://arxiv.org/abs/2310.18509v1"
          ],
          [
           "Fair collaborative vehicle routing: A deep multi-agent reinforcement learning approach",
           "http://arxiv.org/abs/2310.17485v1"
          ],
          [
           "Solving large flexible job shop scheduling instances by generating a diverse set of scheduling policies with deep reinforcement learning",
           "http://arxiv.org/abs/2310.15706v1"
          ],
          [
           "Graph Attention-based Deep Reinforcement Learning for solving the Chinese Postman Problem with Load-dependent costs",
           "http://arxiv.org/abs/2310.15516v1"
          ],
          [
           "Diverse Priors for Deep Reinforcement Learning",
           "http://arxiv.org/abs/2310.14864v1"
          ],
          [
           "Rethinking Decision Transformer via Hierarchical Reinforcement Learning",
           "http://arxiv.org/abs/2311.00267v1"
          ],
          [
           "Denoising Opponents Position in Partial Observation Environment",
           "http://arxiv.org/abs/2310.14553v1"
          ],
          [
           "Offline Reinforcement Learning for Optimizing Production Bidding Policies",
           "http://arxiv.org/abs/2310.09426v1"
          ],
          [
           "Sample Complexity of Neural Policy Mirror Descent for Policy Optimization on Low-Dimensional Manifolds",
           "http://arxiv.org/abs/2309.13915v1"
          ],
          [
           "Lifting the Veil: Unlocking the Power of Depth in Q-learning",
           "http://arxiv.org/abs/2310.17915v1"
          ],
          [
           "DNFS-VNE: Deep Neuro-Fuzzy System-Driven Virtual Network Embedding Algorithm",
           "http://arxiv.org/abs/2310.09078v1"
          ],
          [
           "BridgeHand2Vec Bridge Hand Representation",
           "http://arxiv.org/abs/2310.06624v1"
          ]
         ],
         "hovertemplate": "cluster=6<br>noise=0<br>umap_0=%{x}<br>umap_1=%{y}<br>title=%{customdata[0]}<br>ID=%{customdata[1]}<extra></extra>",
         "legendgroup": "6, 0",
         "marker": {
          "color": "#B6E880",
          "symbol": "circle"
         },
         "mode": "markers",
         "name": "6, 0",
         "orientation": "v",
         "showlegend": true,
         "type": "scatter",
         "x": [
          0.012272389605641365,
          0,
          0.06732582300901413,
          0.01807435415685177,
          0.11647878587245941,
          0.014235839247703552,
          0.0528368316590786,
          0.03995301201939583,
          0.034841809421777725,
          0.0044725202023983,
          0.012974695302546024,
          0.09328317642211914,
          0.06325162947177887,
          0.03980443999171257,
          0.06111945956945419,
          0.07762148231267929,
          0.08503983169794083
         ],
         "xaxis": "x",
         "y": [
          0.6546386480331421,
          0.6608057618141174,
          0.6730760931968689,
          0.6505076885223389,
          0.6189978718757629,
          0.6451271772384644,
          0.6813741326332092,
          0.6966291069984436,
          0.699504554271698,
          0.6576055288314819,
          0.6570384502410889,
          0.6537001132965088,
          0.6660518050193787,
          0.6336237192153931,
          0.6782056093215942,
          0.7088941335678101,
          0.6566798090934753
         ],
         "yaxis": "y"
        },
        {
         "customdata": [
          [
           "Peer-to-Peer Deep Learning for Beyond-5G IoT",
           "http://arxiv.org/abs/2310.18861v1"
          ],
          [
           "A Comprehensive Python Library for Deep Learning-Based Event Detection in Multivariate Time Series Data and Information Retrieval in NLP",
           "http://arxiv.org/abs/2310.16485v1"
          ],
          [
           "Graph Deep Learning for Time Series Forecasting",
           "http://arxiv.org/abs/2310.15978v1"
          ],
          [
           "Global Transformer Architecture for Indoor Room Temperature Forecasting",
           "http://arxiv.org/abs/2310.20476v1"
          ],
          [
           "A Systematic Review for Transformer-based Long-term Series Forecasting",
           "http://arxiv.org/abs/2310.20218v1"
          ],
          [
           "SolarFormer: Multi-scale Transformer for Solar PV Profiling",
           "http://arxiv.org/abs/2310.20057v1"
          ],
          [
           "Transfer Learning in Transformer-Based Demand Forecasting For Home Energy Management System",
           "http://arxiv.org/abs/2310.19159v1"
          ],
          [
           "Secure short-term load forecasting for smart grids with transformer-based federated learning",
           "http://arxiv.org/abs/2310.17477v1"
          ],
          [
           "Neural networks for insurance pricing with frequency and severity data: a benchmark study from data preprocessing to technical tariff",
           "http://arxiv.org/abs/2310.12671v2"
          ],
          [
           "Explainable Modeling for Wind Power Forecasting: A Glass-Box Approach with Exceptional Accuracy",
           "http://arxiv.org/abs/2310.18629v1"
          ],
          [
           "Inside the black box: Neural network-based real-time prediction of US recessions",
           "http://arxiv.org/abs/2310.17571v1"
          ],
          [
           "Few-Shot Learning Patterns in Financial Time-Series for Trend-Following Strategies",
           "http://arxiv.org/abs/2310.10500v1"
          ]
         ],
         "hovertemplate": "cluster=7<br>noise=0<br>umap_0=%{x}<br>umap_1=%{y}<br>title=%{customdata[0]}<br>ID=%{customdata[1]}<extra></extra>",
         "legendgroup": "7, 0",
         "marker": {
          "color": "#FF97FF",
          "symbol": "circle"
         },
         "mode": "markers",
         "name": "7, 0",
         "orientation": "v",
         "showlegend": true,
         "type": "scatter",
         "x": [
          0.26981672644615173,
          0.33078938722610474,
          0.3446647524833679,
          0.2947569787502289,
          0.3134130835533142,
          0.2956058979034424,
          0.29150786995887756,
          0.2908511161804199,
          0.32693272829055786,
          0.3017212748527527,
          0.334307998418808,
          0.3356471061706543
         ],
         "xaxis": "x",
         "y": [
          0.9656643867492676,
          0.9723997116088867,
          0.9667097330093384,
          0.9989960193634033,
          0.9864314794540405,
          1,
          0.9995995163917542,
          0.9874045848846436,
          0.9566036462783813,
          0.9972760081291199,
          0.9657195210456848,
          0.967942476272583
         ],
         "yaxis": "y"
        },
        {
         "customdata": [
          [
           "Unveiling Black-boxes: Explainable Deep Learning Models for Patent Classification",
           "http://arxiv.org/abs/2310.20478v1"
          ],
          [
           "This Reads Like That: Deep Learning for Interpretable Natural Language Processing",
           "http://arxiv.org/abs/2310.17010v1"
          ],
          [
           "Leveraging Deep Learning for Abstractive Code Summarization of Unofficial Documentation",
           "http://arxiv.org/abs/2310.15015v1"
          ],
          [
           "Pretraining Data Mixtures Enable Narrow Model Selection Capabilities in Transformer Models",
           "http://arxiv.org/abs/2311.00871v1"
          ],
          [
           "Attention Alignment and Flexible Positional Embeddings Improve Transformer Length Extrapolation",
           "http://arxiv.org/abs/2311.00684v1"
          ],
          [
           "Online Signal Estimation on the Graph Edges via Line Graph Transformation",
           "http://arxiv.org/abs/2311.00656v1"
          ],
          [
           "Syntactic Inductive Bias in Transformer Language Models: Especially Helpful for Low-Resource Languages?",
           "http://arxiv.org/abs/2311.00268v1"
          ],
          [
           "Transformers are Efficient In-Context Estimators for Wireless Communication",
           "http://arxiv.org/abs/2311.00226v1"
          ],
          [
           "Transformers as Recognizers of Formal Languages: A Survey on Expressivity",
           "http://arxiv.org/abs/2311.00208v1"
          ],
          [
           "Diversified Node Sampling based Hierarchical Transformer Pooling for Graph Representation Learning",
           "http://arxiv.org/abs/2310.20250v1"
          ],
          [
           "Strategies to Harness the Transformers' Potential: UNSL at eRisk 2023",
           "http://arxiv.org/abs/2310.19970v1"
          ],
          [
           "The Impact of Depth and Width on Transformer Language Model Generalization",
           "http://arxiv.org/abs/2310.19956v1"
          ],
          [
           "Fusing Temporal Graphs into Transformers for Time-Sensitive Question Answering",
           "http://arxiv.org/abs/2310.19292v1"
          ],
          [
           "Pushdown Layers: Encoding Recursive Structure in Transformer Language Models",
           "http://arxiv.org/abs/2310.19089v1"
          ],
          [
           "Stacking the Odds: Transformer-Based Ensemble for AI-Generated Text Detection",
           "http://arxiv.org/abs/2310.18906v1"
          ],
          [
           "NetPanorama: A Declarative Grammar for Network Construction, Transformation, and Visualization",
           "http://arxiv.org/abs/2310.18902v1"
          ],
          [
           "Prompt-Engineering and Transformer-based Question Generation and Evaluation",
           "http://arxiv.org/abs/2310.18867v1"
          ],
          [
           "TLM: Token-Level Masking for Transformers",
           "http://arxiv.org/abs/2310.18738v1"
          ],
          [
           "ASTormer: An AST Structure-aware Transformer Decoder for Text-to-SQL",
           "http://arxiv.org/abs/2310.18662v1"
          ],
          [
           "Transformers as Graph-to-Graph Models",
           "http://arxiv.org/abs/2310.17936v1"
          ],
          [
           "The Innovation-to-Occupations Ontology: Linking Business Transformation Initiatives to Occupations and Skills",
           "http://arxiv.org/abs/2310.17909v1"
          ],
          [
           "An Ensemble Method Based on the Combination of Transformers with Convolutional Neural Networks to Detect Artificially Generated Text",
           "http://arxiv.org/abs/2310.17312v1"
          ],
          [
           "Transformers Learn Higher-Order Optimization Methods for In-Context Learning: A Study with Linear Models",
           "http://arxiv.org/abs/2310.17086v1"
          ],
          [
           "Divide et Impera: Multi-Transformer Architectures for Complex NLP-Tasks",
           "http://arxiv.org/abs/2310.16897v1"
          ],
          [
           "ArTST: Arabic Text and Speech Transformer",
           "http://arxiv.org/abs/2310.16621v1"
          ],
          [
           "Transformer-based Live Update Generation for Soccer Matches from Microblog Posts",
           "http://arxiv.org/abs/2310.16368v1"
          ],
          [
           "SMURF-THP: Score Matching-based UnceRtainty quantiFication for Transformer Hawkes Process",
           "http://arxiv.org/abs/2310.16336v1"
          ],
          [
           "Understanding Code Semantics: An Evaluation of Transformer Models in Summarization",
           "http://arxiv.org/abs/2310.16314v2"
          ],
          [
           "Longer Fixations, More Computation: Gaze-Guided Recurrent Neural Networks",
           "http://arxiv.org/abs/2311.00159v1"
          ],
          [
           "Interpretable Prototype-based Graph Information Bottleneck",
           "http://arxiv.org/abs/2310.19906v1"
          ],
          [
           "TempME: Towards the Explainability of Temporal Graph Neural Networks via Motif Discovery",
           "http://arxiv.org/abs/2310.19324v1"
          ],
          [
           "D4Explainer: In-Distribution GNN Explanations via Discrete Denoising Diffusion",
           "http://arxiv.org/abs/2310.19321v1"
          ],
          [
           "Improving Compositional Generalization Using Iterated Learning and Simplicial Embeddings",
           "http://arxiv.org/abs/2310.18777v1"
          ],
          [
           "Explainable Spatio-Temporal Graph Neural Networks",
           "http://arxiv.org/abs/2310.17149v1"
          ],
          [
           "Learning Repeatable Speech Embeddings Using An Intra-class Correlation Regularizer",
           "http://arxiv.org/abs/2310.17049v1"
          ],
          [
           "Graph Agent: Explicit Reasoning Agent for Graphs",
           "http://arxiv.org/abs/2310.16421v1"
          ],
          [
           "DyExplainer: Explainable Dynamic Graph Neural Networks",
           "http://arxiv.org/abs/2310.16375v1"
          ],
          [
           "Context-Aware Prediction of User Engagement on Online Social Platforms",
           "http://arxiv.org/abs/2310.14533v1"
          ],
          [
           "Towards Harmful Erotic Content Detection through Coreference-Driven Contextual Analysis",
           "http://arxiv.org/abs/2310.14325v1"
          ],
          [
           "On Coherence-based Predictors for Dense Query Performance Prediction",
           "http://arxiv.org/abs/2310.11405v1"
          ],
          [
           "Accurate prediction of international trade flows: Leveraging knowledge graphs and their embeddings",
           "http://arxiv.org/abs/2310.11161v1"
          ],
          [
           "Exploring the Power of Graph Neural Networks in Solving Linear Optimization Problems",
           "http://arxiv.org/abs/2310.10603v1"
          ],
          [
           "Surveying the Landscape of Text Summarization with Deep Learning: A Comprehensive Review",
           "http://arxiv.org/abs/2310.09411v1"
          ],
          [
           "Learning Transferable Conceptual Prototypes for Interpretable Unsupervised Domain Adaptation",
           "http://arxiv.org/abs/2310.08071v1"
          ],
          [
           "Are GATs Out of Balance?",
           "http://arxiv.org/abs/2310.07235v2"
          ],
          [
           "Copy Suppression: Comprehensively Understanding an Attention Head",
           "http://arxiv.org/abs/2310.04625v1"
          ],
          [
           "Memoria: Hebbian Memory Architecture for Human-Like Sequential Processing",
           "http://arxiv.org/abs/2310.03052v1"
          ],
          [
           "Stand for Something or Fall for Everything: Predict Misinformation Spread with Stance-Aware Graph Neural Networks",
           "http://arxiv.org/abs/2310.02568v1"
          ],
          [
           "Towards Robust Fidelity for Evaluating Explainability of Graph Neural Networks",
           "http://arxiv.org/abs/2310.01820v1"
          ],
          [
           "Learning to Receive Help: Intervention-Aware Concept Embedding Models",
           "http://arxiv.org/abs/2309.16928v2"
          ],
          [
           "ACGAN-GNNExplainer: Auxiliary Conditional Generative Explainer for Graph Neural Networks",
           "http://arxiv.org/abs/2309.16918v2"
          ],
          [
           "GInX-Eval: Towards In-Distribution Evaluation of Graph Neural Network Explanations",
           "http://arxiv.org/abs/2309.16223v1"
          ],
          [
           "Arabic Sentiment Analysis with Noisy Deep Explainable Model",
           "http://arxiv.org/abs/2309.13731v1"
          ],
          [
           "A Heterogeneous Graph-Based Multi-Task Learning for Fault Event Diagnosis in Smart Grid",
           "http://arxiv.org/abs/2309.09921v1"
          ],
          [
           "LILO: Learning Interpretable Libraries by Compressing and Documenting Code",
           "http://arxiv.org/abs/2310.19791v1"
          ],
          [
           "Interpretable-by-Design Text Classification with Iteratively Generated Concept Bottleneck",
           "http://arxiv.org/abs/2310.19660v1"
          ],
          [
           "Disentangled Representation Learning with Large Language Models for Text-Attributed Graphs",
           "http://arxiv.org/abs/2310.18152v1"
          ],
          [
           "1-PAGER: One Pass Answer Generation and Evidence Retrieval",
           "http://arxiv.org/abs/2310.16568v1"
          ],
          [
           "Probing Representations for Document-level Event Extraction",
           "http://arxiv.org/abs/2310.15316v1"
          ],
          [
           "Information Value: Measuring Utterance Predictability as Distance from Plausible Alternatives",
           "http://arxiv.org/abs/2310.13676v1"
          ],
          [
           "Graph Neural Networks with polynomial activations have limited expressivity",
           "http://arxiv.org/abs/2310.13139v1"
          ],
          [
           "MuseGNN: Interpretable and Convergent Graph Neural Network Layers at Scale",
           "http://arxiv.org/abs/2310.12457v1"
          ],
          [
           "Repetition In Repetition Out: Towards Understanding Neural Text Degeneration from the Data Perspective",
           "http://arxiv.org/abs/2310.10226v1"
          ],
          [
           "Hypergraph Neural Networks through the Lens of Message Passing: A Common Perspective to Homophily and Architecture Design",
           "http://arxiv.org/abs/2310.07684v1"
          ],
          [
           "How Graph Neural Networks Learn: Lessons from Training Dynamics in Function Space",
           "http://arxiv.org/abs/2310.05105v1"
          ],
          [
           "Beyond Text: A Deep Dive into Large Language Models' Ability on Understanding Graph Data",
           "http://arxiv.org/abs/2310.04944v1"
          ]
         ],
         "hovertemplate": "cluster=8<br>noise=0<br>umap_0=%{x}<br>umap_1=%{y}<br>title=%{customdata[0]}<br>ID=%{customdata[1]}<extra></extra>",
         "legendgroup": "8, 0",
         "marker": {
          "color": "#FECB52",
          "symbol": "circle"
         },
         "mode": "markers",
         "name": "8, 0",
         "orientation": "v",
         "showlegend": true,
         "type": "scatter",
         "x": [
          0.46696412563323975,
          0.5048666000366211,
          0.6659119725227356,
          0.5890645980834961,
          0.6313308477401733,
          0.3856810927391052,
          0.6000187993049622,
          0.5711629986763,
          0.5903686285018921,
          0.3767441213130951,
          0.610357940196991,
          0.6056473255157471,
          0.6436855792999268,
          0.6418107151985168,
          0.6500548720359802,
          0.41845837235450745,
          0.6486596465110779,
          0.6136853694915771,
          0.6476616263389587,
          0.5480829477310181,
          0.4756854474544525,
          0.6426724791526794,
          0.57769775390625,
          0.6123878955841064,
          0.5980835556983948,
          0.5556907653808594,
          0.5684898495674133,
          0.6658116579055786,
          0.569388210773468,
          0.46853014826774597,
          0.4188556969165802,
          0.4669489562511444,
          0.5849029421806335,
          0.4729255437850952,
          0.584940493106842,
          0.4390248954296112,
          0.3946152627468109,
          0.5249853134155273,
          0.6248118281364441,
          0.6201995611190796,
          0.4534696340560913,
          0.35493722558021545,
          0.6155217289924622,
          0.5054552555084229,
          0.3624674081802368,
          0.6207155585289001,
          0.5757089257240295,
          0.5151867866516113,
          0.4686520993709564,
          0.5323215126991272,
          0.4698900878429413,
          0.4757292568683624,
          0.5224810242652893,
          0.3543746769428253,
          0.6646058559417725,
          0.5926618576049805,
          0.44905248284339905,
          0.639228880405426,
          0.61601722240448,
          0.640752911567688,
          0.36592352390289307,
          0.3596615791320801,
          0.6079585552215576,
          0.3905973732471466,
          0.3550376296043396,
          0.4417653977870941
         ],
         "xaxis": "x",
         "y": [
          0.9230703711509705,
          0.9446771144866943,
          0.8058135509490967,
          0.8113237619400024,
          0.8318105936050415,
          0.8756340146064758,
          0.7782478332519531,
          0.8076477646827698,
          0.824232280254364,
          0.878704309463501,
          0.8777245879173279,
          0.798223078250885,
          0.8476109504699707,
          0.807232677936554,
          0.8680664300918579,
          0.9157891273498535,
          0.872378408908844,
          0.7978617548942566,
          0.845903754234314,
          0.8273577690124512,
          0.8989920020103455,
          0.8786848187446594,
          0.7973365783691406,
          0.8424502611160278,
          0.7549855709075928,
          0.9146748185157776,
          0.8111027479171753,
          0.8017900586128235,
          0.9045476913452148,
          0.9648139476776123,
          0.9571563601493835,
          0.9672540426254272,
          0.7849190831184387,
          0.9800468683242798,
          0.7586101293563843,
          0.8980586528778076,
          0.9352882504463196,
          0.9493536949157715,
          0.8903911113739014,
          0.8853197693824768,
          0.9050486087799072,
          0.856786847114563,
          0.8896254301071167,
          0.9479315280914307,
          0.8627405166625977,
          0.7774873375892639,
          0.8086280226707458,
          0.9543506503105164,
          0.9725795388221741,
          0.9277772903442383,
          0.9726816415786743,
          0.9747861623764038,
          0.9348432421684265,
          0.8638909459114075,
          0.8032297492027283,
          0.9009217023849487,
          0.9020865559577942,
          0.8760141134262085,
          0.8957444429397583,
          0.8859606981277466,
          0.8585978746414185,
          0.8642871379852295,
          0.7730996608734131,
          0.8970304727554321,
          0.8591809272766113,
          0.8925414085388184
         ],
         "yaxis": "y"
        },
        {
         "customdata": [
          [
           "GIST: Generated Inputs Sets Transferability in Deep Learning",
           "http://arxiv.org/abs/2311.00801v1"
          ],
          [
           "Performance Optimization of Deep Learning Sparse Matrix Kernels on Intel Max Series GPU",
           "http://arxiv.org/abs/2311.00368v1"
          ],
          [
           "Mathematical Introduction to Deep Learning: Methods, Implementations, and Theory",
           "http://arxiv.org/abs/2310.20360v1"
          ],
          [
           "TorchProbe: Fuzzing Dynamic Deep Learning Compilers",
           "http://arxiv.org/abs/2310.20078v1"
          ],
          [
           "Approximation Theory, Computing, and Deep Learning on the Wasserstein Space",
           "http://arxiv.org/abs/2310.19548v1"
          ],
          [
           "Software engineering for deep learning applications: usage of SWEng and MLops tools in GitHub repositories",
           "http://arxiv.org/abs/2310.19124v1"
          ],
          [
           "Differentiable Learning of Generalized Structured Matrices for Efficient Deep Neural Networks",
           "http://arxiv.org/abs/2310.18882v1"
          ],
          [
           "Analysis of the Generalization Error of deep learning based on Randomized Quasi-Monte Carlo for Solving Linear Kolmogorov PDEs",
           "http://arxiv.org/abs/2310.18100v1"
          ],
          [
           "Restoring the Broken Covenant Between Compilers and Deep Learning Accelerators",
           "http://arxiv.org/abs/2310.17912v1"
          ],
          [
           "Data Optimization in Deep Learning: A Survey",
           "http://arxiv.org/abs/2310.16499v1"
          ],
          [
           "Unknown Health States Recognition With Collective Decision Based Deep Learning Networks In Predictive Maintenance Applications",
           "http://arxiv.org/abs/2310.17670v1"
          ],
          [
           "A model for multi-attack classification to improve intrusion detection performance using deep learning approaches",
           "http://arxiv.org/abs/2310.16380v1"
          ],
          [
           "Breaking the Curse of Dimensionality in Deep Neural Networks by Learning Invariant Representations",
           "http://arxiv.org/abs/2310.16154v1"
          ],
          [
           "Blacksmith: Fast Adversarial Training of Vision Transformers via a Mixture of Single-step and Multi-step Methods",
           "http://arxiv.org/abs/2310.18975v1"
          ],
          [
           "Hessian Eigenvectors and Principal Component Analysis of Neural Network Weight Matrices",
           "http://arxiv.org/abs/2311.00452v1"
          ],
          [
           "CAFE: Conflict-Aware Feature-wise Explanations",
           "http://arxiv.org/abs/2310.20363v1"
          ],
          [
           "Grokking Tickets: Lottery Tickets Accelerate Grokking",
           "http://arxiv.org/abs/2310.19470v1"
          ],
          [
           "Proving Linear Mode Connectivity of Neural Networks via Optimal Transport",
           "http://arxiv.org/abs/2310.19103v1"
          ],
          [
           "How Well Do Feature-Additive Explainers Explain Feature-Additive Predictors?",
           "http://arxiv.org/abs/2310.18496v1"
          ],
          [
           "On Residual Minimization for PDEs: Failure of PINN, Modified Equation, and Implicit Bias",
           "http://arxiv.org/abs/2310.18201v1"
          ],
          [
           "Optimization dependent generalization bound for ReLU networks based on sensitivity in the tangent bundle",
           "http://arxiv.org/abs/2310.17378v1"
          ],
          [
           "Good regularity creates large learning rate implicit biases: edge of stability, balancing, and catapult",
           "http://arxiv.org/abs/2310.17087v1"
          ],
          [
           "Explanation-Based Training with Differentiable Insertion/Deletion Metric-Aware Regularizers",
           "http://arxiv.org/abs/2310.12553v2"
          ],
          [
           "Why Does Sharpness-Aware Minimization Generalize Better Than SGD?",
           "http://arxiv.org/abs/2310.07269v1"
          ],
          [
           "AttributionLab: Faithfulness of Feature Attribution Under Controllable Environments",
           "http://arxiv.org/abs/2310.06514v1"
          ],
          [
           "SCAR: Power Side-Channel Analysis at RTL-Level",
           "http://arxiv.org/abs/2310.06257v1"
          ],
          [
           "Grokking as the Transition from Lazy to Rich Training Dynamics",
           "http://arxiv.org/abs/2310.06110v1"
          ],
          [
           "Grokking as Compression: A Nonlinear Complexity Perspective",
           "http://arxiv.org/abs/2310.05918v1"
          ],
          [
           "Taming Binarized Neural Networks and Mixed-Integer Programs",
           "http://arxiv.org/abs/2310.04469v1"
          ],
          [
           "Why do autoencoders work?",
           "http://arxiv.org/abs/2310.02250v2"
          ],
          [
           "On the Onset of Robust Overfitting in Adversarial Training",
           "http://arxiv.org/abs/2310.00607v1"
          ],
          [
           "ONNXExplainer: an ONNX Based Generic Framework to Explain Neural Networks Using Shapley Values",
           "http://arxiv.org/abs/2309.16916v2"
          ],
          [
           "Exploring Learned Representations of Neural Networks with Principal Component Analysis",
           "http://arxiv.org/abs/2309.15328v1"
          ],
          [
           "On the Computational Complexity and Formal Hierarchy of Second Order Recurrent Neural Networks",
           "http://arxiv.org/abs/2309.14691v1"
          ],
          [
           "Fantastic Generalization Measures are Nowhere to be Found",
           "http://arxiv.org/abs/2309.13658v1"
          ],
          [
           "Provably Robust and Plausible Counterfactual Explanations for Neural Networks via Robust Optimisation",
           "http://arxiv.org/abs/2309.12545v1"
          ],
          [
           "Nebula: Self-Attention for Dynamic Malware Analysis",
           "http://arxiv.org/abs/2310.10664v1"
          ],
          [
           "Stochastic Configuration Machines: FPGA Implementation",
           "http://arxiv.org/abs/2310.19225v1"
          ],
          [
           "A U-turn on Double Descent: Rethinking Parameter Counting in Statistical Learning",
           "http://arxiv.org/abs/2310.18988v1"
          ],
          [
           "A minimax optimal control approach for robust neural ODEs",
           "http://arxiv.org/abs/2310.17584v1"
          ],
          [
           "Invariance Measures for Neural Networks",
           "http://arxiv.org/abs/2310.17404v1"
          ],
          [
           "Codebook Features: Sparse and Discrete Interpretability for Neural Networks",
           "http://arxiv.org/abs/2310.17230v1"
          ],
          [
           "Achieving Constraints in Neural Networks: A Stochastic Augmented Lagrangian Approach",
           "http://arxiv.org/abs/2310.16647v1"
          ],
          [
           "Instance-wise Linearization of Neural Network for Model Interpretation",
           "http://arxiv.org/abs/2310.16295v1"
          ],
          [
           "Transparency at the Source: Evaluating and Interpreting Language Models With Access to the True Distribution",
           "http://arxiv.org/abs/2310.14840v1"
          ],
          [
           "To grok or not to grok: Disentangling generalization and memorization on corrupted algorithmic datasets",
           "http://arxiv.org/abs/2310.13061v1"
          ],
          [
           "An effective theory of collective deep learning",
           "http://arxiv.org/abs/2310.12802v1"
          ],
          [
           "Attribution Patching Outperforms Automated Circuit Discovery",
           "http://arxiv.org/abs/2310.10348v1"
          ],
          [
           "Hamming Encoder: Mining Discriminative k-mers for Discrete Sequence Classification",
           "http://arxiv.org/abs/2310.10321v2"
          ],
          [
           "Recurrent networks recognize patterns with low-dimensional oscillations",
           "http://arxiv.org/abs/2310.07908v1"
          ],
          [
           "Going Beyond Neural Network Feature Similarity: The Network Feature Complexity and Its Interpretation Using Category Theory",
           "http://arxiv.org/abs/2310.06756v1"
          ],
          [
           "The Lattice Overparametrization Paradigm for the Machine Learning of Lattice Operators",
           "http://arxiv.org/abs/2310.06639v1"
          ],
          [
           "Aggregated f-average Neural Network for Interpretable Ensembling",
           "http://arxiv.org/abs/2310.05566v1"
          ],
          [
           "NeuralFastLAS: Fast Logic-Based Learning from Raw Data",
           "http://arxiv.org/abs/2310.05145v1"
          ],
          [
           "Rethink Baseline of Integrated Gradients from the Perspective of Shapley Value",
           "http://arxiv.org/abs/2310.04821v2"
          ]
         ],
         "hovertemplate": "cluster=9<br>noise=0<br>umap_0=%{x}<br>umap_1=%{y}<br>title=%{customdata[0]}<br>ID=%{customdata[1]}<extra></extra>",
         "legendgroup": "9, 0",
         "marker": {
          "color": "#636efa",
          "symbol": "circle"
         },
         "mode": "markers",
         "name": "9, 0",
         "orientation": "v",
         "showlegend": true,
         "type": "scatter",
         "x": [
          0.3340045213699341,
          0.33365026116371155,
          0.19979605078697205,
          0.3427654504776001,
          0.15079429745674133,
          0.3502318561077118,
          0.25026440620422363,
          0.14755108952522278,
          0.3476356267929077,
          0.23700512945652008,
          0.2696648836135864,
          0.24235007166862488,
          0.19358117878437042,
          0.32847777009010315,
          0.27420589327812195,
          0.38027524948120117,
          0.2953128218650818,
          0.23236052691936493,
          0.4008888900279999,
          0.1478104293346405,
          0.2758622467517853,
          0.23281900584697723,
          0.40694162249565125,
          0.24131734669208527,
          0.3622632324695587,
          0.3559413254261017,
          0.3074883818626404,
          0.29569241404533386,
          0.44941818714141846,
          0.3086453676223755,
          0.33605703711509705,
          0.3991054594516754,
          0.35482674837112427,
          0.4895971417427063,
          0.2873135507106781,
          0.35406920313835144,
          0.25168752670288086,
          0.2234332263469696,
          0.2982807457447052,
          0.30752289295196533,
          0.3539026975631714,
          0.38302597403526306,
          0.2399633526802063,
          0.35812893509864807,
          0.5326356887817383,
          0.28865039348602295,
          0.1962854564189911,
          0.3891228437423706,
          0.26826968789100647,
          0.4850126802921295,
          0.3505140542984009,
          0.20753373205661774,
          0.3483654260635376,
          0.4907534718513489,
          0.35900163650512695
         ],
         "xaxis": "x",
         "y": [
          0.6523184776306152,
          0.7444061636924744,
          0.6018432378768921,
          0.734697699546814,
          0.557968258857727,
          0.7426922917366028,
          0.5915120244026184,
          0.5678343176841736,
          0.7609226703643799,
          0.680108368396759,
          0.7024011611938477,
          0.7308012247085571,
          0.5901760458946228,
          0.5671342611312866,
          0.5795210003852844,
          0.6785693168640137,
          0.6307239532470703,
          0.5923893451690674,
          0.7243795990943909,
          0.5605828166007996,
          0.6377049684524536,
          0.6001054644584656,
          0.7382439970970154,
          0.6346766352653503,
          0.6488584876060486,
          0.7710636854171753,
          0.6254763603210449,
          0.6302047967910767,
          0.7201509475708008,
          0.6482983231544495,
          0.5634514093399048,
          0.7295729517936707,
          0.6526486277580261,
          0.7231733798980713,
          0.6356710195541382,
          0.5571191310882568,
          0.7384651303291321,
          0.5909621715545654,
          0.6147667169570923,
          0.5643090605735779,
          0.6196812987327576,
          0.6754841804504395,
          0.6401539444923401,
          0.6409755349159241,
          0.7522108554840088,
          0.6452479958534241,
          0.5767405033111572,
          0.7677965760231018,
          0.6976132392883301,
          0.7167894840240479,
          0.6363367438316345,
          0.6063992977142334,
          0.6381712555885315,
          0.7169308662414551,
          0.6915602684020996
         ],
         "yaxis": "y"
        }
       ],
       "layout": {
        "legend": {
         "title": {
          "text": "cluster, noise"
         },
         "tracegroupgap": 0
        },
        "margin": {
         "t": 60
        },
        "template": {
         "data": {
          "bar": [
           {
            "error_x": {
             "color": "#2a3f5f"
            },
            "error_y": {
             "color": "#2a3f5f"
            },
            "marker": {
             "line": {
              "color": "#E5ECF6",
              "width": 0.5
             },
             "pattern": {
              "fillmode": "overlay",
              "size": 10,
              "solidity": 0.2
             }
            },
            "type": "bar"
           }
          ],
          "barpolar": [
           {
            "marker": {
             "line": {
              "color": "#E5ECF6",
              "width": 0.5
             },
             "pattern": {
              "fillmode": "overlay",
              "size": 10,
              "solidity": 0.2
             }
            },
            "type": "barpolar"
           }
          ],
          "carpet": [
           {
            "aaxis": {
             "endlinecolor": "#2a3f5f",
             "gridcolor": "white",
             "linecolor": "white",
             "minorgridcolor": "white",
             "startlinecolor": "#2a3f5f"
            },
            "baxis": {
             "endlinecolor": "#2a3f5f",
             "gridcolor": "white",
             "linecolor": "white",
             "minorgridcolor": "white",
             "startlinecolor": "#2a3f5f"
            },
            "type": "carpet"
           }
          ],
          "choropleth": [
           {
            "colorbar": {
             "outlinewidth": 0,
             "ticks": ""
            },
            "type": "choropleth"
           }
          ],
          "contour": [
           {
            "colorbar": {
             "outlinewidth": 0,
             "ticks": ""
            },
            "colorscale": [
             [
              0,
              "#0d0887"
             ],
             [
              0.1111111111111111,
              "#46039f"
             ],
             [
              0.2222222222222222,
              "#7201a8"
             ],
             [
              0.3333333333333333,
              "#9c179e"
             ],
             [
              0.4444444444444444,
              "#bd3786"
             ],
             [
              0.5555555555555556,
              "#d8576b"
             ],
             [
              0.6666666666666666,
              "#ed7953"
             ],
             [
              0.7777777777777778,
              "#fb9f3a"
             ],
             [
              0.8888888888888888,
              "#fdca26"
             ],
             [
              1,
              "#f0f921"
             ]
            ],
            "type": "contour"
           }
          ],
          "contourcarpet": [
           {
            "colorbar": {
             "outlinewidth": 0,
             "ticks": ""
            },
            "type": "contourcarpet"
           }
          ],
          "heatmap": [
           {
            "colorbar": {
             "outlinewidth": 0,
             "ticks": ""
            },
            "colorscale": [
             [
              0,
              "#0d0887"
             ],
             [
              0.1111111111111111,
              "#46039f"
             ],
             [
              0.2222222222222222,
              "#7201a8"
             ],
             [
              0.3333333333333333,
              "#9c179e"
             ],
             [
              0.4444444444444444,
              "#bd3786"
             ],
             [
              0.5555555555555556,
              "#d8576b"
             ],
             [
              0.6666666666666666,
              "#ed7953"
             ],
             [
              0.7777777777777778,
              "#fb9f3a"
             ],
             [
              0.8888888888888888,
              "#fdca26"
             ],
             [
              1,
              "#f0f921"
             ]
            ],
            "type": "heatmap"
           }
          ],
          "heatmapgl": [
           {
            "colorbar": {
             "outlinewidth": 0,
             "ticks": ""
            },
            "colorscale": [
             [
              0,
              "#0d0887"
             ],
             [
              0.1111111111111111,
              "#46039f"
             ],
             [
              0.2222222222222222,
              "#7201a8"
             ],
             [
              0.3333333333333333,
              "#9c179e"
             ],
             [
              0.4444444444444444,
              "#bd3786"
             ],
             [
              0.5555555555555556,
              "#d8576b"
             ],
             [
              0.6666666666666666,
              "#ed7953"
             ],
             [
              0.7777777777777778,
              "#fb9f3a"
             ],
             [
              0.8888888888888888,
              "#fdca26"
             ],
             [
              1,
              "#f0f921"
             ]
            ],
            "type": "heatmapgl"
           }
          ],
          "histogram": [
           {
            "marker": {
             "pattern": {
              "fillmode": "overlay",
              "size": 10,
              "solidity": 0.2
             }
            },
            "type": "histogram"
           }
          ],
          "histogram2d": [
           {
            "colorbar": {
             "outlinewidth": 0,
             "ticks": ""
            },
            "colorscale": [
             [
              0,
              "#0d0887"
             ],
             [
              0.1111111111111111,
              "#46039f"
             ],
             [
              0.2222222222222222,
              "#7201a8"
             ],
             [
              0.3333333333333333,
              "#9c179e"
             ],
             [
              0.4444444444444444,
              "#bd3786"
             ],
             [
              0.5555555555555556,
              "#d8576b"
             ],
             [
              0.6666666666666666,
              "#ed7953"
             ],
             [
              0.7777777777777778,
              "#fb9f3a"
             ],
             [
              0.8888888888888888,
              "#fdca26"
             ],
             [
              1,
              "#f0f921"
             ]
            ],
            "type": "histogram2d"
           }
          ],
          "histogram2dcontour": [
           {
            "colorbar": {
             "outlinewidth": 0,
             "ticks": ""
            },
            "colorscale": [
             [
              0,
              "#0d0887"
             ],
             [
              0.1111111111111111,
              "#46039f"
             ],
             [
              0.2222222222222222,
              "#7201a8"
             ],
             [
              0.3333333333333333,
              "#9c179e"
             ],
             [
              0.4444444444444444,
              "#bd3786"
             ],
             [
              0.5555555555555556,
              "#d8576b"
             ],
             [
              0.6666666666666666,
              "#ed7953"
             ],
             [
              0.7777777777777778,
              "#fb9f3a"
             ],
             [
              0.8888888888888888,
              "#fdca26"
             ],
             [
              1,
              "#f0f921"
             ]
            ],
            "type": "histogram2dcontour"
           }
          ],
          "mesh3d": [
           {
            "colorbar": {
             "outlinewidth": 0,
             "ticks": ""
            },
            "type": "mesh3d"
           }
          ],
          "parcoords": [
           {
            "line": {
             "colorbar": {
              "outlinewidth": 0,
              "ticks": ""
             }
            },
            "type": "parcoords"
           }
          ],
          "pie": [
           {
            "automargin": true,
            "type": "pie"
           }
          ],
          "scatter": [
           {
            "fillpattern": {
             "fillmode": "overlay",
             "size": 10,
             "solidity": 0.2
            },
            "type": "scatter"
           }
          ],
          "scatter3d": [
           {
            "line": {
             "colorbar": {
              "outlinewidth": 0,
              "ticks": ""
             }
            },
            "marker": {
             "colorbar": {
              "outlinewidth": 0,
              "ticks": ""
             }
            },
            "type": "scatter3d"
           }
          ],
          "scattercarpet": [
           {
            "marker": {
             "colorbar": {
              "outlinewidth": 0,
              "ticks": ""
             }
            },
            "type": "scattercarpet"
           }
          ],
          "scattergeo": [
           {
            "marker": {
             "colorbar": {
              "outlinewidth": 0,
              "ticks": ""
             }
            },
            "type": "scattergeo"
           }
          ],
          "scattergl": [
           {
            "marker": {
             "colorbar": {
              "outlinewidth": 0,
              "ticks": ""
             }
            },
            "type": "scattergl"
           }
          ],
          "scattermapbox": [
           {
            "marker": {
             "colorbar": {
              "outlinewidth": 0,
              "ticks": ""
             }
            },
            "type": "scattermapbox"
           }
          ],
          "scatterpolar": [
           {
            "marker": {
             "colorbar": {
              "outlinewidth": 0,
              "ticks": ""
             }
            },
            "type": "scatterpolar"
           }
          ],
          "scatterpolargl": [
           {
            "marker": {
             "colorbar": {
              "outlinewidth": 0,
              "ticks": ""
             }
            },
            "type": "scatterpolargl"
           }
          ],
          "scatterternary": [
           {
            "marker": {
             "colorbar": {
              "outlinewidth": 0,
              "ticks": ""
             }
            },
            "type": "scatterternary"
           }
          ],
          "surface": [
           {
            "colorbar": {
             "outlinewidth": 0,
             "ticks": ""
            },
            "colorscale": [
             [
              0,
              "#0d0887"
             ],
             [
              0.1111111111111111,
              "#46039f"
             ],
             [
              0.2222222222222222,
              "#7201a8"
             ],
             [
              0.3333333333333333,
              "#9c179e"
             ],
             [
              0.4444444444444444,
              "#bd3786"
             ],
             [
              0.5555555555555556,
              "#d8576b"
             ],
             [
              0.6666666666666666,
              "#ed7953"
             ],
             [
              0.7777777777777778,
              "#fb9f3a"
             ],
             [
              0.8888888888888888,
              "#fdca26"
             ],
             [
              1,
              "#f0f921"
             ]
            ],
            "type": "surface"
           }
          ],
          "table": [
           {
            "cells": {
             "fill": {
              "color": "#EBF0F8"
             },
             "line": {
              "color": "white"
             }
            },
            "header": {
             "fill": {
              "color": "#C8D4E3"
             },
             "line": {
              "color": "white"
             }
            },
            "type": "table"
           }
          ]
         },
         "layout": {
          "annotationdefaults": {
           "arrowcolor": "#2a3f5f",
           "arrowhead": 0,
           "arrowwidth": 1
          },
          "autotypenumbers": "strict",
          "coloraxis": {
           "colorbar": {
            "outlinewidth": 0,
            "ticks": ""
           }
          },
          "colorscale": {
           "diverging": [
            [
             0,
             "#8e0152"
            ],
            [
             0.1,
             "#c51b7d"
            ],
            [
             0.2,
             "#de77ae"
            ],
            [
             0.3,
             "#f1b6da"
            ],
            [
             0.4,
             "#fde0ef"
            ],
            [
             0.5,
             "#f7f7f7"
            ],
            [
             0.6,
             "#e6f5d0"
            ],
            [
             0.7,
             "#b8e186"
            ],
            [
             0.8,
             "#7fbc41"
            ],
            [
             0.9,
             "#4d9221"
            ],
            [
             1,
             "#276419"
            ]
           ],
           "sequential": [
            [
             0,
             "#0d0887"
            ],
            [
             0.1111111111111111,
             "#46039f"
            ],
            [
             0.2222222222222222,
             "#7201a8"
            ],
            [
             0.3333333333333333,
             "#9c179e"
            ],
            [
             0.4444444444444444,
             "#bd3786"
            ],
            [
             0.5555555555555556,
             "#d8576b"
            ],
            [
             0.6666666666666666,
             "#ed7953"
            ],
            [
             0.7777777777777778,
             "#fb9f3a"
            ],
            [
             0.8888888888888888,
             "#fdca26"
            ],
            [
             1,
             "#f0f921"
            ]
           ],
           "sequentialminus": [
            [
             0,
             "#0d0887"
            ],
            [
             0.1111111111111111,
             "#46039f"
            ],
            [
             0.2222222222222222,
             "#7201a8"
            ],
            [
             0.3333333333333333,
             "#9c179e"
            ],
            [
             0.4444444444444444,
             "#bd3786"
            ],
            [
             0.5555555555555556,
             "#d8576b"
            ],
            [
             0.6666666666666666,
             "#ed7953"
            ],
            [
             0.7777777777777778,
             "#fb9f3a"
            ],
            [
             0.8888888888888888,
             "#fdca26"
            ],
            [
             1,
             "#f0f921"
            ]
           ]
          },
          "colorway": [
           "#636efa",
           "#EF553B",
           "#00cc96",
           "#ab63fa",
           "#FFA15A",
           "#19d3f3",
           "#FF6692",
           "#B6E880",
           "#FF97FF",
           "#FECB52"
          ],
          "font": {
           "color": "#2a3f5f"
          },
          "geo": {
           "bgcolor": "white",
           "lakecolor": "white",
           "landcolor": "#E5ECF6",
           "showlakes": true,
           "showland": true,
           "subunitcolor": "white"
          },
          "hoverlabel": {
           "align": "left"
          },
          "hovermode": "closest",
          "mapbox": {
           "style": "light"
          },
          "paper_bgcolor": "white",
          "plot_bgcolor": "#E5ECF6",
          "polar": {
           "angularaxis": {
            "gridcolor": "white",
            "linecolor": "white",
            "ticks": ""
           },
           "bgcolor": "#E5ECF6",
           "radialaxis": {
            "gridcolor": "white",
            "linecolor": "white",
            "ticks": ""
           }
          },
          "scene": {
           "xaxis": {
            "backgroundcolor": "#E5ECF6",
            "gridcolor": "white",
            "gridwidth": 2,
            "linecolor": "white",
            "showbackground": true,
            "ticks": "",
            "zerolinecolor": "white"
           },
           "yaxis": {
            "backgroundcolor": "#E5ECF6",
            "gridcolor": "white",
            "gridwidth": 2,
            "linecolor": "white",
            "showbackground": true,
            "ticks": "",
            "zerolinecolor": "white"
           },
           "zaxis": {
            "backgroundcolor": "#E5ECF6",
            "gridcolor": "white",
            "gridwidth": 2,
            "linecolor": "white",
            "showbackground": true,
            "ticks": "",
            "zerolinecolor": "white"
           }
          },
          "shapedefaults": {
           "line": {
            "color": "#2a3f5f"
           }
          },
          "ternary": {
           "aaxis": {
            "gridcolor": "white",
            "linecolor": "white",
            "ticks": ""
           },
           "baxis": {
            "gridcolor": "white",
            "linecolor": "white",
            "ticks": ""
           },
           "bgcolor": "#E5ECF6",
           "caxis": {
            "gridcolor": "white",
            "linecolor": "white",
            "ticks": ""
           }
          },
          "title": {
           "x": 0.05
          },
          "xaxis": {
           "automargin": true,
           "gridcolor": "white",
           "linecolor": "white",
           "ticks": "",
           "title": {
            "standoff": 15
           },
           "zerolinecolor": "white",
           "zerolinewidth": 2
          },
          "yaxis": {
           "automargin": true,
           "gridcolor": "white",
           "linecolor": "white",
           "ticks": "",
           "title": {
            "standoff": 15
           },
           "zerolinecolor": "white",
           "zerolinewidth": 2
          }
         }
        },
        "xaxis": {
         "anchor": "y",
         "domain": [
          0,
          1
         ],
         "title": {
          "text": "umap_0"
         }
        },
        "yaxis": {
         "anchor": "x",
         "domain": [
          0,
          1
         ],
         "title": {
          "text": "umap_1"
         }
        }
       }
      }
     },
     "metadata": {},
     "output_type": "display_data"
    }
   ],
   "source": [
    "# viz\n",
    "df_umap[\"cluster\"] = [str(elt) for elt in clustering.labels_]\n",
    "df_umap[\"noise\"] = [int(elt==-1) for elt in clustering.labels_]\n",
    "fig = px.scatter(\n",
    "    df_umap,\n",
    "    x=\"umap_0\",\n",
    "    y=\"umap_1\",\n",
    "    hover_data=[\n",
    "        \"title\",\n",
    "        \"ID\",\n",
    "    ],\n",
    "    color=\"cluster\",\n",
    "    symbol=\"noise\",\n",
    "    # color_continuous_scale=px.colors.qualitative.D3,\n",
    "    category_orders={\"cluster\": list(np.sort(pd.unique(clustering.labels_)).astype(str))},\n",
    ")\n",
    "fig.show()"
   ]
  },
  {
   "cell_type": "code",
   "execution_count": 13,
   "metadata": {},
   "outputs": [
    {
     "data": {
      "text/plain": [
       "5.506120411799392"
      ]
     },
     "execution_count": 13,
     "metadata": {},
     "output_type": "execute_result"
    }
   ],
   "source": [
    "# Entropy ↓\n",
    "entropy(X_cluster.values)"
   ]
  },
  {
   "cell_type": "code",
   "execution_count": 14,
   "metadata": {},
   "outputs": [
    {
     "data": {
      "text/plain": [
       "0.38029325"
      ]
     },
     "execution_count": 14,
     "metadata": {},
     "output_type": "execute_result"
    }
   ],
   "source": [
    "# Silhouette ↑\n",
    "silhouette_score(X_cluster, df_umap[\"cluster\"])"
   ]
  },
  {
   "cell_type": "code",
   "execution_count": null,
   "metadata": {},
   "outputs": [],
   "source": []
  },
  {
   "cell_type": "code",
   "execution_count": null,
   "metadata": {},
   "outputs": [],
   "source": []
  },
  {
   "cell_type": "markdown",
   "metadata": {},
   "source": [
    "## Refacto projection & clustering pipeline"
   ]
  },
  {
   "cell_type": "code",
   "execution_count": 15,
   "metadata": {},
   "outputs": [],
   "source": [
    "def clustering_pipeline(\n",
    "    df_embed: pd.DataFrame,\n",
    "    umap_kwargs: dict,\n",
    "    clustering_kwargs: Optional[dict]=None,\n",
    "    random_state: int=123,\n",
    "    df_data: Optional[pd.DataFrame]=None,\n",
    ") -> Tuple[pd.DataFrame, Any]:\n",
    "    \n",
    "    #--- dimensionality reduction ---\n",
    "\n",
    "    # instanciate umap projector\n",
    "    reducer = umap.UMAP(random_state=random_state, **umap_kwargs)\n",
    "\n",
    "    # project data\n",
    "    umap_proj = reducer.fit_transform(df_embed)\n",
    "\n",
    "    # normalize umap coords\n",
    "    umap_proj = (umap_proj - umap_proj.min(axis=0)) / (umap_proj.max(axis=0) - umap_proj.min(axis=0))\n",
    "\n",
    "    # store in a dataframe\n",
    "    df_umap = pd.DataFrame(columns=[f\"umap_{i}\" for i in range(umap_proj.shape[1])], data=umap_proj)\n",
    "\n",
    "    # add metadata if available\n",
    "    if df_data is not None:\n",
    "        df_umap = pd.concat((df_umap, df_data.reset_index(names=[\"ID\"])), axis=1)\n",
    "\n",
    "    #--- clustering ---\n",
    "    if clustering_kwargs is not None:\n",
    "        X_cluster = df_umap[[col for col in df_umap.columns if \"umap\" in col]]\n",
    "        clustering = HDBSCAN(**clustering_kwargs)\n",
    "        clustering.fit(X_cluster)\n",
    "        df_umap[\"cluster\"] = [str(elt) for elt in clustering.labels_]\n",
    "        df_umap[\"noise\"] = [int(elt==-1) for elt in clustering.labels_]\n",
    "    \n",
    "    else:\n",
    "        clustering = None\n",
    "\n",
    "    #--- result ---\n",
    "    return df_umap, clustering"
   ]
  },
  {
   "cell_type": "code",
   "execution_count": 16,
   "metadata": {},
   "outputs": [
    {
     "data": {
      "text/html": [
       "<pre style=\"white-space:pre;overflow-x:auto;line-height:normal;font-family:Menlo,'DejaVu Sans Mono',consolas,'Courier New',monospace\"> Silhouette ↑ = <span style=\"color: #008080; text-decoration-color: #008080; font-weight: bold\">0.1943456530570984</span>\n",
       "</pre>\n"
      ],
      "text/plain": [
       " Silhouette ↑ = \u001b[1;36m0.1943456530570984\u001b[0m\n"
      ]
     },
     "metadata": {},
     "output_type": "display_data"
    },
    {
     "data": {
      "text/html": [
       "<pre style=\"white-space:pre;overflow-x:auto;line-height:normal;font-family:Menlo,'DejaVu Sans Mono',consolas,'Courier New',monospace\"> Entropy ↓ = <span style=\"color: #008080; text-decoration-color: #008080; font-weight: bold\">5.9015601498429815</span>\n",
       "</pre>\n"
      ],
      "text/plain": [
       " Entropy ↓ = \u001b[1;36m5.9015601498429815\u001b[0m\n"
      ]
     },
     "metadata": {},
     "output_type": "display_data"
    },
    {
     "data": {
      "application/vnd.plotly.v1+json": {
       "config": {
        "plotlyServerURL": "https://plot.ly"
       },
       "data": [
        {
         "customdata": [
          [
           "Exploring Deep Learning Techniques for Glaucoma Detection: A Comprehensive Review",
           "http://arxiv.org/abs/2311.01425v1"
          ],
          [
           "A deep learning experiment for semantic segmentation of overlapping characters in palimpsests",
           "http://arxiv.org/abs/2311.01130v1"
          ],
          [
           "Space Narrative: Generating Images and 3D Scenes of Chinese Garden from Text using Deep Learning",
           "http://arxiv.org/abs/2311.00339v1"
          ],
          [
           "Deep Learning-Enabled Text Semantic Communication under Interference: An Empirical Study",
           "http://arxiv.org/abs/2310.19974v1"
          ],
          [
           "Density Estimation for Entry Guidance Problems using Deep Learning",
           "http://arxiv.org/abs/2310.19684v1"
          ],
          [
           "AdapINT: A Flexible and Adaptive In-Band Network Telemetry System Based on Deep Reinforcement Learning",
           "http://arxiv.org/abs/2310.19331v1"
          ],
          [
           "Predicting recovery following stroke: deep learning, multimodal data and feature selection using explainable AI",
           "http://arxiv.org/abs/2310.19174v1"
          ],
          [
           "Electrical Impedance Tomography: A Fair Comparative Study on Deep Learning and Analytic-based Approaches",
           "http://arxiv.org/abs/2310.18636v1"
          ],
          [
           "Deep3DSketch+: Obtaining Customized 3D Model by Single Free-Hand Sketch through Deep Learning",
           "http://arxiv.org/abs/2310.18609v1"
          ],
          [
           "DESiRED -- Dynamic, Enhanced, and Smart iRED: A P4-AQM with Deep Reinforcement Learning and In-band Network Telemetry",
           "http://arxiv.org/abs/2310.18159v1"
          ],
          [
           "Deep Learning Enables Large Depth-of-Field Images for Sub-Diffraction-Limit Scanning Superlens Microscopy",
           "http://arxiv.org/abs/2310.17997v1"
          ],
          [
           "Alzheimers Disease Diagnosis by Deep Learning Using MRI-Based Approaches",
           "http://arxiv.org/abs/2310.17755v1"
          ],
          [
           "Adaptive Resource Management for Edge Network Slicing using Incremental Multi-Agent Deep Reinforcement Learning",
           "http://arxiv.org/abs/2310.17523v2"
          ],
          [
           "Orchestration of Emulator Assisted Mobile Edge Tuning for AI Foundation Models: A Multi-Agent Deep Reinforcement Learning Approach",
           "http://arxiv.org/abs/2310.17492v1"
          ],
          [
           "Deep learning denoiser assisted roughness measurements extraction from thin resists with low Signal-to-Noise Ratio(SNR) SEM images: analysis with SMILE",
           "http://arxiv.org/abs/2310.14815v1"
          ],
          [
           "Regularized Shannon sampling formulas related to the special affine Fourier transform",
           "http://arxiv.org/abs/2311.00610v1"
          ],
          [
           "Fourier transforms and iterated function systems",
           "http://arxiv.org/abs/2311.00585v1"
          ],
          [
           "A simple range characterization for spherical mean transform in odd dimensions and its applications",
           "http://arxiv.org/abs/2310.20702v1"
          ],
          [
           "Transformation vs Tradition: Artificial General Intelligence (AGI) for Arts and Humanities",
           "http://arxiv.org/abs/2310.19626v1"
          ],
          [
           "On the Hankel Transform of Bessel Functions on Complex Numbers and Explicit Spectral Formulae over the Gaussian Field",
           "http://arxiv.org/abs/2310.19480v1"
          ],
          [
           "Semigroups of transformations whose characters belong to a given semigroup",
           "http://arxiv.org/abs/2310.19414v1"
          ],
          [
           "The Roelcke Precompactness and Compactifications of Transformations Groups of Discrete Spaces and Homogeneous Chains",
           "http://arxiv.org/abs/2310.18570v1"
          ],
          [
           "New Fast Transform for Orthogonal Frequency Division Multiplexing",
           "http://arxiv.org/abs/2310.18064v1"
          ],
          [
           "Negativity-preserving transforms of tuples of symmetric matrices",
           "http://arxiv.org/abs/2310.18041v1"
          ],
          [
           "ZeroQuant-HERO: Hardware-Enhanced Robust Optimized Post-Training Quantization Framework for W8A8 Transformers",
           "http://arxiv.org/abs/2310.17723v1"
          ],
          [
           "Harmonic Berezin transform on half-space with vertical weights",
           "http://arxiv.org/abs/2310.17562v2"
          ],
          [
           "HCT: Hybrid Convnet-Transformer for Parkinson's disease detection and severity prediction from gait",
           "http://arxiv.org/abs/2310.17078v1"
          ],
          [
           "The limiting distribution of a random variable transformed by Chebyshev Polynomials",
           "http://arxiv.org/abs/2310.17039v1"
          ],
          [
           "Dolfin: Diffusion Layout Transformers without Autoencoder",
           "http://arxiv.org/abs/2310.16305v1"
          ],
          [
           "Gray matter volume correlates of Comorbid Depression in Autism Spectrum Disorder",
           "http://arxiv.org/abs/2311.00997v1"
          ],
          [
           "A Unified Framework to Enforce, Discover, and Promote Symmetry in Machine Learning",
           "http://arxiv.org/abs/2311.00212v1"
          ],
          [
           "Longer Fixations, More Computation: Gaze-Guided Recurrent Neural Networks",
           "http://arxiv.org/abs/2311.00159v1"
          ],
          [
           "Mobile Traffic Prediction at the Edge through Distributed and Transfer Learning",
           "http://arxiv.org/abs/2310.14456v1"
          ],
          [
           "Recursive Segmentation Living Image: An eXplainable AI (XAI) Approach for Computing Structural Beauty of Images or the Livingness of Space",
           "http://arxiv.org/abs/2310.10149v1"
          ],
          [
           "VisionFM: a Multi-Modal Multi-Task Vision Foundation Model for Generalist Ophthalmic Artificial Intelligence",
           "http://arxiv.org/abs/2310.04992v1"
          ],
          [
           "Symmetry Leads to Structured Constraint of Learning",
           "http://arxiv.org/abs/2309.16932v1"
          ],
          [
           "Neural Stochastic Differential Equations for Robust and Explainable Analysis of Electromagnetic Unintended Radiated Emissions",
           "http://arxiv.org/abs/2309.15386v1"
          ],
          [
           "Causal Reasoning: Charting a Revolutionary Course for Next-Generation AI-Native Wireless Networks",
           "http://arxiv.org/abs/2309.13223v1"
          ],
          [
           "Learning-Initialized Trajectory Planning in Unknown Environments",
           "http://arxiv.org/abs/2309.10683v1"
          ],
          [
           "Nebula: Self-Attention for Dynamic Malware Analysis",
           "http://arxiv.org/abs/2310.10664v1"
          ],
          [
           "Augmenting deep neural networks with symbolic knowledge: Towards trustworthy and interpretable AI for education",
           "http://arxiv.org/abs/2311.00393v1"
          ],
          [
           "Transparency at the Source: Evaluating and Interpreting Language Models With Access to the True Distribution",
           "http://arxiv.org/abs/2310.14840v1"
          ],
          [
           "Active Sensing for Localization with Reconfigurable Intelligent Surface",
           "http://arxiv.org/abs/2310.13160v1"
          ],
          [
           "Graph Neural Networks with polynomial activations have limited expressivity",
           "http://arxiv.org/abs/2310.13139v1"
          ],
          [
           "A Digital Language Coherence Marker for Monitoring Dementia",
           "http://arxiv.org/abs/2310.09623v1"
          ],
          [
           "Integrating Symbolic Reasoning into Neural Generative Models for Design Generation",
           "http://arxiv.org/abs/2310.09383v1"
          ],
          [
           "Deep Aramaic: Towards a Synthetic Data Paradigm Enabling Machine Learning in Epigraphy",
           "http://arxiv.org/abs/2310.07310v1"
          ]
         ],
         "hovertemplate": "cluster=-1<br>noise=1<br>umap_0=%{x}<br>umap_1=%{y}<br>title=%{customdata[0]}<br>ID=%{customdata[1]}<extra></extra>",
         "legendgroup": "-1, 1",
         "marker": {
          "color": "#636efa",
          "symbol": "circle"
         },
         "mode": "markers",
         "name": "-1, 1",
         "orientation": "v",
         "showlegend": true,
         "type": "scatter",
         "x": [
          0.7986842393875122,
          1,
          0.9940332174301147,
          0.1219734326004982,
          0.012835586443543434,
          0.08256015181541443,
          0.8268387317657471,
          0.25336724519729614,
          0.9220166206359863,
          0.08929270505905151,
          0.26818835735321045,
          0.8240979909896851,
          0.08546316623687744,
          0.07033136487007141,
          0.27680501341819763,
          0.6134812831878662,
          0.5801137089729309,
          0.5851755738258362,
          0.9864966869354248,
          0.5840407013893127,
          0.5853067636489868,
          0.5845291614532471,
          0.6439583897590637,
          0.4027442932128906,
          0.6913115382194519,
          0.5799086093902588,
          0.8322124481201172,
          0.5623689889907837,
          0.9192790389060974,
          0.7669823169708252,
          0.36652255058288574,
          0.6058829426765442,
          0.10571864247322083,
          0.9770438075065613,
          0.7863775491714478,
          0.39489874243736267,
          0.3544218838214874,
          0.11208820343017578,
          0.006658072583377361,
          0.26853954792022705,
          0.5741087198257446,
          0.6265968680381775,
          0.005589956883341074,
          0.3845822513103485,
          0.7748978137969971,
          0.9305309653282166,
          0.9973917007446289
         ],
         "xaxis": "x",
         "y": [
          0.19785228371620178,
          0.7144854664802551,
          0.710006833076477,
          0.7635385394096375,
          0.4916529357433319,
          0.7793685793876648,
          0.17468692362308502,
          0.3243221938610077,
          0.6829674243927002,
          0.7845442295074463,
          0.31118571758270264,
          0.18577447533607483,
          0.778067946434021,
          0.7515082955360413,
          0.31558847427368164,
          0.2272094339132309,
          0.21643207967281342,
          0.21055857837200165,
          0.708518385887146,
          0.20970480144023895,
          0.2053254246711731,
          0.20063833892345428,
          0.2505137026309967,
          0.47244367003440857,
          0.6956772804260254,
          0.2002042531967163,
          0.1721103936433792,
          0.22959715127944946,
          0.7104068398475647,
          0.27096274495124817,
          0.47564077377319336,
          0.8654353618621826,
          0.7506747841835022,
          0.6995858550071716,
          0.2060621827840805,
          0.49044176936149597,
          0.3531937301158905,
          0.7607776522636414,
          0.511440634727478,
          0.7274347543716431,
          0.7995469570159912,
          0.7879078984260559,
          0.5070827603340149,
          0.8145298361778259,
          0.2699556052684784,
          0.6994650363922119,
          0.7120200395584106
         ],
         "yaxis": "y"
        },
        {
         "customdata": [
          [
           "A Robust Deep Learning Method with Uncertainty Estimation for the Pathological Classification of Renal Cell Carcinoma based on CT Images",
           "http://arxiv.org/abs/2311.00567v1"
          ],
          [
           "Feature-oriented Deep Learning Framework for Pulmonary Cone-beam CT (CBCT) Enhancement with Multi-task Customized Perceptual Loss",
           "http://arxiv.org/abs/2311.00412v1"
          ],
          [
           "View Classification and Object Detection in Cardiac Ultrasound to Localize Valves via Deep Learning",
           "http://arxiv.org/abs/2311.00068v1"
          ],
          [
           "Assessing and Enhancing Robustness of Deep Learning Models with Corruption Emulation in Digital Pathology",
           "http://arxiv.org/abs/2310.20427v1"
          ],
          [
           "Low-Dose CT Image Enhancement Using Deep Learning",
           "http://arxiv.org/abs/2310.20265v1"
          ],
          [
           "LinFlo-Net: A two-stage deep learning method to generate simulation ready meshes of the heart",
           "http://arxiv.org/abs/2310.20065v1"
          ],
          [
           "DySurv: Dynamic Deep Learning Model for Survival Prediction in the ICU",
           "http://arxiv.org/abs/2310.18681v1"
          ],
          [
           "A Deep Learning Approach to Teeth Segmentation and Orientation from Panoramic X-rays",
           "http://arxiv.org/abs/2310.17176v1"
          ],
          [
           "Technical Note: Feasibility of translating 3.0T-trained Deep-Learning Segmentation Models Out-of-the-Box on Low-Field MRI 0.55T Knee-MRI of Healthy Controls",
           "http://arxiv.org/abs/2310.17152v1"
          ],
          [
           "Trust, but Verify: Robust Image Segmentation using Deep Learning",
           "http://arxiv.org/abs/2310.16999v2"
          ],
          [
           "Improving Performance in Colorectal Cancer Histology Decomposition using Deep and Ensemble Machine Learning",
           "http://arxiv.org/abs/2310.16954v1"
          ],
          [
           "Deep Learning Techniques for Cervical Cancer Diagnosis based on Pathology and Colposcopy Images",
           "http://arxiv.org/abs/2310.16662v1"
          ],
          [
           "Blip-Up Blip-Down Circular EPI (BUDA-cEPI) for Distortion-Free dMRI with Rapid Unrolled Deep Learning Reconstruction",
           "http://arxiv.org/abs/2310.15939v1"
          ],
          [
           "Deep Learning Models for Classification of COVID-19 Cases by Medical Images",
           "http://arxiv.org/abs/2310.16851v1"
          ],
          [
           "DeepVox and SAVE-CT: a contrast- and dose-independent 3D deep learning approach for thoracic aorta segmentation and aneurysm prediction using computed tomography scans",
           "http://arxiv.org/abs/2310.15328v1"
          ],
          [
           "Hybrid-Fusion Transformer for Multisequence MRI",
           "http://arxiv.org/abs/2311.01308v1"
          ],
          [
           "Learning A Multi-Task Transformer Via Unified And Customized Instruction Tuning For Chest Radiograph Interpretation",
           "http://arxiv.org/abs/2311.01092v1"
          ],
          [
           "What a Whole Slide Image Can Tell? Subtype-guided Masked Transformer for Pathological Image Captioning",
           "http://arxiv.org/abs/2310.20607v1"
          ],
          [
           "Muscle volume quantification: guiding transformers with anatomical priors",
           "http://arxiv.org/abs/2310.20355v1"
          ],
          [
           "MIST: Medical Image Segmentation Transformer with Convolutional Attention Mixing (CAM) Decoder",
           "http://arxiv.org/abs/2310.19898v1"
          ],
          [
           "Generating Medical Instructions with Conditional Transformer",
           "http://arxiv.org/abs/2310.19727v1"
          ],
          [
           "One-dimensional convolutional neural network model for breast cancer subtypes classification and biochemical content evaluation using micro-FTIR hyperspectral images",
           "http://arxiv.org/abs/2310.15094v1"
          ],
          [
           "Pathologist-Like Explanations Unveiled: an Explainable Deep Learning System for White Blood Cell Classification",
           "http://arxiv.org/abs/2310.13279v1"
          ],
          [
           "Interpretable Predictive Models to Understand Risk Factors for Maternal and Fetal Outcomes",
           "http://arxiv.org/abs/2310.10203v1"
          ],
          [
           "Propagation and Attribution of Uncertainty in Medical Imaging Pipelines",
           "http://arxiv.org/abs/2309.16831v1"
          ],
          [
           "Gastro-Intestinal Tract Segmentation Using an Explainable 3D Unet",
           "http://arxiv.org/abs/2309.14474v1"
          ],
          [
           "Understanding Calibration of Deep Neural Networks for Medical Image Classification",
           "http://arxiv.org/abs/2309.13132v1"
          ],
          [
           "Signature Activation: A Sparse Signal View for Holistic Saliency",
           "http://arxiv.org/abs/2309.11443v1"
          ],
          [
           "QXAI: Explainable AI Framework for Quantitative Analysis in Patient Monitoring Systems",
           "http://arxiv.org/abs/2309.10293v2"
          ],
          [
           "Graph AI in Medicine",
           "http://arxiv.org/abs/2310.13767v1"
          ],
          [
           "An Interpretable Deep-Learning Framework for Predicting Hospital Readmissions From Electronic Health Records",
           "http://arxiv.org/abs/2310.10187v1"
          ]
         ],
         "hovertemplate": "cluster=0<br>noise=0<br>umap_0=%{x}<br>umap_1=%{y}<br>title=%{customdata[0]}<br>ID=%{customdata[1]}<extra></extra>",
         "legendgroup": "0, 0",
         "marker": {
          "color": "#EF553B",
          "symbol": "diamond"
         },
         "mode": "markers",
         "name": "0, 0",
         "orientation": "v",
         "showlegend": true,
         "type": "scatter",
         "x": [
          0.9642318487167358,
          0.9669041633605957,
          0.9473840594291687,
          0.9390830993652344,
          0.9647761583328247,
          0.9311864376068115,
          0.8551584482192993,
          0.955216109752655,
          0.9714648127555847,
          0.8983835577964783,
          0.9436753988265991,
          0.9186394214630127,
          0.9680222868919373,
          0.9097022414207458,
          0.9634479284286499,
          0.9447072744369507,
          0.9275690317153931,
          0.9464408755302429,
          0.9560872316360474,
          0.9408735036849976,
          0.8477767109870911,
          0.9612442851066589,
          0.9522081613540649,
          0.8457567691802979,
          0.9580549001693726,
          0.9483019113540649,
          0.9311330318450928,
          0.9185017347335815,
          0.8415828347206116,
          0.8445830345153809,
          0.8402101397514343
         ],
         "xaxis": "x",
         "y": [
          0.10050475597381592,
          0.009390350431203842,
          0.05538279935717583,
          0.12200719863176346,
          0.008391049690544605,
          0.06232088431715965,
          0.029112601652741432,
          0.04461346194148064,
          0.04843207076191902,
          0.10763639211654663,
          0.13619939982891083,
          0.1520070731639862,
          0.04291011020541191,
          0.06305946409702301,
          0,
          0.08315519988536835,
          0.0442311055958271,
          0.1173071563243866,
          0.0583878718316555,
          0.06473910808563232,
          0.030878018587827682,
          0.1236543208360672,
          0.13969303667545319,
          0.05360808223485947,
          0.07106997817754745,
          0.0025599822402000427,
          0.061697009950876236,
          0.07619717717170715,
          0.01949235051870346,
          0.01958474889397621,
          0.021744316443800926
         ],
         "yaxis": "y"
        },
        {
         "customdata": [
          [
           "Peer-to-Peer Deep Learning for Beyond-5G IoT",
           "http://arxiv.org/abs/2310.18861v1"
          ],
          [
           "A Comprehensive Python Library for Deep Learning-Based Event Detection in Multivariate Time Series Data and Information Retrieval in NLP",
           "http://arxiv.org/abs/2310.16485v1"
          ],
          [
           "Graph Deep Learning for Time Series Forecasting",
           "http://arxiv.org/abs/2310.15978v1"
          ],
          [
           "Global Transformer Architecture for Indoor Room Temperature Forecasting",
           "http://arxiv.org/abs/2310.20476v1"
          ],
          [
           "A Systematic Review for Transformer-based Long-term Series Forecasting",
           "http://arxiv.org/abs/2310.20218v1"
          ],
          [
           "SolarFormer: Multi-scale Transformer for Solar PV Profiling",
           "http://arxiv.org/abs/2310.20057v1"
          ],
          [
           "Transfer Learning in Transformer-Based Demand Forecasting For Home Energy Management System",
           "http://arxiv.org/abs/2310.19159v1"
          ],
          [
           "Secure short-term load forecasting for smart grids with transformer-based federated learning",
           "http://arxiv.org/abs/2310.17477v1"
          ],
          [
           "Neural networks for insurance pricing with frequency and severity data: a benchmark study from data preprocessing to technical tariff",
           "http://arxiv.org/abs/2310.12671v2"
          ],
          [
           "Explainable Modeling for Wind Power Forecasting: A Glass-Box Approach with Exceptional Accuracy",
           "http://arxiv.org/abs/2310.18629v1"
          ],
          [
           "Inside the black box: Neural network-based real-time prediction of US recessions",
           "http://arxiv.org/abs/2310.17571v1"
          ],
          [
           "Few-Shot Learning Patterns in Financial Time-Series for Trend-Following Strategies",
           "http://arxiv.org/abs/2310.10500v1"
          ]
         ],
         "hovertemplate": "cluster=1<br>noise=0<br>umap_0=%{x}<br>umap_1=%{y}<br>title=%{customdata[0]}<br>ID=%{customdata[1]}<extra></extra>",
         "legendgroup": "1, 0",
         "marker": {
          "color": "#00cc96",
          "symbol": "diamond"
         },
         "mode": "markers",
         "name": "1, 0",
         "orientation": "v",
         "showlegend": true,
         "type": "scatter",
         "x": [
          0.21888045966625214,
          0.3005704879760742,
          0.3238248825073242,
          0.2553921341896057,
          0.28254806995391846,
          0.25689801573753357,
          0.24870748817920685,
          0.24489299952983856,
          0.29631564021110535,
          0.2701813876628876,
          0.3056434392929077,
          0.3070826828479767
         ],
         "xaxis": "x",
         "y": [
          0.9524253010749817,
          0.9583836197853088,
          0.9474902153015137,
          0.9985162615776062,
          0.9791544675827026,
          1,
          0.9995692372322083,
          0.9767052531242371,
          0.9272711873054504,
          0.9928783774375916,
          0.9440093636512756,
          0.9544132947921753
         ],
         "yaxis": "y"
        },
        {
         "customdata": [
          [
           "Deep learning based Image Compression for Microscopy Images: An Empirical Study",
           "http://arxiv.org/abs/2311.01352v1"
          ],
          [
           "Exploring Deep Learning Image Super-Resolution for Iris Recognition",
           "http://arxiv.org/abs/2311.01241v1"
          ],
          [
           "Deep Learning-Based Classification of Gamma Photon Interactions in Room-Temperature Semiconductor Radiation Detectors",
           "http://arxiv.org/abs/2311.00682v1"
          ],
          [
           "The stability of deep learning for 21cm foreground removal across various sky models and frequency-dependent systematics",
           "http://arxiv.org/abs/2311.00493v1"
          ],
          [
           "Deep Compressed Learning for 3D Seismic Inversion",
           "http://arxiv.org/abs/2311.00107v1"
          ],
          [
           "Deep Learning for Spatiotemporal Big Data: A Vision on Opportunities and Challenges",
           "http://arxiv.org/abs/2310.19957v1"
          ],
          [
           "Deep-learning-based decomposition of overlapping-sparse images: application at the vertex of neutrino interactions",
           "http://arxiv.org/abs/2310.19695v1"
          ],
          [
           "There Are No Data Like More Data- Datasets for Deep Learning in Earth Observation",
           "http://arxiv.org/abs/2310.19231v1"
          ],
          [
           "The Power of Explainability in Forecast-Informed Deep Learning Models for Flood Mitigation",
           "http://arxiv.org/abs/2310.19166v1"
          ],
          [
           "Multi-task deep learning for large-scale building detail extraction from high-resolution satellite imagery",
           "http://arxiv.org/abs/2310.18899v1"
          ],
          [
           "Deep Learning on SAR Imagery: Transfer Learning Versus Randomly Initialized Weights",
           "http://arxiv.org/abs/2310.17126v1"
          ],
          [
           "An Efficient Deep Learning-based approach for Recognizing Agricultural Pests in the Wild",
           "http://arxiv.org/abs/2310.16991v1"
          ],
          [
           "Deep machine learning for meteor monitoring: advances with transfer learning and gradient-weighted class activation mapping",
           "http://arxiv.org/abs/2310.16826v2"
          ],
          [
           "Single-pixel imaging based on deep learning",
           "http://arxiv.org/abs/2310.16869v1"
          ],
          [
           "Deep Learning Approach to Photometric Redshift Estimation",
           "http://arxiv.org/abs/2310.16304v1"
          ],
          [
           "Deep Learning for Plant Identification and Disease Classification from Leaf Images: Multi-prediction Approaches",
           "http://arxiv.org/abs/2310.16273v1"
          ],
          [
           "Sea-Land-Cloud Segmentation in Satellite Hyperspectral Imagery by Deep Learning",
           "http://arxiv.org/abs/2310.16210v1"
          ],
          [
           "Physically Explainable Deep Learning for Convective Initiation Nowcasting Using GOES-16 Satellite Observations",
           "http://arxiv.org/abs/2310.16015v1"
          ],
          [
           "Super-resolved rainfall prediction with physics-aware deep learning",
           "http://arxiv.org/abs/2310.15615v1"
          ],
          [
           "Detecting Intentional AIS Shutdown in Open Sea Maritime Surveillance Using Self-Supervised Deep Learning",
           "http://arxiv.org/abs/2310.15586v1"
          ],
          [
           "Resource-aware Research on Universe and Matter: Call-to-Action in Digital Transformation",
           "http://arxiv.org/abs/2311.01169v1"
          ],
          [
           "Compact Binary Systems Waveform Generation with Generative Pre-trained Transformer",
           "http://arxiv.org/abs/2310.20172v1"
          ],
          [
           "Transformer-based nowcasting of radar composites from satellite images for severe weather",
           "http://arxiv.org/abs/2310.19515v1"
          ],
          [
           "FaultSeg Swin-UNETR: Transformer-Based Self-Supervised Pretraining Model for Fault Recognition",
           "http://arxiv.org/abs/2310.17974v1"
          ],
          [
           "Simulation-based Inference of Reionization Parameters from 3D Tomographic 21 cm Light-cone Images -- II: Application of Solid Harmonic Wavelet Scattering Transform",
           "http://arxiv.org/abs/2310.17602v1"
          ],
          [
           "Wave transformations near a coronal magnetic null-point",
           "http://arxiv.org/abs/2310.17573v1"
          ],
          [
           "Dark Energy Survey Year 3 results: simulation-based cosmological inference with wavelet harmonics, scattering transforms, and moments of weak lensing mass maps I: validation on simulations",
           "http://arxiv.org/abs/2310.17557v1"
          ],
          [
           "Transformer-based Atmospheric Density Forecasting",
           "http://arxiv.org/abs/2310.16912v1"
          ],
          [
           "Trainable Noise Model as an XAI evaluation method: application on Sobol for remote sensing image segmentation",
           "http://arxiv.org/abs/2310.01828v1"
          ],
          [
           "Granularity at Scale: Estimating Neighborhood Well-Being from High-Resolution Orthographic Imagery and Hybrid Learning",
           "http://arxiv.org/abs/2309.16808v1"
          ],
          [
           "Prediction of Tropical Pacific Rain Rates with Over-parameterized Neural Networks",
           "http://arxiv.org/abs/2309.14358v1"
          ],
          [
           "RPCANet: Deep Unfolding RPCA Based Infrared Small Target Detection",
           "http://arxiv.org/abs/2311.00917v1"
          ],
          [
           "A Mass-Conserving-Perceptron for Machine Learning-Based Modeling of Geoscientific Systems",
           "http://arxiv.org/abs/2310.08644v2"
          ],
          [
           "Unlocking the capabilities of explainable fewshot learning in remote sensing",
           "http://arxiv.org/abs/2310.08619v1"
          ],
          [
           "Characterizing climate pathways using feature importance on echo state networks",
           "http://arxiv.org/abs/2310.08495v1"
          ],
          [
           "Geographic Location Encoding with Spherical Harmonics and Sinusoidal Representation Networks",
           "http://arxiv.org/abs/2310.06743v1"
          ]
         ],
         "hovertemplate": "cluster=2<br>noise=0<br>umap_0=%{x}<br>umap_1=%{y}<br>title=%{customdata[0]}<br>ID=%{customdata[1]}<extra></extra>",
         "legendgroup": "2, 0",
         "marker": {
          "color": "#ab63fa",
          "symbol": "diamond"
         },
         "mode": "markers",
         "name": "2, 0",
         "orientation": "v",
         "showlegend": true,
         "type": "scatter",
         "x": [
          0.4332202076911926,
          0.4066981077194214,
          0.36386561393737793,
          0.32852694392204285,
          0.36073964834213257,
          0.36365824937820435,
          0.34358152747154236,
          0.3658083379268646,
          0.2290482521057129,
          0.36765167117118835,
          0.2853131890296936,
          0.46696919202804565,
          0.34310370683670044,
          0.3817853331565857,
          0.3354564905166626,
          0.44872555136680603,
          0.29484692215919495,
          0.23339205980300903,
          0.24071116745471954,
          0.29743966460227966,
          0.33266663551330566,
          0.330983430147171,
          0.23224325478076935,
          0.3623422086238861,
          0.32610365748405457,
          0.2820310890674591,
          0.3106878101825714,
          0.2558302879333496,
          0.42029881477355957,
          0.3710119128227234,
          0.2240821272134781,
          0.3770100772380829,
          0.23927289247512817,
          0.37114575505256653,
          0.2189132124185562,
          0.3516349494457245
         ],
         "xaxis": "x",
         "y": [
          0.30775827169418335,
          0.2991011440753937,
          0.2691858410835266,
          0.148988738656044,
          0.1256294548511505,
          0.05740717425942421,
          0.1993197202682495,
          0.09615680575370789,
          0.14072437584400177,
          0.04916311055421829,
          0.1090216413140297,
          0.32228732109069824,
          0.12590038776397705,
          0.29185396432876587,
          0.14841799437999725,
          0.32014256715774536,
          0.10878565907478333,
          0.12266365438699722,
          0.12653356790542603,
          0.10012993216514587,
          0.1142963096499443,
          0.16264618933200836,
          0.12316582351922989,
          0.11880151927471161,
          0.16589418053627014,
          0.1698913872241974,
          0.1641547828912735,
          0.15463653206825256,
          0.06123647838830948,
          0.0531703419983387,
          0.11610962450504303,
          0.2173045128583908,
          0.18491694331169128,
          0.05817493051290512,
          0.10867325961589813,
          0.07032519578933716
         ],
         "yaxis": "y"
        },
        {
         "customdata": [
          [
           "Deep Transformed Gaussian Processes",
           "http://arxiv.org/abs/2310.18230v2"
          ],
          [
           "Stochastic Latent Transformer: Efficient Modelling of Stochastically Forced Zonal Jets",
           "http://arxiv.org/abs/2310.16741v1"
          ],
          [
           "Stochastic Gradient Descent for Gaussian Processes Done Right",
           "http://arxiv.org/abs/2310.20581v1"
          ],
          [
           "Thin and Deep Gaussian Processes",
           "http://arxiv.org/abs/2310.11527v1"
          ],
          [
           "Explaining Deep Neural Networks for Bearing Fault Detection with Vibration Concepts",
           "http://arxiv.org/abs/2310.11450v1"
          ],
          [
           "Deep Learning in Deterministic Computational Mechanics",
           "http://arxiv.org/abs/2309.15421v1"
          ],
          [
           "Deep learning in bifurcations of particle trajectories",
           "http://arxiv.org/abs/2309.16727v1"
          ],
          [
           "Improving Robustness via Tilted Exponential Layer: A Communication-Theoretic Perspective",
           "http://arxiv.org/abs/2311.01047v1"
          ],
          [
           "Multi-level Gated Bayesian Recurrent Neural Network for State Estimation",
           "http://arxiv.org/abs/2310.17187v1"
          ],
          [
           "Optimal Transport-based Nonlinear Filtering in High-dimensional Settings",
           "http://arxiv.org/abs/2310.13886v1"
          ],
          [
           "Prediction and control of spatiotemporal chaos by learning conjugate tubular neighborhoods",
           "http://arxiv.org/abs/2310.12178v1"
          ],
          [
           "Reinforcement Learning for Reduced-order Models of Legged Robots",
           "http://arxiv.org/abs/2310.09873v1"
          ],
          [
           "A Bayesian framework for discovering interpretable Lagrangian of dynamical systems from data",
           "http://arxiv.org/abs/2310.06241v1"
          ],
          [
           "Fully Spiking Neural Network for Legged Robots",
           "http://arxiv.org/abs/2310.05022v1"
          ]
         ],
         "hovertemplate": "cluster=3<br>noise=0<br>umap_0=%{x}<br>umap_1=%{y}<br>title=%{customdata[0]}<br>ID=%{customdata[1]}<extra></extra>",
         "legendgroup": "3, 0",
         "marker": {
          "color": "#FFA15A",
          "symbol": "diamond"
         },
         "mode": "markers",
         "name": "3, 0",
         "orientation": "v",
         "showlegend": true,
         "type": "scatter",
         "x": [
          0.289048969745636,
          0.27731722593307495,
          0.2770521640777588,
          0.295950710773468,
          0.2575867474079132,
          0.22942402958869934,
          0.22541436553001404,
          0.3569124639034271,
          0.33030086755752563,
          0.30650851130485535,
          0.24956534802913666,
          0.2445790320634842,
          0.22117653489112854,
          0.25563496351242065
         ],
         "xaxis": "x",
         "y": [
          0.511729896068573,
          0.3879288136959076,
          0.5076419711112976,
          0.5210398435592651,
          0.4542478919029236,
          0.4211407005786896,
          0.3998205065727234,
          0.3896503448486328,
          0.399925172328949,
          0.3854711353778839,
          0.39562439918518066,
          0.45475485920906067,
          0.38439932465553284,
          0.46340274810791016
         ],
         "yaxis": "y"
        },
        {
         "customdata": [
          [
           "Inverse folding for antibody sequence design using deep learning",
           "http://arxiv.org/abs/2310.19513v1"
          ],
          [
           "Measuring arrangement and size distributions of flowing droplets in microchannels through deep learning",
           "http://arxiv.org/abs/2310.19374v1"
          ],
          [
           "Topological, or Non-topological? A Deep Learning Based Prediction",
           "http://arxiv.org/abs/2310.18907v1"
          ],
          [
           "Spatio-temporal reconstruction of drop impact dynamics by means of color-coded glare points and deep learning",
           "http://arxiv.org/abs/2310.16009v1"
          ],
          [
           "Transformable Super-Isostatic Crystals Self-Assembled from Segment Colloidal Rods",
           "http://arxiv.org/abs/2311.01160v1"
          ],
          [
           "Soliton equations: admitted solutions and invariances via Bäcklund transformations",
           "http://arxiv.org/abs/2310.20459v1"
          ],
          [
           "Free fermions with no Jordan-Wigner transformation",
           "http://arxiv.org/abs/2310.19897v1"
          ],
          [
           "Integration of persistent Laplacian and pre-trained transformer for protein solubility changes upon mutation",
           "http://arxiv.org/abs/2310.18760v1"
          ],
          [
           "Functional Group Induced Transformations in Stacking and Electron Structure in Mo2CTx/NiS Heterostructures",
           "http://arxiv.org/abs/2310.18579v1"
          ],
          [
           "Extra Time Dimension: Deriving Five-Dimensional Relativistic Space-Time Transformations, Kinematics, and Time-Dependent Non-Relativistic Quantum Mechanics Compactification",
           "http://arxiv.org/abs/2310.18120v1"
          ],
          [
           "Broadband CPW-based impedance-transformed Josephson parametric amplifier",
           "http://arxiv.org/abs/2310.17084v1"
          ],
          [
           "The Brans-Dicke field in Non-metricity gravity: Cosmological solutions and Conformal transformations",
           "http://arxiv.org/abs/2310.16357v1"
          ],
          [
           "The effects of cavitation position on the velocity of a laser-induced microjet extracted using explainable artificial intelligence",
           "http://arxiv.org/abs/2310.14734v1"
          ],
          [
           "Optimising the exchange of Majorana zero modes in a quantum nanowire network",
           "http://arxiv.org/abs/2310.13634v1"
          ],
          [
           "Rational design of oxide catalysts for OER with OC22",
           "http://arxiv.org/abs/2311.00784v1"
          ],
          [
           "Generative retrieval-augmented ontologic graph and multi-agent strategies for interpretive large language model-based materials design",
           "http://arxiv.org/abs/2310.19998v1"
          ],
          [
           "Structure discovery in Atomic Force Microscopy imaging of ice",
           "http://arxiv.org/abs/2310.17161v1"
          ],
          [
           "Machine-learning the phase diagram of a strongly-interacting Fermi gas",
           "http://arxiv.org/abs/2310.16006v1"
          ],
          [
           "ReLM: Leveraging Language Models for Enhanced Chemical Reaction Prediction",
           "http://arxiv.org/abs/2310.13590v1"
          ],
          [
           "On sparse regression, Lp-regularization, and automated model discovery",
           "http://arxiv.org/abs/2310.06872v1"
          ],
          [
           "PointGAT: A quantum chemical property prediction model integrating graph attention and 3D geometry",
           "http://arxiv.org/abs/2310.05217v1"
          ]
         ],
         "hovertemplate": "cluster=4<br>noise=0<br>umap_0=%{x}<br>umap_1=%{y}<br>title=%{customdata[0]}<br>ID=%{customdata[1]}<extra></extra>",
         "legendgroup": "4, 0",
         "marker": {
          "color": "#19d3f3",
          "symbol": "diamond"
         },
         "mode": "markers",
         "name": "4, 0",
         "orientation": "v",
         "showlegend": true,
         "type": "scatter",
         "x": [
          0.1048632338643074,
          0.1398031860589981,
          0.08586243540048599,
          0.16885975003242493,
          0.05885034799575806,
          0.15509971976280212,
          0.1349005252122879,
          0.13246066868305206,
          0.060005150735378265,
          0.14531071484088898,
          0.1335964947938919,
          0.1464528888463974,
          0.1620836704969406,
          0.1134575828909874,
          0.06717308610677719,
          0.14326231181621552,
          0.06015457585453987,
          0.10139850527048111,
          0.12595103681087494,
          0.17209143936634064,
          0.09113328158855438
         ],
         "xaxis": "x",
         "y": [
          0.2919241786003113,
          0.3138444721698761,
          0.26467472314834595,
          0.31947723031044006,
          0.27553391456604004,
          0.23205019533634186,
          0.21319425106048584,
          0.31626906991004944,
          0.2802842855453491,
          0.20606838166713715,
          0.20586547255516052,
          0.2081931233406067,
          0.32081538438796997,
          0.2230606973171234,
          0.2859093248844147,
          0.37543225288391113,
          0.2800559103488922,
          0.23983021080493927,
          0.355546236038208,
          0.3716910779476166,
          0.29886242747306824
         ],
         "yaxis": "y"
        },
        {
         "customdata": [
          [
           "Learning impartial policies for sequential counterfactual explanations using Deep Reinforcement Learning",
           "http://arxiv.org/abs/2311.00523v1"
          ],
          [
           "Sample-Efficient and Safe Deep Reinforcement Learning via Reset Deep Ensemble Agents",
           "http://arxiv.org/abs/2310.20287v1"
          ],
          [
           "Data Market Design through Deep Learning",
           "http://arxiv.org/abs/2310.20096v1"
          ],
          [
           "Automaton Distillation: Neuro-Symbolic Transfer Learning for Deep Reinforcement Learning",
           "http://arxiv.org/abs/2310.19137v1"
          ],
          [
           "A hybrid deep learning method for finite-horizon mean-field game problems",
           "http://arxiv.org/abs/2310.18968v1"
          ],
          [
           "Deep Reinforcement Learning for Weapons to Targets Assignment in a Hypersonic strike",
           "http://arxiv.org/abs/2310.18509v1"
          ],
          [
           "Fair collaborative vehicle routing: A deep multi-agent reinforcement learning approach",
           "http://arxiv.org/abs/2310.17485v1"
          ],
          [
           "Solving large flexible job shop scheduling instances by generating a diverse set of scheduling policies with deep reinforcement learning",
           "http://arxiv.org/abs/2310.15706v1"
          ],
          [
           "Graph Attention-based Deep Reinforcement Learning for solving the Chinese Postman Problem with Load-dependent costs",
           "http://arxiv.org/abs/2310.15516v1"
          ],
          [
           "Diverse Priors for Deep Reinforcement Learning",
           "http://arxiv.org/abs/2310.14864v1"
          ],
          [
           "Rethinking Decision Transformer via Hierarchical Reinforcement Learning",
           "http://arxiv.org/abs/2311.00267v1"
          ],
          [
           "Transformer-based Live Update Generation for Soccer Matches from Microblog Posts",
           "http://arxiv.org/abs/2310.16368v1"
          ],
          [
           "Denoising Opponents Position in Partial Observation Environment",
           "http://arxiv.org/abs/2310.14553v1"
          ],
          [
           "Offline Reinforcement Learning for Optimizing Production Bidding Policies",
           "http://arxiv.org/abs/2310.09426v1"
          ],
          [
           "Sample Complexity of Neural Policy Mirror Descent for Policy Optimization on Low-Dimensional Manifolds",
           "http://arxiv.org/abs/2309.13915v1"
          ],
          [
           "Lifting the Veil: Unlocking the Power of Depth in Q-learning",
           "http://arxiv.org/abs/2310.17915v1"
          ],
          [
           "DNFS-VNE: Deep Neuro-Fuzzy System-Driven Virtual Network Embedding Algorithm",
           "http://arxiv.org/abs/2310.09078v1"
          ],
          [
           "BridgeHand2Vec Bridge Hand Representation",
           "http://arxiv.org/abs/2310.06624v1"
          ]
         ],
         "hovertemplate": "cluster=5<br>noise=0<br>umap_0=%{x}<br>umap_1=%{y}<br>title=%{customdata[0]}<br>ID=%{customdata[1]}<extra></extra>",
         "legendgroup": "5, 0",
         "marker": {
          "color": "#FF6692",
          "symbol": "diamond"
         },
         "mode": "markers",
         "name": "5, 0",
         "orientation": "v",
         "showlegend": true,
         "type": "scatter",
         "x": [
          0.021949291229248047,
          0,
          0.08012471348047256,
          0.03316063806414604,
          0.15825238823890686,
          0.033721935003995895,
          0.05465248227119446,
          0.035597071051597595,
          0.027286482974886894,
          0.005622098222374916,
          0.022664332762360573,
          0.12730856239795685,
          0.1233290433883667,
          0.0769767165184021,
          0.06883493065834045,
          0.08005430549383163,
          0.08682093769311905,
          0.10677093267440796
         ],
         "xaxis": "x",
         "y": [
          0.6040849685668945,
          0.5979878902435303,
          0.6385746002197266,
          0.6030310392379761,
          0.5980033278465271,
          0.5994685888290405,
          0.6547636389732361,
          0.6715624332427979,
          0.6764110326766968,
          0.5927164554595947,
          0.6073167324066162,
          0.6387706995010376,
          0.6304852366447449,
          0.6270043849945068,
          0.580111026763916,
          0.646608293056488,
          0.6902569532394409,
          0.6267895698547363
         ],
         "yaxis": "y"
        },
        {
         "customdata": [
          [
           "Leveraging Deep Learning for Abstractive Code Summarization of Unofficial Documentation",
           "http://arxiv.org/abs/2310.15015v1"
          ],
          [
           "Pretraining Data Mixtures Enable Narrow Model Selection Capabilities in Transformer Models",
           "http://arxiv.org/abs/2311.00871v1"
          ],
          [
           "Attention Alignment and Flexible Positional Embeddings Improve Transformer Length Extrapolation",
           "http://arxiv.org/abs/2311.00684v1"
          ],
          [
           "Syntactic Inductive Bias in Transformer Language Models: Especially Helpful for Low-Resource Languages?",
           "http://arxiv.org/abs/2311.00268v1"
          ],
          [
           "Transformers are Efficient In-Context Estimators for Wireless Communication",
           "http://arxiv.org/abs/2311.00226v1"
          ],
          [
           "Transformers as Recognizers of Formal Languages: A Survey on Expressivity",
           "http://arxiv.org/abs/2311.00208v1"
          ],
          [
           "A Transformer-Based Model With Self-Distillation for Multimodal Emotion Recognition in Conversations",
           "http://arxiv.org/abs/2310.20494v1"
          ],
          [
           "Causal Interpretation of Self-Attention in Pre-Trained Transformers",
           "http://arxiv.org/abs/2310.20307v1"
          ],
          [
           "Strategies to Harness the Transformers' Potential: UNSL at eRisk 2023",
           "http://arxiv.org/abs/2310.19970v1"
          ],
          [
           "The Impact of Depth and Width on Transformer Language Model Generalization",
           "http://arxiv.org/abs/2310.19956v1"
          ],
          [
           "Fusing Temporal Graphs into Transformers for Time-Sensitive Question Answering",
           "http://arxiv.org/abs/2310.19292v1"
          ],
          [
           "Pushdown Layers: Encoding Recursive Structure in Transformer Language Models",
           "http://arxiv.org/abs/2310.19089v1"
          ],
          [
           "Stacking the Odds: Transformer-Based Ensemble for AI-Generated Text Detection",
           "http://arxiv.org/abs/2310.18906v1"
          ],
          [
           "Prompt-Engineering and Transformer-based Question Generation and Evaluation",
           "http://arxiv.org/abs/2310.18867v1"
          ],
          [
           "TLM: Token-Level Masking for Transformers",
           "http://arxiv.org/abs/2310.18738v1"
          ],
          [
           "ASTormer: An AST Structure-aware Transformer Decoder for Text-to-SQL",
           "http://arxiv.org/abs/2310.18662v1"
          ],
          [
           "Transformers as Graph-to-Graph Models",
           "http://arxiv.org/abs/2310.17936v1"
          ],
          [
           "An Ensemble Method Based on the Combination of Transformers with Convolutional Neural Networks to Detect Artificially Generated Text",
           "http://arxiv.org/abs/2310.17312v1"
          ],
          [
           "Transformers Learn Higher-Order Optimization Methods for In-Context Learning: A Study with Linear Models",
           "http://arxiv.org/abs/2310.17086v1"
          ],
          [
           "Divide et Impera: Multi-Transformer Architectures for Complex NLP-Tasks",
           "http://arxiv.org/abs/2310.16897v1"
          ],
          [
           "ArTST: Arabic Text and Speech Transformer",
           "http://arxiv.org/abs/2310.16621v1"
          ],
          [
           "SMURF-THP: Score Matching-based UnceRtainty quantiFication for Transformer Hawkes Process",
           "http://arxiv.org/abs/2310.16336v1"
          ],
          [
           "Understanding Code Semantics: An Evaluation of Transformer Models in Summarization",
           "http://arxiv.org/abs/2310.16314v2"
          ],
          [
           "Improving Compositional Generalization Using Iterated Learning and Simplicial Embeddings",
           "http://arxiv.org/abs/2310.18777v1"
          ],
          [
           "Learning Repeatable Speech Embeddings Using An Intra-class Correlation Regularizer",
           "http://arxiv.org/abs/2310.17049v1"
          ],
          [
           "Towards Harmful Erotic Content Detection through Coreference-Driven Contextual Analysis",
           "http://arxiv.org/abs/2310.14325v1"
          ],
          [
           "On Coherence-based Predictors for Dense Query Performance Prediction",
           "http://arxiv.org/abs/2310.11405v1"
          ],
          [
           "Surveying the Landscape of Text Summarization with Deep Learning: A Comprehensive Review",
           "http://arxiv.org/abs/2310.09411v1"
          ],
          [
           "Copy Suppression: Comprehensively Understanding an Attention Head",
           "http://arxiv.org/abs/2310.04625v1"
          ],
          [
           "Memoria: Hebbian Memory Architecture for Human-Like Sequential Processing",
           "http://arxiv.org/abs/2310.03052v1"
          ],
          [
           "LILO: Learning Interpretable Libraries by Compressing and Documenting Code",
           "http://arxiv.org/abs/2310.19791v1"
          ],
          [
           "Interpretable-by-Design Text Classification with Iteratively Generated Concept Bottleneck",
           "http://arxiv.org/abs/2310.19660v1"
          ],
          [
           "1-PAGER: One Pass Answer Generation and Evidence Retrieval",
           "http://arxiv.org/abs/2310.16568v1"
          ],
          [
           "Probing Representations for Document-level Event Extraction",
           "http://arxiv.org/abs/2310.15316v1"
          ],
          [
           "Information Value: Measuring Utterance Predictability as Distance from Plausible Alternatives",
           "http://arxiv.org/abs/2310.13676v1"
          ],
          [
           "Repetition In Repetition Out: Towards Understanding Neural Text Degeneration from the Data Perspective",
           "http://arxiv.org/abs/2310.10226v1"
          ]
         ],
         "hovertemplate": "cluster=6<br>noise=0<br>umap_0=%{x}<br>umap_1=%{y}<br>title=%{customdata[0]}<br>ID=%{customdata[1]}<extra></extra>",
         "legendgroup": "6, 0",
         "marker": {
          "color": "#B6E880",
          "symbol": "diamond"
         },
         "mode": "markers",
         "name": "6, 0",
         "orientation": "v",
         "showlegend": true,
         "type": "scatter",
         "x": [
          0.8062433004379272,
          0.7427970767021179,
          0.7250277996063232,
          0.7023745179176331,
          0.738232433795929,
          0.7748603224754333,
          0.7974741458892822,
          0.7926342487335205,
          0.6659586429595947,
          0.7271789908409119,
          0.7215982675552368,
          0.7465931177139282,
          0.7548235654830933,
          0.7372031807899475,
          0.730170726776123,
          0.7240024209022522,
          0.7646008729934692,
          0.7432648539543152,
          0.7299085855484009,
          0.7607807517051697,
          0.692855179309845,
          0.6952366828918457,
          0.8083032369613647,
          0.7320230603218079,
          0.7247406244277954,
          0.6909125447273254,
          0.6858804821968079,
          0.6808173060417175,
          0.6897215247154236,
          0.7614021301269531,
          0.7969350218772888,
          0.6478955149650574,
          0.6985885500907898,
          0.671501874923706,
          0.630304753780365,
          0.6858973503112793
         ],
         "xaxis": "x",
         "y": [
          0.8646606802940369,
          0.8090694546699524,
          0.8615561127662659,
          0.8006349205970764,
          0.8045963644981384,
          0.8336387872695923,
          0.7492958307266235,
          0.7484707236289978,
          0.9062298536300659,
          0.8246837854385376,
          0.8747025728225708,
          0.8481205105781555,
          0.8931713104248047,
          0.9091398119926453,
          0.8187952041625977,
          0.8829202055931091,
          0.7832903265953064,
          0.9063435196876526,
          0.7939149141311646,
          0.8685911297798157,
          0.7706342935562134,
          0.8170886635780334,
          0.8570453524589539,
          0.7855207324028015,
          0.7550927400588989,
          0.9239637851715088,
          0.9137194752693176,
          0.9056745171546936,
          0.8174623847007751,
          0.7894514203071594,
          0.8531507849693298,
          0.9001597762107849,
          0.8995802402496338,
          0.9200552105903625,
          0.8779956102371216,
          0.8040833473205566
         ],
         "yaxis": "y"
        },
        {
         "customdata": [
          [
           "Deep Neural Networks for Automatic Speaker Recognition Do Not Learn Supra-Segmental Temporal Features",
           "http://arxiv.org/abs/2311.00489v2"
          ],
          [
           "A multi-artifact EEG denoising by frequency-based deep learning",
           "http://arxiv.org/abs/2310.17335v1"
          ],
          [
           "Real-time Neonatal Chest Sound Separation using Deep Learning",
           "http://arxiv.org/abs/2310.17116v1"
          ],
          [
           "An Explainable Deep Learning-Based Method For Schizophrenia Diagnosis Using Generative Data-Augmentation",
           "http://arxiv.org/abs/2310.16867v1"
          ],
          [
           "Learning Robust Deep Visual Representations from EEG Brain Recordings",
           "http://arxiv.org/abs/2310.16532v1"
          ],
          [
           "Video2Music: Suitable Music Generation from Videos using an Affective Multimodal Transformer model",
           "http://arxiv.org/abs/2311.00968v1"
          ],
          [
           "fMRI-PTE: A Large-scale fMRI Pretrained Transformer Encoder for Multi-Subject Brain Activity Decoding",
           "http://arxiv.org/abs/2311.00342v1"
          ],
          [
           "DCHT: Deep Complex Hybrid Transformer for Speech Enhancement",
           "http://arxiv.org/abs/2310.19602v1"
          ],
          [
           "DPATD: Dual-Phase Audio Transformer for Denoising",
           "http://arxiv.org/abs/2310.19588v1"
          ],
          [
           "Do self-supervised speech and language models extract similar representations as human brain?",
           "http://arxiv.org/abs/2310.04645v1"
          ],
          [
           "MindGPT: Interpreting What You See with Non-invasive Brain Recordings",
           "http://arxiv.org/abs/2309.15729v1"
          ],
          [
           "Dynamic Processing Neural Network Architecture For Hearing Loss Compensation",
           "http://arxiv.org/abs/2310.16550v1"
          ],
          [
           "High-Fidelity Noise Reduction with Differentiable Signal Processing",
           "http://arxiv.org/abs/2310.11364v1"
          ],
          [
           "Neural Harmonium: An Interpretable Deep Structure for Nonlinear Dynamic System Identification with Application to Audio Processing",
           "http://arxiv.org/abs/2310.07032v1"
          ]
         ],
         "hovertemplate": "cluster=7<br>noise=0<br>umap_0=%{x}<br>umap_1=%{y}<br>title=%{customdata[0]}<br>ID=%{customdata[1]}<extra></extra>",
         "legendgroup": "7, 0",
         "marker": {
          "color": "#FF97FF",
          "symbol": "diamond"
         },
         "mode": "markers",
         "name": "7, 0",
         "orientation": "v",
         "showlegend": true,
         "type": "scatter",
         "x": [
          0.7836957573890686,
          0.667742908000946,
          0.8261956572532654,
          0.6816798448562622,
          0.6713625192642212,
          0.7974604964256287,
          0.6881694793701172,
          0.8007798194885254,
          0.7967022657394409,
          0.7629444003105164,
          0.7252076268196106,
          0.7883704304695129,
          0.7851138710975647,
          0.7830867171287537
         ],
         "xaxis": "x",
         "y": [
          0.3502000570297241,
          0.3641795814037323,
          0.32232019305229187,
          0.34226858615875244,
          0.35461002588272095,
          0.37014102935791016,
          0.339093416929245,
          0.3464604318141937,
          0.3524896800518036,
          0.3259497582912445,
          0.33251819014549255,
          0.3561892509460449,
          0.3530520796775818,
          0.36146682500839233
         ],
         "yaxis": "y"
        },
        {
         "customdata": [
          [
           "Deep Learning for real-time neural decoding of grasp",
           "http://arxiv.org/abs/2311.01061v1"
          ],
          [
           "GIST: Generated Inputs Sets Transferability in Deep Learning",
           "http://arxiv.org/abs/2311.00801v1"
          ],
          [
           "Occluded Person Re-Identification with Deep Learning: A Survey and Perspectives",
           "http://arxiv.org/abs/2311.00603v1"
          ],
          [
           "Performance Optimization of Deep Learning Sparse Matrix Kernels on Intel Max Series GPU",
           "http://arxiv.org/abs/2311.00368v1"
          ],
          [
           "Mathematical Introduction to Deep Learning: Methods, Implementations, and Theory",
           "http://arxiv.org/abs/2310.20360v1"
          ],
          [
           "TorchProbe: Fuzzing Dynamic Deep Learning Compilers",
           "http://arxiv.org/abs/2310.20078v1"
          ],
          [
           "A Principled Hierarchical Deep Learning Approach to Joint Image Compression and Classification",
           "http://arxiv.org/abs/2310.19675v1"
          ],
          [
           "Approximation Theory, Computing, and Deep Learning on the Wasserstein Space",
           "http://arxiv.org/abs/2310.19548v1"
          ],
          [
           "Deep Learning for Visual Navigation of Underwater Robots",
           "http://arxiv.org/abs/2310.19495v1"
          ],
          [
           "Modular Anti-noise Deep Learning Network for Robotic Grasp Detection Based on RGB Images",
           "http://arxiv.org/abs/2310.19223v1"
          ],
          [
           "Software engineering for deep learning applications: usage of SWEng and MLops tools in GitHub repositories",
           "http://arxiv.org/abs/2310.19124v1"
          ],
          [
           "Differentiable Learning of Generalized Structured Matrices for Efficient Deep Neural Networks",
           "http://arxiv.org/abs/2310.18882v1"
          ],
          [
           "Deep Learning-based Compressed Domain Multimedia for Man and Machine: A Taxonomy and Application to Point Cloud Classification",
           "http://arxiv.org/abs/2310.18849v1"
          ],
          [
           "Deep Intrinsic Decomposition with Adversarial Learning for Hyperspectral Image Classification",
           "http://arxiv.org/abs/2310.18549v1"
          ],
          [
           "Analysis of the Generalization Error of deep learning based on Randomized Quasi-Monte Carlo for Solving Linear Kolmogorov PDEs",
           "http://arxiv.org/abs/2310.18100v1"
          ],
          [
           "Restoring the Broken Covenant Between Compilers and Deep Learning Accelerators",
           "http://arxiv.org/abs/2310.17912v1"
          ],
          [
           "torchdistill Meets Hugging Face Libraries for Reproducible, Coding-Free Deep Learning Studies: A Case Study on NLP",
           "http://arxiv.org/abs/2310.17644v1"
          ],
          [
           "Data Optimization in Deep Learning: A Survey",
           "http://arxiv.org/abs/2310.16499v1"
          ],
          [
           "Unknown Health States Recognition With Collective Decision Based Deep Learning Networks In Predictive Maintenance Applications",
           "http://arxiv.org/abs/2310.17670v1"
          ],
          [
           "A model for multi-attack classification to improve intrusion detection performance using deep learning approaches",
           "http://arxiv.org/abs/2310.16380v1"
          ],
          [
           "Breaking the Curse of Dimensionality in Deep Neural Networks by Learning Invariant Representations",
           "http://arxiv.org/abs/2310.16154v1"
          ],
          [
           "Pix2HDR -- A pixel-wise acquisition and deep learning-based synthesis approach for high-speed HDR videos",
           "http://arxiv.org/abs/2310.16139v1"
          ],
          [
           "LaksNet: an end-to-end deep learning model for self-driving cars in Udacity simulator",
           "http://arxiv.org/abs/2310.16103v1"
          ],
          [
           "Cross-feature Contrastive Loss for Decentralized Deep Learning on Heterogeneous Data",
           "http://arxiv.org/abs/2310.15890v2"
          ],
          [
           "NetDistiller: Empowering Tiny Deep Learning via In-Situ Distillation",
           "http://arxiv.org/abs/2310.19820v1"
          ],
          [
           "Transformation Decoupling Strategy based on Screw Theory for Deterministic Point Cloud Registration with Gravity Prior",
           "http://arxiv.org/abs/2311.01432v1"
          ],
          [
           "Efficient Vision Transformer for Accurate Traffic Sign Detection",
           "http://arxiv.org/abs/2311.01429v1"
          ],
          [
           "Scattering Vision Transformer: Spectral Mixing Matters",
           "http://arxiv.org/abs/2311.01310v1"
          ],
          [
           "Distilling Knowledge from CNN-Transformer Models for Enhanced Human Action Recognition",
           "http://arxiv.org/abs/2311.01283v1"
          ],
          [
           "M2T2: Multi-Task Masked Transformer for Object-centric Pick and Place",
           "http://arxiv.org/abs/2311.00926v1"
          ],
          [
           "PAUMER: Patch Pausing Transformer for Semantic Segmentation",
           "http://arxiv.org/abs/2311.00586v1"
          ],
          [
           "Improving Robustness for Vision Transformer with a Simple Dynamic Scanning Augmentation",
           "http://arxiv.org/abs/2311.00441v1"
          ],
          [
           "A Spatial-Temporal Transformer based Framework For Human Pose Assessment And Correction in Education Scenarios",
           "http://arxiv.org/abs/2311.00401v1"
          ],
          [
           "1DFormer: Learning 1D Landmark Representations via Transformer for Facial Landmark Tracking",
           "http://arxiv.org/abs/2311.00241v1"
          ],
          [
           "UWFormer: Underwater Image Enhancement via a Semi-Supervised Multi-Scale Transformer",
           "http://arxiv.org/abs/2310.20210v1"
          ],
          [
           "Partial Tensorized Transformers for Natural Language Processing",
           "http://arxiv.org/abs/2310.20077v1"
          ],
          [
           "Towards Few-Annotation Learning for Object Detection: Are Transformer-based Models More Efficient ?",
           "http://arxiv.org/abs/2310.19936v1"
          ],
          [
           "Towards Grouping in Large Scenes with Occlusion-aware Spatio-temporal Transformers",
           "http://arxiv.org/abs/2310.19447v1"
          ],
          [
           "Blacksmith: Fast Adversarial Training of Vision Transformers via a Mixture of Single-step and Multi-step Methods",
           "http://arxiv.org/abs/2310.18975v1"
          ],
          [
           "Analyzing Vision Transformers for Image Classification in Class Embedding Space",
           "http://arxiv.org/abs/2310.18969v1"
          ],
          [
           "Triplet Attention Transformer for Spatiotemporal Predictive Learning",
           "http://arxiv.org/abs/2310.18698v1"
          ],
          [
           "MultiScale Spectral-Spatial Convolutional Transformer for Hyperspectral Image Classification",
           "http://arxiv.org/abs/2310.18550v1"
          ],
          [
           "Fast Machine Learning Method with Vector Embedding on Orthonormal Basis and Spectral Transform",
           "http://arxiv.org/abs/2310.18424v1"
          ],
          [
           "LLM-FP4: 4-Bit Floating-Point Quantized Transformers",
           "http://arxiv.org/abs/2310.16836v1"
          ],
          [
           "ConvNets Match Vision Transformers at Scale",
           "http://arxiv.org/abs/2310.16764v1"
          ],
          [
           "Video Referring Expression Comprehension via Transformer with Content-conditioned Query",
           "http://arxiv.org/abs/2310.16402v1"
          ],
          [
           "Frequency-Aware Transformer for Learned Image Compression",
           "http://arxiv.org/abs/2310.16387v1"
          ],
          [
           "MotionAGFormer: Enhancing 3D Human Pose Estimation with a Transformer-GCNFormer Network",
           "http://arxiv.org/abs/2310.16288v1"
          ],
          [
           "TransPose: 6D Object Pose Estimation with Geometry-Aware Transformer",
           "http://arxiv.org/abs/2310.16279v1"
          ],
          [
           "GraFT: Gradual Fusion Transformer for Multimodal Re-Identification",
           "http://arxiv.org/abs/2310.16856v1"
          ],
          [
           "Hessian Eigenvectors and Principal Component Analysis of Neural Network Weight Matrices",
           "http://arxiv.org/abs/2311.00452v1"
          ],
          [
           "CAFE: Conflict-Aware Feature-wise Explanations",
           "http://arxiv.org/abs/2310.20363v1"
          ],
          [
           "Grokking Tickets: Lottery Tickets Accelerate Grokking",
           "http://arxiv.org/abs/2310.19470v1"
          ],
          [
           "Proving Linear Mode Connectivity of Neural Networks via Optimal Transport",
           "http://arxiv.org/abs/2310.19103v1"
          ],
          [
           "How Well Do Feature-Additive Explainers Explain Feature-Additive Predictors?",
           "http://arxiv.org/abs/2310.18496v1"
          ],
          [
           "On Residual Minimization for PDEs: Failure of PINN, Modified Equation, and Implicit Bias",
           "http://arxiv.org/abs/2310.18201v1"
          ],
          [
           "Optimization dependent generalization bound for ReLU networks based on sensitivity in the tangent bundle",
           "http://arxiv.org/abs/2310.17378v1"
          ],
          [
           "Good regularity creates large learning rate implicit biases: edge of stability, balancing, and catapult",
           "http://arxiv.org/abs/2310.17087v1"
          ],
          [
           "Multimodal Representations for Teacher-Guided Compositional Visual Reasoning",
           "http://arxiv.org/abs/2310.15585v1"
          ],
          [
           "Explanation-Based Training with Differentiable Insertion/Deletion Metric-Aware Regularizers",
           "http://arxiv.org/abs/2310.12553v2"
          ],
          [
           "From Neural Activations to Concepts: A Survey on Explaining Concepts in Neural Networks",
           "http://arxiv.org/abs/2310.11884v1"
          ],
          [
           "LICO: Explainable Models with Language-Image Consistency",
           "http://arxiv.org/abs/2310.09821v1"
          ],
          [
           "Why Does Sharpness-Aware Minimization Generalize Better Than SGD?",
           "http://arxiv.org/abs/2310.07269v1"
          ],
          [
           "Evaluating Explanation Methods for Vision-and-Language Navigation",
           "http://arxiv.org/abs/2310.06654v1"
          ],
          [
           "AttributionLab: Faithfulness of Feature Attribution Under Controllable Environments",
           "http://arxiv.org/abs/2310.06514v1"
          ],
          [
           "Runway Sign Classifier: A DAL C Certifiable Machine Learning System",
           "http://arxiv.org/abs/2310.06506v1"
          ],
          [
           "SCAR: Power Side-Channel Analysis at RTL-Level",
           "http://arxiv.org/abs/2310.06257v1"
          ],
          [
           "Grokking as the Transition from Lazy to Rich Training Dynamics",
           "http://arxiv.org/abs/2310.06110v1"
          ],
          [
           "Grokking as Compression: A Nonlinear Complexity Perspective",
           "http://arxiv.org/abs/2310.05918v1"
          ],
          [
           "Taming Binarized Neural Networks and Mixed-Integer Programs",
           "http://arxiv.org/abs/2310.04469v1"
          ],
          [
           "Inferring Inference",
           "http://arxiv.org/abs/2310.03186v3"
          ],
          [
           "ViT-ReciproCAM: Gradient and Attention-Free Visual Explanations for Vision Transformer",
           "http://arxiv.org/abs/2310.02588v1"
          ],
          [
           "Improving Knowledge Distillation with Teacher's Explanation",
           "http://arxiv.org/abs/2310.02572v1"
          ],
          [
           "Why do autoencoders work?",
           "http://arxiv.org/abs/2310.02250v2"
          ],
          [
           "Counterfactual Image Generation for adversarially robust and interpretable Classifiers",
           "http://arxiv.org/abs/2310.00761v1"
          ],
          [
           "On the Onset of Robust Overfitting in Adversarial Training",
           "http://arxiv.org/abs/2310.00607v1"
          ],
          [
           "Black-box Attacks on Image Activity Prediction and its Natural Language Explanations",
           "http://arxiv.org/abs/2310.00503v1"
          ],
          [
           "Dynamic DAG Discovery for Interpretable Imitation Learning",
           "http://arxiv.org/abs/2310.00489v2"
          ],
          [
           "ONNXExplainer: an ONNX Based Generic Framework to Explain Neural Networks Using Shapley Values",
           "http://arxiv.org/abs/2309.16916v2"
          ],
          [
           "Symbolic Imitation Learning: From Black-Box to Explainable Driving Policies",
           "http://arxiv.org/abs/2309.16025v1"
          ],
          [
           "Exploring Learned Representations of Neural Networks with Principal Component Analysis",
           "http://arxiv.org/abs/2309.15328v1"
          ],
          [
           "On the Computational Complexity and Formal Hierarchy of Second Order Recurrent Neural Networks",
           "http://arxiv.org/abs/2309.14691v1"
          ],
          [
           "Fantastic Generalization Measures are Nowhere to be Found",
           "http://arxiv.org/abs/2309.13658v1"
          ],
          [
           "Spatial-frequency channels, shape bias, and adversarial robustness",
           "http://arxiv.org/abs/2309.13190v1"
          ],
          [
           "When to Trust AI: Advances and Challenges for Certification of Neural Networks",
           "http://arxiv.org/abs/2309.11196v1"
          ],
          [
           "A Cognitively-Inspired Neural Architecture for Visual Abstract Reasoning Using Contrastive Perceptual and Conceptual Processing",
           "http://arxiv.org/abs/2309.10532v3"
          ],
          [
           "Explaining Agent Behavior with Large Language Models",
           "http://arxiv.org/abs/2309.10346v1"
          ],
          [
           "SmoothHess: ReLU Network Feature Interactions via Stein's Lemma",
           "http://arxiv.org/abs/2311.00858v1"
          ],
          [
           "Interpretable Neural PDE Solvers using Symbolic Frameworks",
           "http://arxiv.org/abs/2310.20463v1"
          ],
          [
           "Stochastic Configuration Machines: FPGA Implementation",
           "http://arxiv.org/abs/2310.19225v1"
          ],
          [
           "A U-turn on Double Descent: Rethinking Parameter Counting in Statistical Learning",
           "http://arxiv.org/abs/2310.18988v1"
          ],
          [
           "A minimax optimal control approach for robust neural ODEs",
           "http://arxiv.org/abs/2310.17584v1"
          ],
          [
           "A Hybrid Graph Network for Complex Activity Detection in Video",
           "http://arxiv.org/abs/2310.17493v2"
          ],
          [
           "Invariance Measures for Neural Networks",
           "http://arxiv.org/abs/2310.17404v1"
          ],
          [
           "Codebook Features: Sparse and Discrete Interpretability for Neural Networks",
           "http://arxiv.org/abs/2310.17230v1"
          ],
          [
           "Interpretable time series neural representation for classification purposes",
           "http://arxiv.org/abs/2310.16696v1"
          ],
          [
           "Achieving Constraints in Neural Networks: A Stochastic Augmented Lagrangian Approach",
           "http://arxiv.org/abs/2310.16647v1"
          ],
          [
           "Instance-wise Linearization of Neural Network for Model Interpretation",
           "http://arxiv.org/abs/2310.16295v1"
          ],
          [
           "One-hot Generalized Linear Model for Switching Brain State Discovery",
           "http://arxiv.org/abs/2310.15263v1"
          ],
          [
           "ESVAE: An Efficient Spiking Variational Autoencoder with Reparameterizable Poisson Spiking Sampling",
           "http://arxiv.org/abs/2310.14839v1"
          ],
          [
           "Spiking mode-based neural networks",
           "http://arxiv.org/abs/2310.14621v1"
          ],
          [
           "Personalized identification, prediction, and stimulation of neural oscillations via data-driven models of epileptic network dynamics",
           "http://arxiv.org/abs/2310.13480v1"
          ],
          [
           "Salted Inference: Enhancing Privacy while Maintaining Efficiency of Split Inference in Mobile Computing",
           "http://arxiv.org/abs/2310.13384v1"
          ],
          [
           "Using Logic Programming and Kernel-Grouping for Improving Interpretability of Convolutional Neural Networks",
           "http://arxiv.org/abs/2310.13073v1"
          ],
          [
           "To grok or not to grok: Disentangling generalization and memorization on corrupted algorithmic datasets",
           "http://arxiv.org/abs/2310.13061v1"
          ],
          [
           "An effective theory of collective deep learning",
           "http://arxiv.org/abs/2310.12802v1"
          ],
          [
           "Multistable Perception, False Consensus, and Information Complements",
           "http://arxiv.org/abs/2310.11857v1"
          ],
          [
           "Identifying Interpretable Visual Features in Artificial and Biological Neural Systems",
           "http://arxiv.org/abs/2310.11431v2"
          ],
          [
           "Automated Natural Language Explanation of Deep Visual Neurons with Large Models",
           "http://arxiv.org/abs/2310.10708v1"
          ],
          [
           "Loci-Segmented: Improving Scene Segmentation Learning",
           "http://arxiv.org/abs/2310.10410v1"
          ],
          [
           "Attribution Patching Outperforms Automated Circuit Discovery",
           "http://arxiv.org/abs/2310.10348v1"
          ],
          [
           "Hamming Encoder: Mining Discriminative k-mers for Discrete Sequence Classification",
           "http://arxiv.org/abs/2310.10321v2"
          ],
          [
           "What Do Deep Saliency Models Learn about Visual Attention?",
           "http://arxiv.org/abs/2310.09679v1"
          ],
          [
           "Neural activity in quarks language: Lattice Field Theory for a network of real neurons",
           "http://arxiv.org/abs/2310.09178v1"
          ],
          [
           "Towards Interpretable Controllability in Object-Centric Learning",
           "http://arxiv.org/abs/2310.08929v2"
          ],
          [
           "Dynamic Appearance Particle Neural Radiance Field",
           "http://arxiv.org/abs/2310.07916v1"
          ],
          [
           "Recurrent networks recognize patterns with low-dimensional oscillations",
           "http://arxiv.org/abs/2310.07908v1"
          ],
          [
           "Growing Brains: Co-emergence of Anatomical and Functional Modularity in Recurrent Neural Networks",
           "http://arxiv.org/abs/2310.07711v1"
          ],
          [
           "Going Beyond Neural Network Feature Similarity: The Network Feature Complexity and Its Interpretation Using Category Theory",
           "http://arxiv.org/abs/2310.06756v1"
          ],
          [
           "The Lattice Overparametrization Paradigm for the Machine Learning of Lattice Operators",
           "http://arxiv.org/abs/2310.06639v1"
          ],
          [
           "Energy-Efficient Visual Search by Eye Movement and Low-Latency Spiking Neural Network",
           "http://arxiv.org/abs/2310.06578v1"
          ],
          [
           "Predictive auxiliary objectives in deep RL mimic learning in the brain",
           "http://arxiv.org/abs/2310.06089v1"
          ],
          [
           "Aggregated f-average Neural Network for Interpretable Ensembling",
           "http://arxiv.org/abs/2310.05566v1"
          ],
          [
           "NeuralFastLAS: Fast Logic-Based Learning from Raw Data",
           "http://arxiv.org/abs/2310.05145v1"
          ],
          [
           "Crystal: Introspective Reasoners Reinforced with Self-Feedback",
           "http://arxiv.org/abs/2310.04921v2"
          ],
          [
           "Rethink Baseline of Integrated Gradients from the Perspective of Shapley Value",
           "http://arxiv.org/abs/2310.04821v2"
          ]
         ],
         "hovertemplate": "cluster=8<br>noise=0<br>umap_0=%{x}<br>umap_1=%{y}<br>title=%{customdata[0]}<br>ID=%{customdata[1]}<extra></extra>",
         "legendgroup": "8, 0",
         "marker": {
          "color": "#FECB52",
          "symbol": "diamond"
         },
         "mode": "markers",
         "name": "8, 0",
         "orientation": "v",
         "showlegend": true,
         "type": "scatter",
         "x": [
          0.6316209435462952,
          0.4279440939426422,
          0.9161380529403687,
          0.42148852348327637,
          0.2461630254983902,
          0.4609924256801605,
          0.7150424718856812,
          0.22116263210773468,
          0.7010957598686218,
          0.8542280793190002,
          0.5019308924674988,
          0.31207844614982605,
          0.804236114025116,
          0.7197450995445251,
          0.20104597508907318,
          0.4465070962905884,
          0.8401069641113281,
          0.2502441108226776,
          0.2626390755176544,
          0.24062302708625793,
          0.243588387966156,
          0.823693573474884,
          0.8450417518615723,
          0.7312200665473938,
          0.7136709690093994,
          0.8716694116592407,
          0.8327072858810425,
          0.7903730869293213,
          0.7876968383789062,
          0.8600322008132935,
          0.7717565298080444,
          0.8033909797668457,
          0.861106812953949,
          0.9031635522842407,
          0.7438874840736389,
          0.746608555316925,
          0.7930225133895874,
          0.9472126960754395,
          0.3766915202140808,
          0.7558667659759521,
          0.9458379149436951,
          0.7484816312789917,
          0.7428498268127441,
          0.7003174424171448,
          0.7512847781181335,
          0.7556177973747253,
          0.7688611745834351,
          0.8644677996635437,
          0.8823184967041016,
          0.8238634467124939,
          0.35279637575149536,
          0.474509060382843,
          0.37938758730888367,
          0.3052332401275635,
          0.5087498426437378,
          0.20329110324382782,
          0.35108670592308044,
          0.32041606307029724,
          0.6263304948806763,
          0.48204582929611206,
          0.5787631869316101,
          0.6741912961006165,
          0.2994553744792938,
          0.615500807762146,
          0.46299585700035095,
          0.5323737263679504,
          0.44659292697906494,
          0.39095908403396606,
          0.38035184144973755,
          0.5376543402671814,
          0.5786687135696411,
          0.76558518409729,
          0.7180117964744568,
          0.4079914391040802,
          0.5631054043769836,
          0.39686352014541626,
          0.5595898628234863,
          0.8314418792724609,
          0.483843058347702,
          0.8375779390335083,
          0.4643840789794922,
          0.580549418926239,
          0.36680838465690613,
          0.6535421013832092,
          0.5570116639137268,
          0.633113443851471,
          0.5996764898300171,
          0.5356454849243164,
          0.4872344434261322,
          0.2851409912109375,
          0.392540842294693,
          0.36066287755966187,
          0.948958158493042,
          0.4500693082809448,
          0.49778375029563904,
          0.49560174345970154,
          0.29138892889022827,
          0.4527833163738251,
          0.5709801316261292,
          0.6459911465644836,
          0.6060208082199097,
          0.6069088578224182,
          0.6979279518127441,
          0.6565361022949219,
          0.3755939304828644,
          0.25185686349868774,
          0.5877528786659241,
          0.6040437817573547,
          0.6365541815757751,
          0.8469367027282715,
          0.4548763930797577,
          0.2578963041305542,
          0.6839986443519592,
          0.5685389041900635,
          0.807277262210846,
          0.8406609296798706,
          0.5700715780258179,
          0.5979962944984436,
          0.4514249265193939,
          0.2624700665473938,
          0.6587286591529846,
          0.5739002227783203,
          0.44803953170776367,
          0.578446090221405,
          0.6376563310623169,
          0.44656339287757874
         ],
         "xaxis": "x",
         "y": [
          0.5058366656303406,
          0.6393844485282898,
          0.5879486799240112,
          0.7190958261489868,
          0.6017827987670898,
          0.7124001979827881,
          0.5537262558937073,
          0.5553570985794067,
          0.48505616188049316,
          0.5133079290390015,
          0.7212360501289368,
          0.600945234298706,
          0.5392613410949707,
          0.5110355615615845,
          0.5594509840011597,
          0.743872880935669,
          0.6242454648017883,
          0.6475644707679749,
          0.6685346961021423,
          0.7072014212608337,
          0.5853599905967712,
          0.5470288395881653,
          0.6561805009841919,
          0.6048453450202942,
          0.5801814198493958,
          0.5266462564468384,
          0.6351832151412964,
          0.616601288318634,
          0.6035677790641785,
          0.5156996250152588,
          0.6430220007896423,
          0.6032673716545105,
          0.5381763577461243,
          0.5835839509963989,
          0.478022962808609,
          0.6718233227729797,
          0.6347214579582214,
          0.6068447828292847,
          0.5735698342323303,
          0.658612072467804,
          0.6064743399620056,
          0.5048196911811829,
          0.7037383317947388,
          0.7071624398231506,
          0.5965147614479065,
          0.6553950309753418,
          0.5016348958015442,
          0.5290869474411011,
          0.5408514142036438,
          0.6229483485221863,
          0.577923595905304,
          0.6065784096717834,
          0.6384044289588928,
          0.60820472240448,
          0.6939923763275146,
          0.5367005467414856,
          0.6515483260154724,
          0.6209973096847534,
          0.5375105142593384,
          0.726001501083374,
          0.7475472092628479,
          0.5369827151298523,
          0.6679028272628784,
          0.5339736938476562,
          0.5829237103462219,
          0.6613451242446899,
          0.7514824271202087,
          0.6186282634735107,
          0.6384785771369934,
          0.7260316610336304,
          0.4295664429664612,
          0.6250523328781128,
          0.614895224571228,
          0.6529282331466675,
          0.5846552848815918,
          0.5674135088920593,
          0.6060075759887695,
          0.7003600597381592,
          0.7050167322158813,
          0.6792251467704773,
          0.6020557284355164,
          0.7340444922447205,
          0.645918607711792,
          0.41334590315818787,
          0.649226188659668,
          0.5507789254188538,
          0.5803062319755554,
          0.4382185935974121,
          0.42203524708747864,
          0.6027249097824097,
          0.6002678275108337,
          0.5676340460777283,
          0.6080096960067749,
          0.5285263061523438,
          0.6477226614952087,
          0.463322252035141,
          0.6582057476043701,
          0.5686283111572266,
          0.41886064410209656,
          0.43529078364372253,
          0.46076294779777527,
          0.3896651864051819,
          0.557326078414917,
          0.5427985787391663,
          0.6578156352043152,
          0.5706824660301208,
          0.4410681128501892,
          0.44164377450942993,
          0.5263088941574097,
          0.5803524851799011,
          0.7752512693405151,
          0.6592395305633545,
          0.4529023766517639,
          0.4120837152004242,
          0.6070610880851746,
          0.5569936633110046,
          0.7078757286071777,
          0.4560176730155945,
          0.5665637254714966,
          0.621143639087677,
          0.4207870066165924,
          0.43328073620796204,
          0.5793888568878174,
          0.7420713901519775,
          0.5831983089447021,
          0.6653949618339539
         ],
         "yaxis": "y"
        },
        {
         "customdata": [
          [
           "Unveiling Black-boxes: Explainable Deep Learning Models for Patent Classification",
           "http://arxiv.org/abs/2310.20478v1"
          ],
          [
           "This Reads Like That: Deep Learning for Interpretable Natural Language Processing",
           "http://arxiv.org/abs/2310.17010v1"
          ],
          [
           "The Innovation-to-Occupations Ontology: Linking Business Transformation Initiatives to Occupations and Skills",
           "http://arxiv.org/abs/2310.17909v1"
          ],
          [
           "Interpretable Prototype-based Graph Information Bottleneck",
           "http://arxiv.org/abs/2310.19906v1"
          ],
          [
           "D4Explainer: In-Distribution GNN Explanations via Discrete Denoising Diffusion",
           "http://arxiv.org/abs/2310.19321v1"
          ],
          [
           "Explainable Spatio-Temporal Graph Neural Networks",
           "http://arxiv.org/abs/2310.17149v1"
          ],
          [
           "Graph Agent: Explicit Reasoning Agent for Graphs",
           "http://arxiv.org/abs/2310.16421v1"
          ],
          [
           "Context-Aware Prediction of User Engagement on Online Social Platforms",
           "http://arxiv.org/abs/2310.14533v1"
          ],
          [
           "Accurate prediction of international trade flows: Leveraging knowledge graphs and their embeddings",
           "http://arxiv.org/abs/2310.11161v1"
          ],
          [
           "Learning Transferable Conceptual Prototypes for Interpretable Unsupervised Domain Adaptation",
           "http://arxiv.org/abs/2310.08071v1"
          ],
          [
           "Stand for Something or Fall for Everything: Predict Misinformation Spread with Stance-Aware Graph Neural Networks",
           "http://arxiv.org/abs/2310.02568v1"
          ],
          [
           "Towards Robust Fidelity for Evaluating Explainability of Graph Neural Networks",
           "http://arxiv.org/abs/2310.01820v1"
          ],
          [
           "Learning to Receive Help: Intervention-Aware Concept Embedding Models",
           "http://arxiv.org/abs/2309.16928v2"
          ],
          [
           "ACGAN-GNNExplainer: Auxiliary Conditional Generative Explainer for Graph Neural Networks",
           "http://arxiv.org/abs/2309.16918v2"
          ],
          [
           "GInX-Eval: Towards In-Distribution Evaluation of Graph Neural Network Explanations",
           "http://arxiv.org/abs/2309.16223v1"
          ],
          [
           "Arabic Sentiment Analysis with Noisy Deep Explainable Model",
           "http://arxiv.org/abs/2309.13731v1"
          ],
          [
           "Provably Robust and Plausible Counterfactual Explanations for Neural Networks via Robust Optimisation",
           "http://arxiv.org/abs/2309.12545v1"
          ],
          [
           "Disentangled Representation Learning with Large Language Models for Text-Attributed Graphs",
           "http://arxiv.org/abs/2310.18152v1"
          ],
          [
           "Beyond Text: A Deep Dive into Large Language Models' Ability on Understanding Graph Data",
           "http://arxiv.org/abs/2310.04944v1"
          ]
         ],
         "hovertemplate": "cluster=9<br>noise=0<br>umap_0=%{x}<br>umap_1=%{y}<br>title=%{customdata[0]}<br>ID=%{customdata[1]}<extra></extra>",
         "legendgroup": "9, 0",
         "marker": {
          "color": "#636efa",
          "symbol": "diamond"
         },
         "mode": "markers",
         "name": "9, 0",
         "orientation": "v",
         "showlegend": true,
         "type": "scatter",
         "x": [
          0.47957897186279297,
          0.5267940163612366,
          0.5035175085067749,
          0.4629994034767151,
          0.4577365219593048,
          0.470836877822876,
          0.43933263421058655,
          0.5240558981895447,
          0.446274995803833,
          0.52042555809021,
          0.5212213397026062,
          0.45673614740371704,
          0.556971549987793,
          0.46744710206985474,
          0.4750264883041382,
          0.552445113658905,
          0.441252738237381,
          0.4553668797016144,
          0.4443175494670868
         ],
         "xaxis": "x",
         "y": [
          0.9364416003227234,
          0.9039049744606018,
          0.9415873289108276,
          0.8812030553817749,
          0.8808481693267822,
          0.8666461706161499,
          0.9746441841125488,
          0.8437522649765015,
          0.9771758913993835,
          0.8973525762557983,
          0.8605362176895142,
          0.8615983128547668,
          0.8381005525588989,
          0.8788337707519531,
          0.8723792433738708,
          0.8950392007827759,
          0.8381211757659912,
          0.9671512842178345,
          0.9730613827705383
         ],
         "yaxis": "y"
        },
        {
         "customdata": [
          [
           "Online Signal Estimation on the Graph Edges via Line Graph Transformation",
           "http://arxiv.org/abs/2311.00656v1"
          ],
          [
           "Diversified Node Sampling based Hierarchical Transformer Pooling for Graph Representation Learning",
           "http://arxiv.org/abs/2310.20250v1"
          ],
          [
           "NetPanorama: A Declarative Grammar for Network Construction, Transformation, and Visualization",
           "http://arxiv.org/abs/2310.18902v1"
          ],
          [
           "TempME: Towards the Explainability of Temporal Graph Neural Networks via Motif Discovery",
           "http://arxiv.org/abs/2310.19324v1"
          ],
          [
           "DyExplainer: Explainable Dynamic Graph Neural Networks",
           "http://arxiv.org/abs/2310.16375v1"
          ],
          [
           "Exploring the Power of Graph Neural Networks in Solving Linear Optimization Problems",
           "http://arxiv.org/abs/2310.10603v1"
          ],
          [
           "Are GATs Out of Balance?",
           "http://arxiv.org/abs/2310.07235v2"
          ],
          [
           "A Heterogeneous Graph-Based Multi-Task Learning for Fault Event Diagnosis in Smart Grid",
           "http://arxiv.org/abs/2309.09921v1"
          ],
          [
           "MuseGNN: Interpretable and Convergent Graph Neural Network Layers at Scale",
           "http://arxiv.org/abs/2310.12457v1"
          ],
          [
           "Hypergraph Neural Networks through the Lens of Message Passing: A Common Perspective to Homophily and Architecture Design",
           "http://arxiv.org/abs/2310.07684v1"
          ],
          [
           "How Graph Neural Networks Learn: Lessons from Training Dynamics in Function Space",
           "http://arxiv.org/abs/2310.05105v1"
          ]
         ],
         "hovertemplate": "cluster=10<br>noise=0<br>umap_0=%{x}<br>umap_1=%{y}<br>title=%{customdata[0]}<br>ID=%{customdata[1]}<extra></extra>",
         "legendgroup": "10, 0",
         "marker": {
          "color": "#EF553B",
          "symbol": "diamond"
         },
         "mode": "markers",
         "name": "10, 0",
         "orientation": "v",
         "showlegend": true,
         "type": "scatter",
         "x": [
          0.33151566982269287,
          0.33572864532470703,
          0.40999650955200195,
          0.4026290774345398,
          0.3735259771347046,
          0.32814761996269226,
          0.32705050706863403,
          0.3136686682701111,
          0.3206806182861328,
          0.35265812277793884,
          0.3278399407863617
         ],
         "xaxis": "x",
         "y": [
          0.8311578631401062,
          0.8421826958656311,
          0.9324645400047302,
          0.8915793895721436,
          0.8941425681114197,
          0.7822290658950806,
          0.8046677708625793,
          0.8101604580879211,
          0.8126330971717834,
          0.8717761039733887,
          0.7920781373977661
         ],
         "yaxis": "y"
        }
       ],
       "layout": {
        "legend": {
         "title": {
          "text": "cluster, noise"
         },
         "tracegroupgap": 0
        },
        "margin": {
         "t": 60
        },
        "template": {
         "data": {
          "bar": [
           {
            "error_x": {
             "color": "#2a3f5f"
            },
            "error_y": {
             "color": "#2a3f5f"
            },
            "marker": {
             "line": {
              "color": "#E5ECF6",
              "width": 0.5
             },
             "pattern": {
              "fillmode": "overlay",
              "size": 10,
              "solidity": 0.2
             }
            },
            "type": "bar"
           }
          ],
          "barpolar": [
           {
            "marker": {
             "line": {
              "color": "#E5ECF6",
              "width": 0.5
             },
             "pattern": {
              "fillmode": "overlay",
              "size": 10,
              "solidity": 0.2
             }
            },
            "type": "barpolar"
           }
          ],
          "carpet": [
           {
            "aaxis": {
             "endlinecolor": "#2a3f5f",
             "gridcolor": "white",
             "linecolor": "white",
             "minorgridcolor": "white",
             "startlinecolor": "#2a3f5f"
            },
            "baxis": {
             "endlinecolor": "#2a3f5f",
             "gridcolor": "white",
             "linecolor": "white",
             "minorgridcolor": "white",
             "startlinecolor": "#2a3f5f"
            },
            "type": "carpet"
           }
          ],
          "choropleth": [
           {
            "colorbar": {
             "outlinewidth": 0,
             "ticks": ""
            },
            "type": "choropleth"
           }
          ],
          "contour": [
           {
            "colorbar": {
             "outlinewidth": 0,
             "ticks": ""
            },
            "colorscale": [
             [
              0,
              "#0d0887"
             ],
             [
              0.1111111111111111,
              "#46039f"
             ],
             [
              0.2222222222222222,
              "#7201a8"
             ],
             [
              0.3333333333333333,
              "#9c179e"
             ],
             [
              0.4444444444444444,
              "#bd3786"
             ],
             [
              0.5555555555555556,
              "#d8576b"
             ],
             [
              0.6666666666666666,
              "#ed7953"
             ],
             [
              0.7777777777777778,
              "#fb9f3a"
             ],
             [
              0.8888888888888888,
              "#fdca26"
             ],
             [
              1,
              "#f0f921"
             ]
            ],
            "type": "contour"
           }
          ],
          "contourcarpet": [
           {
            "colorbar": {
             "outlinewidth": 0,
             "ticks": ""
            },
            "type": "contourcarpet"
           }
          ],
          "heatmap": [
           {
            "colorbar": {
             "outlinewidth": 0,
             "ticks": ""
            },
            "colorscale": [
             [
              0,
              "#0d0887"
             ],
             [
              0.1111111111111111,
              "#46039f"
             ],
             [
              0.2222222222222222,
              "#7201a8"
             ],
             [
              0.3333333333333333,
              "#9c179e"
             ],
             [
              0.4444444444444444,
              "#bd3786"
             ],
             [
              0.5555555555555556,
              "#d8576b"
             ],
             [
              0.6666666666666666,
              "#ed7953"
             ],
             [
              0.7777777777777778,
              "#fb9f3a"
             ],
             [
              0.8888888888888888,
              "#fdca26"
             ],
             [
              1,
              "#f0f921"
             ]
            ],
            "type": "heatmap"
           }
          ],
          "heatmapgl": [
           {
            "colorbar": {
             "outlinewidth": 0,
             "ticks": ""
            },
            "colorscale": [
             [
              0,
              "#0d0887"
             ],
             [
              0.1111111111111111,
              "#46039f"
             ],
             [
              0.2222222222222222,
              "#7201a8"
             ],
             [
              0.3333333333333333,
              "#9c179e"
             ],
             [
              0.4444444444444444,
              "#bd3786"
             ],
             [
              0.5555555555555556,
              "#d8576b"
             ],
             [
              0.6666666666666666,
              "#ed7953"
             ],
             [
              0.7777777777777778,
              "#fb9f3a"
             ],
             [
              0.8888888888888888,
              "#fdca26"
             ],
             [
              1,
              "#f0f921"
             ]
            ],
            "type": "heatmapgl"
           }
          ],
          "histogram": [
           {
            "marker": {
             "pattern": {
              "fillmode": "overlay",
              "size": 10,
              "solidity": 0.2
             }
            },
            "type": "histogram"
           }
          ],
          "histogram2d": [
           {
            "colorbar": {
             "outlinewidth": 0,
             "ticks": ""
            },
            "colorscale": [
             [
              0,
              "#0d0887"
             ],
             [
              0.1111111111111111,
              "#46039f"
             ],
             [
              0.2222222222222222,
              "#7201a8"
             ],
             [
              0.3333333333333333,
              "#9c179e"
             ],
             [
              0.4444444444444444,
              "#bd3786"
             ],
             [
              0.5555555555555556,
              "#d8576b"
             ],
             [
              0.6666666666666666,
              "#ed7953"
             ],
             [
              0.7777777777777778,
              "#fb9f3a"
             ],
             [
              0.8888888888888888,
              "#fdca26"
             ],
             [
              1,
              "#f0f921"
             ]
            ],
            "type": "histogram2d"
           }
          ],
          "histogram2dcontour": [
           {
            "colorbar": {
             "outlinewidth": 0,
             "ticks": ""
            },
            "colorscale": [
             [
              0,
              "#0d0887"
             ],
             [
              0.1111111111111111,
              "#46039f"
             ],
             [
              0.2222222222222222,
              "#7201a8"
             ],
             [
              0.3333333333333333,
              "#9c179e"
             ],
             [
              0.4444444444444444,
              "#bd3786"
             ],
             [
              0.5555555555555556,
              "#d8576b"
             ],
             [
              0.6666666666666666,
              "#ed7953"
             ],
             [
              0.7777777777777778,
              "#fb9f3a"
             ],
             [
              0.8888888888888888,
              "#fdca26"
             ],
             [
              1,
              "#f0f921"
             ]
            ],
            "type": "histogram2dcontour"
           }
          ],
          "mesh3d": [
           {
            "colorbar": {
             "outlinewidth": 0,
             "ticks": ""
            },
            "type": "mesh3d"
           }
          ],
          "parcoords": [
           {
            "line": {
             "colorbar": {
              "outlinewidth": 0,
              "ticks": ""
             }
            },
            "type": "parcoords"
           }
          ],
          "pie": [
           {
            "automargin": true,
            "type": "pie"
           }
          ],
          "scatter": [
           {
            "fillpattern": {
             "fillmode": "overlay",
             "size": 10,
             "solidity": 0.2
            },
            "type": "scatter"
           }
          ],
          "scatter3d": [
           {
            "line": {
             "colorbar": {
              "outlinewidth": 0,
              "ticks": ""
             }
            },
            "marker": {
             "colorbar": {
              "outlinewidth": 0,
              "ticks": ""
             }
            },
            "type": "scatter3d"
           }
          ],
          "scattercarpet": [
           {
            "marker": {
             "colorbar": {
              "outlinewidth": 0,
              "ticks": ""
             }
            },
            "type": "scattercarpet"
           }
          ],
          "scattergeo": [
           {
            "marker": {
             "colorbar": {
              "outlinewidth": 0,
              "ticks": ""
             }
            },
            "type": "scattergeo"
           }
          ],
          "scattergl": [
           {
            "marker": {
             "colorbar": {
              "outlinewidth": 0,
              "ticks": ""
             }
            },
            "type": "scattergl"
           }
          ],
          "scattermapbox": [
           {
            "marker": {
             "colorbar": {
              "outlinewidth": 0,
              "ticks": ""
             }
            },
            "type": "scattermapbox"
           }
          ],
          "scatterpolar": [
           {
            "marker": {
             "colorbar": {
              "outlinewidth": 0,
              "ticks": ""
             }
            },
            "type": "scatterpolar"
           }
          ],
          "scatterpolargl": [
           {
            "marker": {
             "colorbar": {
              "outlinewidth": 0,
              "ticks": ""
             }
            },
            "type": "scatterpolargl"
           }
          ],
          "scatterternary": [
           {
            "marker": {
             "colorbar": {
              "outlinewidth": 0,
              "ticks": ""
             }
            },
            "type": "scatterternary"
           }
          ],
          "surface": [
           {
            "colorbar": {
             "outlinewidth": 0,
             "ticks": ""
            },
            "colorscale": [
             [
              0,
              "#0d0887"
             ],
             [
              0.1111111111111111,
              "#46039f"
             ],
             [
              0.2222222222222222,
              "#7201a8"
             ],
             [
              0.3333333333333333,
              "#9c179e"
             ],
             [
              0.4444444444444444,
              "#bd3786"
             ],
             [
              0.5555555555555556,
              "#d8576b"
             ],
             [
              0.6666666666666666,
              "#ed7953"
             ],
             [
              0.7777777777777778,
              "#fb9f3a"
             ],
             [
              0.8888888888888888,
              "#fdca26"
             ],
             [
              1,
              "#f0f921"
             ]
            ],
            "type": "surface"
           }
          ],
          "table": [
           {
            "cells": {
             "fill": {
              "color": "#EBF0F8"
             },
             "line": {
              "color": "white"
             }
            },
            "header": {
             "fill": {
              "color": "#C8D4E3"
             },
             "line": {
              "color": "white"
             }
            },
            "type": "table"
           }
          ]
         },
         "layout": {
          "annotationdefaults": {
           "arrowcolor": "#2a3f5f",
           "arrowhead": 0,
           "arrowwidth": 1
          },
          "autotypenumbers": "strict",
          "coloraxis": {
           "colorbar": {
            "outlinewidth": 0,
            "ticks": ""
           }
          },
          "colorscale": {
           "diverging": [
            [
             0,
             "#8e0152"
            ],
            [
             0.1,
             "#c51b7d"
            ],
            [
             0.2,
             "#de77ae"
            ],
            [
             0.3,
             "#f1b6da"
            ],
            [
             0.4,
             "#fde0ef"
            ],
            [
             0.5,
             "#f7f7f7"
            ],
            [
             0.6,
             "#e6f5d0"
            ],
            [
             0.7,
             "#b8e186"
            ],
            [
             0.8,
             "#7fbc41"
            ],
            [
             0.9,
             "#4d9221"
            ],
            [
             1,
             "#276419"
            ]
           ],
           "sequential": [
            [
             0,
             "#0d0887"
            ],
            [
             0.1111111111111111,
             "#46039f"
            ],
            [
             0.2222222222222222,
             "#7201a8"
            ],
            [
             0.3333333333333333,
             "#9c179e"
            ],
            [
             0.4444444444444444,
             "#bd3786"
            ],
            [
             0.5555555555555556,
             "#d8576b"
            ],
            [
             0.6666666666666666,
             "#ed7953"
            ],
            [
             0.7777777777777778,
             "#fb9f3a"
            ],
            [
             0.8888888888888888,
             "#fdca26"
            ],
            [
             1,
             "#f0f921"
            ]
           ],
           "sequentialminus": [
            [
             0,
             "#0d0887"
            ],
            [
             0.1111111111111111,
             "#46039f"
            ],
            [
             0.2222222222222222,
             "#7201a8"
            ],
            [
             0.3333333333333333,
             "#9c179e"
            ],
            [
             0.4444444444444444,
             "#bd3786"
            ],
            [
             0.5555555555555556,
             "#d8576b"
            ],
            [
             0.6666666666666666,
             "#ed7953"
            ],
            [
             0.7777777777777778,
             "#fb9f3a"
            ],
            [
             0.8888888888888888,
             "#fdca26"
            ],
            [
             1,
             "#f0f921"
            ]
           ]
          },
          "colorway": [
           "#636efa",
           "#EF553B",
           "#00cc96",
           "#ab63fa",
           "#FFA15A",
           "#19d3f3",
           "#FF6692",
           "#B6E880",
           "#FF97FF",
           "#FECB52"
          ],
          "font": {
           "color": "#2a3f5f"
          },
          "geo": {
           "bgcolor": "white",
           "lakecolor": "white",
           "landcolor": "#E5ECF6",
           "showlakes": true,
           "showland": true,
           "subunitcolor": "white"
          },
          "hoverlabel": {
           "align": "left"
          },
          "hovermode": "closest",
          "mapbox": {
           "style": "light"
          },
          "paper_bgcolor": "white",
          "plot_bgcolor": "#E5ECF6",
          "polar": {
           "angularaxis": {
            "gridcolor": "white",
            "linecolor": "white",
            "ticks": ""
           },
           "bgcolor": "#E5ECF6",
           "radialaxis": {
            "gridcolor": "white",
            "linecolor": "white",
            "ticks": ""
           }
          },
          "scene": {
           "xaxis": {
            "backgroundcolor": "#E5ECF6",
            "gridcolor": "white",
            "gridwidth": 2,
            "linecolor": "white",
            "showbackground": true,
            "ticks": "",
            "zerolinecolor": "white"
           },
           "yaxis": {
            "backgroundcolor": "#E5ECF6",
            "gridcolor": "white",
            "gridwidth": 2,
            "linecolor": "white",
            "showbackground": true,
            "ticks": "",
            "zerolinecolor": "white"
           },
           "zaxis": {
            "backgroundcolor": "#E5ECF6",
            "gridcolor": "white",
            "gridwidth": 2,
            "linecolor": "white",
            "showbackground": true,
            "ticks": "",
            "zerolinecolor": "white"
           }
          },
          "shapedefaults": {
           "line": {
            "color": "#2a3f5f"
           }
          },
          "ternary": {
           "aaxis": {
            "gridcolor": "white",
            "linecolor": "white",
            "ticks": ""
           },
           "baxis": {
            "gridcolor": "white",
            "linecolor": "white",
            "ticks": ""
           },
           "bgcolor": "#E5ECF6",
           "caxis": {
            "gridcolor": "white",
            "linecolor": "white",
            "ticks": ""
           }
          },
          "title": {
           "x": 0.05
          },
          "xaxis": {
           "automargin": true,
           "gridcolor": "white",
           "linecolor": "white",
           "ticks": "",
           "title": {
            "standoff": 15
           },
           "zerolinecolor": "white",
           "zerolinewidth": 2
          },
          "yaxis": {
           "automargin": true,
           "gridcolor": "white",
           "linecolor": "white",
           "ticks": "",
           "title": {
            "standoff": 15
           },
           "zerolinecolor": "white",
           "zerolinewidth": 2
          }
         }
        },
        "xaxis": {
         "anchor": "y",
         "domain": [
          0,
          1
         ],
         "title": {
          "text": "umap_0"
         }
        },
        "yaxis": {
         "anchor": "x",
         "domain": [
          0,
          1
         ],
         "title": {
          "text": "umap_1"
         }
        }
       }
      }
     },
     "metadata": {},
     "output_type": "display_data"
    }
   ],
   "source": [
    "clustering_kwargs = {    \n",
    "    \"min_cluster_size\": 10, \n",
    "    \"min_samples\": 3, \n",
    "    \"max_cluster_size\": None, \n",
    "    \"cluster_selection_epsilon\": 0.05,\n",
    "}\n",
    "\n",
    "umap_kwargs = {\n",
    "    \"n_neighbors\": 5,\n",
    "    \"min_dist\": 0.1,\n",
    "    \"n_components\": 2,\n",
    "    \"metric\": \"cosine\",\n",
    "}\n",
    "\n",
    "df_umap, clustering = clustering_pipeline(\n",
    "    df_embed,\n",
    "    umap_kwargs,\n",
    "    clustering_kwargs,\n",
    "    random_state=123,\n",
    "    df_data=df_data,\n",
    ")\n",
    "\n",
    "X_cluster = df_umap[[c for c in df_umap.columns if \"umap_\" in c]]\n",
    "\n",
    "# Silhouette ↑\n",
    "print(f\" Silhouette ↑ = {silhouette_score(X_cluster, df_umap['cluster'])}\")\n",
    "\n",
    "# Entropy ↓\n",
    "print(f\" Entropy ↓ = {entropy(X_cluster.values)}\")\n",
    "\n",
    "# viz\n",
    "df_umap[\"cluster\"] = [str(elt) for elt in clustering.labels_]\n",
    "df_umap[\"noise\"] = [int(elt==-1) for elt in clustering.labels_]\n",
    "fig = px.scatter(\n",
    "    df_umap,\n",
    "    x=\"umap_0\",\n",
    "    y=\"umap_1\",\n",
    "    hover_data=[\n",
    "        \"title\",\n",
    "        \"ID\",\n",
    "    ],\n",
    "    color=\"cluster\",\n",
    "    symbol=\"noise\",\n",
    "    # color_continuous_scale=px.colors.qualitative.D3,\n",
    "    category_orders={\"cluster\": list(np.sort(pd.unique(clustering.labels_)).astype(str))},\n",
    ")\n",
    "fig.show()"
   ]
  },
  {
   "cell_type": "code",
   "execution_count": null,
   "metadata": {},
   "outputs": [],
   "source": []
  },
  {
   "cell_type": "markdown",
   "metadata": {},
   "source": [
    "## Grid search over projection and clustering parameters"
   ]
  },
  {
   "cell_type": "code",
   "execution_count": 31,
   "metadata": {},
   "outputs": [],
   "source": [
    "# from itertools import product\n",
    "from tqdm.contrib.itertools import product\n",
    "\n",
    "clustering_grid = {\n",
    "    \"min_cluster_size\": [3, 5, 10, 15], \n",
    "    \"min_samples\": [3, 5, 10], \n",
    "    \"max_cluster_size\": [None, 15, 25, 40], \n",
    "    \"cluster_selection_epsilon\": [\n",
    "        # 0.0, \n",
    "        # 0.05, \n",
    "        # 0.0,\n",
    "        # 0.001,\n",
    "        # 0.01,\n",
    "        0.05,\n",
    "        0.1,    \n",
    "        0.5,    \n",
    "    ],\n",
    "}\n",
    "\n",
    "umap_grid = {\n",
    "    \"n_neighbors\": [2, 4, 8, 10],\n",
    "    \"min_dist\": [0.001, 0.01, 0.1, 0.5],\n",
    "    \"n_components\": [2],\n",
    "    \"metric\": [\"cosine\"],\n",
    "    \"init\": [\"random\"],\n",
    "}\n"
   ]
  },
  {
   "cell_type": "code",
   "execution_count": 32,
   "metadata": {},
   "outputs": [
    {
     "data": {
      "application/vnd.jupyter.widget-view+json": {
       "model_id": "231a94a2375043d984431e913a3e77fb",
       "version_major": 2,
       "version_minor": 0
      },
      "text/plain": [
       "  0%|          | 0/16 [00:00<?, ?it/s]"
      ]
     },
     "metadata": {},
     "output_type": "display_data"
    },
    {
     "data": {
      "text/html": [
       "<pre style=\"white-space:pre;overflow-x:auto;line-height:normal;font-family:Menlo,'DejaVu Sans Mono',consolas,'Courier New',monospace\">Best entropy: <span style=\"color: #008080; text-decoration-color: #008080; font-weight: bold\">5.336908360372046</span>\n",
       "</pre>\n"
      ],
      "text/plain": [
       "Best entropy: \u001b[1;36m5.336908360372046\u001b[0m\n"
      ]
     },
     "metadata": {},
     "output_type": "display_data"
    },
    {
     "data": {
      "text/html": [
       "<pre style=\"white-space:pre;overflow-x:auto;line-height:normal;font-family:Menlo,'DejaVu Sans Mono',consolas,'Courier New',monospace\">Best umap_kwargs: <span style=\"font-weight: bold\">{</span><span style=\"color: #008000; text-decoration-color: #008000\">'n_neighbors'</span>: <span style=\"color: #008080; text-decoration-color: #008080; font-weight: bold\">4</span>, <span style=\"color: #008000; text-decoration-color: #008000\">'min_dist'</span>: <span style=\"color: #008080; text-decoration-color: #008080; font-weight: bold\">0.001</span>, <span style=\"color: #008000; text-decoration-color: #008000\">'n_components'</span>: <span style=\"color: #008080; text-decoration-color: #008080; font-weight: bold\">2</span>, <span style=\"color: #008000; text-decoration-color: #008000\">'metric'</span>: <span style=\"color: #008000; text-decoration-color: #008000\">'cosine'</span>, <span style=\"color: #008000; text-decoration-color: #008000\">'init'</span>: <span style=\"color: #008000; text-decoration-color: #008000\">'random'</span><span style=\"font-weight: bold\">}</span>\n",
       "</pre>\n"
      ],
      "text/plain": [
       "Best umap_kwargs: \u001b[1m{\u001b[0m\u001b[32m'n_neighbors'\u001b[0m: \u001b[1;36m4\u001b[0m, \u001b[32m'min_dist'\u001b[0m: \u001b[1;36m0.001\u001b[0m, \u001b[32m'n_components'\u001b[0m: \u001b[1;36m2\u001b[0m, \u001b[32m'metric'\u001b[0m: \u001b[32m'cosine'\u001b[0m, \u001b[32m'init'\u001b[0m: \u001b[32m'random'\u001b[0m\u001b[1m}\u001b[0m\n"
      ]
     },
     "metadata": {},
     "output_type": "display_data"
    },
    {
     "data": {
      "text/html": [
       "<div>\n",
       "<style scoped>\n",
       "    .dataframe tbody tr th:only-of-type {\n",
       "        vertical-align: middle;\n",
       "    }\n",
       "\n",
       "    .dataframe tbody tr th {\n",
       "        vertical-align: top;\n",
       "    }\n",
       "\n",
       "    .dataframe thead th {\n",
       "        text-align: right;\n",
       "    }\n",
       "</style>\n",
       "<table border=\"1\" class=\"dataframe\">\n",
       "  <thead>\n",
       "    <tr style=\"text-align: right;\">\n",
       "      <th></th>\n",
       "      <th>n_neighbors</th>\n",
       "      <th>min_dist</th>\n",
       "      <th>n_components</th>\n",
       "      <th>metric</th>\n",
       "      <th>init</th>\n",
       "      <th>Entropy ↓</th>\n",
       "    </tr>\n",
       "  </thead>\n",
       "  <tbody>\n",
       "    <tr>\n",
       "      <th>0</th>\n",
       "      <td>2</td>\n",
       "      <td>0.001</td>\n",
       "      <td>2</td>\n",
       "      <td>cosine</td>\n",
       "      <td>random</td>\n",
       "      <td>5.670807492208298</td>\n",
       "    </tr>\n",
       "    <tr>\n",
       "      <th>1</th>\n",
       "      <td>2</td>\n",
       "      <td>0.01</td>\n",
       "      <td>2</td>\n",
       "      <td>cosine</td>\n",
       "      <td>random</td>\n",
       "      <td>5.6585034408010815</td>\n",
       "    </tr>\n",
       "    <tr>\n",
       "      <th>2</th>\n",
       "      <td>2</td>\n",
       "      <td>0.1</td>\n",
       "      <td>2</td>\n",
       "      <td>cosine</td>\n",
       "      <td>random</td>\n",
       "      <td>5.661407034350974</td>\n",
       "    </tr>\n",
       "    <tr>\n",
       "      <th>3</th>\n",
       "      <td>2</td>\n",
       "      <td>0.5</td>\n",
       "      <td>2</td>\n",
       "      <td>cosine</td>\n",
       "      <td>random</td>\n",
       "      <td>5.758559899441392</td>\n",
       "    </tr>\n",
       "    <tr>\n",
       "      <th>4</th>\n",
       "      <td>4</td>\n",
       "      <td>0.001</td>\n",
       "      <td>2</td>\n",
       "      <td>cosine</td>\n",
       "      <td>random</td>\n",
       "      <td>5.336908360372046</td>\n",
       "    </tr>\n",
       "    <tr>\n",
       "      <th>5</th>\n",
       "      <td>4</td>\n",
       "      <td>0.01</td>\n",
       "      <td>2</td>\n",
       "      <td>cosine</td>\n",
       "      <td>random</td>\n",
       "      <td>5.533218615134583</td>\n",
       "    </tr>\n",
       "    <tr>\n",
       "      <th>6</th>\n",
       "      <td>4</td>\n",
       "      <td>0.1</td>\n",
       "      <td>2</td>\n",
       "      <td>cosine</td>\n",
       "      <td>random</td>\n",
       "      <td>5.685510044054403</td>\n",
       "    </tr>\n",
       "    <tr>\n",
       "      <th>7</th>\n",
       "      <td>4</td>\n",
       "      <td>0.5</td>\n",
       "      <td>2</td>\n",
       "      <td>cosine</td>\n",
       "      <td>random</td>\n",
       "      <td>6.045011360014577</td>\n",
       "    </tr>\n",
       "    <tr>\n",
       "      <th>8</th>\n",
       "      <td>8</td>\n",
       "      <td>0.001</td>\n",
       "      <td>2</td>\n",
       "      <td>cosine</td>\n",
       "      <td>random</td>\n",
       "      <td>5.45305860147179</td>\n",
       "    </tr>\n",
       "    <tr>\n",
       "      <th>9</th>\n",
       "      <td>8</td>\n",
       "      <td>0.01</td>\n",
       "      <td>2</td>\n",
       "      <td>cosine</td>\n",
       "      <td>random</td>\n",
       "      <td>5.498777250550915</td>\n",
       "    </tr>\n",
       "    <tr>\n",
       "      <th>10</th>\n",
       "      <td>8</td>\n",
       "      <td>0.1</td>\n",
       "      <td>2</td>\n",
       "      <td>cosine</td>\n",
       "      <td>random</td>\n",
       "      <td>5.8653699716551895</td>\n",
       "    </tr>\n",
       "    <tr>\n",
       "      <th>11</th>\n",
       "      <td>8</td>\n",
       "      <td>0.5</td>\n",
       "      <td>2</td>\n",
       "      <td>cosine</td>\n",
       "      <td>random</td>\n",
       "      <td>6.12149330501661</td>\n",
       "    </tr>\n",
       "    <tr>\n",
       "      <th>12</th>\n",
       "      <td>10</td>\n",
       "      <td>0.001</td>\n",
       "      <td>2</td>\n",
       "      <td>cosine</td>\n",
       "      <td>random</td>\n",
       "      <td>5.441092942995777</td>\n",
       "    </tr>\n",
       "    <tr>\n",
       "      <th>13</th>\n",
       "      <td>10</td>\n",
       "      <td>0.01</td>\n",
       "      <td>2</td>\n",
       "      <td>cosine</td>\n",
       "      <td>random</td>\n",
       "      <td>5.476292946914582</td>\n",
       "    </tr>\n",
       "    <tr>\n",
       "      <th>14</th>\n",
       "      <td>10</td>\n",
       "      <td>0.1</td>\n",
       "      <td>2</td>\n",
       "      <td>cosine</td>\n",
       "      <td>random</td>\n",
       "      <td>5.666673815253222</td>\n",
       "    </tr>\n",
       "    <tr>\n",
       "      <th>15</th>\n",
       "      <td>10</td>\n",
       "      <td>0.5</td>\n",
       "      <td>2</td>\n",
       "      <td>cosine</td>\n",
       "      <td>random</td>\n",
       "      <td>6.111837586661421</td>\n",
       "    </tr>\n",
       "  </tbody>\n",
       "</table>\n",
       "</div>"
      ],
      "text/plain": [
       "   n_neighbors min_dist n_components  metric    init           Entropy ↓\n",
       "0            2    0.001            2  cosine  random   5.670807492208298\n",
       "1            2     0.01            2  cosine  random  5.6585034408010815\n",
       "2            2      0.1            2  cosine  random   5.661407034350974\n",
       "3            2      0.5            2  cosine  random   5.758559899441392\n",
       "4            4    0.001            2  cosine  random   5.336908360372046\n",
       "5            4     0.01            2  cosine  random   5.533218615134583\n",
       "6            4      0.1            2  cosine  random   5.685510044054403\n",
       "7            4      0.5            2  cosine  random   6.045011360014577\n",
       "8            8    0.001            2  cosine  random    5.45305860147179\n",
       "9            8     0.01            2  cosine  random   5.498777250550915\n",
       "10           8      0.1            2  cosine  random  5.8653699716551895\n",
       "11           8      0.5            2  cosine  random    6.12149330501661\n",
       "12          10    0.001            2  cosine  random   5.441092942995777\n",
       "13          10     0.01            2  cosine  random   5.476292946914582\n",
       "14          10      0.1            2  cosine  random   5.666673815253222\n",
       "15          10      0.5            2  cosine  random   6.111837586661421"
      ]
     },
     "execution_count": 32,
     "metadata": {},
     "output_type": "execute_result"
    }
   ],
   "source": [
    "best_entropy = np.inf\n",
    "best_umap_kwargs = None\n",
    "df_umap_search = pd.DataFrame(columns=list(umap_grid.keys())+[\"Entropy ↓\"])\n",
    "\n",
    "for umap_vals in product(*tuple(umap_grid.values())):\n",
    "    \n",
    "    # retrieve current umap kwargs\n",
    "    umap_kwargs = {}\n",
    "    for i, key in enumerate(umap_grid.keys()):\n",
    "        umap_kwargs[key] = umap_vals[i]\n",
    "    \n",
    "    try:\n",
    "        df_umap, clustering = clustering_pipeline(\n",
    "            df_embed,\n",
    "            umap_kwargs,\n",
    "            clustering_kwargs=None,\n",
    "            random_state=123,\n",
    "            df_data=df_data,\n",
    "        )\n",
    "        X_cluster = df_umap[[c for c in df_umap.columns if \"umap_\" in c]]\n",
    "        curr_entropy = entropy(X_cluster.values)\n",
    "        df_umap_search = pd.concat(\n",
    "            (\n",
    "                df_umap_search,\n",
    "                pd.DataFrame(data=np.array([umap_vals+(curr_entropy,)]), columns=df_umap_search.columns)\n",
    "            ),\n",
    "            axis=0,\n",
    "            ignore_index=True,\n",
    "        )\n",
    "\n",
    "        if curr_entropy < best_entropy:\n",
    "            best_entropy = curr_entropy\n",
    "            best_umap_kwargs = umap_kwargs\n",
    "        \n",
    "    except Exception as e:\n",
    "        print(f\" {umap_kwargs} failed with following error: {e}; will proceed to next iteration\")\n",
    "    \n",
    "print(f\"Best entropy: {best_entropy}\")\n",
    "print(f\"Best umap_kwargs: {best_umap_kwargs}\")\n",
    "\n",
    "df_umap_search"
   ]
  },
  {
   "cell_type": "code",
   "execution_count": 33,
   "metadata": {},
   "outputs": [
    {
     "data": {
      "application/vnd.jupyter.widget-view+json": {
       "model_id": "a1039790833044819f7e0f6d5aa54f21",
       "version_major": 2,
       "version_minor": 0
      },
      "text/plain": [
       "  0%|          | 0/144 [00:00<?, ?it/s]"
      ]
     },
     "metadata": {},
     "output_type": "display_data"
    },
    {
     "data": {
      "text/html": [
       "<pre style=\"white-space:pre;overflow-x:auto;line-height:normal;font-family:Menlo,'DejaVu Sans Mono',consolas,'Courier New',monospace\"> <span style=\"font-weight: bold\">{</span><span style=\"color: #008000; text-decoration-color: #008000\">'n_neighbors'</span>: <span style=\"color: #008080; text-decoration-color: #008080; font-weight: bold\">10</span>, <span style=\"color: #008000; text-decoration-color: #008000\">'min_dist'</span>: <span style=\"color: #008080; text-decoration-color: #008080; font-weight: bold\">0.5</span>, <span style=\"color: #008000; text-decoration-color: #008000\">'n_components'</span>: <span style=\"color: #008080; text-decoration-color: #008080; font-weight: bold\">2</span>, <span style=\"color: #008000; text-decoration-color: #008000\">'metric'</span>: <span style=\"color: #008000; text-decoration-color: #008000\">'cosine'</span>, <span style=\"color: #008000; text-decoration-color: #008000\">'init'</span>: <span style=\"color: #008000; text-decoration-color: #008000\">'random'</span><span style=\"font-weight: bold\">}</span> failed with \n",
       "following error: Number of labels is <span style=\"color: #008080; text-decoration-color: #008080; font-weight: bold\">1</span>. Valid values are <span style=\"color: #008080; text-decoration-color: #008080; font-weight: bold\">2</span> to n_samples - <span style=\"color: #008080; text-decoration-color: #008080; font-weight: bold\">1</span> <span style=\"font-weight: bold\">(</span>inclusive<span style=\"font-weight: bold\">)</span>; will proceed to next \n",
       "iteration\n",
       "</pre>\n"
      ],
      "text/plain": [
       " \u001b[1m{\u001b[0m\u001b[32m'n_neighbors'\u001b[0m: \u001b[1;36m10\u001b[0m, \u001b[32m'min_dist'\u001b[0m: \u001b[1;36m0.5\u001b[0m, \u001b[32m'n_components'\u001b[0m: \u001b[1;36m2\u001b[0m, \u001b[32m'metric'\u001b[0m: \u001b[32m'cosine'\u001b[0m, \u001b[32m'init'\u001b[0m: \u001b[32m'random'\u001b[0m\u001b[1m}\u001b[0m failed with \n",
       "following error: Number of labels is \u001b[1;36m1\u001b[0m. Valid values are \u001b[1;36m2\u001b[0m to n_samples - \u001b[1;36m1\u001b[0m \u001b[1m(\u001b[0minclusive\u001b[1m)\u001b[0m; will proceed to next \n",
       "iteration\n"
      ]
     },
     "metadata": {},
     "output_type": "display_data"
    },
    {
     "data": {
      "text/html": [
       "<pre style=\"white-space:pre;overflow-x:auto;line-height:normal;font-family:Menlo,'DejaVu Sans Mono',consolas,'Courier New',monospace\"> <span style=\"font-weight: bold\">{</span><span style=\"color: #008000; text-decoration-color: #008000\">'n_neighbors'</span>: <span style=\"color: #008080; text-decoration-color: #008080; font-weight: bold\">10</span>, <span style=\"color: #008000; text-decoration-color: #008000\">'min_dist'</span>: <span style=\"color: #008080; text-decoration-color: #008080; font-weight: bold\">0.5</span>, <span style=\"color: #008000; text-decoration-color: #008000\">'n_components'</span>: <span style=\"color: #008080; text-decoration-color: #008080; font-weight: bold\">2</span>, <span style=\"color: #008000; text-decoration-color: #008000\">'metric'</span>: <span style=\"color: #008000; text-decoration-color: #008000\">'cosine'</span>, <span style=\"color: #008000; text-decoration-color: #008000\">'init'</span>: <span style=\"color: #008000; text-decoration-color: #008000\">'random'</span><span style=\"font-weight: bold\">}</span> failed with \n",
       "following error: Number of labels is <span style=\"color: #008080; text-decoration-color: #008080; font-weight: bold\">1</span>. Valid values are <span style=\"color: #008080; text-decoration-color: #008080; font-weight: bold\">2</span> to n_samples - <span style=\"color: #008080; text-decoration-color: #008080; font-weight: bold\">1</span> <span style=\"font-weight: bold\">(</span>inclusive<span style=\"font-weight: bold\">)</span>; will proceed to next \n",
       "iteration\n",
       "</pre>\n"
      ],
      "text/plain": [
       " \u001b[1m{\u001b[0m\u001b[32m'n_neighbors'\u001b[0m: \u001b[1;36m10\u001b[0m, \u001b[32m'min_dist'\u001b[0m: \u001b[1;36m0.5\u001b[0m, \u001b[32m'n_components'\u001b[0m: \u001b[1;36m2\u001b[0m, \u001b[32m'metric'\u001b[0m: \u001b[32m'cosine'\u001b[0m, \u001b[32m'init'\u001b[0m: \u001b[32m'random'\u001b[0m\u001b[1m}\u001b[0m failed with \n",
       "following error: Number of labels is \u001b[1;36m1\u001b[0m. Valid values are \u001b[1;36m2\u001b[0m to n_samples - \u001b[1;36m1\u001b[0m \u001b[1m(\u001b[0minclusive\u001b[1m)\u001b[0m; will proceed to next \n",
       "iteration\n"
      ]
     },
     "metadata": {},
     "output_type": "display_data"
    },
    {
     "data": {
      "text/html": [
       "<pre style=\"white-space:pre;overflow-x:auto;line-height:normal;font-family:Menlo,'DejaVu Sans Mono',consolas,'Courier New',monospace\"> <span style=\"font-weight: bold\">{</span><span style=\"color: #008000; text-decoration-color: #008000\">'n_neighbors'</span>: <span style=\"color: #008080; text-decoration-color: #008080; font-weight: bold\">10</span>, <span style=\"color: #008000; text-decoration-color: #008000\">'min_dist'</span>: <span style=\"color: #008080; text-decoration-color: #008080; font-weight: bold\">0.5</span>, <span style=\"color: #008000; text-decoration-color: #008000\">'n_components'</span>: <span style=\"color: #008080; text-decoration-color: #008080; font-weight: bold\">2</span>, <span style=\"color: #008000; text-decoration-color: #008000\">'metric'</span>: <span style=\"color: #008000; text-decoration-color: #008000\">'cosine'</span>, <span style=\"color: #008000; text-decoration-color: #008000\">'init'</span>: <span style=\"color: #008000; text-decoration-color: #008000\">'random'</span><span style=\"font-weight: bold\">}</span> failed with \n",
       "following error: Number of labels is <span style=\"color: #008080; text-decoration-color: #008080; font-weight: bold\">1</span>. Valid values are <span style=\"color: #008080; text-decoration-color: #008080; font-weight: bold\">2</span> to n_samples - <span style=\"color: #008080; text-decoration-color: #008080; font-weight: bold\">1</span> <span style=\"font-weight: bold\">(</span>inclusive<span style=\"font-weight: bold\">)</span>; will proceed to next \n",
       "iteration\n",
       "</pre>\n"
      ],
      "text/plain": [
       " \u001b[1m{\u001b[0m\u001b[32m'n_neighbors'\u001b[0m: \u001b[1;36m10\u001b[0m, \u001b[32m'min_dist'\u001b[0m: \u001b[1;36m0.5\u001b[0m, \u001b[32m'n_components'\u001b[0m: \u001b[1;36m2\u001b[0m, \u001b[32m'metric'\u001b[0m: \u001b[32m'cosine'\u001b[0m, \u001b[32m'init'\u001b[0m: \u001b[32m'random'\u001b[0m\u001b[1m}\u001b[0m failed with \n",
       "following error: Number of labels is \u001b[1;36m1\u001b[0m. Valid values are \u001b[1;36m2\u001b[0m to n_samples - \u001b[1;36m1\u001b[0m \u001b[1m(\u001b[0minclusive\u001b[1m)\u001b[0m; will proceed to next \n",
       "iteration\n"
      ]
     },
     "metadata": {},
     "output_type": "display_data"
    },
    {
     "data": {
      "text/html": [
       "<pre style=\"white-space:pre;overflow-x:auto;line-height:normal;font-family:Menlo,'DejaVu Sans Mono',consolas,'Courier New',monospace\">Best silhouette: <span style=\"color: #008080; text-decoration-color: #008080; font-weight: bold\">0.4319193363189697</span>\n",
       "</pre>\n"
      ],
      "text/plain": [
       "Best silhouette: \u001b[1;36m0.4319193363189697\u001b[0m\n"
      ]
     },
     "metadata": {},
     "output_type": "display_data"
    },
    {
     "data": {
      "text/html": [
       "<pre style=\"white-space:pre;overflow-x:auto;line-height:normal;font-family:Menlo,'DejaVu Sans Mono',consolas,'Courier New',monospace\">Best clustering_kwargs: <span style=\"font-weight: bold\">{</span><span style=\"color: #008000; text-decoration-color: #008000\">'min_cluster_size'</span>: <span style=\"color: #008080; text-decoration-color: #008080; font-weight: bold\">15</span>, <span style=\"color: #008000; text-decoration-color: #008000\">'min_samples'</span>: <span style=\"color: #008080; text-decoration-color: #008080; font-weight: bold\">3</span>, <span style=\"color: #008000; text-decoration-color: #008000\">'max_cluster_size'</span>: <span style=\"color: #800080; text-decoration-color: #800080; font-style: italic\">None</span>, \n",
       "<span style=\"color: #008000; text-decoration-color: #008000\">'cluster_selection_epsilon'</span>: <span style=\"color: #008080; text-decoration-color: #008080; font-weight: bold\">0.05</span><span style=\"font-weight: bold\">}</span>\n",
       "</pre>\n"
      ],
      "text/plain": [
       "Best clustering_kwargs: \u001b[1m{\u001b[0m\u001b[32m'min_cluster_size'\u001b[0m: \u001b[1;36m15\u001b[0m, \u001b[32m'min_samples'\u001b[0m: \u001b[1;36m3\u001b[0m, \u001b[32m'max_cluster_size'\u001b[0m: \u001b[3;35mNone\u001b[0m, \n",
       "\u001b[32m'cluster_selection_epsilon'\u001b[0m: \u001b[1;36m0.05\u001b[0m\u001b[1m}\u001b[0m\n"
      ]
     },
     "metadata": {},
     "output_type": "display_data"
    },
    {
     "data": {
      "text/html": [
       "<div>\n",
       "<style scoped>\n",
       "    .dataframe tbody tr th:only-of-type {\n",
       "        vertical-align: middle;\n",
       "    }\n",
       "\n",
       "    .dataframe tbody tr th {\n",
       "        vertical-align: top;\n",
       "    }\n",
       "\n",
       "    .dataframe thead th {\n",
       "        text-align: right;\n",
       "    }\n",
       "</style>\n",
       "<table border=\"1\" class=\"dataframe\">\n",
       "  <thead>\n",
       "    <tr style=\"text-align: right;\">\n",
       "      <th></th>\n",
       "      <th>min_cluster_size</th>\n",
       "      <th>min_samples</th>\n",
       "      <th>max_cluster_size</th>\n",
       "      <th>cluster_selection_epsilon</th>\n",
       "      <th>Silhouette ↑</th>\n",
       "    </tr>\n",
       "  </thead>\n",
       "  <tbody>\n",
       "    <tr>\n",
       "      <th>0</th>\n",
       "      <td>3</td>\n",
       "      <td>3</td>\n",
       "      <td>None</td>\n",
       "      <td>0.05</td>\n",
       "      <td>0.295892</td>\n",
       "    </tr>\n",
       "    <tr>\n",
       "      <th>1</th>\n",
       "      <td>3</td>\n",
       "      <td>3</td>\n",
       "      <td>None</td>\n",
       "      <td>0.1</td>\n",
       "      <td>0.300708</td>\n",
       "    </tr>\n",
       "    <tr>\n",
       "      <th>2</th>\n",
       "      <td>3</td>\n",
       "      <td>3</td>\n",
       "      <td>None</td>\n",
       "      <td>0.5</td>\n",
       "      <td>0.333435</td>\n",
       "    </tr>\n",
       "    <tr>\n",
       "      <th>3</th>\n",
       "      <td>3.0</td>\n",
       "      <td>3.0</td>\n",
       "      <td>15.0</td>\n",
       "      <td>0.05</td>\n",
       "      <td>0.295892</td>\n",
       "    </tr>\n",
       "    <tr>\n",
       "      <th>4</th>\n",
       "      <td>3.0</td>\n",
       "      <td>3.0</td>\n",
       "      <td>15.0</td>\n",
       "      <td>0.1</td>\n",
       "      <td>0.300708</td>\n",
       "    </tr>\n",
       "    <tr>\n",
       "      <th>...</th>\n",
       "      <td>...</td>\n",
       "      <td>...</td>\n",
       "      <td>...</td>\n",
       "      <td>...</td>\n",
       "      <td>...</td>\n",
       "    </tr>\n",
       "    <tr>\n",
       "      <th>136</th>\n",
       "      <td>15.0</td>\n",
       "      <td>10.0</td>\n",
       "      <td>25.0</td>\n",
       "      <td>0.1</td>\n",
       "      <td>0.340647</td>\n",
       "    </tr>\n",
       "    <tr>\n",
       "      <th>137</th>\n",
       "      <td>15.0</td>\n",
       "      <td>10.0</td>\n",
       "      <td>25.0</td>\n",
       "      <td>0.5</td>\n",
       "      <td>0.340647</td>\n",
       "    </tr>\n",
       "    <tr>\n",
       "      <th>138</th>\n",
       "      <td>15.0</td>\n",
       "      <td>10.0</td>\n",
       "      <td>40.0</td>\n",
       "      <td>0.05</td>\n",
       "      <td>0.2845</td>\n",
       "    </tr>\n",
       "    <tr>\n",
       "      <th>139</th>\n",
       "      <td>15.0</td>\n",
       "      <td>10.0</td>\n",
       "      <td>40.0</td>\n",
       "      <td>0.1</td>\n",
       "      <td>0.300708</td>\n",
       "    </tr>\n",
       "    <tr>\n",
       "      <th>140</th>\n",
       "      <td>15.0</td>\n",
       "      <td>10.0</td>\n",
       "      <td>40.0</td>\n",
       "      <td>0.5</td>\n",
       "      <td>0.300708</td>\n",
       "    </tr>\n",
       "  </tbody>\n",
       "</table>\n",
       "<p>141 rows × 5 columns</p>\n",
       "</div>"
      ],
      "text/plain": [
       "    min_cluster_size min_samples max_cluster_size cluster_selection_epsilon  \\\n",
       "0                  3           3             None                      0.05   \n",
       "1                  3           3             None                       0.1   \n",
       "2                  3           3             None                       0.5   \n",
       "3                3.0         3.0             15.0                      0.05   \n",
       "4                3.0         3.0             15.0                       0.1   \n",
       "..               ...         ...              ...                       ...   \n",
       "136             15.0        10.0             25.0                       0.1   \n",
       "137             15.0        10.0             25.0                       0.5   \n",
       "138             15.0        10.0             40.0                      0.05   \n",
       "139             15.0        10.0             40.0                       0.1   \n",
       "140             15.0        10.0             40.0                       0.5   \n",
       "\n",
       "    Silhouette ↑  \n",
       "0       0.295892  \n",
       "1       0.300708  \n",
       "2       0.333435  \n",
       "3       0.295892  \n",
       "4       0.300708  \n",
       "..           ...  \n",
       "136     0.340647  \n",
       "137     0.340647  \n",
       "138       0.2845  \n",
       "139     0.300708  \n",
       "140     0.300708  \n",
       "\n",
       "[141 rows x 5 columns]"
      ]
     },
     "execution_count": 33,
     "metadata": {},
     "output_type": "execute_result"
    }
   ],
   "source": [
    "best_silhouette = -np.inf\n",
    "best_clustering_kwargs = None\n",
    "df_clustering_search = pd.DataFrame(columns=list(clustering_grid.keys())+[\"Silhouette ↑\"])\n",
    "\n",
    "for clustering_vals in product(*tuple(clustering_grid.values())):\n",
    "    \n",
    "    # retrieve current clustering kwargs\n",
    "    clustering_kwargs = {}\n",
    "    for i, key in enumerate(clustering_grid.keys()):\n",
    "        clustering_kwargs[key] = clustering_vals[i]\n",
    "    \n",
    "    try:\n",
    "        df_umap, clustering = clustering_pipeline(\n",
    "            df_embed,\n",
    "            best_umap_kwargs,\n",
    "            clustering_kwargs=clustering_kwargs,\n",
    "            random_state=123,\n",
    "            df_data=df_data,\n",
    "        )\n",
    "        X_cluster = df_umap[[c for c in df_umap.columns if \"umap_\" in c]]\n",
    "        curr_silhouette = silhouette_score(X_cluster.values, df_umap[\"cluster\"])\n",
    "        df_clustering_search = pd.concat(\n",
    "            (\n",
    "                df_clustering_search,\n",
    "                pd.DataFrame(data=np.array([clustering_vals+(curr_silhouette,)]), columns=df_clustering_search.columns)\n",
    "            ),\n",
    "            axis=0,\n",
    "            ignore_index=True,\n",
    "        )\n",
    "\n",
    "        if curr_silhouette > best_silhouette:\n",
    "            best_silhouette = curr_silhouette\n",
    "            best_clustering_kwargs = clustering_kwargs\n",
    "        \n",
    "    except Exception as e:\n",
    "        print(f\" {umap_kwargs} failed with following error: {e}; will proceed to next iteration\")\n",
    "    \n",
    "print(f\"Best silhouette: {best_silhouette}\")\n",
    "print(f\"Best clustering_kwargs: {best_clustering_kwargs}\")\n",
    "\n",
    "df_clustering_search"
   ]
  },
  {
   "cell_type": "code",
   "execution_count": 34,
   "metadata": {},
   "outputs": [
    {
     "data": {
      "text/plain": [
       "<Axes: >"
      ]
     },
     "execution_count": 34,
     "metadata": {},
     "output_type": "execute_result"
    },
    {
     "data": {
      "image/png": "[encoded data removed]",
      "text/plain": [
       "<Figure size 640x480 with 1 Axes>"
      ]
     },
     "metadata": {},
     "output_type": "display_data"
    }
   ],
   "source": [
    "df_clustering_search[\"Silhouette ↑\"].sort_values().reset_index(drop=True).plot()"
   ]
  },
  {
   "cell_type": "code",
   "execution_count": 35,
   "metadata": {},
   "outputs": [
    {
     "data": {
      "text/html": [
       "<pre style=\"white-space:pre;overflow-x:auto;line-height:normal;font-family:Menlo,'DejaVu Sans Mono',consolas,'Courier New',monospace\"> Silhouette ↑ = <span style=\"color: #008080; text-decoration-color: #008080; font-weight: bold\">0.4319193363189697</span>\n",
       "</pre>\n"
      ],
      "text/plain": [
       " Silhouette ↑ = \u001b[1;36m0.4319193363189697\u001b[0m\n"
      ]
     },
     "metadata": {},
     "output_type": "display_data"
    },
    {
     "data": {
      "text/html": [
       "<pre style=\"white-space:pre;overflow-x:auto;line-height:normal;font-family:Menlo,'DejaVu Sans Mono',consolas,'Courier New',monospace\"> Entropy ↓ = <span style=\"color: #008080; text-decoration-color: #008080; font-weight: bold\">5.336908360372046</span>\n",
       "</pre>\n"
      ],
      "text/plain": [
       " Entropy ↓ = \u001b[1;36m5.336908360372046\u001b[0m\n"
      ]
     },
     "metadata": {},
     "output_type": "display_data"
    },
    {
     "data": {
      "application/vnd.plotly.v1+json": {
       "config": {
        "plotlyServerURL": "https://plot.ly"
       },
       "data": [
        {
         "customdata": [
          [
           "Performance Optimization of Deep Learning Sparse Matrix Kernels on Intel Max Series GPU",
           "http://arxiv.org/abs/2311.00368v1"
          ],
          [
           "TorchProbe: Fuzzing Dynamic Deep Learning Compilers",
           "http://arxiv.org/abs/2310.20078v1"
          ],
          [
           "Software engineering for deep learning applications: usage of SWEng and MLops tools in GitHub repositories",
           "http://arxiv.org/abs/2310.19124v1"
          ],
          [
           "Restoring the Broken Covenant Between Compilers and Deep Learning Accelerators",
           "http://arxiv.org/abs/2310.17912v1"
          ],
          [
           "A model for multi-attack classification to improve intrusion detection performance using deep learning approaches",
           "http://arxiv.org/abs/2310.16380v1"
          ],
          [
           "Regularized Shannon sampling formulas related to the special affine Fourier transform",
           "http://arxiv.org/abs/2311.00610v1"
          ],
          [
           "Fourier transforms and iterated function systems",
           "http://arxiv.org/abs/2311.00585v1"
          ],
          [
           "A simple range characterization for spherical mean transform in odd dimensions and its applications",
           "http://arxiv.org/abs/2310.20702v1"
          ],
          [
           "On the Hankel Transform of Bessel Functions on Complex Numbers and Explicit Spectral Formulae over the Gaussian Field",
           "http://arxiv.org/abs/2310.19480v1"
          ],
          [
           "Semigroups of transformations whose characters belong to a given semigroup",
           "http://arxiv.org/abs/2310.19414v1"
          ],
          [
           "The Roelcke Precompactness and Compactifications of Transformations Groups of Discrete Spaces and Homogeneous Chains",
           "http://arxiv.org/abs/2310.18570v1"
          ],
          [
           "Deep Transformed Gaussian Processes",
           "http://arxiv.org/abs/2310.18230v2"
          ],
          [
           "New Fast Transform for Orthogonal Frequency Division Multiplexing",
           "http://arxiv.org/abs/2310.18064v1"
          ],
          [
           "Harmonic Berezin transform on half-space with vertical weights",
           "http://arxiv.org/abs/2310.17562v2"
          ],
          [
           "The limiting distribution of a random variable transformed by Chebyshev Polynomials",
           "http://arxiv.org/abs/2310.17039v1"
          ],
          [
           "Stochastic Gradient Descent for Gaussian Processes Done Right",
           "http://arxiv.org/abs/2310.20581v1"
          ],
          [
           "How Well Do Feature-Additive Explainers Explain Feature-Additive Predictors?",
           "http://arxiv.org/abs/2310.18496v1"
          ],
          [
           "Explanation-Based Training with Differentiable Insertion/Deletion Metric-Aware Regularizers",
           "http://arxiv.org/abs/2310.12553v2"
          ],
          [
           "Thin and Deep Gaussian Processes",
           "http://arxiv.org/abs/2310.11527v1"
          ],
          [
           "SCAR: Power Side-Channel Analysis at RTL-Level",
           "http://arxiv.org/abs/2310.06257v1"
          ],
          [
           "ONNXExplainer: an ONNX Based Generic Framework to Explain Neural Networks Using Shapley Values",
           "http://arxiv.org/abs/2309.16916v2"
          ],
          [
           "Nebula: Self-Attention for Dynamic Malware Analysis",
           "http://arxiv.org/abs/2310.10664v1"
          ],
          [
           "Attribution Patching Outperforms Automated Circuit Discovery",
           "http://arxiv.org/abs/2310.10348v1"
          ]
         ],
         "hovertemplate": "cluster=-1<br>noise=1<br>umap_0=%{x}<br>umap_1=%{y}<br>title=%{customdata[0]}<br>ID=%{customdata[1]}<extra></extra>",
         "legendgroup": "-1, 1",
         "marker": {
          "color": "#636efa",
          "symbol": "diamond"
         },
         "mode": "markers",
         "name": "-1, 1",
         "orientation": "v",
         "showlegend": true,
         "type": "scatter",
         "x": [
          0.6536417007446289,
          0.6724288463592529,
          0.6692129373550415,
          0.6674196720123291,
          0.6220533847808838,
          0.9001275897026062,
          0.8787844777107239,
          0.8819637894630432,
          0.8810433745384216,
          0.8794342279434204,
          0.8797193765640259,
          0.42270463705062866,
          0.916858971118927,
          0.8805814385414124,
          0.8765687942504883,
          0.42608821392059326,
          0.6933580040931702,
          0.6923254728317261,
          0.4295799136161804,
          0.6669265627861023,
          0.6978789567947388,
          0.625935435295105,
          0.6834214925765991
         ],
         "xaxis": "x",
         "y": [
          0.6394882202148438,
          0.6283220052719116,
          0.6226110458374023,
          0.63060462474823,
          0.6930229663848877,
          0.9949678778648376,
          0.9973311424255371,
          0.9967598915100098,
          0.997848391532898,
          1,
          0.999387800693512,
          0.738663911819458,
          0.9922071099281311,
          0.9974743723869324,
          0.9955984354019165,
          0.7404699325561523,
          0.5957325100898743,
          0.5943764448165894,
          0.7342196106910706,
          0.6250883936882019,
          0.5997517108917236,
          0.6835819482803345,
          0.5963807702064514
         ],
         "yaxis": "y"
        },
        {
         "customdata": [
          [
           "Learning impartial policies for sequential counterfactual explanations using Deep Reinforcement Learning",
           "http://arxiv.org/abs/2311.00523v1"
          ],
          [
           "Sample-Efficient and Safe Deep Reinforcement Learning via Reset Deep Ensemble Agents",
           "http://arxiv.org/abs/2310.20287v1"
          ],
          [
           "Data Market Design through Deep Learning",
           "http://arxiv.org/abs/2310.20096v1"
          ],
          [
           "Deep Learning-Enabled Text Semantic Communication under Interference: An Empirical Study",
           "http://arxiv.org/abs/2310.19974v1"
          ],
          [
           "AdapINT: A Flexible and Adaptive In-Band Network Telemetry System Based on Deep Reinforcement Learning",
           "http://arxiv.org/abs/2310.19331v1"
          ],
          [
           "Automaton Distillation: Neuro-Symbolic Transfer Learning for Deep Reinforcement Learning",
           "http://arxiv.org/abs/2310.19137v1"
          ],
          [
           "A hybrid deep learning method for finite-horizon mean-field game problems",
           "http://arxiv.org/abs/2310.18968v1"
          ],
          [
           "Deep Reinforcement Learning for Weapons to Targets Assignment in a Hypersonic strike",
           "http://arxiv.org/abs/2310.18509v1"
          ],
          [
           "DESiRED -- Dynamic, Enhanced, and Smart iRED: A P4-AQM with Deep Reinforcement Learning and In-band Network Telemetry",
           "http://arxiv.org/abs/2310.18159v1"
          ],
          [
           "Adaptive Resource Management for Edge Network Slicing using Incremental Multi-Agent Deep Reinforcement Learning",
           "http://arxiv.org/abs/2310.17523v2"
          ],
          [
           "Orchestration of Emulator Assisted Mobile Edge Tuning for AI Foundation Models: A Multi-Agent Deep Reinforcement Learning Approach",
           "http://arxiv.org/abs/2310.17492v1"
          ],
          [
           "Fair collaborative vehicle routing: A deep multi-agent reinforcement learning approach",
           "http://arxiv.org/abs/2310.17485v1"
          ],
          [
           "Solving large flexible job shop scheduling instances by generating a diverse set of scheduling policies with deep reinforcement learning",
           "http://arxiv.org/abs/2310.15706v1"
          ],
          [
           "Graph Attention-based Deep Reinforcement Learning for solving the Chinese Postman Problem with Load-dependent costs",
           "http://arxiv.org/abs/2310.15516v1"
          ],
          [
           "Diverse Priors for Deep Reinforcement Learning",
           "http://arxiv.org/abs/2310.14864v1"
          ],
          [
           "Rethinking Decision Transformer via Hierarchical Reinforcement Learning",
           "http://arxiv.org/abs/2311.00267v1"
          ],
          [
           "ZeroQuant-HERO: Hardware-Enhanced Robust Optimized Post-Training Quantization Framework for W8A8 Transformers",
           "http://arxiv.org/abs/2310.17723v1"
          ],
          [
           "LLM-FP4: 4-Bit Floating-Point Quantized Transformers",
           "http://arxiv.org/abs/2310.16836v1"
          ],
          [
           "Transformer-based Live Update Generation for Soccer Matches from Microblog Posts",
           "http://arxiv.org/abs/2310.16368v1"
          ],
          [
           "Denoising Opponents Position in Partial Observation Environment",
           "http://arxiv.org/abs/2310.14553v1"
          ],
          [
           "Mobile Traffic Prediction at the Edge through Distributed and Transfer Learning",
           "http://arxiv.org/abs/2310.14456v1"
          ],
          [
           "Offline Reinforcement Learning for Optimizing Production Bidding Policies",
           "http://arxiv.org/abs/2310.09426v1"
          ],
          [
           "Sample Complexity of Neural Policy Mirror Descent for Policy Optimization on Low-Dimensional Manifolds",
           "http://arxiv.org/abs/2309.13915v1"
          ],
          [
           "Causal Reasoning: Charting a Revolutionary Course for Next-Generation AI-Native Wireless Networks",
           "http://arxiv.org/abs/2309.13223v1"
          ],
          [
           "Lifting the Veil: Unlocking the Power of Depth in Q-learning",
           "http://arxiv.org/abs/2310.17915v1"
          ],
          [
           "Reinforcement Learning for Reduced-order Models of Legged Robots",
           "http://arxiv.org/abs/2310.09873v1"
          ],
          [
           "DNFS-VNE: Deep Neuro-Fuzzy System-Driven Virtual Network Embedding Algorithm",
           "http://arxiv.org/abs/2310.09078v1"
          ],
          [
           "BridgeHand2Vec Bridge Hand Representation",
           "http://arxiv.org/abs/2310.06624v1"
          ],
          [
           "Predictive auxiliary objectives in deep RL mimic learning in the brain",
           "http://arxiv.org/abs/2310.06089v1"
          ],
          [
           "Fully Spiking Neural Network for Legged Robots",
           "http://arxiv.org/abs/2310.05022v1"
          ]
         ],
         "hovertemplate": "cluster=0<br>noise=0<br>umap_0=%{x}<br>umap_1=%{y}<br>title=%{customdata[0]}<br>ID=%{customdata[1]}<extra></extra>",
         "legendgroup": "0, 0",
         "marker": {
          "color": "#EF553B",
          "symbol": "circle"
         },
         "mode": "markers",
         "name": "0, 0",
         "orientation": "v",
         "showlegend": true,
         "type": "scatter",
         "x": [
          0.8762717843055725,
          0.8715053200721741,
          0.9045217037200928,
          0.9991024136543274,
          0.9946424961090088,
          0.8728560209274292,
          0.8596086502075195,
          0.8791353106498718,
          0.9956914186477661,
          0.9909045100212097,
          0.9797767400741577,
          0.9122516512870789,
          0.9199711084365845,
          0.922126829624176,
          0.8746523261070251,
          0.8846643567085266,
          0.9969136118888855,
          1,
          0.8587560057640076,
          0.8630579710006714,
          0.9921342134475708,
          0.9003726243972778,
          0.8619446754455566,
          0.9980305433273315,
          0.9046844840049744,
          0.8617336750030518,
          0.9223868250846863,
          0.8680464029312134,
          0.8708864450454712,
          0.8614768981933594
         ],
         "xaxis": "x",
         "y": [
          0.7676304578781128,
          0.770115315914154,
          0.7332999110221863,
          0.740703821182251,
          0.7695842385292053,
          0.766664981842041,
          0.7228978276252747,
          0.7635940909385681,
          0.7690536975860596,
          0.7708845138549805,
          0.7644912004470825,
          0.7485899925231934,
          0.7693284153938293,
          0.7656498551368713,
          0.768717348575592,
          0.7633788585662842,
          0.7216724157333374,
          0.7241728901863098,
          0.6371735334396362,
          0.6542520523071289,
          0.7587171792984009,
          0.7344483137130737,
          0.7578572034835815,
          0.7454293370246887,
          0.7339743971824646,
          0.6544557213783264,
          0.7311511039733887,
          0.6752966046333313,
          0.767718493938446,
          0.6531884074211121
         ],
         "yaxis": "y"
        },
        {
         "customdata": [
          [
           "The stability of deep learning for 21cm foreground removal across various sky models and frequency-dependent systematics",
           "http://arxiv.org/abs/2311.00493v1"
          ],
          [
           "Deep Compressed Learning for 3D Seismic Inversion",
           "http://arxiv.org/abs/2311.00107v1"
          ],
          [
           "Deep Learning for Spatiotemporal Big Data: A Vision on Opportunities and Challenges",
           "http://arxiv.org/abs/2310.19957v1"
          ],
          [
           "Deep-learning-based decomposition of overlapping-sparse images: application at the vertex of neutrino interactions",
           "http://arxiv.org/abs/2310.19695v1"
          ],
          [
           "Density Estimation for Entry Guidance Problems using Deep Learning",
           "http://arxiv.org/abs/2310.19684v1"
          ],
          [
           "There Are No Data Like More Data- Datasets for Deep Learning in Earth Observation",
           "http://arxiv.org/abs/2310.19231v1"
          ],
          [
           "The Power of Explainability in Forecast-Informed Deep Learning Models for Flood Mitigation",
           "http://arxiv.org/abs/2310.19166v1"
          ],
          [
           "Multi-task deep learning for large-scale building detail extraction from high-resolution satellite imagery",
           "http://arxiv.org/abs/2310.18899v1"
          ],
          [
           "Deep Learning on SAR Imagery: Transfer Learning Versus Randomly Initialized Weights",
           "http://arxiv.org/abs/2310.17126v1"
          ],
          [
           "Deep machine learning for meteor monitoring: advances with transfer learning and gradient-weighted class activation mapping",
           "http://arxiv.org/abs/2310.16826v2"
          ],
          [
           "Deep Learning Approach to Photometric Redshift Estimation",
           "http://arxiv.org/abs/2310.16304v1"
          ],
          [
           "Sea-Land-Cloud Segmentation in Satellite Hyperspectral Imagery by Deep Learning",
           "http://arxiv.org/abs/2310.16210v1"
          ],
          [
           "Physically Explainable Deep Learning for Convective Initiation Nowcasting Using GOES-16 Satellite Observations",
           "http://arxiv.org/abs/2310.16015v1"
          ],
          [
           "Super-resolved rainfall prediction with physics-aware deep learning",
           "http://arxiv.org/abs/2310.15615v1"
          ],
          [
           "Detecting Intentional AIS Shutdown in Open Sea Maritime Surveillance Using Self-Supervised Deep Learning",
           "http://arxiv.org/abs/2310.15586v1"
          ],
          [
           "Resource-aware Research on Universe and Matter: Call-to-Action in Digital Transformation",
           "http://arxiv.org/abs/2311.01169v1"
          ],
          [
           "Compact Binary Systems Waveform Generation with Generative Pre-trained Transformer",
           "http://arxiv.org/abs/2310.20172v1"
          ],
          [
           "Transformer-based nowcasting of radar composites from satellite images for severe weather",
           "http://arxiv.org/abs/2310.19515v1"
          ],
          [
           "FaultSeg Swin-UNETR: Transformer-Based Self-Supervised Pretraining Model for Fault Recognition",
           "http://arxiv.org/abs/2310.17974v1"
          ],
          [
           "Simulation-based Inference of Reionization Parameters from 3D Tomographic 21 cm Light-cone Images -- II: Application of Solid Harmonic Wavelet Scattering Transform",
           "http://arxiv.org/abs/2310.17602v1"
          ],
          [
           "Wave transformations near a coronal magnetic null-point",
           "http://arxiv.org/abs/2310.17573v1"
          ],
          [
           "Dark Energy Survey Year 3 results: simulation-based cosmological inference with wavelet harmonics, scattering transforms, and moments of weak lensing mass maps I: validation on simulations",
           "http://arxiv.org/abs/2310.17557v1"
          ],
          [
           "Transformer-based Atmospheric Density Forecasting",
           "http://arxiv.org/abs/2310.16912v1"
          ],
          [
           "Trainable Noise Model as an XAI evaluation method: application on Sobol for remote sensing image segmentation",
           "http://arxiv.org/abs/2310.01828v1"
          ],
          [
           "Granularity at Scale: Estimating Neighborhood Well-Being from High-Resolution Orthographic Imagery and Hybrid Learning",
           "http://arxiv.org/abs/2309.16808v1"
          ],
          [
           "Gastro-Intestinal Tract Segmentation Using an Explainable 3D Unet",
           "http://arxiv.org/abs/2309.14474v1"
          ],
          [
           "Prediction of Tropical Pacific Rain Rates with Over-parameterized Neural Networks",
           "http://arxiv.org/abs/2309.14358v1"
          ],
          [
           "Learning-Initialized Trajectory Planning in Unknown Environments",
           "http://arxiv.org/abs/2309.10683v1"
          ],
          [
           "RPCANet: Deep Unfolding RPCA Based Infrared Small Target Detection",
           "http://arxiv.org/abs/2311.00917v1"
          ],
          [
           "Active Sensing for Localization with Reconfigurable Intelligent Surface",
           "http://arxiv.org/abs/2310.13160v1"
          ],
          [
           "A Mass-Conserving-Perceptron for Machine Learning-Based Modeling of Geoscientific Systems",
           "http://arxiv.org/abs/2310.08644v2"
          ],
          [
           "Unlocking the capabilities of explainable fewshot learning in remote sensing",
           "http://arxiv.org/abs/2310.08619v1"
          ],
          [
           "Characterizing climate pathways using feature importance on echo state networks",
           "http://arxiv.org/abs/2310.08495v1"
          ],
          [
           "Geographic Location Encoding with Spherical Harmonics and Sinusoidal Representation Networks",
           "http://arxiv.org/abs/2310.06743v1"
          ]
         ],
         "hovertemplate": "cluster=1<br>noise=0<br>umap_0=%{x}<br>umap_1=%{y}<br>title=%{customdata[0]}<br>ID=%{customdata[1]}<extra></extra>",
         "legendgroup": "1, 0",
         "marker": {
          "color": "#00cc96",
          "symbol": "circle"
         },
         "mode": "markers",
         "name": "1, 0",
         "orientation": "v",
         "showlegend": true,
         "type": "scatter",
         "x": [
          0.08173767477273941,
          0.08075212687253952,
          0.11465585231781006,
          0.07615058869123459,
          0.06374738365411758,
          0.10222028195858002,
          0.011339567601680756,
          0.12142319232225418,
          0.04258493334054947,
          0.0707542672753334,
          0.07473014295101166,
          0.04823368042707443,
          0.0070297629572451115,
          0.007523112464696169,
          0.041870471090078354,
          0.0909830778837204,
          0.08156506717205048,
          0.011845995672047138,
          0.08025703579187393,
          0.07207369804382324,
          0.06408216804265976,
          0.07380060851573944,
          0.052529096603393555,
          0.16149622201919556,
          0.12197183817625046,
          0.16701103746891022,
          0.0009118053712882102,
          0.06777818500995636,
          0.12756244838237762,
          0.06681719422340393,
          0.0195621345192194,
          0.12817582488059998,
          0,
          0.09954129159450531
         ],
         "xaxis": "x",
         "y": [
          0.5352997183799744,
          0.48728814721107483,
          0.4558506906032562,
          0.5336619019508362,
          0.586907684803009,
          0.46644502878189087,
          0.5939600467681885,
          0.45014527440071106,
          0.546913206577301,
          0.5302817225456238,
          0.5285804867744446,
          0.5432922840118408,
          0.5865908861160278,
          0.5868108868598938,
          0.5474298596382141,
          0.4837751090526581,
          0.5247683525085449,
          0.5886794328689575,
          0.48841971158981323,
          0.52748703956604,
          0.5908321738243103,
          0.5343440771102905,
          0.5875419974327087,
          0.42460569739341736,
          0.4508265256881714,
          0.41701751947402954,
          0.5841463208198547,
          0.5882128477096558,
          0.5349082350730896,
          0.5888581871986389,
          0.6008362174034119,
          0.44416821002960205,
          0.5838193893432617,
          0.4664236307144165
         ],
         "yaxis": "y"
        },
        {
         "customdata": [
          [
           "Exploring Deep Learning Techniques for Glaucoma Detection: A Comprehensive Review",
           "http://arxiv.org/abs/2311.01425v1"
          ],
          [
           "A Robust Deep Learning Method with Uncertainty Estimation for the Pathological Classification of Renal Cell Carcinoma based on CT Images",
           "http://arxiv.org/abs/2311.00567v1"
          ],
          [
           "Feature-oriented Deep Learning Framework for Pulmonary Cone-beam CT (CBCT) Enhancement with Multi-task Customized Perceptual Loss",
           "http://arxiv.org/abs/2311.00412v1"
          ],
          [
           "View Classification and Object Detection in Cardiac Ultrasound to Localize Valves via Deep Learning",
           "http://arxiv.org/abs/2311.00068v1"
          ],
          [
           "Assessing and Enhancing Robustness of Deep Learning Models with Corruption Emulation in Digital Pathology",
           "http://arxiv.org/abs/2310.20427v1"
          ],
          [
           "Low-Dose CT Image Enhancement Using Deep Learning",
           "http://arxiv.org/abs/2310.20265v1"
          ],
          [
           "LinFlo-Net: A two-stage deep learning method to generate simulation ready meshes of the heart",
           "http://arxiv.org/abs/2310.20065v1"
          ],
          [
           "Predicting recovery following stroke: deep learning, multimodal data and feature selection using explainable AI",
           "http://arxiv.org/abs/2310.19174v1"
          ],
          [
           "DySurv: Dynamic Deep Learning Model for Survival Prediction in the ICU",
           "http://arxiv.org/abs/2310.18681v1"
          ],
          [
           "Alzheimers Disease Diagnosis by Deep Learning Using MRI-Based Approaches",
           "http://arxiv.org/abs/2310.17755v1"
          ],
          [
           "A Deep Learning Approach to Teeth Segmentation and Orientation from Panoramic X-rays",
           "http://arxiv.org/abs/2310.17176v1"
          ],
          [
           "Technical Note: Feasibility of translating 3.0T-trained Deep-Learning Segmentation Models Out-of-the-Box on Low-Field MRI 0.55T Knee-MRI of Healthy Controls",
           "http://arxiv.org/abs/2310.17152v1"
          ],
          [
           "Trust, but Verify: Robust Image Segmentation using Deep Learning",
           "http://arxiv.org/abs/2310.16999v2"
          ],
          [
           "Improving Performance in Colorectal Cancer Histology Decomposition using Deep and Ensemble Machine Learning",
           "http://arxiv.org/abs/2310.16954v1"
          ],
          [
           "Deep Learning Techniques for Cervical Cancer Diagnosis based on Pathology and Colposcopy Images",
           "http://arxiv.org/abs/2310.16662v1"
          ],
          [
           "Blip-Up Blip-Down Circular EPI (BUDA-cEPI) for Distortion-Free dMRI with Rapid Unrolled Deep Learning Reconstruction",
           "http://arxiv.org/abs/2310.15939v1"
          ],
          [
           "Deep Learning Models for Classification of COVID-19 Cases by Medical Images",
           "http://arxiv.org/abs/2310.16851v1"
          ],
          [
           "DeepVox and SAVE-CT: a contrast- and dose-independent 3D deep learning approach for thoracic aorta segmentation and aneurysm prediction using computed tomography scans",
           "http://arxiv.org/abs/2310.15328v1"
          ],
          [
           "Hybrid-Fusion Transformer for Multisequence MRI",
           "http://arxiv.org/abs/2311.01308v1"
          ],
          [
           "Learning A Multi-Task Transformer Via Unified And Customized Instruction Tuning For Chest Radiograph Interpretation",
           "http://arxiv.org/abs/2311.01092v1"
          ],
          [
           "What a Whole Slide Image Can Tell? Subtype-guided Masked Transformer for Pathological Image Captioning",
           "http://arxiv.org/abs/2310.20607v1"
          ],
          [
           "Muscle volume quantification: guiding transformers with anatomical priors",
           "http://arxiv.org/abs/2310.20355v1"
          ],
          [
           "MIST: Medical Image Segmentation Transformer with Convolutional Attention Mixing (CAM) Decoder",
           "http://arxiv.org/abs/2310.19898v1"
          ],
          [
           "Generating Medical Instructions with Conditional Transformer",
           "http://arxiv.org/abs/2310.19727v1"
          ],
          [
           "HCT: Hybrid Convnet-Transformer for Parkinson's disease detection and severity prediction from gait",
           "http://arxiv.org/abs/2310.17078v1"
          ],
          [
           "One-dimensional convolutional neural network model for breast cancer subtypes classification and biochemical content evaluation using micro-FTIR hyperspectral images",
           "http://arxiv.org/abs/2310.15094v1"
          ],
          [
           "Pathologist-Like Explanations Unveiled: an Explainable Deep Learning System for White Blood Cell Classification",
           "http://arxiv.org/abs/2310.13279v1"
          ],
          [
           "Interpretable Predictive Models to Understand Risk Factors for Maternal and Fetal Outcomes",
           "http://arxiv.org/abs/2310.10203v1"
          ],
          [
           "VisionFM: a Multi-Modal Multi-Task Vision Foundation Model for Generalist Ophthalmic Artificial Intelligence",
           "http://arxiv.org/abs/2310.04992v1"
          ],
          [
           "Propagation and Attribution of Uncertainty in Medical Imaging Pipelines",
           "http://arxiv.org/abs/2309.16831v1"
          ],
          [
           "Understanding Calibration of Deep Neural Networks for Medical Image Classification",
           "http://arxiv.org/abs/2309.13132v1"
          ],
          [
           "Signature Activation: A Sparse Signal View for Holistic Saliency",
           "http://arxiv.org/abs/2309.11443v1"
          ],
          [
           "QXAI: Explainable AI Framework for Quantitative Analysis in Patient Monitoring Systems",
           "http://arxiv.org/abs/2309.10293v2"
          ],
          [
           "Graph AI in Medicine",
           "http://arxiv.org/abs/2310.13767v1"
          ],
          [
           "An Interpretable Deep-Learning Framework for Predicting Hospital Readmissions From Electronic Health Records",
           "http://arxiv.org/abs/2310.10187v1"
          ]
         ],
         "hovertemplate": "cluster=2<br>noise=0<br>umap_0=%{x}<br>umap_1=%{y}<br>title=%{customdata[0]}<br>ID=%{customdata[1]}<extra></extra>",
         "legendgroup": "2, 0",
         "marker": {
          "color": "#ab63fa",
          "symbol": "circle"
         },
         "mode": "markers",
         "name": "2, 0",
         "orientation": "v",
         "showlegend": true,
         "type": "scatter",
         "x": [
          0.3425922095775604,
          0.3251960277557373,
          0.3692473769187927,
          0.35620325803756714,
          0.29361918568611145,
          0.3748527467250824,
          0.35779622197151184,
          0.34165459871292114,
          0.41770195960998535,
          0.3409677743911743,
          0.34422817826271057,
          0.34443455934524536,
          0.30220481753349304,
          0.28159165382385254,
          0.28919851779937744,
          0.34573641419410706,
          0.34984418749809265,
          0.3719620704650879,
          0.3485397398471832,
          0.36425289511680603,
          0.3129822611808777,
          0.3477657437324524,
          0.3364270329475403,
          0.4217073619365692,
          0.3408219814300537,
          0.30992013216018677,
          0.2805734872817993,
          0.403267502784729,
          0.3462391197681427,
          0.3515899181365967,
          0.35187581181526184,
          0.35751932859420776,
          0.4104016423225403,
          0.4134691059589386,
          0.4132236838340759
         ],
         "xaxis": "x",
         "y": [
          0.12641161680221558,
          0.01659209094941616,
          0.011798503808677197,
          0.0340101420879364,
          0.009608733467757702,
          0.005702906753867865,
          0.025607997551560402,
          0.0838930532336235,
          0.08230742812156677,
          0.0841628760099411,
          0.04489205777645111,
          0.045197367668151855,
          0.02137504331767559,
          0.00007905202073743567,
          0.006927132606506348,
          0.035595763474702835,
          0.05340849980711937,
          0.011105361394584179,
          0.027963383123278618,
          0.021859226748347282,
          0.017012180760502815,
          0.049782831221818924,
          0.016429949551820755,
          0.09438925236463547,
          0.08470067381858826,
          0.011159038171172142,
          0,
          0.0904354676604271,
          0.12429613620042801,
          0.01828872039914131,
          0.05211775004863739,
          0.035013582557439804,
          0.08694590628147125,
          0.08667731285095215,
          0.08847598731517792
         ],
         "yaxis": "y"
        },
        {
         "customdata": [
          [
           "Inverse folding for antibody sequence design using deep learning",
           "http://arxiv.org/abs/2310.19513v1"
          ],
          [
           "Measuring arrangement and size distributions of flowing droplets in microchannels through deep learning",
           "http://arxiv.org/abs/2310.19374v1"
          ],
          [
           "Topological, or Non-topological? A Deep Learning Based Prediction",
           "http://arxiv.org/abs/2310.18907v1"
          ],
          [
           "Spatio-temporal reconstruction of drop impact dynamics by means of color-coded glare points and deep learning",
           "http://arxiv.org/abs/2310.16009v1"
          ],
          [
           "Transformable Super-Isostatic Crystals Self-Assembled from Segment Colloidal Rods",
           "http://arxiv.org/abs/2311.01160v1"
          ],
          [
           "Soliton equations: admitted solutions and invariances via Bäcklund transformations",
           "http://arxiv.org/abs/2310.20459v1"
          ],
          [
           "Free fermions with no Jordan-Wigner transformation",
           "http://arxiv.org/abs/2310.19897v1"
          ],
          [
           "Integration of persistent Laplacian and pre-trained transformer for protein solubility changes upon mutation",
           "http://arxiv.org/abs/2310.18760v1"
          ],
          [
           "Functional Group Induced Transformations in Stacking and Electron Structure in Mo2CTx/NiS Heterostructures",
           "http://arxiv.org/abs/2310.18579v1"
          ],
          [
           "Extra Time Dimension: Deriving Five-Dimensional Relativistic Space-Time Transformations, Kinematics, and Time-Dependent Non-Relativistic Quantum Mechanics Compactification",
           "http://arxiv.org/abs/2310.18120v1"
          ],
          [
           "Broadband CPW-based impedance-transformed Josephson parametric amplifier",
           "http://arxiv.org/abs/2310.17084v1"
          ],
          [
           "Stochastic Latent Transformer: Efficient Modelling of Stochastically Forced Zonal Jets",
           "http://arxiv.org/abs/2310.16741v1"
          ],
          [
           "The Brans-Dicke field in Non-metricity gravity: Cosmological solutions and Conformal transformations",
           "http://arxiv.org/abs/2310.16357v1"
          ],
          [
           "The effects of cavitation position on the velocity of a laser-induced microjet extracted using explainable artificial intelligence",
           "http://arxiv.org/abs/2310.14734v1"
          ],
          [
           "Optimising the exchange of Majorana zero modes in a quantum nanowire network",
           "http://arxiv.org/abs/2310.13634v1"
          ],
          [
           "Explaining Deep Neural Networks for Bearing Fault Detection with Vibration Concepts",
           "http://arxiv.org/abs/2310.11450v1"
          ],
          [
           "Deep Learning in Deterministic Computational Mechanics",
           "http://arxiv.org/abs/2309.15421v1"
          ],
          [
           "Deep learning in bifurcations of particle trajectories",
           "http://arxiv.org/abs/2309.16727v1"
          ],
          [
           "Rational design of oxide catalysts for OER with OC22",
           "http://arxiv.org/abs/2311.00784v1"
          ],
          [
           "Generative retrieval-augmented ontologic graph and multi-agent strategies for interpretive large language model-based materials design",
           "http://arxiv.org/abs/2310.19998v1"
          ],
          [
           "Multi-level Gated Bayesian Recurrent Neural Network for State Estimation",
           "http://arxiv.org/abs/2310.17187v1"
          ],
          [
           "Structure discovery in Atomic Force Microscopy imaging of ice",
           "http://arxiv.org/abs/2310.17161v1"
          ],
          [
           "Machine-learning the phase diagram of a strongly-interacting Fermi gas",
           "http://arxiv.org/abs/2310.16006v1"
          ],
          [
           "Optimal Transport-based Nonlinear Filtering in High-dimensional Settings",
           "http://arxiv.org/abs/2310.13886v1"
          ],
          [
           "ReLM: Leveraging Language Models for Enhanced Chemical Reaction Prediction",
           "http://arxiv.org/abs/2310.13590v1"
          ],
          [
           "Prediction and control of spatiotemporal chaos by learning conjugate tubular neighborhoods",
           "http://arxiv.org/abs/2310.12178v1"
          ],
          [
           "A Bayesian framework for discovering interpretable Lagrangian of dynamical systems from data",
           "http://arxiv.org/abs/2310.06241v1"
          ],
          [
           "On sparse regression, Lp-regularization, and automated model discovery",
           "http://arxiv.org/abs/2310.06872v1"
          ],
          [
           "PointGAT: A quantum chemical property prediction model integrating graph attention and 3D geometry",
           "http://arxiv.org/abs/2310.05217v1"
          ]
         ],
         "hovertemplate": "cluster=3<br>noise=0<br>umap_0=%{x}<br>umap_1=%{y}<br>title=%{customdata[0]}<br>ID=%{customdata[1]}<extra></extra>",
         "legendgroup": "3, 0",
         "marker": {
          "color": "#FFA15A",
          "symbol": "circle"
         },
         "mode": "markers",
         "name": "3, 0",
         "orientation": "v",
         "showlegend": true,
         "type": "scatter",
         "x": [
          0.10333501547574997,
          0.10110193490982056,
          0.09895972907543182,
          0.10224910080432892,
          0.08174513280391693,
          0.15196821093559265,
          0.13343025743961334,
          0.11395688354969025,
          0.08289549499750137,
          0.13974830508232117,
          0.12393251806497574,
          0.2316923886537552,
          0.13753332197666168,
          0.10216052085161209,
          0.11110478639602661,
          0.1882663071155548,
          0.18596506118774414,
          0.20069749653339386,
          0.08419891446828842,
          0.14690636098384857,
          0.24892492592334747,
          0.08110255002975464,
          0.11288008093833923,
          0.2439029961824417,
          0.1377038210630417,
          0.21764825284481049,
          0.17973573505878448,
          0.1469382643699646,
          0.09253014624118805
         ],
         "xaxis": "x",
         "y": [
          0.7769470810890198,
          0.7456245422363281,
          0.8020089268684387,
          0.7412747144699097,
          0.7894982099533081,
          0.8304988145828247,
          0.8319911956787109,
          0.7618898749351501,
          0.7948876023292542,
          0.838697612285614,
          0.828932523727417,
          0.6902669668197632,
          0.8366383910179138,
          0.7419845461845398,
          0.8192641735076904,
          0.6827405691146851,
          0.6849390864372253,
          0.6960075497627258,
          0.7940908670425415,
          0.7218202948570251,
          0.6818944811820984,
          0.7907902598381042,
          0.8196241855621338,
          0.6843840479850769,
          0.7301487326622009,
          0.694489061832428,
          0.6921402812004089,
          0.7201776504516602,
          0.7880816459655762
         ],
         "yaxis": "y"
        },
        {
         "customdata": [
          [
           "Deep learning based Image Compression for Microscopy Images: An Empirical Study",
           "http://arxiv.org/abs/2311.01352v1"
          ],
          [
           "Exploring Deep Learning Image Super-Resolution for Iris Recognition",
           "http://arxiv.org/abs/2311.01241v1"
          ],
          [
           "Deep Learning-Based Classification of Gamma Photon Interactions in Room-Temperature Semiconductor Radiation Detectors",
           "http://arxiv.org/abs/2311.00682v1"
          ],
          [
           "A Principled Hierarchical Deep Learning Approach to Joint Image Compression and Classification",
           "http://arxiv.org/abs/2310.19675v1"
          ],
          [
           "Peer-to-Peer Deep Learning for Beyond-5G IoT",
           "http://arxiv.org/abs/2310.18861v1"
          ],
          [
           "Deep Learning-based Compressed Domain Multimedia for Man and Machine: A Taxonomy and Application to Point Cloud Classification",
           "http://arxiv.org/abs/2310.18849v1"
          ],
          [
           "Electrical Impedance Tomography: A Fair Comparative Study on Deep Learning and Analytic-based Approaches",
           "http://arxiv.org/abs/2310.18636v1"
          ],
          [
           "Deep Learning Enables Large Depth-of-Field Images for Sub-Diffraction-Limit Scanning Superlens Microscopy",
           "http://arxiv.org/abs/2310.17997v1"
          ],
          [
           "An Efficient Deep Learning-based approach for Recognizing Agricultural Pests in the Wild",
           "http://arxiv.org/abs/2310.16991v1"
          ],
          [
           "Single-pixel imaging based on deep learning",
           "http://arxiv.org/abs/2310.16869v1"
          ],
          [
           "A Comprehensive Python Library for Deep Learning-Based Event Detection in Multivariate Time Series Data and Information Retrieval in NLP",
           "http://arxiv.org/abs/2310.16485v1"
          ],
          [
           "Deep Learning for Plant Identification and Disease Classification from Leaf Images: Multi-prediction Approaches",
           "http://arxiv.org/abs/2310.16273v1"
          ],
          [
           "Graph Deep Learning for Time Series Forecasting",
           "http://arxiv.org/abs/2310.15978v1"
          ],
          [
           "Deep learning denoiser assisted roughness measurements extraction from thin resists with low Signal-to-Noise Ratio(SNR) SEM images: analysis with SMILE",
           "http://arxiv.org/abs/2310.14815v1"
          ],
          [
           "Global Transformer Architecture for Indoor Room Temperature Forecasting",
           "http://arxiv.org/abs/2310.20476v1"
          ],
          [
           "A Systematic Review for Transformer-based Long-term Series Forecasting",
           "http://arxiv.org/abs/2310.20218v1"
          ],
          [
           "SolarFormer: Multi-scale Transformer for Solar PV Profiling",
           "http://arxiv.org/abs/2310.20057v1"
          ],
          [
           "Transfer Learning in Transformer-Based Demand Forecasting For Home Energy Management System",
           "http://arxiv.org/abs/2310.19159v1"
          ],
          [
           "Secure short-term load forecasting for smart grids with transformer-based federated learning",
           "http://arxiv.org/abs/2310.17477v1"
          ],
          [
           "Neural networks for insurance pricing with frequency and severity data: a benchmark study from data preprocessing to technical tariff",
           "http://arxiv.org/abs/2310.12671v2"
          ],
          [
           "Neural Stochastic Differential Equations for Robust and Explainable Analysis of Electromagnetic Unintended Radiated Emissions",
           "http://arxiv.org/abs/2309.15386v1"
          ],
          [
           "Improving Robustness via Tilted Exponential Layer: A Communication-Theoretic Perspective",
           "http://arxiv.org/abs/2311.01047v1"
          ],
          [
           "Interpretable Neural PDE Solvers using Symbolic Frameworks",
           "http://arxiv.org/abs/2310.20463v1"
          ],
          [
           "Explainable Modeling for Wind Power Forecasting: A Glass-Box Approach with Exceptional Accuracy",
           "http://arxiv.org/abs/2310.18629v1"
          ],
          [
           "Inside the black box: Neural network-based real-time prediction of US recessions",
           "http://arxiv.org/abs/2310.17571v1"
          ],
          [
           "Interpretable time series neural representation for classification purposes",
           "http://arxiv.org/abs/2310.16696v1"
          ],
          [
           "Salted Inference: Enhancing Privacy while Maintaining Efficiency of Split Inference in Mobile Computing",
           "http://arxiv.org/abs/2310.13384v1"
          ],
          [
           "Using Logic Programming and Kernel-Grouping for Improving Interpretability of Convolutional Neural Networks",
           "http://arxiv.org/abs/2310.13073v1"
          ],
          [
           "Few-Shot Learning Patterns in Financial Time-Series for Trend-Following Strategies",
           "http://arxiv.org/abs/2310.10500v1"
          ]
         ],
         "hovertemplate": "cluster=4<br>noise=0<br>umap_0=%{x}<br>umap_1=%{y}<br>title=%{customdata[0]}<br>ID=%{customdata[1]}<extra></extra>",
         "legendgroup": "4, 0",
         "marker": {
          "color": "#19d3f3",
          "symbol": "circle"
         },
         "mode": "markers",
         "name": "4, 0",
         "orientation": "v",
         "showlegend": true,
         "type": "scatter",
         "x": [
          0.23460182547569275,
          0.21253778040409088,
          0.22699448466300964,
          0.2767603397369385,
          0.3779415190219879,
          0.2683475613594055,
          0.20547859370708466,
          0.19983087480068207,
          0.22655656933784485,
          0.21290358901023865,
          0.4166054129600525,
          0.22947630286216736,
          0.43378275632858276,
          0.20022110641002655,
          0.4026406705379486,
          0.4170742630958557,
          0.4011867344379425,
          0.4026661217212677,
          0.384968638420105,
          0.4409583508968353,
          0.2509888708591461,
          0.25832515954971313,
          0.31697922945022583,
          0.4160476624965668,
          0.43110644817352295,
          0.3251379728317261,
          0.29922276735305786,
          0.3299492299556732,
          0.42760157585144043
         ],
         "xaxis": "x",
         "y": [
          0.5396713018417358,
          0.5696724653244019,
          0.5731080174446106,
          0.5272228717803955,
          0.5684094429016113,
          0.5254871249198914,
          0.606894850730896,
          0.605688214302063,
          0.532656729221344,
          0.5708916783332825,
          0.5890876054763794,
          0.5357402563095093,
          0.589101254940033,
          0.6064208745956421,
          0.5829532742500305,
          0.5882849097251892,
          0.5832676291465759,
          0.5829300284385681,
          0.572036623954773,
          0.6513094305992126,
          0.5769528746604919,
          0.58201003074646,
          0.5410416722297668,
          0.5876049399375916,
          0.6299918293952942,
          0.5358353853225708,
          0.5222525000572205,
          0.5125992894172668,
          0.6162158846855164
         ],
         "yaxis": "y"
        },
        {
         "customdata": [
          [
           "Deep Learning for real-time neural decoding of grasp",
           "http://arxiv.org/abs/2311.01061v1"
          ],
          [
           "Deep Neural Networks for Automatic Speaker Recognition Do Not Learn Supra-Segmental Temporal Features",
           "http://arxiv.org/abs/2311.00489v2"
          ],
          [
           "Deep Learning for Visual Navigation of Underwater Robots",
           "http://arxiv.org/abs/2310.19495v1"
          ],
          [
           "Deep Intrinsic Decomposition with Adversarial Learning for Hyperspectral Image Classification",
           "http://arxiv.org/abs/2310.18549v1"
          ],
          [
           "A multi-artifact EEG denoising by frequency-based deep learning",
           "http://arxiv.org/abs/2310.17335v1"
          ],
          [
           "Real-time Neonatal Chest Sound Separation using Deep Learning",
           "http://arxiv.org/abs/2310.17116v1"
          ],
          [
           "An Explainable Deep Learning-Based Method For Schizophrenia Diagnosis Using Generative Data-Augmentation",
           "http://arxiv.org/abs/2310.16867v1"
          ],
          [
           "Learning Robust Deep Visual Representations from EEG Brain Recordings",
           "http://arxiv.org/abs/2310.16532v1"
          ],
          [
           "Pix2HDR -- A pixel-wise acquisition and deep learning-based synthesis approach for high-speed HDR videos",
           "http://arxiv.org/abs/2310.16139v1"
          ],
          [
           "Video2Music: Suitable Music Generation from Videos using an Affective Multimodal Transformer model",
           "http://arxiv.org/abs/2311.00968v1"
          ],
          [
           "fMRI-PTE: A Large-scale fMRI Pretrained Transformer Encoder for Multi-Subject Brain Activity Decoding",
           "http://arxiv.org/abs/2311.00342v1"
          ],
          [
           "UWFormer: Underwater Image Enhancement via a Semi-Supervised Multi-Scale Transformer",
           "http://arxiv.org/abs/2310.20210v1"
          ],
          [
           "DCHT: Deep Complex Hybrid Transformer for Speech Enhancement",
           "http://arxiv.org/abs/2310.19602v1"
          ],
          [
           "DPATD: Dual-Phase Audio Transformer for Denoising",
           "http://arxiv.org/abs/2310.19588v1"
          ],
          [
           "MultiScale Spectral-Spatial Convolutional Transformer for Hyperspectral Image Classification",
           "http://arxiv.org/abs/2310.18550v1"
          ],
          [
           "Gray matter volume correlates of Comorbid Depression in Autism Spectrum Disorder",
           "http://arxiv.org/abs/2311.00997v1"
          ],
          [
           "Multimodal Representations for Teacher-Guided Compositional Visual Reasoning",
           "http://arxiv.org/abs/2310.15585v1"
          ],
          [
           "Evaluating Explanation Methods for Vision-and-Language Navigation",
           "http://arxiv.org/abs/2310.06654v1"
          ],
          [
           "Runway Sign Classifier: A DAL C Certifiable Machine Learning System",
           "http://arxiv.org/abs/2310.06506v1"
          ],
          [
           "Do self-supervised speech and language models extract similar representations as human brain?",
           "http://arxiv.org/abs/2310.04645v1"
          ],
          [
           "Inferring Inference",
           "http://arxiv.org/abs/2310.03186v3"
          ],
          [
           "Counterfactual Image Generation for adversarially robust and interpretable Classifiers",
           "http://arxiv.org/abs/2310.00761v1"
          ],
          [
           "Black-box Attacks on Image Activity Prediction and its Natural Language Explanations",
           "http://arxiv.org/abs/2310.00503v1"
          ],
          [
           "MindGPT: Interpreting What You See with Non-invasive Brain Recordings",
           "http://arxiv.org/abs/2309.15729v1"
          ],
          [
           "Spatial-frequency channels, shape bias, and adversarial robustness",
           "http://arxiv.org/abs/2309.13190v1"
          ],
          [
           "When to Trust AI: Advances and Challenges for Certification of Neural Networks",
           "http://arxiv.org/abs/2309.11196v1"
          ],
          [
           "A Cognitively-Inspired Neural Architecture for Visual Abstract Reasoning Using Contrastive Perceptual and Conceptual Processing",
           "http://arxiv.org/abs/2309.10532v3"
          ],
          [
           "Explaining Agent Behavior with Large Language Models",
           "http://arxiv.org/abs/2309.10346v1"
          ],
          [
           "SmoothHess: ReLU Network Feature Interactions via Stein's Lemma",
           "http://arxiv.org/abs/2311.00858v1"
          ],
          [
           "Dynamic Processing Neural Network Architecture For Hearing Loss Compensation",
           "http://arxiv.org/abs/2310.16550v1"
          ],
          [
           "One-hot Generalized Linear Model for Switching Brain State Discovery",
           "http://arxiv.org/abs/2310.15263v1"
          ],
          [
           "ESVAE: An Efficient Spiking Variational Autoencoder with Reparameterizable Poisson Spiking Sampling",
           "http://arxiv.org/abs/2310.14839v1"
          ],
          [
           "Spiking mode-based neural networks",
           "http://arxiv.org/abs/2310.14621v1"
          ],
          [
           "Personalized identification, prediction, and stimulation of neural oscillations via data-driven models of epileptic network dynamics",
           "http://arxiv.org/abs/2310.13480v1"
          ],
          [
           "Multistable Perception, False Consensus, and Information Complements",
           "http://arxiv.org/abs/2310.11857v1"
          ],
          [
           "Identifying Interpretable Visual Features in Artificial and Biological Neural Systems",
           "http://arxiv.org/abs/2310.11431v2"
          ],
          [
           "High-Fidelity Noise Reduction with Differentiable Signal Processing",
           "http://arxiv.org/abs/2310.11364v1"
          ],
          [
           "Automated Natural Language Explanation of Deep Visual Neurons with Large Models",
           "http://arxiv.org/abs/2310.10708v1"
          ],
          [
           "What Do Deep Saliency Models Learn about Visual Attention?",
           "http://arxiv.org/abs/2310.09679v1"
          ],
          [
           "A Digital Language Coherence Marker for Monitoring Dementia",
           "http://arxiv.org/abs/2310.09623v1"
          ],
          [
           "Neural activity in quarks language: Lattice Field Theory for a network of real neurons",
           "http://arxiv.org/abs/2310.09178v1"
          ],
          [
           "Dynamic Appearance Particle Neural Radiance Field",
           "http://arxiv.org/abs/2310.07916v1"
          ],
          [
           "Growing Brains: Co-emergence of Anatomical and Functional Modularity in Recurrent Neural Networks",
           "http://arxiv.org/abs/2310.07711v1"
          ],
          [
           "Neural Harmonium: An Interpretable Deep Structure for Nonlinear Dynamic System Identification with Application to Audio Processing",
           "http://arxiv.org/abs/2310.07032v1"
          ],
          [
           "Energy-Efficient Visual Search by Eye Movement and Low-Latency Spiking Neural Network",
           "http://arxiv.org/abs/2310.06578v1"
          ]
         ],
         "hovertemplate": "cluster=5<br>noise=0<br>umap_0=%{x}<br>umap_1=%{y}<br>title=%{customdata[0]}<br>ID=%{customdata[1]}<extra></extra>",
         "legendgroup": "5, 0",
         "marker": {
          "color": "#FF6692",
          "symbol": "circle"
         },
         "mode": "markers",
         "name": "5, 0",
         "orientation": "v",
         "showlegend": true,
         "type": "scatter",
         "x": [
          0.35376620292663574,
          0.42450231313705444,
          0.29470524191856384,
          0.25853773951530457,
          0.35393303632736206,
          0.43149900436401367,
          0.35544466972351074,
          0.36052998900413513,
          0.46069416403770447,
          0.4554125964641571,
          0.37179216742515564,
          0.29232099652290344,
          0.4438471794128418,
          0.4426937699317932,
          0.2620294988155365,
          0.3919242322444916,
          0.3942564129829407,
          0.33367836475372314,
          0.2713641822338104,
          0.39927276968955994,
          0.3653602600097656,
          0.28542354702949524,
          0.2937183976173401,
          0.37574711441993713,
          0.4223220944404602,
          0.2757260799407959,
          0.4126242995262146,
          0.320357084274292,
          0.35664114356040955,
          0.44862908124923706,
          0.3559441566467285,
          0.4002891778945923,
          0.3785073459148407,
          0.3513689637184143,
          0.35912254452705383,
          0.3707816004753113,
          0.44163891673088074,
          0.3680013120174408,
          0.4393925368785858,
          0.39357808232307434,
          0.3588402569293976,
          0.46139729022979736,
          0.385198175907135,
          0.44405850768089294,
          0.4262813329696655
         ],
         "xaxis": "x",
         "y": [
          0.3709704577922821,
          0.2198207974433899,
          0.35289841890335083,
          0.37830016016960144,
          0.26351678371429443,
          0.1790524423122406,
          0.2590889632701874,
          0.25870659947395325,
          0.3261079490184784,
          0.20190943777561188,
          0.2556854486465454,
          0.3508469760417938,
          0.2024768888950348,
          0.20301595330238342,
          0.37337180972099304,
          0.2313927710056305,
          0.3342299163341522,
          0.37583813071250916,
          0.41730278730392456,
          0.22943115234375,
          0.31324103474617004,
          0.3949258625507355,
          0.3976614475250244,
          0.2519037127494812,
          0.3082684278488159,
          0.41348862648010254,
          0.3341137766838074,
          0.38542285561561584,
          0.31233617663383484,
          0.1966332197189331,
          0.3060634136199951,
          0.313815176486969,
          0.32994911074638367,
          0.28371888399124146,
          0.3056086301803589,
          0.3143100142478943,
          0.20533883571624756,
          0.34734830260276794,
          0.29242563247680664,
          0.2240147888660431,
          0.3076241612434387,
          0.31438714265823364,
          0.3275006115436554,
          0.20071370899677277,
          0.3027471601963043
         ],
         "yaxis": "y"
        },
        {
         "customdata": [
          [
           "A deep learning experiment for semantic segmentation of overlapping characters in palimpsests",
           "http://arxiv.org/abs/2311.01130v1"
          ],
          [
           "Occluded Person Re-Identification with Deep Learning: A Survey and Perspectives",
           "http://arxiv.org/abs/2311.00603v1"
          ],
          [
           "Space Narrative: Generating Images and 3D Scenes of Chinese Garden from Text using Deep Learning",
           "http://arxiv.org/abs/2311.00339v1"
          ],
          [
           "Modular Anti-noise Deep Learning Network for Robotic Grasp Detection Based on RGB Images",
           "http://arxiv.org/abs/2310.19223v1"
          ],
          [
           "Deep3DSketch+: Obtaining Customized 3D Model by Single Free-Hand Sketch through Deep Learning",
           "http://arxiv.org/abs/2310.18609v1"
          ],
          [
           "torchdistill Meets Hugging Face Libraries for Reproducible, Coding-Free Deep Learning Studies: A Case Study on NLP",
           "http://arxiv.org/abs/2310.17644v1"
          ],
          [
           "LaksNet: an end-to-end deep learning model for self-driving cars in Udacity simulator",
           "http://arxiv.org/abs/2310.16103v1"
          ],
          [
           "Cross-feature Contrastive Loss for Decentralized Deep Learning on Heterogeneous Data",
           "http://arxiv.org/abs/2310.15890v2"
          ],
          [
           "NetDistiller: Empowering Tiny Deep Learning via In-Situ Distillation",
           "http://arxiv.org/abs/2310.19820v1"
          ],
          [
           "Leveraging Deep Learning for Abstractive Code Summarization of Unofficial Documentation",
           "http://arxiv.org/abs/2310.15015v1"
          ],
          [
           "Transformation Decoupling Strategy based on Screw Theory for Deterministic Point Cloud Registration with Gravity Prior",
           "http://arxiv.org/abs/2311.01432v1"
          ],
          [
           "Efficient Vision Transformer for Accurate Traffic Sign Detection",
           "http://arxiv.org/abs/2311.01429v1"
          ],
          [
           "Scattering Vision Transformer: Spectral Mixing Matters",
           "http://arxiv.org/abs/2311.01310v1"
          ],
          [
           "Distilling Knowledge from CNN-Transformer Models for Enhanced Human Action Recognition",
           "http://arxiv.org/abs/2311.01283v1"
          ],
          [
           "M2T2: Multi-Task Masked Transformer for Object-centric Pick and Place",
           "http://arxiv.org/abs/2311.00926v1"
          ],
          [
           "Pretraining Data Mixtures Enable Narrow Model Selection Capabilities in Transformer Models",
           "http://arxiv.org/abs/2311.00871v1"
          ],
          [
           "Attention Alignment and Flexible Positional Embeddings Improve Transformer Length Extrapolation",
           "http://arxiv.org/abs/2311.00684v1"
          ],
          [
           "PAUMER: Patch Pausing Transformer for Semantic Segmentation",
           "http://arxiv.org/abs/2311.00586v1"
          ],
          [
           "Improving Robustness for Vision Transformer with a Simple Dynamic Scanning Augmentation",
           "http://arxiv.org/abs/2311.00441v1"
          ],
          [
           "A Spatial-Temporal Transformer based Framework For Human Pose Assessment And Correction in Education Scenarios",
           "http://arxiv.org/abs/2311.00401v1"
          ],
          [
           "Syntactic Inductive Bias in Transformer Language Models: Especially Helpful for Low-Resource Languages?",
           "http://arxiv.org/abs/2311.00268v1"
          ],
          [
           "1DFormer: Learning 1D Landmark Representations via Transformer for Facial Landmark Tracking",
           "http://arxiv.org/abs/2311.00241v1"
          ],
          [
           "Transformers are Efficient In-Context Estimators for Wireless Communication",
           "http://arxiv.org/abs/2311.00226v1"
          ],
          [
           "Transformers as Recognizers of Formal Languages: A Survey on Expressivity",
           "http://arxiv.org/abs/2311.00208v1"
          ],
          [
           "A Transformer-Based Model With Self-Distillation for Multimodal Emotion Recognition in Conversations",
           "http://arxiv.org/abs/2310.20494v1"
          ],
          [
           "Causal Interpretation of Self-Attention in Pre-Trained Transformers",
           "http://arxiv.org/abs/2310.20307v1"
          ],
          [
           "Partial Tensorized Transformers for Natural Language Processing",
           "http://arxiv.org/abs/2310.20077v1"
          ],
          [
           "Strategies to Harness the Transformers' Potential: UNSL at eRisk 2023",
           "http://arxiv.org/abs/2310.19970v1"
          ],
          [
           "The Impact of Depth and Width on Transformer Language Model Generalization",
           "http://arxiv.org/abs/2310.19956v1"
          ],
          [
           "Towards Few-Annotation Learning for Object Detection: Are Transformer-based Models More Efficient ?",
           "http://arxiv.org/abs/2310.19936v1"
          ],
          [
           "Transformation vs Tradition: Artificial General Intelligence (AGI) for Arts and Humanities",
           "http://arxiv.org/abs/2310.19626v1"
          ],
          [
           "Towards Grouping in Large Scenes with Occlusion-aware Spatio-temporal Transformers",
           "http://arxiv.org/abs/2310.19447v1"
          ],
          [
           "Fusing Temporal Graphs into Transformers for Time-Sensitive Question Answering",
           "http://arxiv.org/abs/2310.19292v1"
          ],
          [
           "Pushdown Layers: Encoding Recursive Structure in Transformer Language Models",
           "http://arxiv.org/abs/2310.19089v1"
          ],
          [
           "Analyzing Vision Transformers for Image Classification in Class Embedding Space",
           "http://arxiv.org/abs/2310.18969v1"
          ],
          [
           "Stacking the Odds: Transformer-Based Ensemble for AI-Generated Text Detection",
           "http://arxiv.org/abs/2310.18906v1"
          ],
          [
           "NetPanorama: A Declarative Grammar for Network Construction, Transformation, and Visualization",
           "http://arxiv.org/abs/2310.18902v1"
          ],
          [
           "Prompt-Engineering and Transformer-based Question Generation and Evaluation",
           "http://arxiv.org/abs/2310.18867v1"
          ],
          [
           "TLM: Token-Level Masking for Transformers",
           "http://arxiv.org/abs/2310.18738v1"
          ],
          [
           "Triplet Attention Transformer for Spatiotemporal Predictive Learning",
           "http://arxiv.org/abs/2310.18698v1"
          ],
          [
           "ASTormer: An AST Structure-aware Transformer Decoder for Text-to-SQL",
           "http://arxiv.org/abs/2310.18662v1"
          ],
          [
           "Fast Machine Learning Method with Vector Embedding on Orthonormal Basis and Spectral Transform",
           "http://arxiv.org/abs/2310.18424v1"
          ],
          [
           "Transformers as Graph-to-Graph Models",
           "http://arxiv.org/abs/2310.17936v1"
          ],
          [
           "The Innovation-to-Occupations Ontology: Linking Business Transformation Initiatives to Occupations and Skills",
           "http://arxiv.org/abs/2310.17909v1"
          ],
          [
           "An Ensemble Method Based on the Combination of Transformers with Convolutional Neural Networks to Detect Artificially Generated Text",
           "http://arxiv.org/abs/2310.17312v1"
          ],
          [
           "Transformers Learn Higher-Order Optimization Methods for In-Context Learning: A Study with Linear Models",
           "http://arxiv.org/abs/2310.17086v1"
          ],
          [
           "Divide et Impera: Multi-Transformer Architectures for Complex NLP-Tasks",
           "http://arxiv.org/abs/2310.16897v1"
          ],
          [
           "ConvNets Match Vision Transformers at Scale",
           "http://arxiv.org/abs/2310.16764v1"
          ],
          [
           "ArTST: Arabic Text and Speech Transformer",
           "http://arxiv.org/abs/2310.16621v1"
          ],
          [
           "Video Referring Expression Comprehension via Transformer with Content-conditioned Query",
           "http://arxiv.org/abs/2310.16402v1"
          ],
          [
           "Frequency-Aware Transformer for Learned Image Compression",
           "http://arxiv.org/abs/2310.16387v1"
          ],
          [
           "SMURF-THP: Score Matching-based UnceRtainty quantiFication for Transformer Hawkes Process",
           "http://arxiv.org/abs/2310.16336v1"
          ],
          [
           "Understanding Code Semantics: An Evaluation of Transformer Models in Summarization",
           "http://arxiv.org/abs/2310.16314v2"
          ],
          [
           "Dolfin: Diffusion Layout Transformers without Autoencoder",
           "http://arxiv.org/abs/2310.16305v1"
          ],
          [
           "MotionAGFormer: Enhancing 3D Human Pose Estimation with a Transformer-GCNFormer Network",
           "http://arxiv.org/abs/2310.16288v1"
          ],
          [
           "TransPose: 6D Object Pose Estimation with Geometry-Aware Transformer",
           "http://arxiv.org/abs/2310.16279v1"
          ],
          [
           "GraFT: Gradual Fusion Transformer for Multimodal Re-Identification",
           "http://arxiv.org/abs/2310.16856v1"
          ],
          [
           "Longer Fixations, More Computation: Gaze-Guided Recurrent Neural Networks",
           "http://arxiv.org/abs/2311.00159v1"
          ],
          [
           "Improving Compositional Generalization Using Iterated Learning and Simplicial Embeddings",
           "http://arxiv.org/abs/2310.18777v1"
          ],
          [
           "Learning Repeatable Speech Embeddings Using An Intra-class Correlation Regularizer",
           "http://arxiv.org/abs/2310.17049v1"
          ],
          [
           "Graph Agent: Explicit Reasoning Agent for Graphs",
           "http://arxiv.org/abs/2310.16421v1"
          ],
          [
           "Context-Aware Prediction of User Engagement on Online Social Platforms",
           "http://arxiv.org/abs/2310.14533v1"
          ],
          [
           "Towards Harmful Erotic Content Detection through Coreference-Driven Contextual Analysis",
           "http://arxiv.org/abs/2310.14325v1"
          ],
          [
           "From Neural Activations to Concepts: A Survey on Explaining Concepts in Neural Networks",
           "http://arxiv.org/abs/2310.11884v1"
          ],
          [
           "On Coherence-based Predictors for Dense Query Performance Prediction",
           "http://arxiv.org/abs/2310.11405v1"
          ],
          [
           "Accurate prediction of international trade flows: Leveraging knowledge graphs and their embeddings",
           "http://arxiv.org/abs/2310.11161v1"
          ],
          [
           "Recursive Segmentation Living Image: An eXplainable AI (XAI) Approach for Computing Structural Beauty of Images or the Livingness of Space",
           "http://arxiv.org/abs/2310.10149v1"
          ],
          [
           "LICO: Explainable Models with Language-Image Consistency",
           "http://arxiv.org/abs/2310.09821v1"
          ],
          [
           "Surveying the Landscape of Text Summarization with Deep Learning: A Comprehensive Review",
           "http://arxiv.org/abs/2310.09411v1"
          ],
          [
           "Copy Suppression: Comprehensively Understanding an Attention Head",
           "http://arxiv.org/abs/2310.04625v1"
          ],
          [
           "Taming Binarized Neural Networks and Mixed-Integer Programs",
           "http://arxiv.org/abs/2310.04469v1"
          ],
          [
           "Memoria: Hebbian Memory Architecture for Human-Like Sequential Processing",
           "http://arxiv.org/abs/2310.03052v1"
          ],
          [
           "ViT-ReciproCAM: Gradient and Attention-Free Visual Explanations for Vision Transformer",
           "http://arxiv.org/abs/2310.02588v1"
          ],
          [
           "Improving Knowledge Distillation with Teacher's Explanation",
           "http://arxiv.org/abs/2310.02572v1"
          ],
          [
           "Stand for Something or Fall for Everything: Predict Misinformation Spread with Stance-Aware Graph Neural Networks",
           "http://arxiv.org/abs/2310.02568v1"
          ],
          [
           "Dynamic DAG Discovery for Interpretable Imitation Learning",
           "http://arxiv.org/abs/2310.00489v2"
          ],
          [
           "Learning to Receive Help: Intervention-Aware Concept Embedding Models",
           "http://arxiv.org/abs/2309.16928v2"
          ],
          [
           "Symbolic Imitation Learning: From Black-Box to Explainable Driving Policies",
           "http://arxiv.org/abs/2309.16025v1"
          ],
          [
           "On the Computational Complexity and Formal Hierarchy of Second Order Recurrent Neural Networks",
           "http://arxiv.org/abs/2309.14691v1"
          ],
          [
           "Augmenting deep neural networks with symbolic knowledge: Towards trustworthy and interpretable AI for education",
           "http://arxiv.org/abs/2311.00393v1"
          ],
          [
           "LILO: Learning Interpretable Libraries by Compressing and Documenting Code",
           "http://arxiv.org/abs/2310.19791v1"
          ],
          [
           "Interpretable-by-Design Text Classification with Iteratively Generated Concept Bottleneck",
           "http://arxiv.org/abs/2310.19660v1"
          ],
          [
           "Disentangled Representation Learning with Large Language Models for Text-Attributed Graphs",
           "http://arxiv.org/abs/2310.18152v1"
          ],
          [
           "A Hybrid Graph Network for Complex Activity Detection in Video",
           "http://arxiv.org/abs/2310.17493v2"
          ],
          [
           "1-PAGER: One Pass Answer Generation and Evidence Retrieval",
           "http://arxiv.org/abs/2310.16568v1"
          ],
          [
           "Probing Representations for Document-level Event Extraction",
           "http://arxiv.org/abs/2310.15316v1"
          ],
          [
           "Transparency at the Source: Evaluating and Interpreting Language Models With Access to the True Distribution",
           "http://arxiv.org/abs/2310.14840v1"
          ],
          [
           "Information Value: Measuring Utterance Predictability as Distance from Plausible Alternatives",
           "http://arxiv.org/abs/2310.13676v1"
          ],
          [
           "Loci-Segmented: Improving Scene Segmentation Learning",
           "http://arxiv.org/abs/2310.10410v1"
          ],
          [
           "Repetition In Repetition Out: Towards Understanding Neural Text Degeneration from the Data Perspective",
           "http://arxiv.org/abs/2310.10226v1"
          ],
          [
           "Integrating Symbolic Reasoning into Neural Generative Models for Design Generation",
           "http://arxiv.org/abs/2310.09383v1"
          ],
          [
           "Towards Interpretable Controllability in Object-Centric Learning",
           "http://arxiv.org/abs/2310.08929v2"
          ],
          [
           "Recurrent networks recognize patterns with low-dimensional oscillations",
           "http://arxiv.org/abs/2310.07908v1"
          ],
          [
           "Deep Aramaic: Towards a Synthetic Data Paradigm Enabling Machine Learning in Epigraphy",
           "http://arxiv.org/abs/2310.07310v1"
          ],
          [
           "NeuralFastLAS: Fast Logic-Based Learning from Raw Data",
           "http://arxiv.org/abs/2310.05145v1"
          ],
          [
           "Beyond Text: A Deep Dive into Large Language Models' Ability on Understanding Graph Data",
           "http://arxiv.org/abs/2310.04944v1"
          ],
          [
           "Crystal: Introspective Reasoners Reinforced with Self-Feedback",
           "http://arxiv.org/abs/2310.04921v2"
          ]
         ],
         "hovertemplate": "cluster=6<br>noise=0<br>umap_0=%{x}<br>umap_1=%{y}<br>title=%{customdata[0]}<br>ID=%{customdata[1]}<extra></extra>",
         "legendgroup": "6, 0",
         "marker": {
          "color": "#B6E880",
          "symbol": "circle"
         },
         "mode": "markers",
         "name": "6, 0",
         "orientation": "v",
         "showlegend": true,
         "type": "scatter",
         "x": [
          0.6051735877990723,
          0.4931064248085022,
          0.6027758717536926,
          0.4240604043006897,
          0.5486392974853516,
          0.5268155336380005,
          0.6114833950996399,
          0.5307185649871826,
          0.5369581580162048,
          0.8176725506782532,
          0.4300878643989563,
          0.5757485628128052,
          0.546419620513916,
          0.539363443851471,
          0.4229311943054199,
          0.7375749945640564,
          0.7551720142364502,
          0.5808117985725403,
          0.548991322517395,
          0.4393813908100128,
          0.7413880825042725,
          0.4536992907524109,
          0.7199379205703735,
          0.7321192622184753,
          0.6544744968414307,
          0.6493974924087524,
          0.5859603881835938,
          0.8311320543289185,
          0.7543144822120667,
          0.5530371069908142,
          0.577130138874054,
          0.4950616657733917,
          0.7946979999542236,
          0.7773142457008362,
          0.5368540287017822,
          0.7675604224205017,
          0.6388526558876038,
          0.7888756394386292,
          0.7474842667579651,
          0.5054367184638977,
          0.8085943460464478,
          0.5926977396011353,
          0.679351270198822,
          0.7059476971626282,
          0.7861764430999756,
          0.7215490937232971,
          0.7536642551422119,
          0.5392531156539917,
          0.7265851497650146,
          0.5706794261932373,
          0.5179417133331299,
          0.7205612659454346,
          0.8166643381118774,
          0.5469692349433899,
          0.42840197682380676,
          0.4324837028980255,
          0.5407289862632751,
          0.8090846538543701,
          0.7478891611099243,
          0.72690349817276,
          0.6639319062232971,
          0.7955535054206848,
          0.8271613717079163,
          0.7572165131568909,
          0.8275032639503479,
          0.6837908029556274,
          0.5742642879486084,
          0.5203109979629517,
          0.8281594514846802,
          0.7607917189598083,
          0.7501736879348755,
          0.7036908268928528,
          0.5407729148864746,
          0.5324631929397583,
          0.7894936203956604,
          0.6314358115196228,
          0.794781506061554,
          0.6200734376907349,
          0.7731271982192993,
          0.7546090483665466,
          0.812404453754425,
          0.8104799389839172,
          0.6711481213569641,
          0.4974018633365631,
          0.814612090587616,
          0.8266990184783936,
          0.805877685546875,
          0.8151253461837769,
          0.5118349194526672,
          0.7443222999572754,
          0.5466692447662354,
          0.5206359624862671,
          0.7741800546646118,
          0.6050894856452942,
          0.7678887248039246,
          0.6667167544364929,
          0.4915408492088318
         ],
         "xaxis": "x",
         "y": [
          0.274620920419693,
          0.42331522703170776,
          0.2708829939365387,
          0.411754310131073,
          0.28990477323532104,
          0.37110987305641174,
          0.38083142042160034,
          0.3913649916648865,
          0.40433353185653687,
          0.3966178297996521,
          0.4084413945674896,
          0.3663749098777771,
          0.36363428831100464,
          0.3785324990749359,
          0.4190642833709717,
          0.4166247546672821,
          0.42639318108558655,
          0.337605357170105,
          0.3639257848262787,
          0.4025859534740448,
          0.4203844666481018,
          0.4084733724594116,
          0.4232111871242523,
          0.41690364480018616,
          0.4038095474243164,
          0.4034871459007263,
          0.3347896635532379,
          0.4495215117931366,
          0.41105708479881287,
          0.36390137672424316,
          0.2656306028366089,
          0.4388158321380615,
          0.4381723403930664,
          0.41031762957572937,
          0.35055798292160034,
          0.43786856532096863,
          0.5155771374702454,
          0.447722852230072,
          0.4150688350200653,
          0.4537394344806671,
          0.4064980745315552,
          0.3392181694507599,
          0.4291442036628723,
          0.4924037754535675,
          0.44660454988479614,
          0.42522040009498596,
          0.42078477144241333,
          0.3943699598312378,
          0.4284192621707916,
          0.342399924993515,
          0.3275546133518219,
          0.4238702654838562,
          0.39565908908843994,
          0.2904890775680542,
          0.40789851546287537,
          0.40565091371536255,
          0.370390385389328,
          0.49325600266456604,
          0.40268537402153015,
          0.39825332164764404,
          0.4865768551826477,
          0.501042366027832,
          0.4498952031135559,
          0.5336676239967346,
          0.4593670666217804,
          0.49658438563346863,
          0.2663341760635376,
          0.33465105295181274,
          0.4597913920879364,
          0.40963661670684814,
          0.5594215989112854,
          0.4229225516319275,
          0.3553929626941681,
          0.3899964988231659,
          0.4930567741394043,
          0.39244896173477173,
          0.5022425055503845,
          0.3838691711425781,
          0.5440966486930847,
          0.5215656757354736,
          0.3983295261859894,
          0.48017776012420654,
          0.48812633752822876,
          0.443783700466156,
          0.4488458037376404,
          0.4570445418357849,
          0.5013235807418823,
          0.48496997356414795,
          0.3563683032989502,
          0.41957858204841614,
          0.2877780497074127,
          0.35465362668037415,
          0.5454227924346924,
          0.27236074209213257,
          0.548435389995575,
          0.48338809609413147,
          0.37475162744522095
         ],
         "yaxis": "y"
        },
        {
         "customdata": [
          [
           "GIST: Generated Inputs Sets Transferability in Deep Learning",
           "http://arxiv.org/abs/2311.00801v1"
          ],
          [
           "Negativity-preserving transforms of tuples of symmetric matrices",
           "http://arxiv.org/abs/2310.18041v1"
          ],
          [
           "A Unified Framework to Enforce, Discover, and Promote Symmetry in Machine Learning",
           "http://arxiv.org/abs/2311.00212v1"
          ],
          [
           "CAFE: Conflict-Aware Feature-wise Explanations",
           "http://arxiv.org/abs/2310.20363v1"
          ],
          [
           "Grokking Tickets: Lottery Tickets Accelerate Grokking",
           "http://arxiv.org/abs/2310.19470v1"
          ],
          [
           "Optimization dependent generalization bound for ReLU networks based on sensitivity in the tangent bundle",
           "http://arxiv.org/abs/2310.17378v1"
          ],
          [
           "AttributionLab: Faithfulness of Feature Attribution Under Controllable Environments",
           "http://arxiv.org/abs/2310.06514v1"
          ],
          [
           "Grokking as the Transition from Lazy to Rich Training Dynamics",
           "http://arxiv.org/abs/2310.06110v1"
          ],
          [
           "Grokking as Compression: A Nonlinear Complexity Perspective",
           "http://arxiv.org/abs/2310.05918v1"
          ],
          [
           "Why do autoencoders work?",
           "http://arxiv.org/abs/2310.02250v2"
          ],
          [
           "Symmetry Leads to Structured Constraint of Learning",
           "http://arxiv.org/abs/2309.16932v1"
          ],
          [
           "Exploring Learned Representations of Neural Networks with Principal Component Analysis",
           "http://arxiv.org/abs/2309.15328v1"
          ],
          [
           "Fantastic Generalization Measures are Nowhere to be Found",
           "http://arxiv.org/abs/2309.13658v1"
          ],
          [
           "A U-turn on Double Descent: Rethinking Parameter Counting in Statistical Learning",
           "http://arxiv.org/abs/2310.18988v1"
          ],
          [
           "Invariance Measures for Neural Networks",
           "http://arxiv.org/abs/2310.17404v1"
          ],
          [
           "Codebook Features: Sparse and Discrete Interpretability for Neural Networks",
           "http://arxiv.org/abs/2310.17230v1"
          ],
          [
           "Instance-wise Linearization of Neural Network for Model Interpretation",
           "http://arxiv.org/abs/2310.16295v1"
          ],
          [
           "To grok or not to grok: Disentangling generalization and memorization on corrupted algorithmic datasets",
           "http://arxiv.org/abs/2310.13061v1"
          ],
          [
           "Going Beyond Neural Network Feature Similarity: The Network Feature Complexity and Its Interpretation Using Category Theory",
           "http://arxiv.org/abs/2310.06756v1"
          ],
          [
           "Aggregated f-average Neural Network for Interpretable Ensembling",
           "http://arxiv.org/abs/2310.05566v1"
          ],
          [
           "Rethink Baseline of Integrated Gradients from the Perspective of Shapley Value",
           "http://arxiv.org/abs/2310.04821v2"
          ]
         ],
         "hovertemplate": "cluster=7<br>noise=0<br>umap_0=%{x}<br>umap_1=%{y}<br>title=%{customdata[0]}<br>ID=%{customdata[1]}<extra></extra>",
         "legendgroup": "7, 0",
         "marker": {
          "color": "#FF97FF",
          "symbol": "circle"
         },
         "mode": "markers",
         "name": "7, 0",
         "orientation": "v",
         "showlegend": true,
         "type": "scatter",
         "x": [
          0.6446102261543274,
          0.6481903195381165,
          0.6378508806228638,
          0.6882494688034058,
          0.6383611559867859,
          0.6110397577285767,
          0.6810663342475891,
          0.6388552784919739,
          0.6427133679389954,
          0.655419111251831,
          0.6458114981651306,
          0.6773581504821777,
          0.6193451881408691,
          0.649075448513031,
          0.6662880778312683,
          0.6812593936920166,
          0.6771723628044128,
          0.6329704523086548,
          0.6761885285377502,
          0.6741228103637695,
          0.6705578565597534
         ],
         "xaxis": "x",
         "y": [
          0.755538284778595,
          0.8237290382385254,
          0.820753812789917,
          0.7946318984031677,
          0.7553816437721252,
          0.7531068325042725,
          0.8000579476356506,
          0.759901225566864,
          0.7532224059104919,
          0.7574777007102966,
          0.8216379880905151,
          0.7968426942825317,
          0.755524754524231,
          0.7908384799957275,
          0.8123409748077393,
          0.7752184271812439,
          0.8006870150566101,
          0.7519384622573853,
          0.8067725300788879,
          0.804827094078064,
          0.7275353670120239
         ],
         "yaxis": "y"
        },
        {
         "customdata": [
          [
           "Unveiling Black-boxes: Explainable Deep Learning Models for Patent Classification",
           "http://arxiv.org/abs/2310.20478v1"
          ],
          [
           "Mathematical Introduction to Deep Learning: Methods, Implementations, and Theory",
           "http://arxiv.org/abs/2310.20360v1"
          ],
          [
           "Approximation Theory, Computing, and Deep Learning on the Wasserstein Space",
           "http://arxiv.org/abs/2310.19548v1"
          ],
          [
           "Differentiable Learning of Generalized Structured Matrices for Efficient Deep Neural Networks",
           "http://arxiv.org/abs/2310.18882v1"
          ],
          [
           "Analysis of the Generalization Error of deep learning based on Randomized Quasi-Monte Carlo for Solving Linear Kolmogorov PDEs",
           "http://arxiv.org/abs/2310.18100v1"
          ],
          [
           "This Reads Like That: Deep Learning for Interpretable Natural Language Processing",
           "http://arxiv.org/abs/2310.17010v1"
          ],
          [
           "Data Optimization in Deep Learning: A Survey",
           "http://arxiv.org/abs/2310.16499v1"
          ],
          [
           "Unknown Health States Recognition With Collective Decision Based Deep Learning Networks In Predictive Maintenance Applications",
           "http://arxiv.org/abs/2310.17670v1"
          ],
          [
           "Breaking the Curse of Dimensionality in Deep Neural Networks by Learning Invariant Representations",
           "http://arxiv.org/abs/2310.16154v1"
          ],
          [
           "Online Signal Estimation on the Graph Edges via Line Graph Transformation",
           "http://arxiv.org/abs/2311.00656v1"
          ],
          [
           "Diversified Node Sampling based Hierarchical Transformer Pooling for Graph Representation Learning",
           "http://arxiv.org/abs/2310.20250v1"
          ],
          [
           "Blacksmith: Fast Adversarial Training of Vision Transformers via a Mixture of Single-step and Multi-step Methods",
           "http://arxiv.org/abs/2310.18975v1"
          ],
          [
           "Hessian Eigenvectors and Principal Component Analysis of Neural Network Weight Matrices",
           "http://arxiv.org/abs/2311.00452v1"
          ],
          [
           "Interpretable Prototype-based Graph Information Bottleneck",
           "http://arxiv.org/abs/2310.19906v1"
          ],
          [
           "TempME: Towards the Explainability of Temporal Graph Neural Networks via Motif Discovery",
           "http://arxiv.org/abs/2310.19324v1"
          ],
          [
           "D4Explainer: In-Distribution GNN Explanations via Discrete Denoising Diffusion",
           "http://arxiv.org/abs/2310.19321v1"
          ],
          [
           "Proving Linear Mode Connectivity of Neural Networks via Optimal Transport",
           "http://arxiv.org/abs/2310.19103v1"
          ],
          [
           "On Residual Minimization for PDEs: Failure of PINN, Modified Equation, and Implicit Bias",
           "http://arxiv.org/abs/2310.18201v1"
          ],
          [
           "Explainable Spatio-Temporal Graph Neural Networks",
           "http://arxiv.org/abs/2310.17149v1"
          ],
          [
           "Good regularity creates large learning rate implicit biases: edge of stability, balancing, and catapult",
           "http://arxiv.org/abs/2310.17087v1"
          ],
          [
           "DyExplainer: Explainable Dynamic Graph Neural Networks",
           "http://arxiv.org/abs/2310.16375v1"
          ],
          [
           "Exploring the Power of Graph Neural Networks in Solving Linear Optimization Problems",
           "http://arxiv.org/abs/2310.10603v1"
          ],
          [
           "Learning Transferable Conceptual Prototypes for Interpretable Unsupervised Domain Adaptation",
           "http://arxiv.org/abs/2310.08071v1"
          ],
          [
           "Why Does Sharpness-Aware Minimization Generalize Better Than SGD?",
           "http://arxiv.org/abs/2310.07269v1"
          ],
          [
           "Are GATs Out of Balance?",
           "http://arxiv.org/abs/2310.07235v2"
          ],
          [
           "Towards Robust Fidelity for Evaluating Explainability of Graph Neural Networks",
           "http://arxiv.org/abs/2310.01820v1"
          ],
          [
           "On the Onset of Robust Overfitting in Adversarial Training",
           "http://arxiv.org/abs/2310.00607v1"
          ],
          [
           "ACGAN-GNNExplainer: Auxiliary Conditional Generative Explainer for Graph Neural Networks",
           "http://arxiv.org/abs/2309.16918v2"
          ],
          [
           "GInX-Eval: Towards In-Distribution Evaluation of Graph Neural Network Explanations",
           "http://arxiv.org/abs/2309.16223v1"
          ],
          [
           "Arabic Sentiment Analysis with Noisy Deep Explainable Model",
           "http://arxiv.org/abs/2309.13731v1"
          ],
          [
           "Provably Robust and Plausible Counterfactual Explanations for Neural Networks via Robust Optimisation",
           "http://arxiv.org/abs/2309.12545v1"
          ],
          [
           "A Heterogeneous Graph-Based Multi-Task Learning for Fault Event Diagnosis in Smart Grid",
           "http://arxiv.org/abs/2309.09921v1"
          ],
          [
           "Stochastic Configuration Machines: FPGA Implementation",
           "http://arxiv.org/abs/2310.19225v1"
          ],
          [
           "A minimax optimal control approach for robust neural ODEs",
           "http://arxiv.org/abs/2310.17584v1"
          ],
          [
           "Achieving Constraints in Neural Networks: A Stochastic Augmented Lagrangian Approach",
           "http://arxiv.org/abs/2310.16647v1"
          ],
          [
           "Graph Neural Networks with polynomial activations have limited expressivity",
           "http://arxiv.org/abs/2310.13139v1"
          ],
          [
           "An effective theory of collective deep learning",
           "http://arxiv.org/abs/2310.12802v1"
          ],
          [
           "MuseGNN: Interpretable and Convergent Graph Neural Network Layers at Scale",
           "http://arxiv.org/abs/2310.12457v1"
          ],
          [
           "Hamming Encoder: Mining Discriminative k-mers for Discrete Sequence Classification",
           "http://arxiv.org/abs/2310.10321v2"
          ],
          [
           "Hypergraph Neural Networks through the Lens of Message Passing: A Common Perspective to Homophily and Architecture Design",
           "http://arxiv.org/abs/2310.07684v1"
          ],
          [
           "The Lattice Overparametrization Paradigm for the Machine Learning of Lattice Operators",
           "http://arxiv.org/abs/2310.06639v1"
          ],
          [
           "How Graph Neural Networks Learn: Lessons from Training Dynamics in Function Space",
           "http://arxiv.org/abs/2310.05105v1"
          ]
         ],
         "hovertemplate": "cluster=8<br>noise=0<br>umap_0=%{x}<br>umap_1=%{y}<br>title=%{customdata[0]}<br>ID=%{customdata[1]}<extra></extra>",
         "legendgroup": "8, 0",
         "marker": {
          "color": "#FECB52",
          "symbol": "circle"
         },
         "mode": "markers",
         "name": "8, 0",
         "orientation": "v",
         "showlegend": true,
         "type": "scatter",
         "x": [
          0.561426043510437,
          0.5050357580184937,
          0.4750242233276367,
          0.4914301335811615,
          0.4700544774532318,
          0.5578077435493469,
          0.5598159432411194,
          0.5530720949172974,
          0.561170756816864,
          0.5444731712341309,
          0.5420122146606445,
          0.5091120600700378,
          0.4829884171485901,
          0.5610566735267639,
          0.5510793328285217,
          0.5657312273979187,
          0.4951864182949066,
          0.4668312966823578,
          0.5557743310928345,
          0.5155285000801086,
          0.5560957193374634,
          0.5181272029876709,
          0.5548956394195557,
          0.5462474822998047,
          0.5290588140487671,
          0.5695849657058716,
          0.5120397210121155,
          0.5720298290252686,
          0.574918806552887,
          0.5649205446243286,
          0.5240025520324707,
          0.5372899770736694,
          0.48749837279319763,
          0.4817928373813629,
          0.5489853024482727,
          0.5513817071914673,
          0.5542463660240173,
          0.5335278511047363,
          0.5595983862876892,
          0.55134516954422,
          0.5163489580154419,
          0.5326042771339417
         ],
         "xaxis": "x",
         "y": [
          0.5506777763366699,
          0.7527167797088623,
          0.7806549072265625,
          0.7278482913970947,
          0.7847505807876587,
          0.5223185420036316,
          0.7562153339385986,
          0.7497679591178894,
          0.7688837051391602,
          0.6714499592781067,
          0.6746131777763367,
          0.5953125953674316,
          0.7206175923347473,
          0.535525918006897,
          0.5850697159767151,
          0.5557636618614197,
          0.7235863208770752,
          0.7857602834701538,
          0.5307618975639343,
          0.7172934412956238,
          0.5920999050140381,
          0.6988351941108704,
          0.5228509902954102,
          0.7191276550292969,
          0.6874627470970154,
          0.5567947626113892,
          0.5925982594490051,
          0.5537111759185791,
          0.556635320186615,
          0.5133640170097351,
          0.5802647471427917,
          0.6859204769134521,
          0.7488646507263184,
          0.7093660831451416,
          0.7310267686843872,
          0.6405882835388184,
          0.7648372054100037,
          0.6822291016578674,
          0.7555572986602783,
          0.6622669696807861,
          0.7174568176269531,
          0.6890159249305725
         ],
         "yaxis": "y"
        }
       ],
       "layout": {
        "legend": {
         "title": {
          "text": "cluster, noise"
         },
         "tracegroupgap": 0
        },
        "margin": {
         "t": 60
        },
        "template": {
         "data": {
          "bar": [
           {
            "error_x": {
             "color": "#2a3f5f"
            },
            "error_y": {
             "color": "#2a3f5f"
            },
            "marker": {
             "line": {
              "color": "#E5ECF6",
              "width": 0.5
             },
             "pattern": {
              "fillmode": "overlay",
              "size": 10,
              "solidity": 0.2
             }
            },
            "type": "bar"
           }
          ],
          "barpolar": [
           {
            "marker": {
             "line": {
              "color": "#E5ECF6",
              "width": 0.5
             },
             "pattern": {
              "fillmode": "overlay",
              "size": 10,
              "solidity": 0.2
             }
            },
            "type": "barpolar"
           }
          ],
          "carpet": [
           {
            "aaxis": {
             "endlinecolor": "#2a3f5f",
             "gridcolor": "white",
             "linecolor": "white",
             "minorgridcolor": "white",
             "startlinecolor": "#2a3f5f"
            },
            "baxis": {
             "endlinecolor": "#2a3f5f",
             "gridcolor": "white",
             "linecolor": "white",
             "minorgridcolor": "white",
             "startlinecolor": "#2a3f5f"
            },
            "type": "carpet"
           }
          ],
          "choropleth": [
           {
            "colorbar": {
             "outlinewidth": 0,
             "ticks": ""
            },
            "type": "choropleth"
           }
          ],
          "contour": [
           {
            "colorbar": {
             "outlinewidth": 0,
             "ticks": ""
            },
            "colorscale": [
             [
              0,
              "#0d0887"
             ],
             [
              0.1111111111111111,
              "#46039f"
             ],
             [
              0.2222222222222222,
              "#7201a8"
             ],
             [
              0.3333333333333333,
              "#9c179e"
             ],
             [
              0.4444444444444444,
              "#bd3786"
             ],
             [
              0.5555555555555556,
              "#d8576b"
             ],
             [
              0.6666666666666666,
              "#ed7953"
             ],
             [
              0.7777777777777778,
              "#fb9f3a"
             ],
             [
              0.8888888888888888,
              "#fdca26"
             ],
             [
              1,
              "#f0f921"
             ]
            ],
            "type": "contour"
           }
          ],
          "contourcarpet": [
           {
            "colorbar": {
             "outlinewidth": 0,
             "ticks": ""
            },
            "type": "contourcarpet"
           }
          ],
          "heatmap": [
           {
            "colorbar": {
             "outlinewidth": 0,
             "ticks": ""
            },
            "colorscale": [
             [
              0,
              "#0d0887"
             ],
             [
              0.1111111111111111,
              "#46039f"
             ],
             [
              0.2222222222222222,
              "#7201a8"
             ],
             [
              0.3333333333333333,
              "#9c179e"
             ],
             [
              0.4444444444444444,
              "#bd3786"
             ],
             [
              0.5555555555555556,
              "#d8576b"
             ],
             [
              0.6666666666666666,
              "#ed7953"
             ],
             [
              0.7777777777777778,
              "#fb9f3a"
             ],
             [
              0.8888888888888888,
              "#fdca26"
             ],
             [
              1,
              "#f0f921"
             ]
            ],
            "type": "heatmap"
           }
          ],
          "heatmapgl": [
           {
            "colorbar": {
             "outlinewidth": 0,
             "ticks": ""
            },
            "colorscale": [
             [
              0,
              "#0d0887"
             ],
             [
              0.1111111111111111,
              "#46039f"
             ],
             [
              0.2222222222222222,
              "#7201a8"
             ],
             [
              0.3333333333333333,
              "#9c179e"
             ],
             [
              0.4444444444444444,
              "#bd3786"
             ],
             [
              0.5555555555555556,
              "#d8576b"
             ],
             [
              0.6666666666666666,
              "#ed7953"
             ],
             [
              0.7777777777777778,
              "#fb9f3a"
             ],
             [
              0.8888888888888888,
              "#fdca26"
             ],
             [
              1,
              "#f0f921"
             ]
            ],
            "type": "heatmapgl"
           }
          ],
          "histogram": [
           {
            "marker": {
             "pattern": {
              "fillmode": "overlay",
              "size": 10,
              "solidity": 0.2
             }
            },
            "type": "histogram"
           }
          ],
          "histogram2d": [
           {
            "colorbar": {
             "outlinewidth": 0,
             "ticks": ""
            },
            "colorscale": [
             [
              0,
              "#0d0887"
             ],
             [
              0.1111111111111111,
              "#46039f"
             ],
             [
              0.2222222222222222,
              "#7201a8"
             ],
             [
              0.3333333333333333,
              "#9c179e"
             ],
             [
              0.4444444444444444,
              "#bd3786"
             ],
             [
              0.5555555555555556,
              "#d8576b"
             ],
             [
              0.6666666666666666,
              "#ed7953"
             ],
             [
              0.7777777777777778,
              "#fb9f3a"
             ],
             [
              0.8888888888888888,
              "#fdca26"
             ],
             [
              1,
              "#f0f921"
             ]
            ],
            "type": "histogram2d"
           }
          ],
          "histogram2dcontour": [
           {
            "colorbar": {
             "outlinewidth": 0,
             "ticks": ""
            },
            "colorscale": [
             [
              0,
              "#0d0887"
             ],
             [
              0.1111111111111111,
              "#46039f"
             ],
             [
              0.2222222222222222,
              "#7201a8"
             ],
             [
              0.3333333333333333,
              "#9c179e"
             ],
             [
              0.4444444444444444,
              "#bd3786"
             ],
             [
              0.5555555555555556,
              "#d8576b"
             ],
             [
              0.6666666666666666,
              "#ed7953"
             ],
             [
              0.7777777777777778,
              "#fb9f3a"
             ],
             [
              0.8888888888888888,
              "#fdca26"
             ],
             [
              1,
              "#f0f921"
             ]
            ],
            "type": "histogram2dcontour"
           }
          ],
          "mesh3d": [
           {
            "colorbar": {
             "outlinewidth": 0,
             "ticks": ""
            },
            "type": "mesh3d"
           }
          ],
          "parcoords": [
           {
            "line": {
             "colorbar": {
              "outlinewidth": 0,
              "ticks": ""
             }
            },
            "type": "parcoords"
           }
          ],
          "pie": [
           {
            "automargin": true,
            "type": "pie"
           }
          ],
          "scatter": [
           {
            "fillpattern": {
             "fillmode": "overlay",
             "size": 10,
             "solidity": 0.2
            },
            "type": "scatter"
           }
          ],
          "scatter3d": [
           {
            "line": {
             "colorbar": {
              "outlinewidth": 0,
              "ticks": ""
             }
            },
            "marker": {
             "colorbar": {
              "outlinewidth": 0,
              "ticks": ""
             }
            },
            "type": "scatter3d"
           }
          ],
          "scattercarpet": [
           {
            "marker": {
             "colorbar": {
              "outlinewidth": 0,
              "ticks": ""
             }
            },
            "type": "scattercarpet"
           }
          ],
          "scattergeo": [
           {
            "marker": {
             "colorbar": {
              "outlinewidth": 0,
              "ticks": ""
             }
            },
            "type": "scattergeo"
           }
          ],
          "scattergl": [
           {
            "marker": {
             "colorbar": {
              "outlinewidth": 0,
              "ticks": ""
             }
            },
            "type": "scattergl"
           }
          ],
          "scattermapbox": [
           {
            "marker": {
             "colorbar": {
              "outlinewidth": 0,
              "ticks": ""
             }
            },
            "type": "scattermapbox"
           }
          ],
          "scatterpolar": [
           {
            "marker": {
             "colorbar": {
              "outlinewidth": 0,
              "ticks": ""
             }
            },
            "type": "scatterpolar"
           }
          ],
          "scatterpolargl": [
           {
            "marker": {
             "colorbar": {
              "outlinewidth": 0,
              "ticks": ""
             }
            },
            "type": "scatterpolargl"
           }
          ],
          "scatterternary": [
           {
            "marker": {
             "colorbar": {
              "outlinewidth": 0,
              "ticks": ""
             }
            },
            "type": "scatterternary"
           }
          ],
          "surface": [
           {
            "colorbar": {
             "outlinewidth": 0,
             "ticks": ""
            },
            "colorscale": [
             [
              0,
              "#0d0887"
             ],
             [
              0.1111111111111111,
              "#46039f"
             ],
             [
              0.2222222222222222,
              "#7201a8"
             ],
             [
              0.3333333333333333,
              "#9c179e"
             ],
             [
              0.4444444444444444,
              "#bd3786"
             ],
             [
              0.5555555555555556,
              "#d8576b"
             ],
             [
              0.6666666666666666,
              "#ed7953"
             ],
             [
              0.7777777777777778,
              "#fb9f3a"
             ],
             [
              0.8888888888888888,
              "#fdca26"
             ],
             [
              1,
              "#f0f921"
             ]
            ],
            "type": "surface"
           }
          ],
          "table": [
           {
            "cells": {
             "fill": {
              "color": "#EBF0F8"
             },
             "line": {
              "color": "white"
             }
            },
            "header": {
             "fill": {
              "color": "#C8D4E3"
             },
             "line": {
              "color": "white"
             }
            },
            "type": "table"
           }
          ]
         },
         "layout": {
          "annotationdefaults": {
           "arrowcolor": "#2a3f5f",
           "arrowhead": 0,
           "arrowwidth": 1
          },
          "autotypenumbers": "strict",
          "coloraxis": {
           "colorbar": {
            "outlinewidth": 0,
            "ticks": ""
           }
          },
          "colorscale": {
           "diverging": [
            [
             0,
             "#8e0152"
            ],
            [
             0.1,
             "#c51b7d"
            ],
            [
             0.2,
             "#de77ae"
            ],
            [
             0.3,
             "#f1b6da"
            ],
            [
             0.4,
             "#fde0ef"
            ],
            [
             0.5,
             "#f7f7f7"
            ],
            [
             0.6,
             "#e6f5d0"
            ],
            [
             0.7,
             "#b8e186"
            ],
            [
             0.8,
             "#7fbc41"
            ],
            [
             0.9,
             "#4d9221"
            ],
            [
             1,
             "#276419"
            ]
           ],
           "sequential": [
            [
             0,
             "#0d0887"
            ],
            [
             0.1111111111111111,
             "#46039f"
            ],
            [
             0.2222222222222222,
             "#7201a8"
            ],
            [
             0.3333333333333333,
             "#9c179e"
            ],
            [
             0.4444444444444444,
             "#bd3786"
            ],
            [
             0.5555555555555556,
             "#d8576b"
            ],
            [
             0.6666666666666666,
             "#ed7953"
            ],
            [
             0.7777777777777778,
             "#fb9f3a"
            ],
            [
             0.8888888888888888,
             "#fdca26"
            ],
            [
             1,
             "#f0f921"
            ]
           ],
           "sequentialminus": [
            [
             0,
             "#0d0887"
            ],
            [
             0.1111111111111111,
             "#46039f"
            ],
            [
             0.2222222222222222,
             "#7201a8"
            ],
            [
             0.3333333333333333,
             "#9c179e"
            ],
            [
             0.4444444444444444,
             "#bd3786"
            ],
            [
             0.5555555555555556,
             "#d8576b"
            ],
            [
             0.6666666666666666,
             "#ed7953"
            ],
            [
             0.7777777777777778,
             "#fb9f3a"
            ],
            [
             0.8888888888888888,
             "#fdca26"
            ],
            [
             1,
             "#f0f921"
            ]
           ]
          },
          "colorway": [
           "#636efa",
           "#EF553B",
           "#00cc96",
           "#ab63fa",
           "#FFA15A",
           "#19d3f3",
           "#FF6692",
           "#B6E880",
           "#FF97FF",
           "#FECB52"
          ],
          "font": {
           "color": "#2a3f5f"
          },
          "geo": {
           "bgcolor": "white",
           "lakecolor": "white",
           "landcolor": "#E5ECF6",
           "showlakes": true,
           "showland": true,
           "subunitcolor": "white"
          },
          "hoverlabel": {
           "align": "left"
          },
          "hovermode": "closest",
          "mapbox": {
           "style": "light"
          },
          "paper_bgcolor": "white",
          "plot_bgcolor": "#E5ECF6",
          "polar": {
           "angularaxis": {
            "gridcolor": "white",
            "linecolor": "white",
            "ticks": ""
           },
           "bgcolor": "#E5ECF6",
           "radialaxis": {
            "gridcolor": "white",
            "linecolor": "white",
            "ticks": ""
           }
          },
          "scene": {
           "xaxis": {
            "backgroundcolor": "#E5ECF6",
            "gridcolor": "white",
            "gridwidth": 2,
            "linecolor": "white",
            "showbackground": true,
            "ticks": "",
            "zerolinecolor": "white"
           },
           "yaxis": {
            "backgroundcolor": "#E5ECF6",
            "gridcolor": "white",
            "gridwidth": 2,
            "linecolor": "white",
            "showbackground": true,
            "ticks": "",
            "zerolinecolor": "white"
           },
           "zaxis": {
            "backgroundcolor": "#E5ECF6",
            "gridcolor": "white",
            "gridwidth": 2,
            "linecolor": "white",
            "showbackground": true,
            "ticks": "",
            "zerolinecolor": "white"
           }
          },
          "shapedefaults": {
           "line": {
            "color": "#2a3f5f"
           }
          },
          "ternary": {
           "aaxis": {
            "gridcolor": "white",
            "linecolor": "white",
            "ticks": ""
           },
           "baxis": {
            "gridcolor": "white",
            "linecolor": "white",
            "ticks": ""
           },
           "bgcolor": "#E5ECF6",
           "caxis": {
            "gridcolor": "white",
            "linecolor": "white",
            "ticks": ""
           }
          },
          "title": {
           "x": 0.05
          },
          "xaxis": {
           "automargin": true,
           "gridcolor": "white",
           "linecolor": "white",
           "ticks": "",
           "title": {
            "standoff": 15
           },
           "zerolinecolor": "white",
           "zerolinewidth": 2
          },
          "yaxis": {
           "automargin": true,
           "gridcolor": "white",
           "linecolor": "white",
           "ticks": "",
           "title": {
            "standoff": 15
           },
           "zerolinecolor": "white",
           "zerolinewidth": 2
          }
         }
        },
        "xaxis": {
         "anchor": "y",
         "domain": [
          0,
          1
         ],
         "title": {
          "text": "umap_0"
         }
        },
        "yaxis": {
         "anchor": "x",
         "domain": [
          0,
          1
         ],
         "title": {
          "text": "umap_1"
         }
        }
       }
      }
     },
     "metadata": {},
     "output_type": "display_data"
    }
   ],
   "source": [
    "df_umap, clustering = clustering_pipeline(\n",
    "    df_embed,\n",
    "    best_umap_kwargs,\n",
    "    best_clustering_kwargs,\n",
    "    random_state=123,\n",
    "    df_data=df_data,\n",
    ")\n",
    "\n",
    "X_cluster = df_umap[[c for c in df_umap.columns if \"umap_\" in c]]\n",
    "\n",
    "# Silhouette ↑\n",
    "print(f\" Silhouette ↑ = {silhouette_score(X_cluster, df_umap['cluster'])}\")\n",
    "\n",
    "# Entropy ↓\n",
    "print(f\" Entropy ↓ = {entropy(X_cluster.values)}\")\n",
    "\n",
    "# viz\n",
    "df_umap[\"cluster\"] = [str(elt) for elt in clustering.labels_]\n",
    "df_umap[\"noise\"] = [int(elt==-1) for elt in clustering.labels_]\n",
    "fig = px.scatter(\n",
    "    df_umap,\n",
    "    x=\"umap_0\",\n",
    "    y=\"umap_1\",\n",
    "    hover_data=[\n",
    "        \"title\",\n",
    "        \"ID\",\n",
    "    ],\n",
    "    color=\"cluster\",\n",
    "    symbol=\"noise\",\n",
    "    # color_continuous_scale=px.colors.qualitative.D3,\n",
    "    category_orders={\"cluster\": list(np.sort(pd.unique(clustering.labels_)).astype(str))},\n",
    ")\n",
    "fig.show()"
   ]
  },
  {
   "cell_type": "code",
   "execution_count": null,
   "metadata": {},
   "outputs": [],
   "source": []
  },
  {
   "cell_type": "code",
   "execution_count": null,
   "metadata": {},
   "outputs": [],
   "source": []
  },
  {
   "cell_type": "code",
   "execution_count": null,
   "metadata": {},
   "outputs": [],
   "source": []
  }
 ],
 "metadata": {
  "kernelspec": {
   "display_name": "ai_news",
   "language": "python",
   "name": "python3"
  },
  "language_info": {
   "codemirror_mode": {
    "name": "ipython",
    "version": 3
   },
   "file_extension": ".py",
   "mimetype": "text/x-python",
   "name": "python",
   "nbconvert_exporter": "python",
   "pygments_lexer": "ipython3",
   "version": "3.10.12"
  }
 },
 "nbformat": 4,
 "nbformat_minor": 2
}
