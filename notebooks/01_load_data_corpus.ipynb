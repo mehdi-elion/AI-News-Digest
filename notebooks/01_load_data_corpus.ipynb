{
 "cells": [
  {
   "cell_type": "markdown",
   "metadata": {},
   "source": [
    "# Load Data Corpus"
   ]
  },
  {
   "cell_type": "markdown",
   "metadata": {},
   "source": [
    "This notebooks shows how to use standardized data loaders developed based on \n",
    "open-source APIs : \n",
    "* [GNews](https://pypi.org/project/gnews/)\n",
    "* [NewsAPI](https://newsapi.org/)\n",
    "* [Arxiv](https://github.com/lukasschwab/arxiv.py)\n",
    "\n",
    "We also use [Newspaper3k](https://newspaper.readthedocs.io/en/latest/) to scrap\n",
    "full contents of the articles retrieved through GNews and NewsAPI."
   ]
  },
  {
   "cell_type": "markdown",
   "metadata": {},
   "source": [
    "Note that we standardized all results so that they have common fields regardless\n",
    "of which search engine they were retrieved through. Here is a brief description \n",
    "of this standardized structure:\n",
    "\n",
    "```bash\n",
    "{\n",
    "    'url':  'url of the article',\n",
    "    'title':  'title of the article',\n",
    "    'content':  'full text of teh article'\n",
    "    'metadata': {\n",
    "        'query_engine': 'newsapi or gnews or newsapi',\n",
    "        'published_date': Timestamp('2024-01-25 17:50:07+0000', tz='UTC'),\n",
    "        <others>\n",
    "    }\n",
    "```\n",
    "\n",
    "`<others>` stands for some extra fields (not explicitely represented here) that \n",
    "can be specific to certain search engines."
   ]
  },
  {
   "cell_type": "markdown",
   "metadata": {},
   "source": [
    "## Setup"
   ]
  },
  {
   "cell_type": "code",
   "execution_count": null,
   "metadata": {},
   "outputs": [],
   "source": [
    "from rich import print\n",
    "import newspaper\n",
    "import pandas as pd\n",
    "import arxiv\n",
    "from typing import Any, Dict, List"
   ]
  },
  {
   "cell_type": "code",
   "execution_count": null,
   "metadata": {},
   "outputs": [],
   "source": [
    "import sys\n",
    "sys.path.append(\"../\")\n",
    "sys.path.append(\"../src/ai_news_digest/steps/\")\n",
    "from src.ai_news_digest.steps import load_news_corpus as lnc\n",
    "from src.ai_news_digest.steps import load_arxiv_corpus as lac"
   ]
  },
  {
   "cell_type": "markdown",
   "metadata": {},
   "source": [
    "## GNews"
   ]
  },
  {
   "cell_type": "code",
   "execution_count": null,
   "metadata": {},
   "outputs": [],
   "source": [
    "res_gnews = lnc.load_news_gnews(\n",
    "    keywords=\"Ukraine war\",\n",
    "    language=\"en\",\n",
    "    country=None,\n",
    "    period=\"90d\",\n",
    "    start_date=None,\n",
    "    end_date=None,\n",
    "    exclude_websites=[],\n",
    "    max_results=20,\n",
    "    override_content=True,\n",
    "    standardize=True,\n",
    ")\n",
    "\n",
    "# print(res_gnews[:3])"
   ]
  },
  {
   "cell_type": "code",
   "execution_count": null,
   "metadata": {},
   "outputs": [],
   "source": [
    "d = res_gnews[0]\n",
    "print(d)"
   ]
  },
  {
   "cell_type": "markdown",
   "metadata": {},
   "source": [
    "## NewsAPI"
   ]
  },
  {
   "cell_type": "code",
   "execution_count": null,
   "metadata": {},
   "outputs": [],
   "source": [
    "credentials = lnc.load_credentials(path_to_creds=\"../conf/local/credentials.yml\")\n",
    "\n",
    "res_newsapi = lnc.load_news_newsapi(\n",
    "    credentials=credentials,\n",
    "    query=\"Ukraine war\",\n",
    "    sources=[\"bbc-news\", \"google-news\"],\n",
    "    domains=[\"apnews.com\"],\n",
    "    language=\"en\",\n",
    "    period=\"30d\",\n",
    "    from_date=None,  # YYYY-MM-DD format\n",
    "    to_date=None,  # YYYY-MM-DD format\n",
    "    sort_by=\"relevancy\",\n",
    "    override_content=True,     # switch to True\n",
    "    use_logs=False,\n",
    "    standardize=True,\n",
    ")\n",
    "\n",
    "# print(res_newsapi[:3])"
   ]
  },
  {
   "cell_type": "code",
   "execution_count": null,
   "metadata": {},
   "outputs": [],
   "source": [
    "d = res_newsapi[14]\n",
    "print(d)"
   ]
  },
  {
   "cell_type": "markdown",
   "metadata": {},
   "source": [
    "## Arxiv"
   ]
  },
  {
   "cell_type": "code",
   "execution_count": null,
   "metadata": {},
   "outputs": [],
   "source": [
    "res_arxiv = lac.load_arxiv_corpus(\n",
    "    # query=\"Transformers Explainability\",\n",
    "    query=\"ti:Transformers AND ti:interpretability\",\n",
    "    # query=\"abs:Transformers AND abs:interpretability\",\n",
    "    max_results=20,\n",
    "    sort_by=arxiv.SortCriterion.SubmittedDate,\n",
    ")"
   ]
  },
  {
   "cell_type": "code",
   "execution_count": null,
   "metadata": {},
   "outputs": [],
   "source": [
    "d = res_arxiv[14]\n",
    "print(d)"
   ]
  }
 ],
 "metadata": {
  "kernelspec": {
   "display_name": "ai_news",
   "language": "python",
   "name": "python3"
  },
  "language_info": {
   "codemirror_mode": {
    "name": "ipython",
    "version": 3
   },
   "file_extension": ".py",
   "mimetype": "text/x-python",
   "name": "python",
   "nbconvert_exporter": "python",
   "pygments_lexer": "ipython3",
   "version": "3.10.13"
  }
 },
 "nbformat": 4,
 "nbformat_minor": 2
}
