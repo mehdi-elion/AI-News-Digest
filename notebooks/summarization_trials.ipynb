{
 "cells": [
  {
   "cell_type": "markdown",
   "metadata": {},
   "source": [
    "# Summarization trials"
   ]
  },
  {
   "cell_type": "markdown",
   "metadata": {},
   "source": [
    "## Setup"
   ]
  },
  {
   "cell_type": "markdown",
   "metadata": {},
   "source": [
    "### Imports"
   ]
  },
  {
   "cell_type": "code",
   "execution_count": null,
   "metadata": {},
   "outputs": [],
   "source": [
    "from typing import List, Optional, Union, Any, Tuple\n",
    "import sys\n",
    "from loguru import logger\n",
    "from pathlib import Path \n",
    "\n",
    "import numpy as np\n",
    "import pandas as pd\n",
    "import plotly.express as px\n",
    "import torch\n",
    "import umap\n",
    "import yaml, json\n",
    "from langchain import HuggingFaceHub, LLMChain, PromptTemplate\n",
    "from langchain.embeddings import HuggingFaceEmbeddings\n",
    "from langchain.chains import MapReduceDocumentsChain, ReduceDocumentsChain\n",
    "from langchain.chains.combine_documents.stuff import StuffDocumentsChain\n",
    "from langchain.schema.document import Document\n",
    "from langchain.text_splitter import CharacterTextSplitter\n",
    "from rich import print\n",
    "from sklearn.cluster import KMeans, HDBSCAN, DBSCAN\n",
    "\n",
    "from transformers import (\n",
    "    AutoModelForSeq2SeqLM,\n",
    "    AutoTokenizer,\n",
    ")"
   ]
  },
  {
   "cell_type": "code",
   "execution_count": null,
   "metadata": {},
   "outputs": [],
   "source": [
    "sys.path.append(\"../\")\n",
    "from src.ai_news_digest.utils import check_gpu_availability, create_run_folder\n",
    "from src.ai_news_digest.steps.benchmark import entropy"
   ]
  },
  {
   "cell_type": "markdown",
   "metadata": {},
   "source": [
    "### GPU availability"
   ]
  },
  {
   "cell_type": "code",
   "execution_count": null,
   "metadata": {},
   "outputs": [],
   "source": [
    "device = check_gpu_availability()"
   ]
  },
  {
   "cell_type": "markdown",
   "metadata": {},
   "source": [
    "### Load secrets"
   ]
  },
  {
   "cell_type": "code",
   "execution_count": null,
   "metadata": {},
   "outputs": [],
   "source": [
    "with open(\"../conf/local/credentials.yml\", \"r\") as f:\n",
    "    hf_secrets = yaml.load(f, Loader=yaml.SafeLoader)[\"hugging_face\"]\n",
    "hf_hub_token = hf_secrets[\"hf_hub_token\"]"
   ]
  },
  {
   "cell_type": "markdown",
   "metadata": {},
   "source": [
    "### Config"
   ]
  },
  {
   "cell_type": "code",
   "execution_count": null,
   "metadata": {},
   "outputs": [],
   "source": [
    "PATH_INFO_DICT = \"../data/03_primary/arxiv_dict_2023-11-06_00-22-42.json\"\n",
    "MODEL_KWARGS = {\"device\": device}\n",
    "MODEL_ID = \"BAAI/bge-small-en\"\n",
    "ENCODE_KWARGS = {\n",
    "    \"normalize_embeddings\": True,\n",
    "    \"batch_size\": 16,\n",
    "    \"output_value\": \"sentence_embedding\",\n",
    "    \"convert_to_numpy\": True,\n",
    "    \"show_progress_bar\": True,\n",
    "}\n",
    "UMAP_KWARGS = {\n",
    "    \"n_neighbors\": 4,\n",
    "    \"min_dist\": 0.05,\n",
    "    \"n_components\": 2,\n",
    "    \"metric\": \"cosine\",\n",
    "}\n",
    "CLUSTERING_KWARGS = {    \n",
    "    \"min_cluster_size\": 5, \n",
    "    \"min_samples\": 3, \n",
    "    \"max_cluster_size\": 30, \n",
    "    \"cluster_selection_epsilon\": 0.05,\n",
    "}"
   ]
  },
  {
   "cell_type": "markdown",
   "metadata": {},
   "source": [
    "## Load data"
   ]
  },
  {
   "cell_type": "code",
   "execution_count": null,
   "metadata": {},
   "outputs": [],
   "source": [
    "# compute paths\n",
    "info_path = Path(PATH_INFO_DICT)\n",
    "\n",
    "# load data (original & translated)\n",
    "with open(info_path, \"r\") as f:\n",
    "    info_dict = json.load(f)[\"results\"]\n",
    "logger.info(f\"Successfully loaded prepared data from : {info_path}\")\n",
    "\n",
    "# retrieve abstracts, titles, dates & paper IDs\n",
    "df_data = pd.DataFrame(info_dict).transpose()\n",
    "\n",
    "# display\n",
    "df_data.head()"
   ]
  },
  {
   "cell_type": "code",
   "execution_count": null,
   "metadata": {},
   "outputs": [],
   "source": []
  },
  {
   "cell_type": "markdown",
   "metadata": {},
   "source": [
    "## Clusterize data"
   ]
  },
  {
   "cell_type": "code",
   "execution_count": null,
   "metadata": {},
   "outputs": [],
   "source": [
    "def clustering_pipeline(\n",
    "    df_embed: pd.DataFrame,\n",
    "    umap_kwargs: dict,\n",
    "    clustering_kwargs: Optional[dict]=None,\n",
    "    random_state: int=123,\n",
    "    df_data: Optional[pd.DataFrame]=None,\n",
    ") -> Tuple[pd.DataFrame, Any]:\n",
    "    \n",
    "    #--- dimensionality reduction ---\n",
    "\n",
    "    # instanciate umap projector\n",
    "    reducer = umap.UMAP(random_state=random_state, **umap_kwargs)\n",
    "\n",
    "    # project data\n",
    "    umap_proj = reducer.fit_transform(df_embed)\n",
    "\n",
    "    # normalize umap coords\n",
    "    umap_proj = (umap_proj - umap_proj.min(axis=0)) / (umap_proj.max(axis=0) - umap_proj.min(axis=0))\n",
    "\n",
    "    # store in a dataframe\n",
    "    df_umap = pd.DataFrame(columns=[f\"umap_{i}\" for i in range(umap_proj.shape[1])], data=umap_proj)\n",
    "\n",
    "    # add metadata if available\n",
    "    if df_data is not None:\n",
    "        df_umap = pd.concat((df_umap, df_data.reset_index(names=[\"ID\"])), axis=1)\n",
    "\n",
    "    #--- clustering ---\n",
    "    if clustering_kwargs is not None:\n",
    "        X_cluster = df_umap[[col for col in df_umap.columns if \"umap\" in col]]\n",
    "        clustering = HDBSCAN(**clustering_kwargs)\n",
    "        clustering.fit(X_cluster)\n",
    "        df_umap[\"cluster\"] = [str(elt) for elt in clustering.labels_]\n",
    "        df_umap[\"noise\"] = [int(elt==-1) for elt in clustering.labels_]\n",
    "\n",
    "    #--- result ---\n",
    "    return df_umap, clustering"
   ]
  },
  {
   "cell_type": "code",
   "execution_count": null,
   "metadata": {},
   "outputs": [],
   "source": [
    "# load model\n",
    "hf = HuggingFaceEmbeddings(\n",
    "    model_name=MODEL_ID,\n",
    "    model_kwargs={\"device\": \"cpu\"},\n",
    "    encode_kwargs=ENCODE_KWARGS,\n",
    ")"
   ]
  },
  {
   "cell_type": "code",
   "execution_count": null,
   "metadata": {},
   "outputs": [],
   "source": [
    "# compute embeddings\n",
    "embeddings = np.array(hf.embed_documents(df_data[\"abstract\"]))\n",
    "\n",
    "# store embeddings in a dataframe\n",
    "df_embed = pd.DataFrame(\n",
    "    data=embeddings, \n",
    "    columns=[f\"embed_{i}\" for i in range(embeddings.shape[1])],\n",
    "    index=df_data.index\n",
    ")\n",
    "\n",
    "# display\n",
    "df_embed.head()"
   ]
  },
  {
   "cell_type": "code",
   "execution_count": null,
   "metadata": {},
   "outputs": [],
   "source": [
    "df_umap, clustering = clustering_pipeline(\n",
    "    df_embed,\n",
    "    UMAP_KWARGS,\n",
    "    CLUSTERING_KWARGS,\n",
    "    random_state=123,\n",
    "    df_data=df_data,\n",
    ")"
   ]
  },
  {
   "cell_type": "code",
   "execution_count": null,
   "metadata": {},
   "outputs": [],
   "source": [
    "df_umap[\"cluster\"] = [str(elt) for elt in clustering.labels_]\n",
    "df_umap[\"noise\"] = [int(elt==-1) for elt in clustering.labels_]\n",
    "fig = px.scatter(\n",
    "    df_umap,\n",
    "    x=\"umap_0\",\n",
    "    y=\"umap_1\",\n",
    "    hover_data=[\n",
    "        \"title\",\n",
    "        \"ID\",\n",
    "    ],\n",
    "    color=\"cluster\",\n",
    "    symbol=\"noise\",\n",
    "    # color_continuous_scale=px.colors.qualitative.D3,\n",
    "    category_orders={\"cluster\": list(np.sort(pd.unique(clustering.labels_)).astype(str))},\n",
    ")\n",
    "fig.show()"
   ]
  },
  {
   "cell_type": "code",
   "execution_count": null,
   "metadata": {},
   "outputs": [],
   "source": [
    "df_umap.head(3)"
   ]
  },
  {
   "cell_type": "code",
   "execution_count": null,
   "metadata": {},
   "outputs": [],
   "source": []
  },
  {
   "cell_type": "markdown",
   "metadata": {},
   "source": [
    "## Summarize a cluster"
   ]
  },
  {
   "cell_type": "markdown",
   "metadata": {},
   "source": [
    "### Choose one cluster"
   ]
  },
  {
   "cell_type": "code",
   "execution_count": null,
   "metadata": {},
   "outputs": [],
   "source": [
    "# choose one cluster\n",
    "cluster_idx = str(2)\n",
    "\n",
    "# retrieve data from chosen cluster\n",
    "df_cluster = df_umap.query(\"cluster==@cluster_idx\").copy()\n",
    "print(f\"Size of cluster n°{cluster_idx}: {df_cluster.shape[0]}\")\n",
    "df_cluster.head(3)"
   ]
  },
  {
   "cell_type": "markdown",
   "metadata": {},
   "source": [
    "### Load a model"
   ]
  },
  {
   "cell_type": "code",
   "execution_count": null,
   "metadata": {},
   "outputs": [],
   "source": [
    "from langchain_community.llms import HuggingFacePipeline\n",
    "from transformers import pipeline\n",
    "\n",
    "model_kwargs = {\n",
    "    \"temperature\": 0.8,\n",
    "    \"do_sample\": True,\n",
    "    \"device\": device,\n",
    "    \"torch_dtype\": torch.bfloat16,\n",
    "}\n"
   ]
  },
  {
   "cell_type": "code",
   "execution_count": null,
   "metadata": {},
   "outputs": [],
   "source": [
    "# import torch\n",
    "# from transformers import pipeline\n",
    "\n",
    "# # pipe = pipeline(\"text-generation\", model=\"stabilityai/stablelm-zephyr-3b\", trust_remote_code=True, **model_kwargs)\n",
    "# # pipe = pipeline(model=\"databricks/dolly-v2-3b\", torch_dtype=torch.bfloat16, trust_remote_code=True, device_map=\"auto\")\n",
    "# # pipe = pipeline(\"text-generation\", model=\"Writer/camel-5b-hf\")\n",
    "# # pipe = pipeline(\"text-generation\", model=\"mistralai/Mistral-7B-v0.1\", max_new_tokens=250, **model_kwargs)\n",
    "# pipe = pipeline(\"text-generation\", model=\"mistralai/Mistral-7B-Instruct-v0.2\", max_new_tokens=250, **model_kwargs)\n",
    "\n",
    "# hf = HuggingFacePipeline(pipeline=pipe)"
   ]
  },
  {
   "cell_type": "code",
   "execution_count": null,
   "metadata": {},
   "outputs": [],
   "source": [
    "# # try model/pipeline inference with the `generate` method\n",
    "# hf.pipeline.max_new_tokens = 20\n",
    "# gen = hf.generate(\n",
    "#     [\"[INST] Tell me who you are. Answer in less than 50 words.[/INST]\"], \n",
    "# )\n",
    "# print(gen)"
   ]
  },
  {
   "cell_type": "code",
   "execution_count": null,
   "metadata": {},
   "outputs": [],
   "source": [
    "# try model/pipeline inference with the `predict` method\n",
    "prompt = \"<s>[INST]Tell me who you are. Answer in less than 50 words.[/INST]\"\n",
    "\n",
    "pred = hf.predict(\n",
    "    prompt, \n",
    ")\n",
    "print(pred)"
   ]
  },
  {
   "cell_type": "code",
   "execution_count": null,
   "metadata": {},
   "outputs": [],
   "source": [
    "hf.get_num_tokens(pred), len(pred.split(\" \"))"
   ]
  },
  {
   "cell_type": "code",
   "execution_count": null,
   "metadata": {},
   "outputs": [],
   "source": []
  },
  {
   "cell_type": "code",
   "execution_count": null,
   "metadata": {},
   "outputs": [],
   "source": []
  },
  {
   "cell_type": "code",
   "execution_count": null,
   "metadata": {},
   "outputs": [],
   "source": [
    "from langchain_community.llms import VLLMOpenAI\n",
    "import torch\n",
    "from transformers import pipeline\n",
    "\n",
    "llm = VLLMOpenAI(\n",
    "    openai_api_key=\"EMPTY\",\n",
    "    openai_api_base=\"http://localhost:8000/v1\",\n",
    "    model_name=\"mistralai/Mistral-7B-Instruct-v0.2\",\n",
    "    # model_kwargs={\"stop\": [\".\"]},\n",
    "    # model_kwargs=model_kwargs,\n",
    ")\n",
    "# print(llm.invoke(\"Rome is\"))"
   ]
  },
  {
   "cell_type": "code",
   "execution_count": null,
   "metadata": {},
   "outputs": [],
   "source": [
    "prompt = \"<s>[INST]Tell me who you are. Answer in less than 50 words.[/INST]\"\n",
    "\n",
    "pred = llm.predict(\n",
    "    prompt, \n",
    ")\n",
    "print(pred)"
   ]
  },
  {
   "cell_type": "code",
   "execution_count": null,
   "metadata": {},
   "outputs": [],
   "source": [
    "gen = llm.generate(\n",
    "    [\"[INST] Tell me who you are. Answer in less than 50 words.[/INST]\"], \n",
    ")\n",
    "print(gen)"
   ]
  },
  {
   "cell_type": "code",
   "execution_count": null,
   "metadata": {},
   "outputs": [],
   "source": [
    "llm.get_num_tokens(pred), len(pred.split(\" \"))"
   ]
  },
  {
   "cell_type": "code",
   "execution_count": null,
   "metadata": {},
   "outputs": [],
   "source": [
    "llm.get_num_tokens(pred)"
   ]
  },
  {
   "cell_type": "code",
   "execution_count": null,
   "metadata": {},
   "outputs": [],
   "source": []
  },
  {
   "cell_type": "markdown",
   "metadata": {},
   "source": [
    "### Stuffing"
   ]
  },
  {
   "cell_type": "code",
   "execution_count": null,
   "metadata": {},
   "outputs": [],
   "source": [
    "df_cluster.shape"
   ]
  },
  {
   "cell_type": "code",
   "execution_count": null,
   "metadata": {},
   "outputs": [],
   "source": [
    "from langchain.chains.summarize import load_summarize_chain\n",
    "from langchain_community.document_loaders import WebBaseLoader\n",
    "from langchain.schema.document import Document\n",
    "\n",
    "\n",
    "docs = [\n",
    "    Document(\n",
    "        page_content=f\"Article n°{i} -- {row['abstract']}\",\n",
    "        metadata=row.to_dict(),\n",
    "    )\n",
    "    for i, row in df_cluster.iterrows()\n",
    "]"
   ]
  },
  {
   "cell_type": "code",
   "execution_count": null,
   "metadata": {},
   "outputs": [],
   "source": [
    "# Define prompt\n",
    "prompt_template = \"\"\"<s>[INST]You will be provided with a list of scientific paper abstracts that you must summarize.\n",
    "Write a concise summary focusing on the theme that is common to all papers and covers all of them.\n",
    "Here is the list of abtracts:\n",
    "\"{text}\"\n",
    "CONCISE SUMMARY: [/INST]\"\"\"\n",
    "prompt = PromptTemplate.from_template(prompt_template)\n",
    "\n",
    "# Define LLM chain\n",
    "llm_chain = LLMChain(llm=llm, prompt=prompt)\n",
    "\n",
    "# Define StuffDocumentsChain\n",
    "stuff_chain = StuffDocumentsChain(llm_chain=llm_chain, document_variable_name=\"text\")\n",
    "\n",
    "print(stuff_chain.run(docs))"
   ]
  },
  {
   "cell_type": "code",
   "execution_count": null,
   "metadata": {},
   "outputs": [],
   "source": [
    "print(\n",
    "    stuff_chain.prompt_length(docs=docs),\n",
    "    llm.get_num_tokens(\"\\n\\n\".join(df_cluster.abstract.values.tolist())) + llm.get_num_tokens(prompt_template),\n",
    "    # stuff_chain._get_inputs(docs=docs),\n",
    ")"
   ]
  },
  {
   "cell_type": "code",
   "execution_count": null,
   "metadata": {},
   "outputs": [],
   "source": [
    "# hf.pipeline.tokenizer.model_max_length"
   ]
  },
  {
   "cell_type": "code",
   "execution_count": null,
   "metadata": {},
   "outputs": [],
   "source": [
    "len(\" \".join(df_cluster.abstract.values.tolist()))"
   ]
  },
  {
   "cell_type": "code",
   "execution_count": null,
   "metadata": {},
   "outputs": [],
   "source": [
    "llm.get_num_tokens(\" \".join(df_cluster.abstract.values.tolist()))"
   ]
  },
  {
   "cell_type": "code",
   "execution_count": null,
   "metadata": {},
   "outputs": [],
   "source": [
    "# hf.get_num_tokens((\" \".join(df_cluster.abstract.values.tolist())+\" \")*16 )"
   ]
  },
  {
   "cell_type": "code",
   "execution_count": null,
   "metadata": {},
   "outputs": [],
   "source": [
    "# hf.predict((\" \".join(df_cluster.abstract.values.tolist())+\" \")*16 )"
   ]
  },
  {
   "cell_type": "code",
   "execution_count": null,
   "metadata": {},
   "outputs": [],
   "source": [
    "print(df_cluster.abstract.values.tolist())"
   ]
  },
  {
   "attachments": {
    "image.png": {
     "image/png": "[encoded data removed]"
    }
   },
   "cell_type": "markdown",
   "metadata": {},
   "source": [
    "Raw stuffing took 5min for cluster n°5\n",
    "![image.png](attachment:image.png)"
   ]
  },
  {
   "cell_type": "code",
   "execution_count": null,
   "metadata": {},
   "outputs": [],
   "source": []
  },
  {
   "cell_type": "markdown",
   "metadata": {},
   "source": [
    "### [WIP] Resursive adaptive-window stuffing"
   ]
  },
  {
   "cell_type": "code",
   "execution_count": null,
   "metadata": {},
   "outputs": [],
   "source": [
    "df_cluster = df_umap.query(\"cluster=='5'\").copy()\n",
    "print(f\"Size of cluster n°{cluster_idx}: {df_cluster.shape[0]}\")\n",
    "df_cluster.head(2)"
   ]
  },
  {
   "cell_type": "code",
   "execution_count": null,
   "metadata": {},
   "outputs": [],
   "source": [
    "prompt"
   ]
  },
  {
   "cell_type": "code",
   "execution_count": null,
   "metadata": {},
   "outputs": [],
   "source": [
    "prompt_template"
   ]
  },
  {
   "cell_type": "code",
   "execution_count": null,
   "metadata": {},
   "outputs": [],
   "source": [
    "def summarize_recurse(\n",
    "    hf_pipe: HuggingFacePipeline, \n",
    "    prompt_template: str,\n",
    "    docs: List[Document],\n",
    ") -> str:\n",
    "    \n",
    "    # define Stuff chain\n",
    "    prompt = PromptTemplate.from_template(prompt_template)\n",
    "    llm_chain = LLMChain(llm=hf_pipe, prompt=prompt)\n",
    "    stuff_chain = StuffDocumentsChain(llm_chain=llm_chain, document_variable_name=\"text\")\n",
    "\n",
    "    # TODO: sort documents based on their distance to O (origin)\n",
    "\n",
    "\n",
    "    # get max sequence length OR force a specific value\n",
    "    # TODO: check this value is valid and functional \n",
    "    # --> https://github.com/huggingface/transformers/blob/f1cc6157210abd9ea953da097fb704a1dd778638/src/transformers/models/mistral/configuration_mistral.py#L63 \n",
    "    Lt_max = 6000\n",
    "\n",
    "    # compute number of promt tokens\n",
    "    Lt_prompt = hf_pipe.get_num_tokens(prompt_template)\n",
    "\n",
    "    # compute nmber of tokens for docs\n",
    "    Lt_docs_list = [hf_pipe.get_num_tokens(doc.page_content) for doc in docs]\n",
    "    Lt_docs = np.sum(Lt_docs_list)\n",
    "    \n",
    "    # end case\n",
    "    # TODO: check if this context_length is valid\n",
    "    # if Lt_docs + Lt_prompt <= Lt_max:\n",
    "    if stuff_chain.prompt_length(docs=docs) <= Lt_max:\n",
    "        return stuff_chain.run(docs)\n",
    "    \n",
    "    else:\n",
    "\n",
    "        news_docs = []\n",
    "        j1, j2 = 0, 1\n",
    "\n",
    "        while j1 < len(docs) and j2 < len(docs):\n",
    "\n",
    "            if stuff_chain.prompt_length(docs=docs[j1:j2+1]) > Lt_max:\n",
    "                news_docs.append(Document(page_content=stuff_chain.run(docs[j1:j2])))\n",
    "                j1 = j2\n",
    "                j2 = j2 + 1\n",
    "            else:\n",
    "                j2 = j2 + 1\n",
    "        \n",
    "        if j2 >= len(docs):\n",
    "            news_docs.append(Document(page_content=stuff_chain.run(docs[j1:])))\n",
    "\n",
    "        return summarize_recurse(hf_pipe, prompt_template, news_docs)\n",
    "    "
   ]
  },
  {
   "cell_type": "code",
   "execution_count": null,
   "metadata": {},
   "outputs": [],
   "source": [
    "summary = summarize_recurse(hf, prompt_template, docs)\n",
    "print(summary)"
   ]
  },
  {
   "cell_type": "code",
   "execution_count": null,
   "metadata": {},
   "outputs": [],
   "source": [
    "len(docs)"
   ]
  },
  {
   "cell_type": "code",
   "execution_count": null,
   "metadata": {},
   "outputs": [],
   "source": []
  },
  {
   "cell_type": "code",
   "execution_count": null,
   "metadata": {},
   "outputs": [],
   "source": []
  },
  {
   "cell_type": "code",
   "execution_count": null,
   "metadata": {},
   "outputs": [],
   "source": []
  },
  {
   "cell_type": "code",
   "execution_count": null,
   "metadata": {},
   "outputs": [],
   "source": []
  },
  {
   "cell_type": "code",
   "execution_count": null,
   "metadata": {},
   "outputs": [],
   "source": [
    "print(hf.pipeline.model.config)"
   ]
  },
  {
   "cell_type": "code",
   "execution_count": null,
   "metadata": {},
   "outputs": [],
   "source": []
  },
  {
   "cell_type": "code",
   "execution_count": null,
   "metadata": {},
   "outputs": [],
   "source": []
  },
  {
   "cell_type": "code",
   "execution_count": null,
   "metadata": {},
   "outputs": [],
   "source": []
  },
  {
   "cell_type": "code",
   "execution_count": null,
   "metadata": {},
   "outputs": [],
   "source": []
  }
 ],
 "metadata": {
  "kernelspec": {
   "display_name": "ai_news",
   "language": "python",
   "name": "python3"
  },
  "language_info": {
   "codemirror_mode": {
    "name": "ipython",
    "version": 3
   },
   "file_extension": ".py",
   "mimetype": "text/x-python",
   "name": "python",
   "nbconvert_exporter": "python",
   "pygments_lexer": "ipython3",
   "version": "3.10.13"
  }
 },
 "nbformat": 4,
 "nbformat_minor": 2
}
