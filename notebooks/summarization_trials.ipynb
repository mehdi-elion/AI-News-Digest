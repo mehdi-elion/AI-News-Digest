{
 "cells": [
  {
   "cell_type": "markdown",
   "metadata": {},
   "source": [
    "# Summarization trials"
   ]
  },
  {
   "cell_type": "markdown",
   "metadata": {},
   "source": [
    "## Setup"
   ]
  },
  {
   "cell_type": "markdown",
   "metadata": {},
   "source": [
    "### Imports"
   ]
  },
  {
   "cell_type": "code",
   "execution_count": 1,
   "metadata": {},
   "outputs": [
    {
     "name": "stderr",
     "output_type": "stream",
     "text": [
      "c:\\Users\\mehdi\\miniconda3\\envs\\ai_news\\lib\\site-packages\\tqdm\\auto.py:21: TqdmWarning: IProgress not found. Please update jupyter and ipywidgets. See https://ipywidgets.readthedocs.io/en/stable/user_install.html\n",
      "  from .autonotebook import tqdm as notebook_tqdm\n"
     ]
    }
   ],
   "source": [
    "from typing import List, Optional, Union, Any, Tuple\n",
    "import sys\n",
    "from loguru import logger\n",
    "from pathlib import Path \n",
    "\n",
    "import numpy as np\n",
    "import pandas as pd\n",
    "import plotly.express as px\n",
    "import torch\n",
    "import umap\n",
    "import yaml, json\n",
    "from langchain import HuggingFaceHub, LLMChain, PromptTemplate\n",
    "from langchain.embeddings import HuggingFaceEmbeddings\n",
    "from langchain.chains import MapReduceDocumentsChain, ReduceDocumentsChain\n",
    "from langchain.chains.combine_documents.stuff import StuffDocumentsChain\n",
    "from langchain.schema.document import Document\n",
    "from langchain.text_splitter import CharacterTextSplitter\n",
    "from rich import print\n",
    "from sklearn.cluster import KMeans, HDBSCAN, DBSCAN\n",
    "\n",
    "from transformers import (\n",
    "    AutoModelForSeq2SeqLM,\n",
    "    AutoTokenizer,\n",
    ")"
   ]
  },
  {
   "cell_type": "code",
   "execution_count": 2,
   "metadata": {},
   "outputs": [],
   "source": [
    "sys.path.append(\"../\")\n",
    "from src.ai_news_digest.utils import check_gpu_availability, create_run_folder\n",
    "from src.ai_news_digest.steps.benchmark import entropy"
   ]
  },
  {
   "cell_type": "markdown",
   "metadata": {},
   "source": [
    "### GPU availability"
   ]
  },
  {
   "cell_type": "code",
   "execution_count": 3,
   "metadata": {},
   "outputs": [
    {
     "name": "stderr",
     "output_type": "stream",
     "text": [
      "\u001b[32m2024-01-28 20:47:55.311\u001b[0m | \u001b[1mINFO    \u001b[0m | \u001b[36msrc.ai_news_digest.utils\u001b[0m:\u001b[36mcheck_gpu_availability\u001b[0m:\u001b[36m49\u001b[0m - \u001b[1mIs cuda available ? --> True\u001b[0m\n"
     ]
    },
    {
     "data": {
      "text/html": [
       "<pre style=\"white-space:pre;overflow-x:auto;line-height:normal;font-family:Menlo,'DejaVu Sans Mono',consolas,'Courier New',monospace\"><span style=\"color: #800080; text-decoration-color: #800080; font-weight: bold\">_CudaDeviceProperties</span><span style=\"font-weight: bold\">(</span><span style=\"color: #808000; text-decoration-color: #808000\">name</span>=<span style=\"color: #008000; text-decoration-color: #008000\">'NVIDIA GeForce RTX 3090 Ti'</span>, <span style=\"color: #808000; text-decoration-color: #808000\">major</span>=<span style=\"color: #008080; text-decoration-color: #008080; font-weight: bold\">8</span>, <span style=\"color: #808000; text-decoration-color: #808000\">minor</span>=<span style=\"color: #008080; text-decoration-color: #008080; font-weight: bold\">6</span>, <span style=\"color: #808000; text-decoration-color: #808000\">total_memory</span>=<span style=\"color: #800080; text-decoration-color: #800080\">24563MB</span>, \n",
       "<span style=\"color: #808000; text-decoration-color: #808000\">multi_processor_count</span>=<span style=\"color: #008080; text-decoration-color: #008080; font-weight: bold\">84</span><span style=\"font-weight: bold\">)</span>\n",
       "</pre>\n"
      ],
      "text/plain": [
       "\u001b[1;35m_CudaDeviceProperties\u001b[0m\u001b[1m(\u001b[0m\u001b[33mname\u001b[0m=\u001b[32m'NVIDIA GeForce RTX 3090 Ti'\u001b[0m, \u001b[33mmajor\u001b[0m=\u001b[1;36m8\u001b[0m, \u001b[33mminor\u001b[0m=\u001b[1;36m6\u001b[0m, \u001b[33mtotal_memory\u001b[0m=\u001b[35m24563MB\u001b[0m, \n",
       "\u001b[33mmulti_processor_count\u001b[0m=\u001b[1;36m84\u001b[0m\u001b[1m)\u001b[0m\n"
      ]
     },
     "metadata": {},
     "output_type": "display_data"
    },
    {
     "name": "stderr",
     "output_type": "stream",
     "text": [
      "\u001b[32m2024-01-28 20:47:55.356\u001b[0m | \u001b[1mINFO    \u001b[0m | \u001b[36msrc.ai_news_digest.utils\u001b[0m:\u001b[36mcheck_gpu_availability\u001b[0m:\u001b[36m55\u001b[0m - \u001b[1mChose following device: 'cuda:0'\u001b[0m\n"
     ]
    }
   ],
   "source": [
    "device = check_gpu_availability()"
   ]
  },
  {
   "cell_type": "markdown",
   "metadata": {},
   "source": [
    "### Load secrets"
   ]
  },
  {
   "cell_type": "code",
   "execution_count": 4,
   "metadata": {},
   "outputs": [],
   "source": [
    "with open(\"../conf/local/credentials.yml\", \"r\") as f:\n",
    "    hf_secrets = yaml.load(f, Loader=yaml.SafeLoader)[\"hugging_face\"]\n",
    "hf_hub_token = hf_secrets[\"hf_hub_token\"]"
   ]
  },
  {
   "cell_type": "markdown",
   "metadata": {},
   "source": [
    "### Config"
   ]
  },
  {
   "cell_type": "code",
   "execution_count": 5,
   "metadata": {},
   "outputs": [],
   "source": [
    "PATH_INFO_DICT = \"../data/03_primary/arxiv_dict_2023-11-06_00-22-42.json\"\n",
    "MODEL_KWARGS = {\"device\": device}\n",
    "MODEL_ID = \"BAAI/bge-small-en\"\n",
    "ENCODE_KWARGS = {\n",
    "    \"normalize_embeddings\": True,\n",
    "    \"batch_size\": 16,\n",
    "    \"output_value\": \"sentence_embedding\",\n",
    "    \"convert_to_numpy\": True,\n",
    "    \"show_progress_bar\": True,\n",
    "}\n",
    "UMAP_KWARGS = {\n",
    "    \"n_neighbors\": 4,\n",
    "    \"min_dist\": 0.05,\n",
    "    \"n_components\": 2,\n",
    "    \"metric\": \"cosine\",\n",
    "}\n",
    "CLUSTERING_KWARGS = {    \n",
    "    \"min_cluster_size\": 5, \n",
    "    \"min_samples\": 3, \n",
    "    \"max_cluster_size\": 30, \n",
    "    \"cluster_selection_epsilon\": 0.05,\n",
    "}"
   ]
  },
  {
   "cell_type": "markdown",
   "metadata": {},
   "source": [
    "## Load data"
   ]
  },
  {
   "cell_type": "code",
   "execution_count": 6,
   "metadata": {},
   "outputs": [
    {
     "name": "stderr",
     "output_type": "stream",
     "text": [
      "\u001b[32m2024-01-28 20:47:55.397\u001b[0m | \u001b[1mINFO    \u001b[0m | \u001b[36m__main__\u001b[0m:\u001b[36m<module>\u001b[0m:\u001b[36m7\u001b[0m - \u001b[1mSuccessfully loaded prepared data from : ..\\data\\03_primary\\arxiv_dict_2023-11-06_00-22-42.json\u001b[0m\n"
     ]
    },
    {
     "data": {
      "text/html": [
       "<div>\n",
       "<style scoped>\n",
       "    .dataframe tbody tr th:only-of-type {\n",
       "        vertical-align: middle;\n",
       "    }\n",
       "\n",
       "    .dataframe tbody tr th {\n",
       "        vertical-align: top;\n",
       "    }\n",
       "\n",
       "    .dataframe thead th {\n",
       "        text-align: right;\n",
       "    }\n",
       "</style>\n",
       "<table border=\"1\" class=\"dataframe\">\n",
       "  <thead>\n",
       "    <tr style=\"text-align: right;\">\n",
       "      <th></th>\n",
       "      <th>title</th>\n",
       "      <th>abstract</th>\n",
       "      <th>date</th>\n",
       "      <th>category</th>\n",
       "    </tr>\n",
       "  </thead>\n",
       "  <tbody>\n",
       "    <tr>\n",
       "      <th>http://arxiv.org/abs/2311.01425v1</th>\n",
       "      <td>Exploring Deep Learning Techniques for Glaucom...</td>\n",
       "      <td>Glaucoma is one of the primary causes of visio...</td>\n",
       "      <td>2023-11-02 17:39:40+00:00</td>\n",
       "      <td>eess.IV</td>\n",
       "    </tr>\n",
       "    <tr>\n",
       "      <th>http://arxiv.org/abs/2311.01352v1</th>\n",
       "      <td>Deep learning based Image Compression for Micr...</td>\n",
       "      <td>With the fast development of modern microscope...</td>\n",
       "      <td>2023-11-02 16:00:32+00:00</td>\n",
       "      <td>eess.IV</td>\n",
       "    </tr>\n",
       "    <tr>\n",
       "      <th>http://arxiv.org/abs/2311.01241v1</th>\n",
       "      <td>Exploring Deep Learning Image Super-Resolution...</td>\n",
       "      <td>In this work we test the ability of deep learn...</td>\n",
       "      <td>2023-11-02 13:57:48+00:00</td>\n",
       "      <td>eess.IV</td>\n",
       "    </tr>\n",
       "    <tr>\n",
       "      <th>http://arxiv.org/abs/2311.01130v1</th>\n",
       "      <td>A deep learning experiment for semantic segmen...</td>\n",
       "      <td>Palimpsests refer to historical manuscripts wh...</td>\n",
       "      <td>2023-11-02 10:25:47+00:00</td>\n",
       "      <td>cs.CV</td>\n",
       "    </tr>\n",
       "    <tr>\n",
       "      <th>http://arxiv.org/abs/2311.01061v1</th>\n",
       "      <td>Deep Learning for real-time neural decoding of...</td>\n",
       "      <td>Neural decoding involves correlating signals a...</td>\n",
       "      <td>2023-11-02 08:26:29+00:00</td>\n",
       "      <td>cs.LG</td>\n",
       "    </tr>\n",
       "  </tbody>\n",
       "</table>\n",
       "</div>"
      ],
      "text/plain": [
       "                                                                               title  \\\n",
       "http://arxiv.org/abs/2311.01425v1  Exploring Deep Learning Techniques for Glaucom...   \n",
       "http://arxiv.org/abs/2311.01352v1  Deep learning based Image Compression for Micr...   \n",
       "http://arxiv.org/abs/2311.01241v1  Exploring Deep Learning Image Super-Resolution...   \n",
       "http://arxiv.org/abs/2311.01130v1  A deep learning experiment for semantic segmen...   \n",
       "http://arxiv.org/abs/2311.01061v1  Deep Learning for real-time neural decoding of...   \n",
       "\n",
       "                                                                            abstract  \\\n",
       "http://arxiv.org/abs/2311.01425v1  Glaucoma is one of the primary causes of visio...   \n",
       "http://arxiv.org/abs/2311.01352v1  With the fast development of modern microscope...   \n",
       "http://arxiv.org/abs/2311.01241v1  In this work we test the ability of deep learn...   \n",
       "http://arxiv.org/abs/2311.01130v1  Palimpsests refer to historical manuscripts wh...   \n",
       "http://arxiv.org/abs/2311.01061v1  Neural decoding involves correlating signals a...   \n",
       "\n",
       "                                                        date category  \n",
       "http://arxiv.org/abs/2311.01425v1  2023-11-02 17:39:40+00:00  eess.IV  \n",
       "http://arxiv.org/abs/2311.01352v1  2023-11-02 16:00:32+00:00  eess.IV  \n",
       "http://arxiv.org/abs/2311.01241v1  2023-11-02 13:57:48+00:00  eess.IV  \n",
       "http://arxiv.org/abs/2311.01130v1  2023-11-02 10:25:47+00:00    cs.CV  \n",
       "http://arxiv.org/abs/2311.01061v1  2023-11-02 08:26:29+00:00    cs.LG  "
      ]
     },
     "execution_count": 6,
     "metadata": {},
     "output_type": "execute_result"
    }
   ],
   "source": [
    "# compute paths\n",
    "info_path = Path(PATH_INFO_DICT)\n",
    "\n",
    "# load data (original & translated)\n",
    "with open(info_path, \"r\") as f:\n",
    "    info_dict = json.load(f)[\"results\"]\n",
    "logger.info(f\"Successfully loaded prepared data from : {info_path}\")\n",
    "\n",
    "# retrieve abstracts, titles, dates & paper IDs\n",
    "df_data = pd.DataFrame(info_dict).transpose()\n",
    "\n",
    "# display\n",
    "df_data.head()"
   ]
  },
  {
   "cell_type": "code",
   "execution_count": null,
   "metadata": {},
   "outputs": [],
   "source": []
  },
  {
   "cell_type": "markdown",
   "metadata": {},
   "source": [
    "## Clusterize data"
   ]
  },
  {
   "cell_type": "code",
   "execution_count": 7,
   "metadata": {},
   "outputs": [],
   "source": [
    "def clustering_pipeline(\n",
    "    df_embed: pd.DataFrame,\n",
    "    umap_kwargs: dict,\n",
    "    clustering_kwargs: Optional[dict]=None,\n",
    "    random_state: int=123,\n",
    "    df_data: Optional[pd.DataFrame]=None,\n",
    ") -> Tuple[pd.DataFrame, Any]:\n",
    "    \n",
    "    #--- dimensionality reduction ---\n",
    "\n",
    "    # instanciate umap projector\n",
    "    reducer = umap.UMAP(random_state=random_state, **umap_kwargs)\n",
    "\n",
    "    # project data\n",
    "    umap_proj = reducer.fit_transform(df_embed)\n",
    "\n",
    "    # normalize umap coords\n",
    "    umap_proj = (umap_proj - umap_proj.min(axis=0)) / (umap_proj.max(axis=0) - umap_proj.min(axis=0))\n",
    "\n",
    "    # store in a dataframe\n",
    "    df_umap = pd.DataFrame(columns=[f\"umap_{i}\" for i in range(umap_proj.shape[1])], data=umap_proj)\n",
    "\n",
    "    # add metadata if available\n",
    "    if df_data is not None:\n",
    "        df_umap = pd.concat((df_umap, df_data.reset_index(names=[\"ID\"])), axis=1)\n",
    "\n",
    "    #--- clustering ---\n",
    "    if clustering_kwargs is not None:\n",
    "        X_cluster = df_umap[[col for col in df_umap.columns if \"umap\" in col]]\n",
    "        clustering = HDBSCAN(**clustering_kwargs)\n",
    "        clustering.fit(X_cluster)\n",
    "        df_umap[\"cluster\"] = [str(elt) for elt in clustering.labels_]\n",
    "        df_umap[\"noise\"] = [int(elt==-1) for elt in clustering.labels_]\n",
    "\n",
    "    #--- result ---\n",
    "    return df_umap, clustering"
   ]
  },
  {
   "cell_type": "code",
   "execution_count": 8,
   "metadata": {},
   "outputs": [],
   "source": [
    "# load model\n",
    "hf = HuggingFaceEmbeddings(\n",
    "    model_name=MODEL_ID,\n",
    "    model_kwargs={\"device\": \"cpu\"},\n",
    "    encode_kwargs=ENCODE_KWARGS,\n",
    ")"
   ]
  },
  {
   "cell_type": "code",
   "execution_count": 9,
   "metadata": {},
   "outputs": [
    {
     "name": "stderr",
     "output_type": "stream",
     "text": [
      "Batches: 100%|██████████| 25/25 [00:24<00:00,  1.02it/s]\n"
     ]
    },
    {
     "data": {
      "text/html": [
       "<div>\n",
       "<style scoped>\n",
       "    .dataframe tbody tr th:only-of-type {\n",
       "        vertical-align: middle;\n",
       "    }\n",
       "\n",
       "    .dataframe tbody tr th {\n",
       "        vertical-align: top;\n",
       "    }\n",
       "\n",
       "    .dataframe thead th {\n",
       "        text-align: right;\n",
       "    }\n",
       "</style>\n",
       "<table border=\"1\" class=\"dataframe\">\n",
       "  <thead>\n",
       "    <tr style=\"text-align: right;\">\n",
       "      <th></th>\n",
       "      <th>embed_0</th>\n",
       "      <th>embed_1</th>\n",
       "      <th>embed_2</th>\n",
       "      <th>embed_3</th>\n",
       "      <th>embed_4</th>\n",
       "      <th>embed_5</th>\n",
       "      <th>embed_6</th>\n",
       "      <th>embed_7</th>\n",
       "      <th>embed_8</th>\n",
       "      <th>embed_9</th>\n",
       "      <th>...</th>\n",
       "      <th>embed_374</th>\n",
       "      <th>embed_375</th>\n",
       "      <th>embed_376</th>\n",
       "      <th>embed_377</th>\n",
       "      <th>embed_378</th>\n",
       "      <th>embed_379</th>\n",
       "      <th>embed_380</th>\n",
       "      <th>embed_381</th>\n",
       "      <th>embed_382</th>\n",
       "      <th>embed_383</th>\n",
       "    </tr>\n",
       "  </thead>\n",
       "  <tbody>\n",
       "    <tr>\n",
       "      <th>http://arxiv.org/abs/2311.01425v1</th>\n",
       "      <td>-0.001384</td>\n",
       "      <td>-0.009538</td>\n",
       "      <td>0.033621</td>\n",
       "      <td>0.015548</td>\n",
       "      <td>0.049827</td>\n",
       "      <td>0.052703</td>\n",
       "      <td>0.042258</td>\n",
       "      <td>0.009232</td>\n",
       "      <td>-0.011007</td>\n",
       "      <td>-0.016927</td>\n",
       "      <td>...</td>\n",
       "      <td>-0.022196</td>\n",
       "      <td>-0.004897</td>\n",
       "      <td>-0.032707</td>\n",
       "      <td>0.004455</td>\n",
       "      <td>-0.017643</td>\n",
       "      <td>-0.007212</td>\n",
       "      <td>-0.065930</td>\n",
       "      <td>-0.036846</td>\n",
       "      <td>-0.000682</td>\n",
       "      <td>-0.009616</td>\n",
       "    </tr>\n",
       "    <tr>\n",
       "      <th>http://arxiv.org/abs/2311.01352v1</th>\n",
       "      <td>-0.002659</td>\n",
       "      <td>-0.010493</td>\n",
       "      <td>0.005734</td>\n",
       "      <td>0.018259</td>\n",
       "      <td>0.056982</td>\n",
       "      <td>0.040098</td>\n",
       "      <td>-0.018745</td>\n",
       "      <td>0.010841</td>\n",
       "      <td>0.017799</td>\n",
       "      <td>0.002271</td>\n",
       "      <td>...</td>\n",
       "      <td>0.024147</td>\n",
       "      <td>-0.013133</td>\n",
       "      <td>-0.048883</td>\n",
       "      <td>0.008194</td>\n",
       "      <td>-0.012212</td>\n",
       "      <td>0.048880</td>\n",
       "      <td>-0.050996</td>\n",
       "      <td>-0.051632</td>\n",
       "      <td>0.037865</td>\n",
       "      <td>-0.019642</td>\n",
       "    </tr>\n",
       "    <tr>\n",
       "      <th>http://arxiv.org/abs/2311.01241v1</th>\n",
       "      <td>-0.025940</td>\n",
       "      <td>-0.004279</td>\n",
       "      <td>-0.002302</td>\n",
       "      <td>-0.010307</td>\n",
       "      <td>0.044994</td>\n",
       "      <td>0.062084</td>\n",
       "      <td>-0.002210</td>\n",
       "      <td>0.006609</td>\n",
       "      <td>0.020242</td>\n",
       "      <td>-0.006194</td>\n",
       "      <td>...</td>\n",
       "      <td>-0.006990</td>\n",
       "      <td>-0.019892</td>\n",
       "      <td>-0.021326</td>\n",
       "      <td>-0.021109</td>\n",
       "      <td>0.002532</td>\n",
       "      <td>0.006111</td>\n",
       "      <td>-0.024448</td>\n",
       "      <td>-0.020554</td>\n",
       "      <td>0.012528</td>\n",
       "      <td>-0.004717</td>\n",
       "    </tr>\n",
       "    <tr>\n",
       "      <th>http://arxiv.org/abs/2311.01130v1</th>\n",
       "      <td>-0.038666</td>\n",
       "      <td>0.013733</td>\n",
       "      <td>0.005050</td>\n",
       "      <td>0.005592</td>\n",
       "      <td>0.002929</td>\n",
       "      <td>0.026078</td>\n",
       "      <td>-0.004111</td>\n",
       "      <td>-0.005976</td>\n",
       "      <td>0.033418</td>\n",
       "      <td>-0.019905</td>\n",
       "      <td>...</td>\n",
       "      <td>-0.029723</td>\n",
       "      <td>-0.032662</td>\n",
       "      <td>-0.027974</td>\n",
       "      <td>0.000945</td>\n",
       "      <td>0.003917</td>\n",
       "      <td>-0.009779</td>\n",
       "      <td>-0.032067</td>\n",
       "      <td>0.007589</td>\n",
       "      <td>0.006462</td>\n",
       "      <td>-0.008279</td>\n",
       "    </tr>\n",
       "    <tr>\n",
       "      <th>http://arxiv.org/abs/2311.01061v1</th>\n",
       "      <td>-0.015999</td>\n",
       "      <td>-0.018669</td>\n",
       "      <td>0.000763</td>\n",
       "      <td>-0.013080</td>\n",
       "      <td>0.023814</td>\n",
       "      <td>0.046864</td>\n",
       "      <td>0.060731</td>\n",
       "      <td>-0.004812</td>\n",
       "      <td>0.036577</td>\n",
       "      <td>-0.033680</td>\n",
       "      <td>...</td>\n",
       "      <td>-0.009631</td>\n",
       "      <td>0.009133</td>\n",
       "      <td>-0.049814</td>\n",
       "      <td>0.008142</td>\n",
       "      <td>-0.012620</td>\n",
       "      <td>0.073099</td>\n",
       "      <td>-0.062735</td>\n",
       "      <td>-0.003177</td>\n",
       "      <td>-0.027720</td>\n",
       "      <td>-0.001277</td>\n",
       "    </tr>\n",
       "  </tbody>\n",
       "</table>\n",
       "<p>5 rows × 384 columns</p>\n",
       "</div>"
      ],
      "text/plain": [
       "                                    embed_0   embed_1   embed_2   embed_3  \\\n",
       "http://arxiv.org/abs/2311.01425v1 -0.001384 -0.009538  0.033621  0.015548   \n",
       "http://arxiv.org/abs/2311.01352v1 -0.002659 -0.010493  0.005734  0.018259   \n",
       "http://arxiv.org/abs/2311.01241v1 -0.025940 -0.004279 -0.002302 -0.010307   \n",
       "http://arxiv.org/abs/2311.01130v1 -0.038666  0.013733  0.005050  0.005592   \n",
       "http://arxiv.org/abs/2311.01061v1 -0.015999 -0.018669  0.000763 -0.013080   \n",
       "\n",
       "                                    embed_4   embed_5   embed_6   embed_7  \\\n",
       "http://arxiv.org/abs/2311.01425v1  0.049827  0.052703  0.042258  0.009232   \n",
       "http://arxiv.org/abs/2311.01352v1  0.056982  0.040098 -0.018745  0.010841   \n",
       "http://arxiv.org/abs/2311.01241v1  0.044994  0.062084 -0.002210  0.006609   \n",
       "http://arxiv.org/abs/2311.01130v1  0.002929  0.026078 -0.004111 -0.005976   \n",
       "http://arxiv.org/abs/2311.01061v1  0.023814  0.046864  0.060731 -0.004812   \n",
       "\n",
       "                                    embed_8   embed_9  ...  embed_374  \\\n",
       "http://arxiv.org/abs/2311.01425v1 -0.011007 -0.016927  ...  -0.022196   \n",
       "http://arxiv.org/abs/2311.01352v1  0.017799  0.002271  ...   0.024147   \n",
       "http://arxiv.org/abs/2311.01241v1  0.020242 -0.006194  ...  -0.006990   \n",
       "http://arxiv.org/abs/2311.01130v1  0.033418 -0.019905  ...  -0.029723   \n",
       "http://arxiv.org/abs/2311.01061v1  0.036577 -0.033680  ...  -0.009631   \n",
       "\n",
       "                                   embed_375  embed_376  embed_377  embed_378  \\\n",
       "http://arxiv.org/abs/2311.01425v1  -0.004897  -0.032707   0.004455  -0.017643   \n",
       "http://arxiv.org/abs/2311.01352v1  -0.013133  -0.048883   0.008194  -0.012212   \n",
       "http://arxiv.org/abs/2311.01241v1  -0.019892  -0.021326  -0.021109   0.002532   \n",
       "http://arxiv.org/abs/2311.01130v1  -0.032662  -0.027974   0.000945   0.003917   \n",
       "http://arxiv.org/abs/2311.01061v1   0.009133  -0.049814   0.008142  -0.012620   \n",
       "\n",
       "                                   embed_379  embed_380  embed_381  embed_382  \\\n",
       "http://arxiv.org/abs/2311.01425v1  -0.007212  -0.065930  -0.036846  -0.000682   \n",
       "http://arxiv.org/abs/2311.01352v1   0.048880  -0.050996  -0.051632   0.037865   \n",
       "http://arxiv.org/abs/2311.01241v1   0.006111  -0.024448  -0.020554   0.012528   \n",
       "http://arxiv.org/abs/2311.01130v1  -0.009779  -0.032067   0.007589   0.006462   \n",
       "http://arxiv.org/abs/2311.01061v1   0.073099  -0.062735  -0.003177  -0.027720   \n",
       "\n",
       "                                   embed_383  \n",
       "http://arxiv.org/abs/2311.01425v1  -0.009616  \n",
       "http://arxiv.org/abs/2311.01352v1  -0.019642  \n",
       "http://arxiv.org/abs/2311.01241v1  -0.004717  \n",
       "http://arxiv.org/abs/2311.01130v1  -0.008279  \n",
       "http://arxiv.org/abs/2311.01061v1  -0.001277  \n",
       "\n",
       "[5 rows x 384 columns]"
      ]
     },
     "execution_count": 9,
     "metadata": {},
     "output_type": "execute_result"
    }
   ],
   "source": [
    "# compute embeddings\n",
    "embeddings = np.array(hf.embed_documents(df_data[\"abstract\"]))\n",
    "\n",
    "# store embeddings in a dataframe\n",
    "df_embed = pd.DataFrame(\n",
    "    data=embeddings, \n",
    "    columns=[f\"embed_{i}\" for i in range(embeddings.shape[1])],\n",
    "    index=df_data.index\n",
    ")\n",
    "\n",
    "# display\n",
    "df_embed.head()"
   ]
  },
  {
   "cell_type": "code",
   "execution_count": 10,
   "metadata": {},
   "outputs": [
    {
     "name": "stderr",
     "output_type": "stream",
     "text": [
      "c:\\Users\\mehdi\\miniconda3\\envs\\ai_news\\lib\\site-packages\\umap\\umap_.py:1943: UserWarning: n_jobs value -1 overridden to 1 by setting random_state. Use no seed for parallelism.\n",
      "  warn(f\"n_jobs value {self.n_jobs} overridden to 1 by setting random_state. Use no seed for parallelism.\")\n"
     ]
    }
   ],
   "source": [
    "df_umap, clustering = clustering_pipeline(\n",
    "    df_embed,\n",
    "    UMAP_KWARGS,\n",
    "    CLUSTERING_KWARGS,\n",
    "    random_state=123,\n",
    "    df_data=df_data,\n",
    ")"
   ]
  },
  {
   "cell_type": "code",
   "execution_count": 11,
   "metadata": {},
   "outputs": [
    {
     "data": {
      "application/vnd.plotly.v1+json": {
       "config": {
        "plotlyServerURL": "https://plot.ly"
       },
       "data": [
        {
         "customdata": [
          [
           "Deep Learning-Based Classification of Gamma Photon Interactions in Room-Temperature Semiconductor Radiation Detectors",
           "http://arxiv.org/abs/2311.00682v1"
          ],
          [
           "Runway Sign Classifier: A DAL C Certifiable Machine Learning System",
           "http://arxiv.org/abs/2310.06506v1"
          ],
          [
           "Neural Stochastic Differential Equations for Robust and Explainable Analysis of Electromagnetic Unintended Radiated Emissions",
           "http://arxiv.org/abs/2309.15386v1"
          ],
          [
           "When to Trust AI: Advances and Challenges for Certification of Neural Networks",
           "http://arxiv.org/abs/2309.11196v1"
          ],
          [
           "Improving Robustness via Tilted Exponential Layer: A Communication-Theoretic Perspective",
           "http://arxiv.org/abs/2311.01047v1"
          ]
         ],
         "hovertemplate": "cluster=-1<br>noise=1<br>umap_0=%{x}<br>umap_1=%{y}<br>title=%{customdata[0]}<br>ID=%{customdata[1]}<extra></extra>",
         "legendgroup": "-1, 1",
         "marker": {
          "color": "#636efa",
          "symbol": "diamond"
         },
         "mode": "markers",
         "name": "-1, 1",
         "orientation": "v",
         "showlegend": true,
         "type": "scatter",
         "x": [
          0.4215281009674072,
          0.49282407760620117,
          0.4216107130050659,
          0.49632975459098816,
          0.41554173827171326
         ],
         "xaxis": "x",
         "y": [
          0.4367908537387848,
          0.4914054870605469,
          0.4490959644317627,
          0.4899498224258423,
          0.4609954357147217
         ],
         "yaxis": "y"
        },
        {
         "customdata": [
          [
           "Regularized Shannon sampling formulas related to the special affine Fourier transform",
           "http://arxiv.org/abs/2311.00610v1"
          ],
          [
           "Fourier transforms and iterated function systems",
           "http://arxiv.org/abs/2311.00585v1"
          ],
          [
           "A simple range characterization for spherical mean transform in odd dimensions and its applications",
           "http://arxiv.org/abs/2310.20702v1"
          ],
          [
           "On the Hankel Transform of Bessel Functions on Complex Numbers and Explicit Spectral Formulae over the Gaussian Field",
           "http://arxiv.org/abs/2310.19480v1"
          ],
          [
           "Semigroups of transformations whose characters belong to a given semigroup",
           "http://arxiv.org/abs/2310.19414v1"
          ],
          [
           "The Roelcke Precompactness and Compactifications of Transformations Groups of Discrete Spaces and Homogeneous Chains",
           "http://arxiv.org/abs/2310.18570v1"
          ],
          [
           "New Fast Transform for Orthogonal Frequency Division Multiplexing",
           "http://arxiv.org/abs/2310.18064v1"
          ],
          [
           "Harmonic Berezin transform on half-space with vertical weights",
           "http://arxiv.org/abs/2310.17562v2"
          ],
          [
           "The limiting distribution of a random variable transformed by Chebyshev Polynomials",
           "http://arxiv.org/abs/2310.17039v1"
          ]
         ],
         "hovertemplate": "cluster=0<br>noise=0<br>umap_0=%{x}<br>umap_1=%{y}<br>title=%{customdata[0]}<br>ID=%{customdata[1]}<extra></extra>",
         "legendgroup": "0, 0",
         "marker": {
          "color": "#EF553B",
          "symbol": "circle"
         },
         "mode": "markers",
         "name": "0, 0",
         "orientation": "v",
         "showlegend": true,
         "type": "scatter",
         "x": [
          0.5669091939926147,
          0.5601916313171387,
          0.5577349066734314,
          0.5510833263397217,
          0.5496619343757629,
          0.5492292046546936,
          0.5810464024543762,
          0.5471897125244141,
          0.5532192587852478
         ],
         "xaxis": "x",
         "y": [
          0.0590384341776371,
          0.05015178397297859,
          0.050562676042318344,
          0.04466766119003296,
          0.042196620255708694,
          0.04187533259391785,
          0.07290375977754593,
          0.04135817661881447,
          0.05121776834130287
         ],
         "yaxis": "y"
        },
        {
         "customdata": [
          [
           "Learning impartial policies for sequential counterfactual explanations using Deep Reinforcement Learning",
           "http://arxiv.org/abs/2311.00523v1"
          ],
          [
           "Sample-Efficient and Safe Deep Reinforcement Learning via Reset Deep Ensemble Agents",
           "http://arxiv.org/abs/2310.20287v1"
          ],
          [
           "Data Market Design through Deep Learning",
           "http://arxiv.org/abs/2310.20096v1"
          ],
          [
           "Automaton Distillation: Neuro-Symbolic Transfer Learning for Deep Reinforcement Learning",
           "http://arxiv.org/abs/2310.19137v1"
          ],
          [
           "A hybrid deep learning method for finite-horizon mean-field game problems",
           "http://arxiv.org/abs/2310.18968v1"
          ],
          [
           "Deep Reinforcement Learning for Weapons to Targets Assignment in a Hypersonic strike",
           "http://arxiv.org/abs/2310.18509v1"
          ],
          [
           "Fair collaborative vehicle routing: A deep multi-agent reinforcement learning approach",
           "http://arxiv.org/abs/2310.17485v1"
          ],
          [
           "Solving large flexible job shop scheduling instances by generating a diverse set of scheduling policies with deep reinforcement learning",
           "http://arxiv.org/abs/2310.15706v1"
          ],
          [
           "Graph Attention-based Deep Reinforcement Learning for solving the Chinese Postman Problem with Load-dependent costs",
           "http://arxiv.org/abs/2310.15516v1"
          ],
          [
           "Diverse Priors for Deep Reinforcement Learning",
           "http://arxiv.org/abs/2310.14864v1"
          ],
          [
           "Rethinking Decision Transformer via Hierarchical Reinforcement Learning",
           "http://arxiv.org/abs/2311.00267v1"
          ],
          [
           "Transformer-based Live Update Generation for Soccer Matches from Microblog Posts",
           "http://arxiv.org/abs/2310.16368v1"
          ],
          [
           "Denoising Opponents Position in Partial Observation Environment",
           "http://arxiv.org/abs/2310.14553v1"
          ],
          [
           "Offline Reinforcement Learning for Optimizing Production Bidding Policies",
           "http://arxiv.org/abs/2310.09426v1"
          ],
          [
           "Sample Complexity of Neural Policy Mirror Descent for Policy Optimization on Low-Dimensional Manifolds",
           "http://arxiv.org/abs/2309.13915v1"
          ],
          [
           "Lifting the Veil: Unlocking the Power of Depth in Q-learning",
           "http://arxiv.org/abs/2310.17915v1"
          ],
          [
           "DNFS-VNE: Deep Neuro-Fuzzy System-Driven Virtual Network Embedding Algorithm",
           "http://arxiv.org/abs/2310.09078v1"
          ],
          [
           "BridgeHand2Vec Bridge Hand Representation",
           "http://arxiv.org/abs/2310.06624v1"
          ],
          [
           "Predictive auxiliary objectives in deep RL mimic learning in the brain",
           "http://arxiv.org/abs/2310.06089v1"
          ]
         ],
         "hovertemplate": "cluster=1<br>noise=0<br>umap_0=%{x}<br>umap_1=%{y}<br>title=%{customdata[0]}<br>ID=%{customdata[1]}<extra></extra>",
         "legendgroup": "1, 0",
         "marker": {
          "color": "#00cc96",
          "symbol": "circle"
         },
         "mode": "markers",
         "name": "1, 0",
         "orientation": "v",
         "showlegend": true,
         "type": "scatter",
         "x": [
          0.8397161960601807,
          0.8422032594680786,
          0.7923539280891418,
          0.8479494452476501,
          0.8048920631408691,
          0.8496955037117004,
          0.7885178923606873,
          0.7865718603134155,
          0.7875791192054749,
          0.8384191393852234,
          0.824737012386322,
          0.8050315380096436,
          0.8060799837112427,
          0.8011796474456787,
          0.8423509001731873,
          0.7907945513725281,
          0.7685268521308899,
          0.806404173374176,
          0.8591544032096863
         ],
         "xaxis": "x",
         "y": [
          0.9872545003890991,
          0.9871033430099487,
          0.9532178044319153,
          0.9807579517364502,
          0.9328224062919617,
          0.9853520393371582,
          0.9790769815444946,
          0.9957762360572815,
          0.9934397339820862,
          0.9915155172348022,
          1,
          0.8735225200653076,
          0.8846700191497803,
          0.9484195709228516,
          0.98182612657547,
          0.9517086148262024,
          0.9387083649635315,
          0.9045869708061218,
          0.9701918959617615
         ],
         "yaxis": "y"
        },
        {
         "customdata": [
          [
           "Deep Learning-Enabled Text Semantic Communication under Interference: An Empirical Study",
           "http://arxiv.org/abs/2310.19974v1"
          ],
          [
           "AdapINT: A Flexible and Adaptive In-Band Network Telemetry System Based on Deep Reinforcement Learning",
           "http://arxiv.org/abs/2310.19331v1"
          ],
          [
           "DESiRED -- Dynamic, Enhanced, and Smart iRED: A P4-AQM with Deep Reinforcement Learning and In-band Network Telemetry",
           "http://arxiv.org/abs/2310.18159v1"
          ],
          [
           "Adaptive Resource Management for Edge Network Slicing using Incremental Multi-Agent Deep Reinforcement Learning",
           "http://arxiv.org/abs/2310.17523v2"
          ],
          [
           "Orchestration of Emulator Assisted Mobile Edge Tuning for AI Foundation Models: A Multi-Agent Deep Reinforcement Learning Approach",
           "http://arxiv.org/abs/2310.17492v1"
          ],
          [
           "Mobile Traffic Prediction at the Edge through Distributed and Transfer Learning",
           "http://arxiv.org/abs/2310.14456v1"
          ],
          [
           "Causal Reasoning: Charting a Revolutionary Course for Next-Generation AI-Native Wireless Networks",
           "http://arxiv.org/abs/2309.13223v1"
          ]
         ],
         "hovertemplate": "cluster=2<br>noise=0<br>umap_0=%{x}<br>umap_1=%{y}<br>title=%{customdata[0]}<br>ID=%{customdata[1]}<extra></extra>",
         "legendgroup": "2, 0",
         "marker": {
          "color": "#ab63fa",
          "symbol": "circle"
         },
         "mode": "markers",
         "name": "2, 0",
         "orientation": "v",
         "showlegend": true,
         "type": "scatter",
         "x": [
          0.6905896067619324,
          0.69211745262146,
          0.6903835535049438,
          0.6889450550079346,
          0.715317964553833,
          0.6876702904701233,
          0.6894000172615051
         ],
         "xaxis": "x",
         "y": [
          0.973093569278717,
          0.9913276433944702,
          0.9904347658157349,
          0.9845359325408936,
          0.9898274540901184,
          0.9732312560081482,
          0.9720436334609985
         ],
         "yaxis": "y"
        },
        {
         "customdata": [
          [
           "Exploring Deep Learning Techniques for Glaucoma Detection: A Comprehensive Review",
           "http://arxiv.org/abs/2311.01425v1"
          ],
          [
           "A Robust Deep Learning Method with Uncertainty Estimation for the Pathological Classification of Renal Cell Carcinoma based on CT Images",
           "http://arxiv.org/abs/2311.00567v1"
          ],
          [
           "Feature-oriented Deep Learning Framework for Pulmonary Cone-beam CT (CBCT) Enhancement with Multi-task Customized Perceptual Loss",
           "http://arxiv.org/abs/2311.00412v1"
          ],
          [
           "View Classification and Object Detection in Cardiac Ultrasound to Localize Valves via Deep Learning",
           "http://arxiv.org/abs/2311.00068v1"
          ],
          [
           "Assessing and Enhancing Robustness of Deep Learning Models with Corruption Emulation in Digital Pathology",
           "http://arxiv.org/abs/2310.20427v1"
          ],
          [
           "Low-Dose CT Image Enhancement Using Deep Learning",
           "http://arxiv.org/abs/2310.20265v1"
          ],
          [
           "LinFlo-Net: A two-stage deep learning method to generate simulation ready meshes of the heart",
           "http://arxiv.org/abs/2310.20065v1"
          ],
          [
           "Predicting recovery following stroke: deep learning, multimodal data and feature selection using explainable AI",
           "http://arxiv.org/abs/2310.19174v1"
          ],
          [
           "Alzheimers Disease Diagnosis by Deep Learning Using MRI-Based Approaches",
           "http://arxiv.org/abs/2310.17755v1"
          ],
          [
           "A Deep Learning Approach to Teeth Segmentation and Orientation from Panoramic X-rays",
           "http://arxiv.org/abs/2310.17176v1"
          ],
          [
           "Technical Note: Feasibility of translating 3.0T-trained Deep-Learning Segmentation Models Out-of-the-Box on Low-Field MRI 0.55T Knee-MRI of Healthy Controls",
           "http://arxiv.org/abs/2310.17152v1"
          ],
          [
           "Real-time Neonatal Chest Sound Separation using Deep Learning",
           "http://arxiv.org/abs/2310.17116v1"
          ],
          [
           "Trust, but Verify: Robust Image Segmentation using Deep Learning",
           "http://arxiv.org/abs/2310.16999v2"
          ],
          [
           "Improving Performance in Colorectal Cancer Histology Decomposition using Deep and Ensemble Machine Learning",
           "http://arxiv.org/abs/2310.16954v1"
          ],
          [
           "Deep Learning Techniques for Cervical Cancer Diagnosis based on Pathology and Colposcopy Images",
           "http://arxiv.org/abs/2310.16662v1"
          ],
          [
           "Blip-Up Blip-Down Circular EPI (BUDA-cEPI) for Distortion-Free dMRI with Rapid Unrolled Deep Learning Reconstruction",
           "http://arxiv.org/abs/2310.15939v1"
          ],
          [
           "Deep Learning Models for Classification of COVID-19 Cases by Medical Images",
           "http://arxiv.org/abs/2310.16851v1"
          ],
          [
           "DeepVox and SAVE-CT: a contrast- and dose-independent 3D deep learning approach for thoracic aorta segmentation and aneurysm prediction using computed tomography scans",
           "http://arxiv.org/abs/2310.15328v1"
          ],
          [
           "Hybrid-Fusion Transformer for Multisequence MRI",
           "http://arxiv.org/abs/2311.01308v1"
          ],
          [
           "Learning A Multi-Task Transformer Via Unified And Customized Instruction Tuning For Chest Radiograph Interpretation",
           "http://arxiv.org/abs/2311.01092v1"
          ],
          [
           "What a Whole Slide Image Can Tell? Subtype-guided Masked Transformer for Pathological Image Captioning",
           "http://arxiv.org/abs/2310.20607v1"
          ],
          [
           "Muscle volume quantification: guiding transformers with anatomical priors",
           "http://arxiv.org/abs/2310.20355v1"
          ],
          [
           "MIST: Medical Image Segmentation Transformer with Convolutional Attention Mixing (CAM) Decoder",
           "http://arxiv.org/abs/2310.19898v1"
          ],
          [
           "HCT: Hybrid Convnet-Transformer for Parkinson's disease detection and severity prediction from gait",
           "http://arxiv.org/abs/2310.17078v1"
          ],
          [
           "One-dimensional convolutional neural network model for breast cancer subtypes classification and biochemical content evaluation using micro-FTIR hyperspectral images",
           "http://arxiv.org/abs/2310.15094v1"
          ],
          [
           "Pathologist-Like Explanations Unveiled: an Explainable Deep Learning System for White Blood Cell Classification",
           "http://arxiv.org/abs/2310.13279v1"
          ],
          [
           "VisionFM: a Multi-Modal Multi-Task Vision Foundation Model for Generalist Ophthalmic Artificial Intelligence",
           "http://arxiv.org/abs/2310.04992v1"
          ],
          [
           "Propagation and Attribution of Uncertainty in Medical Imaging Pipelines",
           "http://arxiv.org/abs/2309.16831v1"
          ],
          [
           "Gastro-Intestinal Tract Segmentation Using an Explainable 3D Unet",
           "http://arxiv.org/abs/2309.14474v1"
          ],
          [
           "Understanding Calibration of Deep Neural Networks for Medical Image Classification",
           "http://arxiv.org/abs/2309.13132v1"
          ],
          [
           "Signature Activation: A Sparse Signal View for Holistic Saliency",
           "http://arxiv.org/abs/2309.11443v1"
          ]
         ],
         "hovertemplate": "cluster=3<br>noise=0<br>umap_0=%{x}<br>umap_1=%{y}<br>title=%{customdata[0]}<br>ID=%{customdata[1]}<extra></extra>",
         "legendgroup": "3, 0",
         "marker": {
          "color": "#FFA15A",
          "symbol": "circle"
         },
         "mode": "markers",
         "name": "3, 0",
         "orientation": "v",
         "showlegend": true,
         "type": "scatter",
         "x": [
          0.8925479054450989,
          0.9673967957496643,
          0.9419252276420593,
          0.9600613117218018,
          0.9075967073440552,
          0.9383194446563721,
          0.97035813331604,
          0.9071555137634277,
          0.9094510674476624,
          0.9556325078010559,
          0.9622484445571899,
          0.9184659123420715,
          0.8853607177734375,
          0.9190095663070679,
          0.909115731716156,
          0.9592868685722351,
          0.951239287853241,
          0.9373676180839539,
          0.937029242515564,
          0.9478698372840881,
          0.9060574173927307,
          0.9516556859016418,
          0.934631884098053,
          0.9190000295639038,
          0.951602041721344,
          0.9164336323738098,
          0.8958653211593628,
          0.9689803123474121,
          0.9258655905723572,
          0.9596653580665588,
          0.9446244835853577
         ],
         "xaxis": "x",
         "y": [
          0.1402466595172882,
          0.06727283447980881,
          0.009319932200014591,
          0.021380173042416573,
          0.06628914177417755,
          0.0003236496413592249,
          0.017682619392871857,
          0.12625862658023834,
          0.12340500205755234,
          0.051090650260448456,
          0.05463477969169617,
          0.01800333522260189,
          0.06176462769508362,
          0.08234655112028122,
          0.08368925005197525,
          0.015055770054459572,
          0.06211474537849426,
          0,
          0.04841192066669464,
          0.025407884269952774,
          0.04833943396806717,
          0.05627772957086563,
          0.04488085210323334,
          0.11405603587627411,
          0.07651554048061371,
          0.08272553980350494,
          0.14241230487823486,
          0.04565657675266266,
          0.006010423414409161,
          0.05716411769390106,
          0.016670145094394684
         ],
         "yaxis": "y"
        },
        {
         "customdata": [
          [
           "DySurv: Dynamic Deep Learning Model for Survival Prediction in the ICU",
           "http://arxiv.org/abs/2310.18681v1"
          ],
          [
           "Generating Medical Instructions with Conditional Transformer",
           "http://arxiv.org/abs/2310.19727v1"
          ],
          [
           "Interpretable Predictive Models to Understand Risk Factors for Maternal and Fetal Outcomes",
           "http://arxiv.org/abs/2310.10203v1"
          ],
          [
           "QXAI: Explainable AI Framework for Quantitative Analysis in Patient Monitoring Systems",
           "http://arxiv.org/abs/2309.10293v2"
          ],
          [
           "Graph AI in Medicine",
           "http://arxiv.org/abs/2310.13767v1"
          ],
          [
           "An Interpretable Deep-Learning Framework for Predicting Hospital Readmissions From Electronic Health Records",
           "http://arxiv.org/abs/2310.10187v1"
          ]
         ],
         "hovertemplate": "cluster=4<br>noise=0<br>umap_0=%{x}<br>umap_1=%{y}<br>title=%{customdata[0]}<br>ID=%{customdata[1]}<extra></extra>",
         "legendgroup": "4, 0",
         "marker": {
          "color": "#19d3f3",
          "symbol": "circle"
         },
         "mode": "markers",
         "name": "4, 0",
         "orientation": "v",
         "showlegend": true,
         "type": "scatter",
         "x": [
          0.9968679547309875,
          1,
          0.9802314043045044,
          0.998038113117218,
          0.9964677095413208,
          0.9927265644073486
         ],
         "xaxis": "x",
         "y": [
          0.13534151017665863,
          0.14763282239437103,
          0.12944532930850983,
          0.14088863134384155,
          0.13956484198570251,
          0.1437254697084427
         ],
         "yaxis": "y"
        },
        {
         "customdata": [
          [
           "Inverse folding for antibody sequence design using deep learning",
           "http://arxiv.org/abs/2310.19513v1"
          ],
          [
           "Measuring arrangement and size distributions of flowing droplets in microchannels through deep learning",
           "http://arxiv.org/abs/2310.19374v1"
          ],
          [
           "Topological, or Non-topological? A Deep Learning Based Prediction",
           "http://arxiv.org/abs/2310.18907v1"
          ],
          [
           "Electrical Impedance Tomography: A Fair Comparative Study on Deep Learning and Analytic-based Approaches",
           "http://arxiv.org/abs/2310.18636v1"
          ],
          [
           "Deep Learning Enables Large Depth-of-Field Images for Sub-Diffraction-Limit Scanning Superlens Microscopy",
           "http://arxiv.org/abs/2310.17997v1"
          ],
          [
           "Spatio-temporal reconstruction of drop impact dynamics by means of color-coded glare points and deep learning",
           "http://arxiv.org/abs/2310.16009v1"
          ],
          [
           "Deep learning denoiser assisted roughness measurements extraction from thin resists with low Signal-to-Noise Ratio(SNR) SEM images: analysis with SMILE",
           "http://arxiv.org/abs/2310.14815v1"
          ],
          [
           "Transformable Super-Isostatic Crystals Self-Assembled from Segment Colloidal Rods",
           "http://arxiv.org/abs/2311.01160v1"
          ],
          [
           "Soliton equations: admitted solutions and invariances via Bäcklund transformations",
           "http://arxiv.org/abs/2310.20459v1"
          ],
          [
           "Free fermions with no Jordan-Wigner transformation",
           "http://arxiv.org/abs/2310.19897v1"
          ],
          [
           "Integration of persistent Laplacian and pre-trained transformer for protein solubility changes upon mutation",
           "http://arxiv.org/abs/2310.18760v1"
          ],
          [
           "Functional Group Induced Transformations in Stacking and Electron Structure in Mo2CTx/NiS Heterostructures",
           "http://arxiv.org/abs/2310.18579v1"
          ],
          [
           "Extra Time Dimension: Deriving Five-Dimensional Relativistic Space-Time Transformations, Kinematics, and Time-Dependent Non-Relativistic Quantum Mechanics Compactification",
           "http://arxiv.org/abs/2310.18120v1"
          ],
          [
           "Broadband CPW-based impedance-transformed Josephson parametric amplifier",
           "http://arxiv.org/abs/2310.17084v1"
          ],
          [
           "The Brans-Dicke field in Non-metricity gravity: Cosmological solutions and Conformal transformations",
           "http://arxiv.org/abs/2310.16357v1"
          ],
          [
           "The effects of cavitation position on the velocity of a laser-induced microjet extracted using explainable artificial intelligence",
           "http://arxiv.org/abs/2310.14734v1"
          ],
          [
           "Optimising the exchange of Majorana zero modes in a quantum nanowire network",
           "http://arxiv.org/abs/2310.13634v1"
          ],
          [
           "Rational design of oxide catalysts for OER with OC22",
           "http://arxiv.org/abs/2311.00784v1"
          ],
          [
           "Generative retrieval-augmented ontologic graph and multi-agent strategies for interpretive large language model-based materials design",
           "http://arxiv.org/abs/2310.19998v1"
          ],
          [
           "Structure discovery in Atomic Force Microscopy imaging of ice",
           "http://arxiv.org/abs/2310.17161v1"
          ],
          [
           "Machine-learning the phase diagram of a strongly-interacting Fermi gas",
           "http://arxiv.org/abs/2310.16006v1"
          ],
          [
           "ReLM: Leveraging Language Models for Enhanced Chemical Reaction Prediction",
           "http://arxiv.org/abs/2310.13590v1"
          ],
          [
           "On sparse regression, Lp-regularization, and automated model discovery",
           "http://arxiv.org/abs/2310.06872v1"
          ],
          [
           "PointGAT: A quantum chemical property prediction model integrating graph attention and 3D geometry",
           "http://arxiv.org/abs/2310.05217v1"
          ]
         ],
         "hovertemplate": "cluster=5<br>noise=0<br>umap_0=%{x}<br>umap_1=%{y}<br>title=%{customdata[0]}<br>ID=%{customdata[1]}<extra></extra>",
         "legendgroup": "5, 0",
         "marker": {
          "color": "#FF6692",
          "symbol": "circle"
         },
         "mode": "markers",
         "name": "5, 0",
         "orientation": "v",
         "showlegend": true,
         "type": "scatter",
         "x": [
          0.03997711464762688,
          0.02612544409930706,
          0.03534950315952301,
          0.09004319459199905,
          0.0754280611872673,
          0.035490114241838455,
          0.06531785428524017,
          0.004973414354026318,
          0.09440174698829651,
          0.08273575454950333,
          0.04685326665639877,
          0,
          0.08936784416437149,
          0.06019197404384613,
          0.09843554347753525,
          0.031631845980882645,
          0.04888063296675682,
          0.004474821500480175,
          0.11179642379283905,
          0.0008898374508135021,
          0.05225355178117752,
          0.09627681225538254,
          0.10936866700649261,
          0.03170216828584671
         ],
         "xaxis": "x",
         "y": [
          0.2982364892959595,
          0.33150821924209595,
          0.27114105224609375,
          0.3609752953052521,
          0.35805895924568176,
          0.3440559506416321,
          0.35673537850379944,
          0.3035397231578827,
          0.2302241027355194,
          0.2361738085746765,
          0.32037782669067383,
          0.29606619477272034,
          0.23434635996818542,
          0.24232831597328186,
          0.2341088056564331,
          0.3380346894264221,
          0.2522259056568146,
          0.29713910818099976,
          0.36471548676490784,
          0.30043312907218933,
          0.25514060258865356,
          0.34802088141441345,
          0.3640788793563843,
          0.29033488035202026
         ],
         "yaxis": "y"
        },
        {
         "customdata": [
          [
           "GIST: Generated Inputs Sets Transferability in Deep Learning",
           "http://arxiv.org/abs/2311.00801v1"
          ],
          [
           "Performance Optimization of Deep Learning Sparse Matrix Kernels on Intel Max Series GPU",
           "http://arxiv.org/abs/2311.00368v1"
          ],
          [
           "Unveiling Black-boxes: Explainable Deep Learning Models for Patent Classification",
           "http://arxiv.org/abs/2310.20478v1"
          ],
          [
           "Mathematical Introduction to Deep Learning: Methods, Implementations, and Theory",
           "http://arxiv.org/abs/2310.20360v1"
          ],
          [
           "TorchProbe: Fuzzing Dynamic Deep Learning Compilers",
           "http://arxiv.org/abs/2310.20078v1"
          ],
          [
           "Approximation Theory, Computing, and Deep Learning on the Wasserstein Space",
           "http://arxiv.org/abs/2310.19548v1"
          ],
          [
           "Software engineering for deep learning applications: usage of SWEng and MLops tools in GitHub repositories",
           "http://arxiv.org/abs/2310.19124v1"
          ],
          [
           "Differentiable Learning of Generalized Structured Matrices for Efficient Deep Neural Networks",
           "http://arxiv.org/abs/2310.18882v1"
          ],
          [
           "Analysis of the Generalization Error of deep learning based on Randomized Quasi-Monte Carlo for Solving Linear Kolmogorov PDEs",
           "http://arxiv.org/abs/2310.18100v1"
          ],
          [
           "Restoring the Broken Covenant Between Compilers and Deep Learning Accelerators",
           "http://arxiv.org/abs/2310.17912v1"
          ],
          [
           "This Reads Like That: Deep Learning for Interpretable Natural Language Processing",
           "http://arxiv.org/abs/2310.17010v1"
          ],
          [
           "Data Optimization in Deep Learning: A Survey",
           "http://arxiv.org/abs/2310.16499v1"
          ],
          [
           "Unknown Health States Recognition With Collective Decision Based Deep Learning Networks In Predictive Maintenance Applications",
           "http://arxiv.org/abs/2310.17670v1"
          ],
          [
           "A model for multi-attack classification to improve intrusion detection performance using deep learning approaches",
           "http://arxiv.org/abs/2310.16380v1"
          ],
          [
           "Breaking the Curse of Dimensionality in Deep Neural Networks by Learning Invariant Representations",
           "http://arxiv.org/abs/2310.16154v1"
          ],
          [
           "Online Signal Estimation on the Graph Edges via Line Graph Transformation",
           "http://arxiv.org/abs/2311.00656v1"
          ],
          [
           "Diversified Node Sampling based Hierarchical Transformer Pooling for Graph Representation Learning",
           "http://arxiv.org/abs/2310.20250v1"
          ],
          [
           "Blacksmith: Fast Adversarial Training of Vision Transformers via a Mixture of Single-step and Multi-step Methods",
           "http://arxiv.org/abs/2310.18975v1"
          ],
          [
           "Deep Transformed Gaussian Processes",
           "http://arxiv.org/abs/2310.18230v2"
          ],
          [
           "Negativity-preserving transforms of tuples of symmetric matrices",
           "http://arxiv.org/abs/2310.18041v1"
          ],
          [
           "Hessian Eigenvectors and Principal Component Analysis of Neural Network Weight Matrices",
           "http://arxiv.org/abs/2311.00452v1"
          ],
          [
           "A Unified Framework to Enforce, Discover, and Promote Symmetry in Machine Learning",
           "http://arxiv.org/abs/2311.00212v1"
          ],
          [
           "Stochastic Gradient Descent for Gaussian Processes Done Right",
           "http://arxiv.org/abs/2310.20581v1"
          ],
          [
           "CAFE: Conflict-Aware Feature-wise Explanations",
           "http://arxiv.org/abs/2310.20363v1"
          ],
          [
           "Interpretable Prototype-based Graph Information Bottleneck",
           "http://arxiv.org/abs/2310.19906v1"
          ],
          [
           "Grokking Tickets: Lottery Tickets Accelerate Grokking",
           "http://arxiv.org/abs/2310.19470v1"
          ],
          [
           "D4Explainer: In-Distribution GNN Explanations via Discrete Denoising Diffusion",
           "http://arxiv.org/abs/2310.19321v1"
          ],
          [
           "Proving Linear Mode Connectivity of Neural Networks via Optimal Transport",
           "http://arxiv.org/abs/2310.19103v1"
          ],
          [
           "How Well Do Feature-Additive Explainers Explain Feature-Additive Predictors?",
           "http://arxiv.org/abs/2310.18496v1"
          ],
          [
           "On Residual Minimization for PDEs: Failure of PINN, Modified Equation, and Implicit Bias",
           "http://arxiv.org/abs/2310.18201v1"
          ],
          [
           "Optimization dependent generalization bound for ReLU networks based on sensitivity in the tangent bundle",
           "http://arxiv.org/abs/2310.17378v1"
          ],
          [
           "Explainable Spatio-Temporal Graph Neural Networks",
           "http://arxiv.org/abs/2310.17149v1"
          ],
          [
           "Good regularity creates large learning rate implicit biases: edge of stability, balancing, and catapult",
           "http://arxiv.org/abs/2310.17087v1"
          ],
          [
           "Explanation-Based Training with Differentiable Insertion/Deletion Metric-Aware Regularizers",
           "http://arxiv.org/abs/2310.12553v2"
          ],
          [
           "Thin and Deep Gaussian Processes",
           "http://arxiv.org/abs/2310.11527v1"
          ],
          [
           "Exploring the Power of Graph Neural Networks in Solving Linear Optimization Problems",
           "http://arxiv.org/abs/2310.10603v1"
          ],
          [
           "Learning Transferable Conceptual Prototypes for Interpretable Unsupervised Domain Adaptation",
           "http://arxiv.org/abs/2310.08071v1"
          ],
          [
           "Why Does Sharpness-Aware Minimization Generalize Better Than SGD?",
           "http://arxiv.org/abs/2310.07269v1"
          ],
          [
           "Are GATs Out of Balance?",
           "http://arxiv.org/abs/2310.07235v2"
          ],
          [
           "AttributionLab: Faithfulness of Feature Attribution Under Controllable Environments",
           "http://arxiv.org/abs/2310.06514v1"
          ],
          [
           "SCAR: Power Side-Channel Analysis at RTL-Level",
           "http://arxiv.org/abs/2310.06257v1"
          ],
          [
           "Grokking as the Transition from Lazy to Rich Training Dynamics",
           "http://arxiv.org/abs/2310.06110v1"
          ],
          [
           "Grokking as Compression: A Nonlinear Complexity Perspective",
           "http://arxiv.org/abs/2310.05918v1"
          ],
          [
           "Why do autoencoders work?",
           "http://arxiv.org/abs/2310.02250v2"
          ],
          [
           "Towards Robust Fidelity for Evaluating Explainability of Graph Neural Networks",
           "http://arxiv.org/abs/2310.01820v1"
          ],
          [
           "On the Onset of Robust Overfitting in Adversarial Training",
           "http://arxiv.org/abs/2310.00607v1"
          ],
          [
           "Symmetry Leads to Structured Constraint of Learning",
           "http://arxiv.org/abs/2309.16932v1"
          ],
          [
           "ACGAN-GNNExplainer: Auxiliary Conditional Generative Explainer for Graph Neural Networks",
           "http://arxiv.org/abs/2309.16918v2"
          ],
          [
           "ONNXExplainer: an ONNX Based Generic Framework to Explain Neural Networks Using Shapley Values",
           "http://arxiv.org/abs/2309.16916v2"
          ],
          [
           "GInX-Eval: Towards In-Distribution Evaluation of Graph Neural Network Explanations",
           "http://arxiv.org/abs/2309.16223v1"
          ],
          [
           "Exploring Learned Representations of Neural Networks with Principal Component Analysis",
           "http://arxiv.org/abs/2309.15328v1"
          ],
          [
           "Arabic Sentiment Analysis with Noisy Deep Explainable Model",
           "http://arxiv.org/abs/2309.13731v1"
          ],
          [
           "Fantastic Generalization Measures are Nowhere to be Found",
           "http://arxiv.org/abs/2309.13658v1"
          ],
          [
           "Provably Robust and Plausible Counterfactual Explanations for Neural Networks via Robust Optimisation",
           "http://arxiv.org/abs/2309.12545v1"
          ],
          [
           "Nebula: Self-Attention for Dynamic Malware Analysis",
           "http://arxiv.org/abs/2310.10664v1"
          ],
          [
           "A Heterogeneous Graph-Based Multi-Task Learning for Fault Event Diagnosis in Smart Grid",
           "http://arxiv.org/abs/2309.09921v1"
          ],
          [
           "SmoothHess: ReLU Network Feature Interactions via Stein's Lemma",
           "http://arxiv.org/abs/2311.00858v1"
          ],
          [
           "Stochastic Configuration Machines: FPGA Implementation",
           "http://arxiv.org/abs/2310.19225v1"
          ],
          [
           "A U-turn on Double Descent: Rethinking Parameter Counting in Statistical Learning",
           "http://arxiv.org/abs/2310.18988v1"
          ],
          [
           "A minimax optimal control approach for robust neural ODEs",
           "http://arxiv.org/abs/2310.17584v1"
          ],
          [
           "Invariance Measures for Neural Networks",
           "http://arxiv.org/abs/2310.17404v1"
          ],
          [
           "Codebook Features: Sparse and Discrete Interpretability for Neural Networks",
           "http://arxiv.org/abs/2310.17230v1"
          ],
          [
           "Achieving Constraints in Neural Networks: A Stochastic Augmented Lagrangian Approach",
           "http://arxiv.org/abs/2310.16647v1"
          ],
          [
           "Instance-wise Linearization of Neural Network for Model Interpretation",
           "http://arxiv.org/abs/2310.16295v1"
          ],
          [
           "Graph Neural Networks with polynomial activations have limited expressivity",
           "http://arxiv.org/abs/2310.13139v1"
          ],
          [
           "To grok or not to grok: Disentangling generalization and memorization on corrupted algorithmic datasets",
           "http://arxiv.org/abs/2310.13061v1"
          ],
          [
           "An effective theory of collective deep learning",
           "http://arxiv.org/abs/2310.12802v1"
          ],
          [
           "MuseGNN: Interpretable and Convergent Graph Neural Network Layers at Scale",
           "http://arxiv.org/abs/2310.12457v1"
          ],
          [
           "Attribution Patching Outperforms Automated Circuit Discovery",
           "http://arxiv.org/abs/2310.10348v1"
          ],
          [
           "Hamming Encoder: Mining Discriminative k-mers for Discrete Sequence Classification",
           "http://arxiv.org/abs/2310.10321v2"
          ],
          [
           "Hypergraph Neural Networks through the Lens of Message Passing: A Common Perspective to Homophily and Architecture Design",
           "http://arxiv.org/abs/2310.07684v1"
          ],
          [
           "Going Beyond Neural Network Feature Similarity: The Network Feature Complexity and Its Interpretation Using Category Theory",
           "http://arxiv.org/abs/2310.06756v1"
          ],
          [
           "The Lattice Overparametrization Paradigm for the Machine Learning of Lattice Operators",
           "http://arxiv.org/abs/2310.06639v1"
          ],
          [
           "Aggregated f-average Neural Network for Interpretable Ensembling",
           "http://arxiv.org/abs/2310.05566v1"
          ],
          [
           "How Graph Neural Networks Learn: Lessons from Training Dynamics in Function Space",
           "http://arxiv.org/abs/2310.05105v1"
          ],
          [
           "Rethink Baseline of Integrated Gradients from the Perspective of Shapley Value",
           "http://arxiv.org/abs/2310.04821v2"
          ]
         ],
         "hovertemplate": "cluster=6<br>noise=0<br>umap_0=%{x}<br>umap_1=%{y}<br>title=%{customdata[0]}<br>ID=%{customdata[1]}<extra></extra>",
         "legendgroup": "6, 0",
         "marker": {
          "color": "#B6E880",
          "symbol": "circle"
         },
         "mode": "markers",
         "name": "6, 0",
         "orientation": "v",
         "showlegend": true,
         "type": "scatter",
         "x": [
          0.2540719211101532,
          0.4236428141593933,
          0.5633754134178162,
          0.3481016457080841,
          0.5050663352012634,
          0.3197985589504242,
          0.5189890265464783,
          0.3747823238372803,
          0.30664727091789246,
          0.49165353178977966,
          0.5916686654090881,
          0.379700630903244,
          0.39661988615989685,
          0.430867999792099,
          0.35743528604507446,
          0.44829320907592773,
          0.4398465156555176,
          0.4427050054073334,
          0.3280855715274811,
          0.29449817538261414,
          0.3686632812023163,
          0.31109198927879333,
          0.33395248651504517,
          0.30504152178764343,
          0.5771165490150452,
          0.23618313670158386,
          0.5665283203125,
          0.37335023283958435,
          0.517212450504303,
          0.30131253600120544,
          0.22467724978923798,
          0.5752929449081421,
          0.3792872130870819,
          0.5260218381881714,
          0.3390796184539795,
          0.39683014154434204,
          0.5964494943618774,
          0.39473849534988403,
          0.42779767513275146,
          0.29670149087905884,
          0.4922834038734436,
          0.24833929538726807,
          0.24071812629699707,
          0.23120422661304474,
          0.5648630261421204,
          0.44390684366226196,
          0.29177892208099365,
          0.5730850100517273,
          0.5177801251411438,
          0.5750704407691956,
          0.3330409526824951,
          0.606757640838623,
          0.2241632044315338,
          0.4688218832015991,
          0.44632604718208313,
          0.4236135482788086,
          0.3763761520385742,
          0.35495510697364807,
          0.36138638854026794,
          0.39629584550857544,
          0.303739458322525,
          0.3408525586128235,
          0.37989479303359985,
          0.30439385771751404,
          0.4594082236289978,
          0.22342246770858765,
          0.35884401202201843,
          0.43534985184669495,
          0.5278925895690918,
          0.3804246485233307,
          0.4454050660133362,
          0.30553704500198364,
          0.38321051001548767,
          0.2855533957481384,
          0.4245573580265045,
          0.25695565342903137
         ],
         "xaxis": "x",
         "y": [
          0.6996731162071228,
          0.6010709404945374,
          0.661790132522583,
          0.624493420124054,
          0.6050868630409241,
          0.60709148645401,
          0.5887889266014099,
          0.5984165668487549,
          0.60746169090271,
          0.5929070115089417,
          0.6323309540748596,
          0.6969375014305115,
          0.7139443159103394,
          0.7228018045425415,
          0.6711826920509338,
          0.6551380157470703,
          0.6746990084648132,
          0.5555390119552612,
          0.5489194393157959,
          0.6895877718925476,
          0.581757128238678,
          0.6776867508888245,
          0.5588926076889038,
          0.7254817485809326,
          0.6480346322059631,
          0.6977277994155884,
          0.6653550267219543,
          0.6156051158905029,
          0.6202656030654907,
          0.6005737781524658,
          0.7012402415275574,
          0.6511494517326355,
          0.6316530108451843,
          0.6339563727378845,
          0.5584147572517395,
          0.635919451713562,
          0.6278454065322876,
          0.6641682386398315,
          0.660802960395813,
          0.7267744541168213,
          0.5932773947715759,
          0.6891432404518127,
          0.6960397362709045,
          0.7073983550071716,
          0.6566947102546692,
          0.5594688057899475,
          0.6887050867080688,
          0.6649359464645386,
          0.6306055188179016,
          0.6654995679855347,
          0.7481141686439514,
          0.6189085245132446,
          0.700922429561615,
          0.5637251138687134,
          0.7220650911331177,
          0.6702613234519958,
          0.5627727508544922,
          0.613081693649292,
          0.596836507320404,
          0.5791330933570862,
          0.7154496312141418,
          0.7565897703170776,
          0.6776140332221985,
          0.7329546213150024,
          0.6606850028038025,
          0.7048541903495789,
          0.6708091497421265,
          0.6705998778343201,
          0.6344212293624878,
          0.7104489803314209,
          0.6777542233467102,
          0.7410884499549866,
          0.6387112140655518,
          0.7319366931915283,
          0.6630027890205383,
          0.7080124020576477
         ],
         "yaxis": "y"
        },
        {
         "customdata": [
          [
           "Peer-to-Peer Deep Learning for Beyond-5G IoT",
           "http://arxiv.org/abs/2310.18861v1"
          ],
          [
           "A Comprehensive Python Library for Deep Learning-Based Event Detection in Multivariate Time Series Data and Information Retrieval in NLP",
           "http://arxiv.org/abs/2310.16485v1"
          ],
          [
           "Graph Deep Learning for Time Series Forecasting",
           "http://arxiv.org/abs/2310.15978v1"
          ],
          [
           "Global Transformer Architecture for Indoor Room Temperature Forecasting",
           "http://arxiv.org/abs/2310.20476v1"
          ],
          [
           "A Systematic Review for Transformer-based Long-term Series Forecasting",
           "http://arxiv.org/abs/2310.20218v1"
          ],
          [
           "SolarFormer: Multi-scale Transformer for Solar PV Profiling",
           "http://arxiv.org/abs/2310.20057v1"
          ],
          [
           "Transfer Learning in Transformer-Based Demand Forecasting For Home Energy Management System",
           "http://arxiv.org/abs/2310.19159v1"
          ],
          [
           "Secure short-term load forecasting for smart grids with transformer-based federated learning",
           "http://arxiv.org/abs/2310.17477v1"
          ],
          [
           "Neural networks for insurance pricing with frequency and severity data: a benchmark study from data preprocessing to technical tariff",
           "http://arxiv.org/abs/2310.12671v2"
          ],
          [
           "Explainable Modeling for Wind Power Forecasting: A Glass-Box Approach with Exceptional Accuracy",
           "http://arxiv.org/abs/2310.18629v1"
          ],
          [
           "Inside the black box: Neural network-based real-time prediction of US recessions",
           "http://arxiv.org/abs/2310.17571v1"
          ],
          [
           "Few-Shot Learning Patterns in Financial Time-Series for Trend-Following Strategies",
           "http://arxiv.org/abs/2310.10500v1"
          ]
         ],
         "hovertemplate": "cluster=7<br>noise=0<br>umap_0=%{x}<br>umap_1=%{y}<br>title=%{customdata[0]}<br>ID=%{customdata[1]}<extra></extra>",
         "legendgroup": "7, 0",
         "marker": {
          "color": "#FF97FF",
          "symbol": "circle"
         },
         "mode": "markers",
         "name": "7, 0",
         "orientation": "v",
         "showlegend": true,
         "type": "scatter",
         "x": [
          0.548542857170105,
          0.5234562754631042,
          0.5225295424461365,
          0.5300351977348328,
          0.5326064229011536,
          0.5292689800262451,
          0.5316066741943359,
          0.5380061268806458,
          0.4498717486858368,
          0.5359260439872742,
          0.4739070236682892,
          0.49380290508270264
         ],
         "xaxis": "x",
         "y": [
          0.8856868147850037,
          0.8327547907829285,
          0.8104479312896729,
          0.8660693168640137,
          0.8506309986114502,
          0.8682386875152588,
          0.8686434030532837,
          0.87572181224823,
          0.7880741357803345,
          0.8582382202148438,
          0.806389331817627,
          0.8172473907470703
         ],
         "yaxis": "y"
        },
        {
         "customdata": [
          [
           "NetPanorama: A Declarative Grammar for Network Construction, Transformation, and Visualization",
           "http://arxiv.org/abs/2310.18902v1"
          ],
          [
           "The Innovation-to-Occupations Ontology: Linking Business Transformation Initiatives to Occupations and Skills",
           "http://arxiv.org/abs/2310.17909v1"
          ],
          [
           "TempME: Towards the Explainability of Temporal Graph Neural Networks via Motif Discovery",
           "http://arxiv.org/abs/2310.19324v1"
          ],
          [
           "Graph Agent: Explicit Reasoning Agent for Graphs",
           "http://arxiv.org/abs/2310.16421v1"
          ],
          [
           "DyExplainer: Explainable Dynamic Graph Neural Networks",
           "http://arxiv.org/abs/2310.16375v1"
          ],
          [
           "Accurate prediction of international trade flows: Leveraging knowledge graphs and their embeddings",
           "http://arxiv.org/abs/2310.11161v1"
          ],
          [
           "Disentangled Representation Learning with Large Language Models for Text-Attributed Graphs",
           "http://arxiv.org/abs/2310.18152v1"
          ],
          [
           "Beyond Text: A Deep Dive into Large Language Models' Ability on Understanding Graph Data",
           "http://arxiv.org/abs/2310.04944v1"
          ]
         ],
         "hovertemplate": "cluster=8<br>noise=0<br>umap_0=%{x}<br>umap_1=%{y}<br>title=%{customdata[0]}<br>ID=%{customdata[1]}<extra></extra>",
         "legendgroup": "8, 0",
         "marker": {
          "color": "#FECB52",
          "symbol": "circle"
         },
         "mode": "markers",
         "name": "8, 0",
         "orientation": "v",
         "showlegend": true,
         "type": "scatter",
         "x": [
          0.5463058352470398,
          0.5851587653160095,
          0.521051824092865,
          0.5748943090438843,
          0.5099814534187317,
          0.5753357410430908,
          0.5871521234512329,
          0.5793967247009277
         ],
         "xaxis": "x",
         "y": [
          0.7531585693359375,
          0.7655155658721924,
          0.7483333349227905,
          0.7551116943359375,
          0.7435662746429443,
          0.7649303674697876,
          0.7484585046768188,
          0.750190258026123
         ],
         "yaxis": "y"
        },
        {
         "customdata": [
          [
           "Deep learning based Image Compression for Microscopy Images: An Empirical Study",
           "http://arxiv.org/abs/2311.01352v1"
          ],
          [
           "Exploring Deep Learning Image Super-Resolution for Iris Recognition",
           "http://arxiv.org/abs/2311.01241v1"
          ],
          [
           "A Principled Hierarchical Deep Learning Approach to Joint Image Compression and Classification",
           "http://arxiv.org/abs/2310.19675v1"
          ],
          [
           "Deep Learning-based Compressed Domain Multimedia for Man and Machine: A Taxonomy and Application to Point Cloud Classification",
           "http://arxiv.org/abs/2310.18849v1"
          ],
          [
           "An Efficient Deep Learning-based approach for Recognizing Agricultural Pests in the Wild",
           "http://arxiv.org/abs/2310.16991v1"
          ],
          [
           "Single-pixel imaging based on deep learning",
           "http://arxiv.org/abs/2310.16869v1"
          ],
          [
           "Deep Learning for Plant Identification and Disease Classification from Leaf Images: Multi-prediction Approaches",
           "http://arxiv.org/abs/2310.16273v1"
          ],
          [
           "Salted Inference: Enhancing Privacy while Maintaining Efficiency of Split Inference in Mobile Computing",
           "http://arxiv.org/abs/2310.13384v1"
          ]
         ],
         "hovertemplate": "cluster=9<br>noise=0<br>umap_0=%{x}<br>umap_1=%{y}<br>title=%{customdata[0]}<br>ID=%{customdata[1]}<extra></extra>",
         "legendgroup": "9, 0",
         "marker": {
          "color": "#636efa",
          "symbol": "circle"
         },
         "mode": "markers",
         "name": "9, 0",
         "orientation": "v",
         "showlegend": true,
         "type": "scatter",
         "x": [
          0.5098577737808228,
          0.5197179913520813,
          0.5516389012336731,
          0.563136100769043,
          0.5000994801521301,
          0.4992842376232147,
          0.5024737119674683,
          0.571814775466919
         ],
         "xaxis": "x",
         "y": [
          0.417087197303772,
          0.40070128440856934,
          0.4335678219795227,
          0.42834022641181946,
          0.42361369729042053,
          0.4117041826248169,
          0.4259948134422302,
          0.4133886694908142
         ],
         "yaxis": "y"
        },
        {
         "customdata": [
          [
           "The stability of deep learning for 21cm foreground removal across various sky models and frequency-dependent systematics",
           "http://arxiv.org/abs/2311.00493v1"
          ],
          [
           "Deep-learning-based decomposition of overlapping-sparse images: application at the vertex of neutrino interactions",
           "http://arxiv.org/abs/2310.19695v1"
          ],
          [
           "Density Estimation for Entry Guidance Problems using Deep Learning",
           "http://arxiv.org/abs/2310.19684v1"
          ],
          [
           "The Power of Explainability in Forecast-Informed Deep Learning Models for Flood Mitigation",
           "http://arxiv.org/abs/2310.19166v1"
          ],
          [
           "Deep Learning on SAR Imagery: Transfer Learning Versus Randomly Initialized Weights",
           "http://arxiv.org/abs/2310.17126v1"
          ],
          [
           "Deep machine learning for meteor monitoring: advances with transfer learning and gradient-weighted class activation mapping",
           "http://arxiv.org/abs/2310.16826v2"
          ],
          [
           "Deep Learning Approach to Photometric Redshift Estimation",
           "http://arxiv.org/abs/2310.16304v1"
          ],
          [
           "Sea-Land-Cloud Segmentation in Satellite Hyperspectral Imagery by Deep Learning",
           "http://arxiv.org/abs/2310.16210v1"
          ],
          [
           "Physically Explainable Deep Learning for Convective Initiation Nowcasting Using GOES-16 Satellite Observations",
           "http://arxiv.org/abs/2310.16015v1"
          ],
          [
           "Super-resolved rainfall prediction with physics-aware deep learning",
           "http://arxiv.org/abs/2310.15615v1"
          ],
          [
           "Detecting Intentional AIS Shutdown in Open Sea Maritime Surveillance Using Self-Supervised Deep Learning",
           "http://arxiv.org/abs/2310.15586v1"
          ],
          [
           "Compact Binary Systems Waveform Generation with Generative Pre-trained Transformer",
           "http://arxiv.org/abs/2310.20172v1"
          ],
          [
           "Transformer-based nowcasting of radar composites from satellite images for severe weather",
           "http://arxiv.org/abs/2310.19515v1"
          ],
          [
           "Simulation-based Inference of Reionization Parameters from 3D Tomographic 21 cm Light-cone Images -- II: Application of Solid Harmonic Wavelet Scattering Transform",
           "http://arxiv.org/abs/2310.17602v1"
          ],
          [
           "Wave transformations near a coronal magnetic null-point",
           "http://arxiv.org/abs/2310.17573v1"
          ],
          [
           "Dark Energy Survey Year 3 results: simulation-based cosmological inference with wavelet harmonics, scattering transforms, and moments of weak lensing mass maps I: validation on simulations",
           "http://arxiv.org/abs/2310.17557v1"
          ],
          [
           "Transformer-based Atmospheric Density Forecasting",
           "http://arxiv.org/abs/2310.16912v1"
          ],
          [
           "Stochastic Latent Transformer: Efficient Modelling of Stochastically Forced Zonal Jets",
           "http://arxiv.org/abs/2310.16741v1"
          ],
          [
           "Explaining Deep Neural Networks for Bearing Fault Detection with Vibration Concepts",
           "http://arxiv.org/abs/2310.11450v1"
          ],
          [
           "Deep Learning in Deterministic Computational Mechanics",
           "http://arxiv.org/abs/2309.15421v1"
          ],
          [
           "Deep learning in bifurcations of particle trajectories",
           "http://arxiv.org/abs/2309.16727v1"
          ],
          [
           "Prediction of Tropical Pacific Rain Rates with Over-parameterized Neural Networks",
           "http://arxiv.org/abs/2309.14358v1"
          ],
          [
           "Learning-Initialized Trajectory Planning in Unknown Environments",
           "http://arxiv.org/abs/2309.10683v1"
          ],
          [
           "RPCANet: Deep Unfolding RPCA Based Infrared Small Target Detection",
           "http://arxiv.org/abs/2311.00917v1"
          ],
          [
           "Multi-level Gated Bayesian Recurrent Neural Network for State Estimation",
           "http://arxiv.org/abs/2310.17187v1"
          ],
          [
           "Optimal Transport-based Nonlinear Filtering in High-dimensional Settings",
           "http://arxiv.org/abs/2310.13886v1"
          ],
          [
           "Active Sensing for Localization with Reconfigurable Intelligent Surface",
           "http://arxiv.org/abs/2310.13160v1"
          ],
          [
           "Prediction and control of spatiotemporal chaos by learning conjugate tubular neighborhoods",
           "http://arxiv.org/abs/2310.12178v1"
          ],
          [
           "A Mass-Conserving-Perceptron for Machine Learning-Based Modeling of Geoscientific Systems",
           "http://arxiv.org/abs/2310.08644v2"
          ],
          [
           "Characterizing climate pathways using feature importance on echo state networks",
           "http://arxiv.org/abs/2310.08495v1"
          ],
          [
           "A Bayesian framework for discovering interpretable Lagrangian of dynamical systems from data",
           "http://arxiv.org/abs/2310.06241v1"
          ]
         ],
         "hovertemplate": "cluster=10<br>noise=0<br>umap_0=%{x}<br>umap_1=%{y}<br>title=%{customdata[0]}<br>ID=%{customdata[1]}<extra></extra>",
         "legendgroup": "10, 0",
         "marker": {
          "color": "#EF553B",
          "symbol": "circle"
         },
         "mode": "markers",
         "name": "10, 0",
         "orientation": "v",
         "showlegend": true,
         "type": "scatter",
         "x": [
          0.3145107626914978,
          0.3238435685634613,
          0.2993272840976715,
          0.21464304625988007,
          0.2653043568134308,
          0.31639036536216736,
          0.3066093623638153,
          0.2711080014705658,
          0.22905749082565308,
          0.23248128592967987,
          0.26002612709999084,
          0.31450355052948,
          0.2321576327085495,
          0.3127020597457886,
          0.2694563567638397,
          0.29824209213256836,
          0.2656441032886505,
          0.26242733001708984,
          0.1995992809534073,
          0.2003079503774643,
          0.21220578253269196,
          0.23075352609157562,
          0.31010201573371887,
          0.34209659695625305,
          0.2956562340259552,
          0.2825586497783661,
          0.30660420656204224,
          0.2293851375579834,
          0.20167914032936096,
          0.2307397872209549,
          0.19059669971466064
         ],
         "xaxis": "x",
         "y": [
          0.34376782178878784,
          0.34177476167678833,
          0.3990498185157776,
          0.39823466539382935,
          0.3518815338611603,
          0.3446623384952545,
          0.332923024892807,
          0.350419282913208,
          0.37876248359680176,
          0.38366779685020447,
          0.349648654460907,
          0.34190604090690613,
          0.3809971809387207,
          0.33162322640419006,
          0.3971397876739502,
          0.32678738236427307,
          0.39461028575897217,
          0.47666293382644653,
          0.4517464339733124,
          0.45228394865989685,
          0.4620606005191803,
          0.3821979761123657,
          0.40146443247795105,
          0.35807907581329346,
          0.4911791682243347,
          0.48535263538360596,
          0.3992069661617279,
          0.47203895449638367,
          0.41711655259132385,
          0.3806914985179901,
          0.43720316886901855
         ],
         "yaxis": "y"
        },
        {
         "customdata": [
          [
           "Leveraging Deep Learning for Abstractive Code Summarization of Unofficial Documentation",
           "http://arxiv.org/abs/2310.15015v1"
          ],
          [
           "Pretraining Data Mixtures Enable Narrow Model Selection Capabilities in Transformer Models",
           "http://arxiv.org/abs/2311.00871v1"
          ],
          [
           "Attention Alignment and Flexible Positional Embeddings Improve Transformer Length Extrapolation",
           "http://arxiv.org/abs/2311.00684v1"
          ],
          [
           "Syntactic Inductive Bias in Transformer Language Models: Especially Helpful for Low-Resource Languages?",
           "http://arxiv.org/abs/2311.00268v1"
          ],
          [
           "Transformers are Efficient In-Context Estimators for Wireless Communication",
           "http://arxiv.org/abs/2311.00226v1"
          ],
          [
           "Transformers as Recognizers of Formal Languages: A Survey on Expressivity",
           "http://arxiv.org/abs/2311.00208v1"
          ],
          [
           "A Transformer-Based Model With Self-Distillation for Multimodal Emotion Recognition in Conversations",
           "http://arxiv.org/abs/2310.20494v1"
          ],
          [
           "Causal Interpretation of Self-Attention in Pre-Trained Transformers",
           "http://arxiv.org/abs/2310.20307v1"
          ],
          [
           "Strategies to Harness the Transformers' Potential: UNSL at eRisk 2023",
           "http://arxiv.org/abs/2310.19970v1"
          ],
          [
           "The Impact of Depth and Width on Transformer Language Model Generalization",
           "http://arxiv.org/abs/2310.19956v1"
          ],
          [
           "Fusing Temporal Graphs into Transformers for Time-Sensitive Question Answering",
           "http://arxiv.org/abs/2310.19292v1"
          ],
          [
           "Pushdown Layers: Encoding Recursive Structure in Transformer Language Models",
           "http://arxiv.org/abs/2310.19089v1"
          ],
          [
           "Stacking the Odds: Transformer-Based Ensemble for AI-Generated Text Detection",
           "http://arxiv.org/abs/2310.18906v1"
          ],
          [
           "Prompt-Engineering and Transformer-based Question Generation and Evaluation",
           "http://arxiv.org/abs/2310.18867v1"
          ],
          [
           "TLM: Token-Level Masking for Transformers",
           "http://arxiv.org/abs/2310.18738v1"
          ],
          [
           "ASTormer: An AST Structure-aware Transformer Decoder for Text-to-SQL",
           "http://arxiv.org/abs/2310.18662v1"
          ],
          [
           "Transformers as Graph-to-Graph Models",
           "http://arxiv.org/abs/2310.17936v1"
          ],
          [
           "An Ensemble Method Based on the Combination of Transformers with Convolutional Neural Networks to Detect Artificially Generated Text",
           "http://arxiv.org/abs/2310.17312v1"
          ],
          [
           "Transformers Learn Higher-Order Optimization Methods for In-Context Learning: A Study with Linear Models",
           "http://arxiv.org/abs/2310.17086v1"
          ],
          [
           "Divide et Impera: Multi-Transformer Architectures for Complex NLP-Tasks",
           "http://arxiv.org/abs/2310.16897v1"
          ],
          [
           "ArTST: Arabic Text and Speech Transformer",
           "http://arxiv.org/abs/2310.16621v1"
          ],
          [
           "SMURF-THP: Score Matching-based UnceRtainty quantiFication for Transformer Hawkes Process",
           "http://arxiv.org/abs/2310.16336v1"
          ],
          [
           "Understanding Code Semantics: An Evaluation of Transformer Models in Summarization",
           "http://arxiv.org/abs/2310.16314v2"
          ],
          [
           "Longer Fixations, More Computation: Gaze-Guided Recurrent Neural Networks",
           "http://arxiv.org/abs/2311.00159v1"
          ],
          [
           "Improving Compositional Generalization Using Iterated Learning and Simplicial Embeddings",
           "http://arxiv.org/abs/2310.18777v1"
          ],
          [
           "Learning Repeatable Speech Embeddings Using An Intra-class Correlation Regularizer",
           "http://arxiv.org/abs/2310.17049v1"
          ],
          [
           "Context-Aware Prediction of User Engagement on Online Social Platforms",
           "http://arxiv.org/abs/2310.14533v1"
          ],
          [
           "Towards Harmful Erotic Content Detection through Coreference-Driven Contextual Analysis",
           "http://arxiv.org/abs/2310.14325v1"
          ],
          [
           "From Neural Activations to Concepts: A Survey on Explaining Concepts in Neural Networks",
           "http://arxiv.org/abs/2310.11884v1"
          ],
          [
           "On Coherence-based Predictors for Dense Query Performance Prediction",
           "http://arxiv.org/abs/2310.11405v1"
          ],
          [
           "Surveying the Landscape of Text Summarization with Deep Learning: A Comprehensive Review",
           "http://arxiv.org/abs/2310.09411v1"
          ],
          [
           "Copy Suppression: Comprehensively Understanding an Attention Head",
           "http://arxiv.org/abs/2310.04625v1"
          ],
          [
           "Taming Binarized Neural Networks and Mixed-Integer Programs",
           "http://arxiv.org/abs/2310.04469v1"
          ],
          [
           "Memoria: Hebbian Memory Architecture for Human-Like Sequential Processing",
           "http://arxiv.org/abs/2310.03052v1"
          ],
          [
           "Stand for Something or Fall for Everything: Predict Misinformation Spread with Stance-Aware Graph Neural Networks",
           "http://arxiv.org/abs/2310.02568v1"
          ],
          [
           "Learning to Receive Help: Intervention-Aware Concept Embedding Models",
           "http://arxiv.org/abs/2309.16928v2"
          ],
          [
           "On the Computational Complexity and Formal Hierarchy of Second Order Recurrent Neural Networks",
           "http://arxiv.org/abs/2309.14691v1"
          ],
          [
           "Augmenting deep neural networks with symbolic knowledge: Towards trustworthy and interpretable AI for education",
           "http://arxiv.org/abs/2311.00393v1"
          ],
          [
           "LILO: Learning Interpretable Libraries by Compressing and Documenting Code",
           "http://arxiv.org/abs/2310.19791v1"
          ],
          [
           "Interpretable-by-Design Text Classification with Iteratively Generated Concept Bottleneck",
           "http://arxiv.org/abs/2310.19660v1"
          ],
          [
           "1-PAGER: One Pass Answer Generation and Evidence Retrieval",
           "http://arxiv.org/abs/2310.16568v1"
          ],
          [
           "Probing Representations for Document-level Event Extraction",
           "http://arxiv.org/abs/2310.15316v1"
          ],
          [
           "Transparency at the Source: Evaluating and Interpreting Language Models With Access to the True Distribution",
           "http://arxiv.org/abs/2310.14840v1"
          ],
          [
           "Information Value: Measuring Utterance Predictability as Distance from Plausible Alternatives",
           "http://arxiv.org/abs/2310.13676v1"
          ],
          [
           "Repetition In Repetition Out: Towards Understanding Neural Text Degeneration from the Data Perspective",
           "http://arxiv.org/abs/2310.10226v1"
          ],
          [
           "Recurrent networks recognize patterns with low-dimensional oscillations",
           "http://arxiv.org/abs/2310.07908v1"
          ],
          [
           "NeuralFastLAS: Fast Logic-Based Learning from Raw Data",
           "http://arxiv.org/abs/2310.05145v1"
          ]
         ],
         "hovertemplate": "cluster=11<br>noise=0<br>umap_0=%{x}<br>umap_1=%{y}<br>title=%{customdata[0]}<br>ID=%{customdata[1]}<extra></extra>",
         "legendgroup": "11, 0",
         "marker": {
          "color": "#00cc96",
          "symbol": "circle"
         },
         "mode": "markers",
         "name": "11, 0",
         "orientation": "v",
         "showlegend": true,
         "type": "scatter",
         "x": [
          0.7607619166374207,
          0.7888813614845276,
          0.7950960993766785,
          0.8237450122833252,
          0.7862889766693115,
          0.7918935418128967,
          0.7508683800697327,
          0.7473092675209045,
          0.8238716721534729,
          0.806508481502533,
          0.7999857068061829,
          0.8073961138725281,
          0.8426752686500549,
          0.8425971865653992,
          0.8070717453956604,
          0.8029076457023621,
          0.7433112263679504,
          0.8465114235877991,
          0.7925415635108948,
          0.8218211531639099,
          0.8231871724128723,
          0.7759557962417603,
          0.7656305432319641,
          0.7339813709259033,
          0.803196370601654,
          0.7923558354377747,
          0.703961193561554,
          0.8304481506347656,
          0.6681905388832092,
          0.8001483082771301,
          0.7764955163002014,
          0.8441272974014282,
          0.6525092720985413,
          0.7655846476554871,
          0.7073912024497986,
          0.7068411111831665,
          0.6774801015853882,
          0.6595349907875061,
          0.7709434032440186,
          0.7610427141189575,
          0.8014959692955017,
          0.7918534874916077,
          0.7236348390579224,
          0.7604085803031921,
          0.8461481928825378,
          0.6709496974945068,
          0.6698026657104492
         ],
         "xaxis": "x",
         "y": [
          0.6966611742973328,
          0.6473101377487183,
          0.682170569896698,
          0.6388320922851562,
          0.6499706506729126,
          0.641943097114563,
          0.6037883758544922,
          0.6032517552375793,
          0.7320412993431091,
          0.6507543921470642,
          0.7187595963478088,
          0.6768075823783875,
          0.6909046173095703,
          0.6998278498649597,
          0.6719822883605957,
          0.7124593257904053,
          0.6349452137947083,
          0.7047982215881348,
          0.6573752164840698,
          0.6623392701148987,
          0.6325745582580566,
          0.6566141247749329,
          0.6885629892349243,
          0.7375308871269226,
          0.6320619583129883,
          0.6141947507858276,
          0.7531613707542419,
          0.7295116782188416,
          0.721968948841095,
          0.7574968338012695,
          0.739852249622345,
          0.6404802799224854,
          0.7059154510498047,
          0.6413825154304504,
          0.739273190498352,
          0.7582526206970215,
          0.7149530053138733,
          0.7355141639709473,
          0.6931191086769104,
          0.751813530921936,
          0.7252922058105469,
          0.7485288977622986,
          0.7178207039833069,
          0.729347288608551,
          0.6368780732154846,
          0.7178096175193787,
          0.7168434262275696
         ],
         "yaxis": "y"
        },
        {
         "customdata": [
          [
           "Video2Music: Suitable Music Generation from Videos using an Affective Multimodal Transformer model",
           "http://arxiv.org/abs/2311.00968v1"
          ],
          [
           "DCHT: Deep Complex Hybrid Transformer for Speech Enhancement",
           "http://arxiv.org/abs/2310.19602v1"
          ],
          [
           "DPATD: Dual-Phase Audio Transformer for Denoising",
           "http://arxiv.org/abs/2310.19588v1"
          ],
          [
           "Frequency-Aware Transformer for Learned Image Compression",
           "http://arxiv.org/abs/2310.16387v1"
          ],
          [
           "Dynamic Processing Neural Network Architecture For Hearing Loss Compensation",
           "http://arxiv.org/abs/2310.16550v1"
          ],
          [
           "High-Fidelity Noise Reduction with Differentiable Signal Processing",
           "http://arxiv.org/abs/2310.11364v1"
          ],
          [
           "Neural Harmonium: An Interpretable Deep Structure for Nonlinear Dynamic System Identification with Application to Audio Processing",
           "http://arxiv.org/abs/2310.07032v1"
          ]
         ],
         "hovertemplate": "cluster=12<br>noise=0<br>umap_0=%{x}<br>umap_1=%{y}<br>title=%{customdata[0]}<br>ID=%{customdata[1]}<extra></extra>",
         "legendgroup": "12, 0",
         "marker": {
          "color": "#ab63fa",
          "symbol": "circle"
         },
         "mode": "markers",
         "name": "12, 0",
         "orientation": "v",
         "showlegend": true,
         "type": "scatter",
         "x": [
          0.678542971611023,
          0.6706394553184509,
          0.6773461103439331,
          0.6537255048751831,
          0.6713645458221436,
          0.6783699989318848,
          0.6745902299880981
         ],
         "xaxis": "x",
         "y": [
          0.1495155543088913,
          0.1449326127767563,
          0.15016165375709534,
          0.18585221469402313,
          0.14334675669670105,
          0.14994683861732483,
          0.14644405245780945
         ],
         "yaxis": "y"
        },
        {
         "customdata": [
          [
           "A deep learning experiment for semantic segmentation of overlapping characters in palimpsests",
           "http://arxiv.org/abs/2311.01130v1"
          ],
          [
           "Deep Learning for real-time neural decoding of grasp",
           "http://arxiv.org/abs/2311.01061v1"
          ],
          [
           "Occluded Person Re-Identification with Deep Learning: A Survey and Perspectives",
           "http://arxiv.org/abs/2311.00603v1"
          ],
          [
           "Deep Neural Networks for Automatic Speaker Recognition Do Not Learn Supra-Segmental Temporal Features",
           "http://arxiv.org/abs/2311.00489v2"
          ],
          [
           "Space Narrative: Generating Images and 3D Scenes of Chinese Garden from Text using Deep Learning",
           "http://arxiv.org/abs/2311.00339v1"
          ],
          [
           "Deep Learning for Visual Navigation of Underwater Robots",
           "http://arxiv.org/abs/2310.19495v1"
          ],
          [
           "Modular Anti-noise Deep Learning Network for Robotic Grasp Detection Based on RGB Images",
           "http://arxiv.org/abs/2310.19223v1"
          ],
          [
           "Deep3DSketch+: Obtaining Customized 3D Model by Single Free-Hand Sketch through Deep Learning",
           "http://arxiv.org/abs/2310.18609v1"
          ],
          [
           "Deep Intrinsic Decomposition with Adversarial Learning for Hyperspectral Image Classification",
           "http://arxiv.org/abs/2310.18549v1"
          ],
          [
           "torchdistill Meets Hugging Face Libraries for Reproducible, Coding-Free Deep Learning Studies: A Case Study on NLP",
           "http://arxiv.org/abs/2310.17644v1"
          ],
          [
           "A multi-artifact EEG denoising by frequency-based deep learning",
           "http://arxiv.org/abs/2310.17335v1"
          ],
          [
           "An Explainable Deep Learning-Based Method For Schizophrenia Diagnosis Using Generative Data-Augmentation",
           "http://arxiv.org/abs/2310.16867v1"
          ],
          [
           "Learning Robust Deep Visual Representations from EEG Brain Recordings",
           "http://arxiv.org/abs/2310.16532v1"
          ],
          [
           "Pix2HDR -- A pixel-wise acquisition and deep learning-based synthesis approach for high-speed HDR videos",
           "http://arxiv.org/abs/2310.16139v1"
          ],
          [
           "LaksNet: an end-to-end deep learning model for self-driving cars in Udacity simulator",
           "http://arxiv.org/abs/2310.16103v1"
          ],
          [
           "Cross-feature Contrastive Loss for Decentralized Deep Learning on Heterogeneous Data",
           "http://arxiv.org/abs/2310.15890v2"
          ],
          [
           "NetDistiller: Empowering Tiny Deep Learning via In-Situ Distillation",
           "http://arxiv.org/abs/2310.19820v1"
          ],
          [
           "Transformation Decoupling Strategy based on Screw Theory for Deterministic Point Cloud Registration with Gravity Prior",
           "http://arxiv.org/abs/2311.01432v1"
          ],
          [
           "Efficient Vision Transformer for Accurate Traffic Sign Detection",
           "http://arxiv.org/abs/2311.01429v1"
          ],
          [
           "Scattering Vision Transformer: Spectral Mixing Matters",
           "http://arxiv.org/abs/2311.01310v1"
          ],
          [
           "Distilling Knowledge from CNN-Transformer Models for Enhanced Human Action Recognition",
           "http://arxiv.org/abs/2311.01283v1"
          ],
          [
           "M2T2: Multi-Task Masked Transformer for Object-centric Pick and Place",
           "http://arxiv.org/abs/2311.00926v1"
          ],
          [
           "PAUMER: Patch Pausing Transformer for Semantic Segmentation",
           "http://arxiv.org/abs/2311.00586v1"
          ],
          [
           "Improving Robustness for Vision Transformer with a Simple Dynamic Scanning Augmentation",
           "http://arxiv.org/abs/2311.00441v1"
          ],
          [
           "A Spatial-Temporal Transformer based Framework For Human Pose Assessment And Correction in Education Scenarios",
           "http://arxiv.org/abs/2311.00401v1"
          ],
          [
           "fMRI-PTE: A Large-scale fMRI Pretrained Transformer Encoder for Multi-Subject Brain Activity Decoding",
           "http://arxiv.org/abs/2311.00342v1"
          ],
          [
           "1DFormer: Learning 1D Landmark Representations via Transformer for Facial Landmark Tracking",
           "http://arxiv.org/abs/2311.00241v1"
          ],
          [
           "UWFormer: Underwater Image Enhancement via a Semi-Supervised Multi-Scale Transformer",
           "http://arxiv.org/abs/2310.20210v1"
          ],
          [
           "Partial Tensorized Transformers for Natural Language Processing",
           "http://arxiv.org/abs/2310.20077v1"
          ],
          [
           "Towards Few-Annotation Learning for Object Detection: Are Transformer-based Models More Efficient ?",
           "http://arxiv.org/abs/2310.19936v1"
          ],
          [
           "Transformation vs Tradition: Artificial General Intelligence (AGI) for Arts and Humanities",
           "http://arxiv.org/abs/2310.19626v1"
          ],
          [
           "Towards Grouping in Large Scenes with Occlusion-aware Spatio-temporal Transformers",
           "http://arxiv.org/abs/2310.19447v1"
          ],
          [
           "Analyzing Vision Transformers for Image Classification in Class Embedding Space",
           "http://arxiv.org/abs/2310.18969v1"
          ],
          [
           "Triplet Attention Transformer for Spatiotemporal Predictive Learning",
           "http://arxiv.org/abs/2310.18698v1"
          ],
          [
           "MultiScale Spectral-Spatial Convolutional Transformer for Hyperspectral Image Classification",
           "http://arxiv.org/abs/2310.18550v1"
          ],
          [
           "Fast Machine Learning Method with Vector Embedding on Orthonormal Basis and Spectral Transform",
           "http://arxiv.org/abs/2310.18424v1"
          ],
          [
           "ZeroQuant-HERO: Hardware-Enhanced Robust Optimized Post-Training Quantization Framework for W8A8 Transformers",
           "http://arxiv.org/abs/2310.17723v1"
          ],
          [
           "LLM-FP4: 4-Bit Floating-Point Quantized Transformers",
           "http://arxiv.org/abs/2310.16836v1"
          ],
          [
           "ConvNets Match Vision Transformers at Scale",
           "http://arxiv.org/abs/2310.16764v1"
          ],
          [
           "Video Referring Expression Comprehension via Transformer with Content-conditioned Query",
           "http://arxiv.org/abs/2310.16402v1"
          ],
          [
           "Dolfin: Diffusion Layout Transformers without Autoencoder",
           "http://arxiv.org/abs/2310.16305v1"
          ],
          [
           "MotionAGFormer: Enhancing 3D Human Pose Estimation with a Transformer-GCNFormer Network",
           "http://arxiv.org/abs/2310.16288v1"
          ],
          [
           "TransPose: 6D Object Pose Estimation with Geometry-Aware Transformer",
           "http://arxiv.org/abs/2310.16279v1"
          ],
          [
           "GraFT: Gradual Fusion Transformer for Multimodal Re-Identification",
           "http://arxiv.org/abs/2310.16856v1"
          ],
          [
           "Gray matter volume correlates of Comorbid Depression in Autism Spectrum Disorder",
           "http://arxiv.org/abs/2311.00997v1"
          ],
          [
           "Multimodal Representations for Teacher-Guided Compositional Visual Reasoning",
           "http://arxiv.org/abs/2310.15585v1"
          ],
          [
           "Recursive Segmentation Living Image: An eXplainable AI (XAI) Approach for Computing Structural Beauty of Images or the Livingness of Space",
           "http://arxiv.org/abs/2310.10149v1"
          ],
          [
           "LICO: Explainable Models with Language-Image Consistency",
           "http://arxiv.org/abs/2310.09821v1"
          ],
          [
           "Evaluating Explanation Methods for Vision-and-Language Navigation",
           "http://arxiv.org/abs/2310.06654v1"
          ],
          [
           "Do self-supervised speech and language models extract similar representations as human brain?",
           "http://arxiv.org/abs/2310.04645v1"
          ],
          [
           "Inferring Inference",
           "http://arxiv.org/abs/2310.03186v3"
          ],
          [
           "ViT-ReciproCAM: Gradient and Attention-Free Visual Explanations for Vision Transformer",
           "http://arxiv.org/abs/2310.02588v1"
          ],
          [
           "Improving Knowledge Distillation with Teacher's Explanation",
           "http://arxiv.org/abs/2310.02572v1"
          ],
          [
           "Counterfactual Image Generation for adversarially robust and interpretable Classifiers",
           "http://arxiv.org/abs/2310.00761v1"
          ],
          [
           "Black-box Attacks on Image Activity Prediction and its Natural Language Explanations",
           "http://arxiv.org/abs/2310.00503v1"
          ],
          [
           "Dynamic DAG Discovery for Interpretable Imitation Learning",
           "http://arxiv.org/abs/2310.00489v2"
          ],
          [
           "Symbolic Imitation Learning: From Black-Box to Explainable Driving Policies",
           "http://arxiv.org/abs/2309.16025v1"
          ],
          [
           "MindGPT: Interpreting What You See with Non-invasive Brain Recordings",
           "http://arxiv.org/abs/2309.15729v1"
          ],
          [
           "Spatial-frequency channels, shape bias, and adversarial robustness",
           "http://arxiv.org/abs/2309.13190v1"
          ],
          [
           "A Cognitively-Inspired Neural Architecture for Visual Abstract Reasoning Using Contrastive Perceptual and Conceptual Processing",
           "http://arxiv.org/abs/2309.10532v3"
          ],
          [
           "Explaining Agent Behavior with Large Language Models",
           "http://arxiv.org/abs/2309.10346v1"
          ],
          [
           "Interpretable Neural PDE Solvers using Symbolic Frameworks",
           "http://arxiv.org/abs/2310.20463v1"
          ],
          [
           "A Hybrid Graph Network for Complex Activity Detection in Video",
           "http://arxiv.org/abs/2310.17493v2"
          ],
          [
           "Interpretable time series neural representation for classification purposes",
           "http://arxiv.org/abs/2310.16696v1"
          ],
          [
           "One-hot Generalized Linear Model for Switching Brain State Discovery",
           "http://arxiv.org/abs/2310.15263v1"
          ],
          [
           "ESVAE: An Efficient Spiking Variational Autoencoder with Reparameterizable Poisson Spiking Sampling",
           "http://arxiv.org/abs/2310.14839v1"
          ],
          [
           "Spiking mode-based neural networks",
           "http://arxiv.org/abs/2310.14621v1"
          ],
          [
           "Personalized identification, prediction, and stimulation of neural oscillations via data-driven models of epileptic network dynamics",
           "http://arxiv.org/abs/2310.13480v1"
          ],
          [
           "Using Logic Programming and Kernel-Grouping for Improving Interpretability of Convolutional Neural Networks",
           "http://arxiv.org/abs/2310.13073v1"
          ],
          [
           "Multistable Perception, False Consensus, and Information Complements",
           "http://arxiv.org/abs/2310.11857v1"
          ],
          [
           "Identifying Interpretable Visual Features in Artificial and Biological Neural Systems",
           "http://arxiv.org/abs/2310.11431v2"
          ],
          [
           "Automated Natural Language Explanation of Deep Visual Neurons with Large Models",
           "http://arxiv.org/abs/2310.10708v1"
          ],
          [
           "Loci-Segmented: Improving Scene Segmentation Learning",
           "http://arxiv.org/abs/2310.10410v1"
          ],
          [
           "Reinforcement Learning for Reduced-order Models of Legged Robots",
           "http://arxiv.org/abs/2310.09873v1"
          ],
          [
           "What Do Deep Saliency Models Learn about Visual Attention?",
           "http://arxiv.org/abs/2310.09679v1"
          ],
          [
           "A Digital Language Coherence Marker for Monitoring Dementia",
           "http://arxiv.org/abs/2310.09623v1"
          ],
          [
           "Integrating Symbolic Reasoning into Neural Generative Models for Design Generation",
           "http://arxiv.org/abs/2310.09383v1"
          ],
          [
           "Neural activity in quarks language: Lattice Field Theory for a network of real neurons",
           "http://arxiv.org/abs/2310.09178v1"
          ],
          [
           "Towards Interpretable Controllability in Object-Centric Learning",
           "http://arxiv.org/abs/2310.08929v2"
          ],
          [
           "Dynamic Appearance Particle Neural Radiance Field",
           "http://arxiv.org/abs/2310.07916v1"
          ],
          [
           "Growing Brains: Co-emergence of Anatomical and Functional Modularity in Recurrent Neural Networks",
           "http://arxiv.org/abs/2310.07711v1"
          ],
          [
           "Deep Aramaic: Towards a Synthetic Data Paradigm Enabling Machine Learning in Epigraphy",
           "http://arxiv.org/abs/2310.07310v1"
          ],
          [
           "Energy-Efficient Visual Search by Eye Movement and Low-Latency Spiking Neural Network",
           "http://arxiv.org/abs/2310.06578v1"
          ],
          [
           "Fully Spiking Neural Network for Legged Robots",
           "http://arxiv.org/abs/2310.05022v1"
          ],
          [
           "Crystal: Introspective Reasoners Reinforced with Self-Feedback",
           "http://arxiv.org/abs/2310.04921v2"
          ]
         ],
         "hovertemplate": "cluster=13<br>noise=0<br>umap_0=%{x}<br>umap_1=%{y}<br>title=%{customdata[0]}<br>ID=%{customdata[1]}<extra></extra>",
         "legendgroup": "13, 0",
         "marker": {
          "color": "#FFA15A",
          "symbol": "circle"
         },
         "mode": "markers",
         "name": "13, 0",
         "orientation": "v",
         "showlegend": true,
         "type": "scatter",
         "x": [
          0.881193220615387,
          0.6439341306686401,
          0.7627642750740051,
          0.7751958966255188,
          0.8813281655311584,
          0.5878504514694214,
          0.6527086496353149,
          0.8084506392478943,
          0.5399598479270935,
          0.7072691321372986,
          0.7025210857391357,
          0.7130048871040344,
          0.7179355025291443,
          0.7556943297386169,
          0.7104491591453552,
          0.6392723321914673,
          0.6141366362571716,
          0.6448197364807129,
          0.6906185150146484,
          0.692995011806488,
          0.6687291264533997,
          0.6574757099151611,
          0.7270370125770569,
          0.6971313953399658,
          0.6497014164924622,
          0.7447851300239563,
          0.743619441986084,
          0.590461254119873,
          0.7465749979019165,
          0.6843993067741394,
          0.8620665669441223,
          0.7634173035621643,
          0.7128636837005615,
          0.7649042010307312,
          0.5514692664146423,
          0.7565451860427856,
          0.757393479347229,
          0.7654395699501038,
          0.6366938352584839,
          0.7229065299034119,
          0.8109105229377747,
          0.6546339392662048,
          0.6553237438201904,
          0.6956659555435181,
          0.8008621335029602,
          0.678024411201477,
          0.8518349528312683,
          0.7188534736633301,
          0.6070510149002075,
          0.7843830585479736,
          0.6866009831428528,
          0.7097422480583191,
          0.6443009376525879,
          0.5561907887458801,
          0.5602853298187256,
          0.7216481566429138,
          0.7156069278717041,
          0.7469779849052429,
          0.7462533712387085,
          0.6818463802337646,
          0.5970309972763062,
          0.5926103591918945,
          0.769446849822998,
          0.5994226932525635,
          0.6852680444717407,
          0.7224541306495667,
          0.6981385946273804,
          0.6928123831748962,
          0.6067221760749817,
          0.6828029751777649,
          0.692730188369751,
          0.6417919993400574,
          0.6891636848449707,
          0.7453662157058716,
          0.751493513584137,
          0.8059062361717224,
          0.8195658922195435,
          0.6831952929496765,
          0.6985101103782654,
          0.796642541885376,
          0.6859605312347412,
          0.8857720494270325,
          0.7452783584594727,
          0.7467032670974731,
          0.6492247581481934
         ],
         "xaxis": "x",
         "y": [
          0.48197901248931885,
          0.32553228735923767,
          0.39351722598075867,
          0.217026948928833,
          0.48131486773490906,
          0.25091347098350525,
          0.3741798400878906,
          0.450506329536438,
          0.281311571598053,
          0.44476115703582764,
          0.21386346220970154,
          0.21802788972854614,
          0.2234387993812561,
          0.44153329730033875,
          0.5310816764831543,
          0.485696405172348,
          0.48389920592308044,
          0.40701669454574585,
          0.4997327923774719,
          0.47553929686546326,
          0.4675501585006714,
          0.3833562731742859,
          0.48219165205955505,
          0.48275700211524963,
          0.41029635071754456,
          0.2274380922317505,
          0.42564651370048523,
          0.2407965362071991,
          0.49171018600463867,
          0.47086992859840393,
          0.4826774299144745,
          0.39916807413101196,
          0.45165425539016724,
          0.4101581275463104,
          0.2712220847606659,
          0.5033168792724609,
          0.5091613531112671,
          0.5154314637184143,
          0.48704662919044495,
          0.4732590317726135,
          0.4535050392150879,
          0.40480831265449524,
          0.4092383086681366,
          0.4668964445590973,
          0.21969176828861237,
          0.33633676171302795,
          0.4693810045719147,
          0.41043129563331604,
          0.31082671880722046,
          0.21992537379264832,
          0.2852993607521057,
          0.45702555775642395,
          0.47555071115493774,
          0.31327736377716064,
          0.3170589506626129,
          0.5524892807006836,
          0.5401397347450256,
          0.22633777558803558,
          0.30894696712493896,
          0.35433509945869446,
          0.31403136253356934,
          0.3510679602622986,
          0.40559127926826477,
          0.35709044337272644,
          0.27318739891052246,
          0.3075234889984131,
          0.3171374797821045,
          0.24750743806362152,
          0.3587806224822998,
          0.2813529968261719,
          0.2955337166786194,
          0.30857765674591064,
          0.4296353757381439,
          0.33805298805236816,
          0.3156644403934479,
          0.2114025056362152,
          0.45498567819595337,
          0.2652183771133423,
          0.435145765542984,
          0.44263213872909546,
          0.31640440225601196,
          0.48471787571907043,
          0.3143238127231598,
          0.3357906639575958,
          0.4575395882129669
         ],
         "yaxis": "y"
        },
        {
         "customdata": [
          [
           "Deep Compressed Learning for 3D Seismic Inversion",
           "http://arxiv.org/abs/2311.00107v1"
          ],
          [
           "Deep Learning for Spatiotemporal Big Data: A Vision on Opportunities and Challenges",
           "http://arxiv.org/abs/2310.19957v1"
          ],
          [
           "There Are No Data Like More Data- Datasets for Deep Learning in Earth Observation",
           "http://arxiv.org/abs/2310.19231v1"
          ],
          [
           "Multi-task deep learning for large-scale building detail extraction from high-resolution satellite imagery",
           "http://arxiv.org/abs/2310.18899v1"
          ],
          [
           "Resource-aware Research on Universe and Matter: Call-to-Action in Digital Transformation",
           "http://arxiv.org/abs/2311.01169v1"
          ],
          [
           "FaultSeg Swin-UNETR: Transformer-Based Self-Supervised Pretraining Model for Fault Recognition",
           "http://arxiv.org/abs/2310.17974v1"
          ],
          [
           "Trainable Noise Model as an XAI evaluation method: application on Sobol for remote sensing image segmentation",
           "http://arxiv.org/abs/2310.01828v1"
          ],
          [
           "Granularity at Scale: Estimating Neighborhood Well-Being from High-Resolution Orthographic Imagery and Hybrid Learning",
           "http://arxiv.org/abs/2309.16808v1"
          ],
          [
           "Unlocking the capabilities of explainable fewshot learning in remote sensing",
           "http://arxiv.org/abs/2310.08619v1"
          ],
          [
           "Geographic Location Encoding with Spherical Harmonics and Sinusoidal Representation Networks",
           "http://arxiv.org/abs/2310.06743v1"
          ]
         ],
         "hovertemplate": "cluster=14<br>noise=0<br>umap_0=%{x}<br>umap_1=%{y}<br>title=%{customdata[0]}<br>ID=%{customdata[1]}<extra></extra>",
         "legendgroup": "14, 0",
         "marker": {
          "color": "#19d3f3",
          "symbol": "circle"
         },
         "mode": "markers",
         "name": "14, 0",
         "orientation": "v",
         "showlegend": true,
         "type": "scatter",
         "x": [
          0.39295899868011475,
          0.43601134419441223,
          0.42575526237487793,
          0.4391477704048157,
          0.37617889046669006,
          0.3998434543609619,
          0.48804107308387756,
          0.4450778663158417,
          0.4488872289657593,
          0.4268314242362976
         ],
         "xaxis": "x",
         "y": [
          0.3025989830493927,
          0.28999951481819153,
          0.29246196150779724,
          0.28870025277137756,
          0.3086601495742798,
          0.3001726269721985,
          0.2986282706260681,
          0.2924792170524597,
          0.2923412621021271,
          0.2913565933704376
         ],
         "yaxis": "y"
        }
       ],
       "layout": {
        "legend": {
         "title": {
          "text": "cluster, noise"
         },
         "tracegroupgap": 0
        },
        "margin": {
         "t": 60
        },
        "template": {
         "data": {
          "bar": [
           {
            "error_x": {
             "color": "#2a3f5f"
            },
            "error_y": {
             "color": "#2a3f5f"
            },
            "marker": {
             "line": {
              "color": "#E5ECF6",
              "width": 0.5
             },
             "pattern": {
              "fillmode": "overlay",
              "size": 10,
              "solidity": 0.2
             }
            },
            "type": "bar"
           }
          ],
          "barpolar": [
           {
            "marker": {
             "line": {
              "color": "#E5ECF6",
              "width": 0.5
             },
             "pattern": {
              "fillmode": "overlay",
              "size": 10,
              "solidity": 0.2
             }
            },
            "type": "barpolar"
           }
          ],
          "carpet": [
           {
            "aaxis": {
             "endlinecolor": "#2a3f5f",
             "gridcolor": "white",
             "linecolor": "white",
             "minorgridcolor": "white",
             "startlinecolor": "#2a3f5f"
            },
            "baxis": {
             "endlinecolor": "#2a3f5f",
             "gridcolor": "white",
             "linecolor": "white",
             "minorgridcolor": "white",
             "startlinecolor": "#2a3f5f"
            },
            "type": "carpet"
           }
          ],
          "choropleth": [
           {
            "colorbar": {
             "outlinewidth": 0,
             "ticks": ""
            },
            "type": "choropleth"
           }
          ],
          "contour": [
           {
            "colorbar": {
             "outlinewidth": 0,
             "ticks": ""
            },
            "colorscale": [
             [
              0,
              "#0d0887"
             ],
             [
              0.1111111111111111,
              "#46039f"
             ],
             [
              0.2222222222222222,
              "#7201a8"
             ],
             [
              0.3333333333333333,
              "#9c179e"
             ],
             [
              0.4444444444444444,
              "#bd3786"
             ],
             [
              0.5555555555555556,
              "#d8576b"
             ],
             [
              0.6666666666666666,
              "#ed7953"
             ],
             [
              0.7777777777777778,
              "#fb9f3a"
             ],
             [
              0.8888888888888888,
              "#fdca26"
             ],
             [
              1,
              "#f0f921"
             ]
            ],
            "type": "contour"
           }
          ],
          "contourcarpet": [
           {
            "colorbar": {
             "outlinewidth": 0,
             "ticks": ""
            },
            "type": "contourcarpet"
           }
          ],
          "heatmap": [
           {
            "colorbar": {
             "outlinewidth": 0,
             "ticks": ""
            },
            "colorscale": [
             [
              0,
              "#0d0887"
             ],
             [
              0.1111111111111111,
              "#46039f"
             ],
             [
              0.2222222222222222,
              "#7201a8"
             ],
             [
              0.3333333333333333,
              "#9c179e"
             ],
             [
              0.4444444444444444,
              "#bd3786"
             ],
             [
              0.5555555555555556,
              "#d8576b"
             ],
             [
              0.6666666666666666,
              "#ed7953"
             ],
             [
              0.7777777777777778,
              "#fb9f3a"
             ],
             [
              0.8888888888888888,
              "#fdca26"
             ],
             [
              1,
              "#f0f921"
             ]
            ],
            "type": "heatmap"
           }
          ],
          "heatmapgl": [
           {
            "colorbar": {
             "outlinewidth": 0,
             "ticks": ""
            },
            "colorscale": [
             [
              0,
              "#0d0887"
             ],
             [
              0.1111111111111111,
              "#46039f"
             ],
             [
              0.2222222222222222,
              "#7201a8"
             ],
             [
              0.3333333333333333,
              "#9c179e"
             ],
             [
              0.4444444444444444,
              "#bd3786"
             ],
             [
              0.5555555555555556,
              "#d8576b"
             ],
             [
              0.6666666666666666,
              "#ed7953"
             ],
             [
              0.7777777777777778,
              "#fb9f3a"
             ],
             [
              0.8888888888888888,
              "#fdca26"
             ],
             [
              1,
              "#f0f921"
             ]
            ],
            "type": "heatmapgl"
           }
          ],
          "histogram": [
           {
            "marker": {
             "pattern": {
              "fillmode": "overlay",
              "size": 10,
              "solidity": 0.2
             }
            },
            "type": "histogram"
           }
          ],
          "histogram2d": [
           {
            "colorbar": {
             "outlinewidth": 0,
             "ticks": ""
            },
            "colorscale": [
             [
              0,
              "#0d0887"
             ],
             [
              0.1111111111111111,
              "#46039f"
             ],
             [
              0.2222222222222222,
              "#7201a8"
             ],
             [
              0.3333333333333333,
              "#9c179e"
             ],
             [
              0.4444444444444444,
              "#bd3786"
             ],
             [
              0.5555555555555556,
              "#d8576b"
             ],
             [
              0.6666666666666666,
              "#ed7953"
             ],
             [
              0.7777777777777778,
              "#fb9f3a"
             ],
             [
              0.8888888888888888,
              "#fdca26"
             ],
             [
              1,
              "#f0f921"
             ]
            ],
            "type": "histogram2d"
           }
          ],
          "histogram2dcontour": [
           {
            "colorbar": {
             "outlinewidth": 0,
             "ticks": ""
            },
            "colorscale": [
             [
              0,
              "#0d0887"
             ],
             [
              0.1111111111111111,
              "#46039f"
             ],
             [
              0.2222222222222222,
              "#7201a8"
             ],
             [
              0.3333333333333333,
              "#9c179e"
             ],
             [
              0.4444444444444444,
              "#bd3786"
             ],
             [
              0.5555555555555556,
              "#d8576b"
             ],
             [
              0.6666666666666666,
              "#ed7953"
             ],
             [
              0.7777777777777778,
              "#fb9f3a"
             ],
             [
              0.8888888888888888,
              "#fdca26"
             ],
             [
              1,
              "#f0f921"
             ]
            ],
            "type": "histogram2dcontour"
           }
          ],
          "mesh3d": [
           {
            "colorbar": {
             "outlinewidth": 0,
             "ticks": ""
            },
            "type": "mesh3d"
           }
          ],
          "parcoords": [
           {
            "line": {
             "colorbar": {
              "outlinewidth": 0,
              "ticks": ""
             }
            },
            "type": "parcoords"
           }
          ],
          "pie": [
           {
            "automargin": true,
            "type": "pie"
           }
          ],
          "scatter": [
           {
            "fillpattern": {
             "fillmode": "overlay",
             "size": 10,
             "solidity": 0.2
            },
            "type": "scatter"
           }
          ],
          "scatter3d": [
           {
            "line": {
             "colorbar": {
              "outlinewidth": 0,
              "ticks": ""
             }
            },
            "marker": {
             "colorbar": {
              "outlinewidth": 0,
              "ticks": ""
             }
            },
            "type": "scatter3d"
           }
          ],
          "scattercarpet": [
           {
            "marker": {
             "colorbar": {
              "outlinewidth": 0,
              "ticks": ""
             }
            },
            "type": "scattercarpet"
           }
          ],
          "scattergeo": [
           {
            "marker": {
             "colorbar": {
              "outlinewidth": 0,
              "ticks": ""
             }
            },
            "type": "scattergeo"
           }
          ],
          "scattergl": [
           {
            "marker": {
             "colorbar": {
              "outlinewidth": 0,
              "ticks": ""
             }
            },
            "type": "scattergl"
           }
          ],
          "scattermapbox": [
           {
            "marker": {
             "colorbar": {
              "outlinewidth": 0,
              "ticks": ""
             }
            },
            "type": "scattermapbox"
           }
          ],
          "scatterpolar": [
           {
            "marker": {
             "colorbar": {
              "outlinewidth": 0,
              "ticks": ""
             }
            },
            "type": "scatterpolar"
           }
          ],
          "scatterpolargl": [
           {
            "marker": {
             "colorbar": {
              "outlinewidth": 0,
              "ticks": ""
             }
            },
            "type": "scatterpolargl"
           }
          ],
          "scatterternary": [
           {
            "marker": {
             "colorbar": {
              "outlinewidth": 0,
              "ticks": ""
             }
            },
            "type": "scatterternary"
           }
          ],
          "surface": [
           {
            "colorbar": {
             "outlinewidth": 0,
             "ticks": ""
            },
            "colorscale": [
             [
              0,
              "#0d0887"
             ],
             [
              0.1111111111111111,
              "#46039f"
             ],
             [
              0.2222222222222222,
              "#7201a8"
             ],
             [
              0.3333333333333333,
              "#9c179e"
             ],
             [
              0.4444444444444444,
              "#bd3786"
             ],
             [
              0.5555555555555556,
              "#d8576b"
             ],
             [
              0.6666666666666666,
              "#ed7953"
             ],
             [
              0.7777777777777778,
              "#fb9f3a"
             ],
             [
              0.8888888888888888,
              "#fdca26"
             ],
             [
              1,
              "#f0f921"
             ]
            ],
            "type": "surface"
           }
          ],
          "table": [
           {
            "cells": {
             "fill": {
              "color": "#EBF0F8"
             },
             "line": {
              "color": "white"
             }
            },
            "header": {
             "fill": {
              "color": "#C8D4E3"
             },
             "line": {
              "color": "white"
             }
            },
            "type": "table"
           }
          ]
         },
         "layout": {
          "annotationdefaults": {
           "arrowcolor": "#2a3f5f",
           "arrowhead": 0,
           "arrowwidth": 1
          },
          "autotypenumbers": "strict",
          "coloraxis": {
           "colorbar": {
            "outlinewidth": 0,
            "ticks": ""
           }
          },
          "colorscale": {
           "diverging": [
            [
             0,
             "#8e0152"
            ],
            [
             0.1,
             "#c51b7d"
            ],
            [
             0.2,
             "#de77ae"
            ],
            [
             0.3,
             "#f1b6da"
            ],
            [
             0.4,
             "#fde0ef"
            ],
            [
             0.5,
             "#f7f7f7"
            ],
            [
             0.6,
             "#e6f5d0"
            ],
            [
             0.7,
             "#b8e186"
            ],
            [
             0.8,
             "#7fbc41"
            ],
            [
             0.9,
             "#4d9221"
            ],
            [
             1,
             "#276419"
            ]
           ],
           "sequential": [
            [
             0,
             "#0d0887"
            ],
            [
             0.1111111111111111,
             "#46039f"
            ],
            [
             0.2222222222222222,
             "#7201a8"
            ],
            [
             0.3333333333333333,
             "#9c179e"
            ],
            [
             0.4444444444444444,
             "#bd3786"
            ],
            [
             0.5555555555555556,
             "#d8576b"
            ],
            [
             0.6666666666666666,
             "#ed7953"
            ],
            [
             0.7777777777777778,
             "#fb9f3a"
            ],
            [
             0.8888888888888888,
             "#fdca26"
            ],
            [
             1,
             "#f0f921"
            ]
           ],
           "sequentialminus": [
            [
             0,
             "#0d0887"
            ],
            [
             0.1111111111111111,
             "#46039f"
            ],
            [
             0.2222222222222222,
             "#7201a8"
            ],
            [
             0.3333333333333333,
             "#9c179e"
            ],
            [
             0.4444444444444444,
             "#bd3786"
            ],
            [
             0.5555555555555556,
             "#d8576b"
            ],
            [
             0.6666666666666666,
             "#ed7953"
            ],
            [
             0.7777777777777778,
             "#fb9f3a"
            ],
            [
             0.8888888888888888,
             "#fdca26"
            ],
            [
             1,
             "#f0f921"
            ]
           ]
          },
          "colorway": [
           "#636efa",
           "#EF553B",
           "#00cc96",
           "#ab63fa",
           "#FFA15A",
           "#19d3f3",
           "#FF6692",
           "#B6E880",
           "#FF97FF",
           "#FECB52"
          ],
          "font": {
           "color": "#2a3f5f"
          },
          "geo": {
           "bgcolor": "white",
           "lakecolor": "white",
           "landcolor": "#E5ECF6",
           "showlakes": true,
           "showland": true,
           "subunitcolor": "white"
          },
          "hoverlabel": {
           "align": "left"
          },
          "hovermode": "closest",
          "mapbox": {
           "style": "light"
          },
          "paper_bgcolor": "white",
          "plot_bgcolor": "#E5ECF6",
          "polar": {
           "angularaxis": {
            "gridcolor": "white",
            "linecolor": "white",
            "ticks": ""
           },
           "bgcolor": "#E5ECF6",
           "radialaxis": {
            "gridcolor": "white",
            "linecolor": "white",
            "ticks": ""
           }
          },
          "scene": {
           "xaxis": {
            "backgroundcolor": "#E5ECF6",
            "gridcolor": "white",
            "gridwidth": 2,
            "linecolor": "white",
            "showbackground": true,
            "ticks": "",
            "zerolinecolor": "white"
           },
           "yaxis": {
            "backgroundcolor": "#E5ECF6",
            "gridcolor": "white",
            "gridwidth": 2,
            "linecolor": "white",
            "showbackground": true,
            "ticks": "",
            "zerolinecolor": "white"
           },
           "zaxis": {
            "backgroundcolor": "#E5ECF6",
            "gridcolor": "white",
            "gridwidth": 2,
            "linecolor": "white",
            "showbackground": true,
            "ticks": "",
            "zerolinecolor": "white"
           }
          },
          "shapedefaults": {
           "line": {
            "color": "#2a3f5f"
           }
          },
          "ternary": {
           "aaxis": {
            "gridcolor": "white",
            "linecolor": "white",
            "ticks": ""
           },
           "baxis": {
            "gridcolor": "white",
            "linecolor": "white",
            "ticks": ""
           },
           "bgcolor": "#E5ECF6",
           "caxis": {
            "gridcolor": "white",
            "linecolor": "white",
            "ticks": ""
           }
          },
          "title": {
           "x": 0.05
          },
          "xaxis": {
           "automargin": true,
           "gridcolor": "white",
           "linecolor": "white",
           "ticks": "",
           "title": {
            "standoff": 15
           },
           "zerolinecolor": "white",
           "zerolinewidth": 2
          },
          "yaxis": {
           "automargin": true,
           "gridcolor": "white",
           "linecolor": "white",
           "ticks": "",
           "title": {
            "standoff": 15
           },
           "zerolinecolor": "white",
           "zerolinewidth": 2
          }
         }
        },
        "xaxis": {
         "anchor": "y",
         "domain": [
          0,
          1
         ],
         "title": {
          "text": "umap_0"
         }
        },
        "yaxis": {
         "anchor": "x",
         "domain": [
          0,
          1
         ],
         "title": {
          "text": "umap_1"
         }
        }
       }
      }
     },
     "metadata": {},
     "output_type": "display_data"
    }
   ],
   "source": [
    "df_umap[\"cluster\"] = [str(elt) for elt in clustering.labels_]\n",
    "df_umap[\"noise\"] = [int(elt==-1) for elt in clustering.labels_]\n",
    "fig = px.scatter(\n",
    "    df_umap,\n",
    "    x=\"umap_0\",\n",
    "    y=\"umap_1\",\n",
    "    hover_data=[\n",
    "        \"title\",\n",
    "        \"ID\",\n",
    "    ],\n",
    "    color=\"cluster\",\n",
    "    symbol=\"noise\",\n",
    "    # color_continuous_scale=px.colors.qualitative.D3,\n",
    "    category_orders={\"cluster\": list(np.sort(pd.unique(clustering.labels_)).astype(str))},\n",
    ")\n",
    "fig.show()"
   ]
  },
  {
   "cell_type": "code",
   "execution_count": 12,
   "metadata": {},
   "outputs": [
    {
     "data": {
      "text/html": [
       "<div>\n",
       "<style scoped>\n",
       "    .dataframe tbody tr th:only-of-type {\n",
       "        vertical-align: middle;\n",
       "    }\n",
       "\n",
       "    .dataframe tbody tr th {\n",
       "        vertical-align: top;\n",
       "    }\n",
       "\n",
       "    .dataframe thead th {\n",
       "        text-align: right;\n",
       "    }\n",
       "</style>\n",
       "<table border=\"1\" class=\"dataframe\">\n",
       "  <thead>\n",
       "    <tr style=\"text-align: right;\">\n",
       "      <th></th>\n",
       "      <th>umap_0</th>\n",
       "      <th>umap_1</th>\n",
       "      <th>ID</th>\n",
       "      <th>title</th>\n",
       "      <th>abstract</th>\n",
       "      <th>date</th>\n",
       "      <th>category</th>\n",
       "      <th>cluster</th>\n",
       "      <th>noise</th>\n",
       "    </tr>\n",
       "  </thead>\n",
       "  <tbody>\n",
       "    <tr>\n",
       "      <th>0</th>\n",
       "      <td>0.892548</td>\n",
       "      <td>0.140247</td>\n",
       "      <td>http://arxiv.org/abs/2311.01425v1</td>\n",
       "      <td>Exploring Deep Learning Techniques for Glaucom...</td>\n",
       "      <td>Glaucoma is one of the primary causes of visio...</td>\n",
       "      <td>2023-11-02 17:39:40+00:00</td>\n",
       "      <td>eess.IV</td>\n",
       "      <td>3</td>\n",
       "      <td>0</td>\n",
       "    </tr>\n",
       "    <tr>\n",
       "      <th>1</th>\n",
       "      <td>0.509858</td>\n",
       "      <td>0.417087</td>\n",
       "      <td>http://arxiv.org/abs/2311.01352v1</td>\n",
       "      <td>Deep learning based Image Compression for Micr...</td>\n",
       "      <td>With the fast development of modern microscope...</td>\n",
       "      <td>2023-11-02 16:00:32+00:00</td>\n",
       "      <td>eess.IV</td>\n",
       "      <td>9</td>\n",
       "      <td>0</td>\n",
       "    </tr>\n",
       "    <tr>\n",
       "      <th>2</th>\n",
       "      <td>0.519718</td>\n",
       "      <td>0.400701</td>\n",
       "      <td>http://arxiv.org/abs/2311.01241v1</td>\n",
       "      <td>Exploring Deep Learning Image Super-Resolution...</td>\n",
       "      <td>In this work we test the ability of deep learn...</td>\n",
       "      <td>2023-11-02 13:57:48+00:00</td>\n",
       "      <td>eess.IV</td>\n",
       "      <td>9</td>\n",
       "      <td>0</td>\n",
       "    </tr>\n",
       "  </tbody>\n",
       "</table>\n",
       "</div>"
      ],
      "text/plain": [
       "     umap_0    umap_1                                 ID  \\\n",
       "0  0.892548  0.140247  http://arxiv.org/abs/2311.01425v1   \n",
       "1  0.509858  0.417087  http://arxiv.org/abs/2311.01352v1   \n",
       "2  0.519718  0.400701  http://arxiv.org/abs/2311.01241v1   \n",
       "\n",
       "                                               title  \\\n",
       "0  Exploring Deep Learning Techniques for Glaucom...   \n",
       "1  Deep learning based Image Compression for Micr...   \n",
       "2  Exploring Deep Learning Image Super-Resolution...   \n",
       "\n",
       "                                            abstract  \\\n",
       "0  Glaucoma is one of the primary causes of visio...   \n",
       "1  With the fast development of modern microscope...   \n",
       "2  In this work we test the ability of deep learn...   \n",
       "\n",
       "                        date category cluster  noise  \n",
       "0  2023-11-02 17:39:40+00:00  eess.IV       3      0  \n",
       "1  2023-11-02 16:00:32+00:00  eess.IV       9      0  \n",
       "2  2023-11-02 13:57:48+00:00  eess.IV       9      0  "
      ]
     },
     "execution_count": 12,
     "metadata": {},
     "output_type": "execute_result"
    }
   ],
   "source": [
    "df_umap.head(3)"
   ]
  },
  {
   "cell_type": "code",
   "execution_count": null,
   "metadata": {},
   "outputs": [],
   "source": []
  },
  {
   "cell_type": "markdown",
   "metadata": {},
   "source": [
    "## Summarize a cluster"
   ]
  },
  {
   "cell_type": "markdown",
   "metadata": {},
   "source": [
    "### Choose one cluster"
   ]
  },
  {
   "cell_type": "code",
   "execution_count": 69,
   "metadata": {},
   "outputs": [
    {
     "data": {
      "text/html": [
       "<pre style=\"white-space:pre;overflow-x:auto;line-height:normal;font-family:Menlo,'DejaVu Sans Mono',consolas,'Courier New',monospace\">Size of cluster n°<span style=\"color: #008080; text-decoration-color: #008080; font-weight: bold\">5</span>: <span style=\"color: #008080; text-decoration-color: #008080; font-weight: bold\">24</span>\n",
       "</pre>\n"
      ],
      "text/plain": [
       "Size of cluster n°\u001b[1;36m5\u001b[0m: \u001b[1;36m24\u001b[0m\n"
      ]
     },
     "metadata": {},
     "output_type": "display_data"
    },
    {
     "data": {
      "text/html": [
       "<div>\n",
       "<style scoped>\n",
       "    .dataframe tbody tr th:only-of-type {\n",
       "        vertical-align: middle;\n",
       "    }\n",
       "\n",
       "    .dataframe tbody tr th {\n",
       "        vertical-align: top;\n",
       "    }\n",
       "\n",
       "    .dataframe thead th {\n",
       "        text-align: right;\n",
       "    }\n",
       "</style>\n",
       "<table border=\"1\" class=\"dataframe\">\n",
       "  <thead>\n",
       "    <tr style=\"text-align: right;\">\n",
       "      <th></th>\n",
       "      <th>umap_0</th>\n",
       "      <th>umap_1</th>\n",
       "      <th>ID</th>\n",
       "      <th>title</th>\n",
       "      <th>abstract</th>\n",
       "      <th>date</th>\n",
       "      <th>category</th>\n",
       "      <th>cluster</th>\n",
       "      <th>noise</th>\n",
       "    </tr>\n",
       "  </thead>\n",
       "  <tbody>\n",
       "    <tr>\n",
       "      <th>31</th>\n",
       "      <td>0.039977</td>\n",
       "      <td>0.298236</td>\n",
       "      <td>http://arxiv.org/abs/2310.19513v1</td>\n",
       "      <td>Inverse folding for antibody sequence design u...</td>\n",
       "      <td>We consider the problem of antibody sequence d...</td>\n",
       "      <td>2023-10-30 13:12:41+00:00</td>\n",
       "      <td>q-bio.BM</td>\n",
       "      <td>5</td>\n",
       "      <td>0</td>\n",
       "    </tr>\n",
       "    <tr>\n",
       "      <th>33</th>\n",
       "      <td>0.026125</td>\n",
       "      <td>0.331508</td>\n",
       "      <td>http://arxiv.org/abs/2310.19374v1</td>\n",
       "      <td>Measuring arrangement and size distributions o...</td>\n",
       "      <td>In microfluidic systems, droplets undergo intr...</td>\n",
       "      <td>2023-10-30 09:29:39+00:00</td>\n",
       "      <td>physics.flu-dyn</td>\n",
       "      <td>5</td>\n",
       "      <td>0</td>\n",
       "    </tr>\n",
       "    <tr>\n",
       "      <th>42</th>\n",
       "      <td>0.035350</td>\n",
       "      <td>0.271141</td>\n",
       "      <td>http://arxiv.org/abs/2310.18907v1</td>\n",
       "      <td>Topological, or Non-topological? A Deep Learni...</td>\n",
       "      <td>Prediction and discovery of new materials with...</td>\n",
       "      <td>2023-10-29 05:29:49+00:00</td>\n",
       "      <td>cond-mat.mtrl-sci</td>\n",
       "      <td>5</td>\n",
       "      <td>0</td>\n",
       "    </tr>\n",
       "  </tbody>\n",
       "</table>\n",
       "</div>"
      ],
      "text/plain": [
       "      umap_0    umap_1                                 ID  \\\n",
       "31  0.039977  0.298236  http://arxiv.org/abs/2310.19513v1   \n",
       "33  0.026125  0.331508  http://arxiv.org/abs/2310.19374v1   \n",
       "42  0.035350  0.271141  http://arxiv.org/abs/2310.18907v1   \n",
       "\n",
       "                                                title  \\\n",
       "31  Inverse folding for antibody sequence design u...   \n",
       "33  Measuring arrangement and size distributions o...   \n",
       "42  Topological, or Non-topological? A Deep Learni...   \n",
       "\n",
       "                                             abstract  \\\n",
       "31  We consider the problem of antibody sequence d...   \n",
       "33  In microfluidic systems, droplets undergo intr...   \n",
       "42  Prediction and discovery of new materials with...   \n",
       "\n",
       "                         date           category cluster  noise  \n",
       "31  2023-10-30 13:12:41+00:00           q-bio.BM       5      0  \n",
       "33  2023-10-30 09:29:39+00:00    physics.flu-dyn       5      0  \n",
       "42  2023-10-29 05:29:49+00:00  cond-mat.mtrl-sci       5      0  "
      ]
     },
     "execution_count": 69,
     "metadata": {},
     "output_type": "execute_result"
    }
   ],
   "source": [
    "# choose one cluster\n",
    "cluster_idx = str(2)\n",
    "\n",
    "# retrieve data from chosen cluster\n",
    "df_cluster = df_umap.query(\"cluster==@cluster_idx\").copy()\n",
    "print(f\"Size of cluster n°{cluster_idx}: {df_cluster.shape[0]}\")\n",
    "df_cluster.head(3)"
   ]
  },
  {
   "cell_type": "markdown",
   "metadata": {},
   "source": [
    "### Load a model"
   ]
  },
  {
   "cell_type": "code",
   "execution_count": 14,
   "metadata": {},
   "outputs": [],
   "source": [
    "from langchain_community.llms import HuggingFacePipeline\n",
    "from transformers import pipeline\n",
    "\n",
    "model_kwargs = {\n",
    "    \"temperature\": 0.8,\n",
    "    \"do_sample\": True,\n",
    "    \"device\": device,\n",
    "    \"torch_dtype\": torch.bfloat16,\n",
    "}\n"
   ]
  },
  {
   "cell_type": "code",
   "execution_count": 16,
   "metadata": {},
   "outputs": [
    {
     "name": "stderr",
     "output_type": "stream",
     "text": [
      "config.json: 100%|██████████| 596/596 [00:00<?, ?B/s] \n",
      "c:\\Users\\mehdi\\miniconda3\\envs\\ai_news\\lib\\site-packages\\huggingface_hub\\file_download.py:149: UserWarning:\n",
      "\n",
      "`huggingface_hub` cache-system uses symlinks by default to efficiently store duplicated files but your machine does not support them in C:\\Users\\mehdi\\.cache\\huggingface\\hub\\models--mistralai--Mistral-7B-Instruct-v0.2. Caching files will still work but in a degraded version that might require more space on your disk. This warning can be disabled by setting the `HF_HUB_DISABLE_SYMLINKS_WARNING` environment variable. For more details, see https://huggingface.co/docs/huggingface_hub/how-to-cache#limitations.\n",
      "To support symlinks on Windows, you either need to activate Developer Mode or to run Python as an administrator. In order to see activate developer mode, see this article: https://docs.microsoft.com/en-us/windows/apps/get-started/enable-your-device-for-development\n",
      "\n",
      "model.safetensors.index.json: 100%|██████████| 25.1k/25.1k [00:00<00:00, 1.50MB/s]\n",
      "model-00001-of-00003.safetensors: 100%|██████████| 4.94G/4.94G [02:49<00:00, 29.1MB/s]\n",
      "model-00002-of-00003.safetensors: 100%|██████████| 5.00G/5.00G [02:53<00:00, 28.8MB/s]\n",
      "model-00003-of-00003.safetensors: 100%|██████████| 4.54G/4.54G [02:36<00:00, 29.0MB/s]\n",
      "Downloading shards: 100%|██████████| 3/3 [08:21<00:00, 167.14s/it]\n",
      "Loading checkpoint shards: 100%|██████████| 3/3 [00:04<00:00,  1.51s/it]\n",
      "generation_config.json: 100%|██████████| 111/111 [00:00<?, ?B/s] \n",
      "tokenizer_config.json: 100%|██████████| 1.46k/1.46k [00:00<?, ?B/s]\n",
      "tokenizer.model: 100%|██████████| 493k/493k [00:00<00:00, 430MB/s]\n",
      "tokenizer.json: 100%|██████████| 1.80M/1.80M [00:00<00:00, 2.39MB/s]\n",
      "special_tokens_map.json: 100%|██████████| 72.0/72.0 [00:00<?, ?B/s]\n"
     ]
    }
   ],
   "source": [
    "import torch\n",
    "from transformers import pipeline\n",
    "\n",
    "# pipe = pipeline(\"text-generation\", model=\"stabilityai/stablelm-zephyr-3b\", trust_remote_code=True, **model_kwargs)\n",
    "# pipe = pipeline(model=\"databricks/dolly-v2-3b\", torch_dtype=torch.bfloat16, trust_remote_code=True, device_map=\"auto\")\n",
    "# pipe = pipeline(\"text-generation\", model=\"Writer/camel-5b-hf\")\n",
    "# pipe = pipeline(\"text-generation\", model=\"mistralai/Mistral-7B-v0.1\", max_new_tokens=250, **model_kwargs)\n",
    "pipe = pipeline(\"text-generation\", model=\"mistralai/Mistral-7B-Instruct-v0.2\", max_new_tokens=250, **model_kwargs)\n",
    "\n",
    "hf = HuggingFacePipeline(pipeline=pipe)"
   ]
  },
  {
   "cell_type": "code",
   "execution_count": 27,
   "metadata": {},
   "outputs": [
    {
     "name": "stderr",
     "output_type": "stream",
     "text": [
      "Setting `pad_token_id` to `eos_token_id`:2 for open-end generation.\n"
     ]
    },
    {
     "data": {
      "text/html": [
       "<pre style=\"white-space:pre;overflow-x:auto;line-height:normal;font-family:Menlo,'DejaVu Sans Mono',consolas,'Courier New',monospace\"><span style=\"color: #800080; text-decoration-color: #800080; font-weight: bold\">LLMResult</span><span style=\"font-weight: bold\">(</span>\n",
       "    <span style=\"color: #808000; text-decoration-color: #808000\">generations</span>=<span style=\"font-weight: bold\">[</span>\n",
       "        <span style=\"font-weight: bold\">[</span>\n",
       "            <span style=\"color: #800080; text-decoration-color: #800080; font-weight: bold\">Generation</span><span style=\"font-weight: bold\">(</span>\n",
       "                <span style=\"color: #808000; text-decoration-color: #808000\">text</span>=<span style=\"color: #008000; text-decoration-color: #008000\">\" I'm an assistant designed to help answer questions, provide information, and complete tasks.</span>\n",
       "<span style=\"color: #008000; text-decoration-color: #008000\">I don't have the ability to feel emotions or form personal relationships, but I'm here to make your life easier.\"</span>\n",
       "            <span style=\"font-weight: bold\">)</span>\n",
       "        <span style=\"font-weight: bold\">]</span>\n",
       "    <span style=\"font-weight: bold\">]</span>,\n",
       "    <span style=\"color: #808000; text-decoration-color: #808000\">llm_output</span>=<span style=\"color: #800080; text-decoration-color: #800080; font-style: italic\">None</span>,\n",
       "    <span style=\"color: #808000; text-decoration-color: #808000\">run</span>=<span style=\"font-weight: bold\">[</span><span style=\"color: #800080; text-decoration-color: #800080; font-weight: bold\">RunInfo</span><span style=\"font-weight: bold\">(</span><span style=\"color: #808000; text-decoration-color: #808000\">run_id</span>=<span style=\"color: #800080; text-decoration-color: #800080; font-weight: bold\">UUID</span><span style=\"font-weight: bold\">(</span><span style=\"color: #008000; text-decoration-color: #008000\">'489a080e-509d-41f0-9569-ab502cdff600'</span><span style=\"font-weight: bold\">))]</span>\n",
       "<span style=\"font-weight: bold\">)</span>\n",
       "</pre>\n"
      ],
      "text/plain": [
       "\u001b[1;35mLLMResult\u001b[0m\u001b[1m(\u001b[0m\n",
       "    \u001b[33mgenerations\u001b[0m=\u001b[1m[\u001b[0m\n",
       "        \u001b[1m[\u001b[0m\n",
       "            \u001b[1;35mGeneration\u001b[0m\u001b[1m(\u001b[0m\n",
       "                \u001b[33mtext\u001b[0m=\u001b[32m\" I'm an assistant designed to help answer questions, provide information, and complete tasks.\u001b[0m\n",
       "\u001b[32mI don't have the ability to feel emotions or form personal relationships, but I'm here to make your life easier.\"\u001b[0m\n",
       "            \u001b[1m)\u001b[0m\n",
       "        \u001b[1m]\u001b[0m\n",
       "    \u001b[1m]\u001b[0m,\n",
       "    \u001b[33mllm_output\u001b[0m=\u001b[3;35mNone\u001b[0m,\n",
       "    \u001b[33mrun\u001b[0m=\u001b[1m[\u001b[0m\u001b[1;35mRunInfo\u001b[0m\u001b[1m(\u001b[0m\u001b[33mrun_id\u001b[0m=\u001b[1;35mUUID\u001b[0m\u001b[1m(\u001b[0m\u001b[32m'489a080e-509d-41f0-9569-ab502cdff600'\u001b[0m\u001b[1m)\u001b[0m\u001b[1m)\u001b[0m\u001b[1m]\u001b[0m\n",
       "\u001b[1m)\u001b[0m\n"
      ]
     },
     "metadata": {},
     "output_type": "display_data"
    }
   ],
   "source": [
    "# try model/pipeline inference with the `generate` method\n",
    "hf.pipeline.max_new_tokens = 20\n",
    "gen = hf.generate(\n",
    "    [\"[INST] Tell me who you are. Answer in less than 50 words.[/INST]\"], \n",
    ")\n",
    "print(gen)"
   ]
  },
  {
   "cell_type": "code",
   "execution_count": 61,
   "metadata": {},
   "outputs": [
    {
     "name": "stderr",
     "output_type": "stream",
     "text": [
      "C:\\Users\\mehdi\\AppData\\Roaming\\Python\\Python310\\site-packages\\transformers\\pipelines\\base.py:1101: UserWarning:\n",
      "\n",
      "You seem to be using the pipelines sequentially on GPU. In order to maximize efficiency please use a dataset\n",
      "\n",
      "Setting `pad_token_id` to `eos_token_id`:2 for open-end generation.\n"
     ]
    },
    {
     "data": {
      "text/html": [
       "<pre style=\"white-space:pre;overflow-x:auto;line-height:normal;font-family:Menlo,'DejaVu Sans Mono',consolas,'Courier New',monospace\">I'm an artificial intelligence designed to assist and communicate with users, answer queries, provide information, \n",
       "and perform tasks. I don't have feelings or emotions, but I can process vast amounts of data and learn from \n",
       "interactions.\n",
       "</pre>\n"
      ],
      "text/plain": [
       "I'm an artificial intelligence designed to assist and communicate with users, answer queries, provide information, \n",
       "and perform tasks. I don't have feelings or emotions, but I can process vast amounts of data and learn from \n",
       "interactions.\n"
      ]
     },
     "metadata": {},
     "output_type": "display_data"
    }
   ],
   "source": [
    "# try model/pipeline inference with the `predict` method\n",
    "prompt = \"\"\"\n",
    "    <s>[INST] Tell me who you are. Answer in less than 50 words.\n",
    "    [/INST]\n",
    "\"\"\"\n",
    "\n",
    "pred = hf.predict(\n",
    "    prompt, \n",
    ")\n",
    "print(pred)"
   ]
  },
  {
   "cell_type": "code",
   "execution_count": 62,
   "metadata": {},
   "outputs": [
    {
     "data": {
      "text/plain": [
       "(44, 36)"
      ]
     },
     "execution_count": 62,
     "metadata": {},
     "output_type": "execute_result"
    }
   ],
   "source": [
    "hf.get_num_tokens(pred), len(pred.split(\" \"))"
   ]
  },
  {
   "cell_type": "code",
   "execution_count": null,
   "metadata": {},
   "outputs": [],
   "source": []
  },
  {
   "cell_type": "code",
   "execution_count": null,
   "metadata": {},
   "outputs": [],
   "source": []
  },
  {
   "cell_type": "markdown",
   "metadata": {},
   "source": [
    "### Stuffing"
   ]
  },
  {
   "cell_type": "code",
   "execution_count": 70,
   "metadata": {},
   "outputs": [],
   "source": [
    "from langchain.chains.summarize import load_summarize_chain\n",
    "from langchain_community.document_loaders import WebBaseLoader\n",
    "from langchain.schema.document import Document\n",
    "\n",
    "\n",
    "docs = [\n",
    "    Document(\n",
    "        page_content=f\"Article n°{i} -- {row['abstract']}\",\n",
    "        metadata=row.to_dict(),\n",
    "    )\n",
    "    for i, row in df_cluster.iterrows()\n",
    "]"
   ]
  },
  {
   "cell_type": "code",
   "execution_count": 71,
   "metadata": {},
   "outputs": [
    {
     "name": "stderr",
     "output_type": "stream",
     "text": [
      "C:\\Users\\mehdi\\AppData\\Roaming\\Python\\Python310\\site-packages\\transformers\\pipelines\\base.py:1101: UserWarning:\n",
      "\n",
      "You seem to be using the pipelines sequentially on GPU. In order to maximize efficiency please use a dataset\n",
      "\n",
      "Setting `pad_token_id` to `eos_token_id`:2 for open-end generation.\n"
     ]
    },
    {
     "data": {
      "text/html": [
       "<pre style=\"white-space:pre;overflow-x:auto;line-height:normal;font-family:Menlo,'DejaVu Sans Mono',consolas,'Courier New',monospace\"> This set of articles explores various applications of advanced technologies such as deep learning, quantum \n",
       "computing, and machine learning in different scientific fields. Some articles focus on improving the accuracy and \n",
       "efficiency of material discovery, while others investigate the behavior of fluids in microchannels or the \n",
       "reconstruction of the spatio-temporal dynamics of gas-liquid interfaces. There are also studies on enhancing the \n",
       "performance of quantum chemical property prediction models and the use of neural networks for automatic model \n",
       "discovery in material modeling. Overall, these articles highlight the potential of innovative technologies to \n",
       "address complex scientific challenges and push the boundaries of current knowledge.\n",
       "</pre>\n"
      ],
      "text/plain": [
       " This set of articles explores various applications of advanced technologies such as deep learning, quantum \n",
       "computing, and machine learning in different scientific fields. Some articles focus on improving the accuracy and \n",
       "efficiency of material discovery, while others investigate the behavior of fluids in microchannels or the \n",
       "reconstruction of the spatio-temporal dynamics of gas-liquid interfaces. There are also studies on enhancing the \n",
       "performance of quantum chemical property prediction models and the use of neural networks for automatic model \n",
       "discovery in material modeling. Overall, these articles highlight the potential of innovative technologies to \n",
       "address complex scientific challenges and push the boundaries of current knowledge.\n"
      ]
     },
     "metadata": {},
     "output_type": "display_data"
    }
   ],
   "source": [
    "# Define prompt\n",
    "prompt_template = \"\"\"<s>[INST]You will be provided with a list of scientific paper abstracts that you must summarize.\n",
    "Write a concise summary which focuses on the theme of the provided group of papers.\n",
    "Here is the list of abtracts:\n",
    "\"{text}\"\n",
    "CONCISE SUMMARY: [/INST]\"\"\"\n",
    "prompt = PromptTemplate.from_template(prompt_template)\n",
    "\n",
    "# Define LLM chain\n",
    "llm_chain = LLMChain(llm=hf, prompt=prompt)\n",
    "\n",
    "# Define StuffDocumentsChain\n",
    "stuff_chain = StuffDocumentsChain(llm_chain=llm_chain, document_variable_name=\"text\")\n",
    "\n",
    "print(stuff_chain.run(docs))"
   ]
  },
  {
   "cell_type": "code",
   "execution_count": 72,
   "metadata": {},
   "outputs": [
    {
     "data": {
      "text/html": [
       "<pre style=\"white-space:pre;overflow-x:auto;line-height:normal;font-family:Menlo,'DejaVu Sans Mono',consolas,'Courier New',monospace\"><span style=\"font-weight: bold\">[</span>\n",
       "    <span style=\"color: #008000; text-decoration-color: #008000\">'We consider the problem of antibody sequence design given 3D structural\\ninformation. Building on previous </span>\n",
       "<span style=\"color: #008000; text-decoration-color: #008000\">work, we propose a fine-tuned inverse folding\\nmodel that is specifically optimised for antibody structures and </span>\n",
       "<span style=\"color: #008000; text-decoration-color: #008000\">outperforms\\ngeneric protein models on sequence recovery and structure robustness when\\napplied on antibodies, with</span>\n",
       "<span style=\"color: #008000; text-decoration-color: #008000\">notable improvement on the hypervariable CDR-H3\\nloop. We study the canonical conformations of </span>\n",
       "<span style=\"color: #008000; text-decoration-color: #008000\">complementarity-determining\\nregions and find improved encoding of these loops into known clusters. Finally,\\nwe </span>\n",
       "<span style=\"color: #008000; text-decoration-color: #008000\">consider the applications of our model to drug discovery and binder design\\nand evaluate the quality of proposed </span>\n",
       "<span style=\"color: #008000; text-decoration-color: #008000\">sequences using physics-based methods.'</span>,\n",
       "    <span style=\"color: #008000; text-decoration-color: #008000\">'In microfluidic systems, droplets undergo intricate deformations as they\\ntraverse flow-focusing junctions, </span>\n",
       "<span style=\"color: #008000; text-decoration-color: #008000\">posing a challenging task for accurate\\nmeasurement, especially during short transit times. This study investigates</span>\n",
       "<span style=\"color: #008000; text-decoration-color: #008000\">the\\nphysical behavior of droplets within dense emulsions in diverse microchannel\\ngeometries, specifically </span>\n",
       "<span style=\"color: #008000; text-decoration-color: #008000\">focusing on the impact of varying opening angles\\nwithin the primary channel and injection rates of fluid </span>\n",
       "<span style=\"color: #008000; text-decoration-color: #008000\">components. Employing a\\nsophisticated droplet tracking tool based on deep-learning techniques, we\\nanalyze </span>\n",
       "<span style=\"color: #008000; text-decoration-color: #008000\">multiple frames from flow-focusing experiments to quantitatively\\ncharacterize droplet deformation in terms of </span>\n",
       "<span style=\"color: #008000; text-decoration-color: #008000\">ratio between maximum width and\\nheight and propensity to form liquid with hexagonal crystalline order. </span>\n",
       "<span style=\"color: #008000; text-decoration-color: #008000\">Our\\nfindings reveal the existence of an optimal opening angle where shape\\ndeformations are minimal and </span>\n",
       "<span style=\"color: #008000; text-decoration-color: #008000\">crystal-like arrangement is maximal. Variations of\\nfluid injection rates are also found to affect size and packing</span>\n",
       "<span style=\"color: #008000; text-decoration-color: #008000\">fraction of the\\nemulsion in the exit channel. This paper offers insights into deformations,\\nsize and structure of</span>\n",
       "<span style=\"color: #008000; text-decoration-color: #008000\">fluid emulsions relative to microchannel geometry and\\nother flow-related parameters captured through machine </span>\n",
       "<span style=\"color: #008000; text-decoration-color: #008000\">learning, with potential\\nimplications for the design of microchips utilized in cellular transport and\\ntissue </span>\n",
       "<span style=\"color: #008000; text-decoration-color: #008000\">engineering applications.'</span>,\n",
       "    <span style=\"color: #008000; text-decoration-color: #008000\">'Prediction and discovery of new materials with desired properties are at the\\nforefront of quantum science and</span>\n",
       "<span style=\"color: #008000; text-decoration-color: #008000\">technology research. A major bottleneck in\\nthis field is the computational resources and time complexity related </span>\n",
       "<span style=\"color: #008000; text-decoration-color: #008000\">to\\nfinding new materials from ab initio calculations. In this work, an effective\\nand robust deep learning-based </span>\n",
       "<span style=\"color: #008000; text-decoration-color: #008000\">model is proposed by incorporating persistent\\nhomology and graph neural network which offers an accuracy of 91.4% </span>\n",
       "<span style=\"color: #008000; text-decoration-color: #008000\">and an F1\\nscore of 88.5% in classifying topological vs. non-topological materials,\\noutperforming the other </span>\n",
       "<span style=\"color: #008000; text-decoration-color: #008000\">state-of-the-art classifier models. The incorporation\\nof the graph neural network encodes the underlying relation </span>\n",
       "<span style=\"color: #008000; text-decoration-color: #008000\">between the atoms\\ninto the model based on their own crystalline structures and thus proved to be\\nan effective </span>\n",
       "<span style=\"color: #008000; text-decoration-color: #008000\">method to represent and process non-euclidean data like molecules\\nwith a relatively shallow network. The </span>\n",
       "<span style=\"color: #008000; text-decoration-color: #008000\">persistent homology pipeline in the\\nsuggested neural network is capable of integrating the </span>\n",
       "<span style=\"color: #008000; text-decoration-color: #008000\">atom-specific\\ntopological information into the deep learning model, increasing robustness,\\nand gain in </span>\n",
       "<span style=\"color: #008000; text-decoration-color: #008000\">performance. It is believed that the presented work will be an\\nefficacious tool for predicting the topological </span>\n",
       "<span style=\"color: #008000; text-decoration-color: #008000\">class and therefore enable the\\nhigh-throughput search for novel materials in this field.'</span>,\n",
       "    <span style=\"color: #008000; text-decoration-color: #008000\">\"Electrical Impedance Tomography (EIT) is a powerful imaging technique with\\ndiverse applications, e.g., </span>\n",
       "<span style=\"color: #008000; text-decoration-color: #008000\">medical diagnosis, industrial monitoring, and\\nenvironmental studies. The EIT inverse problem is about inferring </span>\n",
       "<span style=\"color: #008000; text-decoration-color: #008000\">the internal\\nconductivity distribution of an object from measurements taken on its boundary.\\nIt is severely </span>\n",
       "<span style=\"color: #008000; text-decoration-color: #008000\">ill-posed, necessitating advanced computational methods for\\naccurate image reconstructions. Recent years have </span>\n",
       "<span style=\"color: #008000; text-decoration-color: #008000\">witnessed significant\\nprogress, driven by innovations in analytic-based approaches and deep learning.\\nThis review</span>\n",
       "<span style=\"color: #008000; text-decoration-color: #008000\">explores techniques for solving the EIT inverse problem, focusing\\non the interplay between contemporary deep </span>\n",
       "<span style=\"color: #008000; text-decoration-color: #008000\">learning-based strategies and\\nclassical analytic-based methods. Four state-of-the-art deep learning\\nalgorithms </span>\n",
       "<span style=\"color: #008000; text-decoration-color: #008000\">are rigorously examined, harnessing the representational\\ncapabilities of deep neural networks to reconstruct </span>\n",
       "<span style=\"color: #008000; text-decoration-color: #008000\">intricate conductivity\\ndistributions. In parallel, two analytic-based methods, rooted in </span>\n",
       "<span style=\"color: #008000; text-decoration-color: #008000\">mathematical\\nformulations and regularisation techniques, are dissected for their strengths\\nand limitations. These</span>\n",
       "<span style=\"color: #008000; text-decoration-color: #008000\">methodologies are evaluated through various numerical\\nexperiments, encompassing diverse scenarios that reflect </span>\n",
       "<span style=\"color: #008000; text-decoration-color: #008000\">real-world\\ncomplexities. A suite of performance metrics is employed to assess the efficacy\\nof these methods. </span>\n",
       "<span style=\"color: #008000; text-decoration-color: #008000\">These metrics collectively provide a nuanced understanding of\\nthe methods' ability to capture essential features </span>\n",
       "<span style=\"color: #008000; text-decoration-color: #008000\">and delineate complex\\nconductivity patterns. One novel feature of the study is the incorporation of\\nvariable </span>\n",
       "<span style=\"color: #008000; text-decoration-color: #008000\">conductivity scenarios, introducing a level of heterogeneity that\\nmimics textured inclusions. This departure from </span>\n",
       "<span style=\"color: #008000; text-decoration-color: #008000\">uniform conductivity\\nassumptions mimics realistic scenarios where tissues or materials exhibit\\nspatially varying </span>\n",
       "<span style=\"color: #008000; text-decoration-color: #008000\">electrical properties. Exploring how each method responds to\\nsuch variable conductivity scenarios opens avenues </span>\n",
       "<span style=\"color: #008000; text-decoration-color: #008000\">for understanding their\\nrobustness and adaptability.\"</span>,\n",
       "    <span style=\"color: #008000; text-decoration-color: #008000\">'Scanning electron microscopy (SEM) is indispensable in diverse applications\\nranging from microelectronics to </span>\n",
       "<span style=\"color: #008000; text-decoration-color: #008000\">food processing because it provides large\\ndepth-of-field images with a resolution beyond the optical diffraction </span>\n",
       "<span style=\"color: #008000; text-decoration-color: #008000\">limit.\\nHowever, the technology requires coating conductive films on insulator samples\\nand a vacuum environment. </span>\n",
       "<span style=\"color: #008000; text-decoration-color: #008000\">We use deep learning to obtain the mapping\\nrelationship between optical super-resolution (OSR) images and SEM </span>\n",
       "<span style=\"color: #008000; text-decoration-color: #008000\">domain\\nimages, which enables the transformation of OSR images into SEM-like large\\ndepth-of-field images. Our </span>\n",
       "<span style=\"color: #008000; text-decoration-color: #008000\">custom-built scanning superlens microscopy (SSUM)\\nsystem, which requires neither coating samples by conductive </span>\n",
       "<span style=\"color: #008000; text-decoration-color: #008000\">films nor a vacuum\\nenvironment, is used to acquire the OSR images with features down to ~80 nm.\\nThe peak </span>\n",
       "<span style=\"color: #008000; text-decoration-color: #008000\">signal-to-noise ratio (PSNR) and structural similarity index measure\\nvalues indicate that the deep learning method</span>\n",
       "<span style=\"color: #008000; text-decoration-color: #008000\">performs excellently in\\nimage-to-image translation, with a PSNR improvement of about 0.74 dB over the\\noptical </span>\n",
       "<span style=\"color: #008000; text-decoration-color: #008000\">super-resolution images. The proposed method provides a high level of\\ndetail in the reconstructed results, </span>\n",
       "<span style=\"color: #008000; text-decoration-color: #008000\">indicating that it has broad applicability\\nto chip-level defect detection, biological sample analysis, forensics, </span>\n",
       "<span style=\"color: #008000; text-decoration-color: #008000\">and\\nvarious other fields.'</span>,\n",
       "    <span style=\"color: #008000; text-decoration-color: #008000\">'The present work introduces a deep learning approach for the\\nthree-dimensional reconstruction of the </span>\n",
       "<span style=\"color: #008000; text-decoration-color: #008000\">spatio-temporal dynamics of the\\ngas-liquid interface in two-phase flows on the basis of monocular images\\nobtained</span>\n",
       "<span style=\"color: #008000; text-decoration-color: #008000\">via optical measurement techniques. The dynamics of liquid droplets\\nimpacting onto structured solid substrates are</span>\n",
       "<span style=\"color: #008000; text-decoration-color: #008000\">captured through high-speed\\nimaging in an extended shadowgraphy setup with additional reflective glare\\npoints </span>\n",
       "<span style=\"color: #008000; text-decoration-color: #008000\">from lateral light sources that encode further three-dimensional\\ninformation of the gas-liquid interface in the </span>\n",
       "<span style=\"color: #008000; text-decoration-color: #008000\">images. A neural network is\\nlearned for the physically correct reconstruction of the droplet dynamics on </span>\n",
       "<span style=\"color: #008000; text-decoration-color: #008000\">a\\nlabelled dataset generated by synthetic image rendering on the basis of\\ngas-liquid interface shapes obtained </span>\n",
       "<span style=\"color: #008000; text-decoration-color: #008000\">from direct numerical simulation. The\\nemployment of synthetic image rendering allows for the efficient generation </span>\n",
       "<span style=\"color: #008000; text-decoration-color: #008000\">of\\ntraining data and circumvents the introduction of errors resulting from the\\ninherent discrepancy of the </span>\n",
       "<span style=\"color: #008000; text-decoration-color: #008000\">droplet shapes between experiment and simulation.\\nThe accurate reconstruction of the gas-liquid interface during </span>\n",
       "<span style=\"color: #008000; text-decoration-color: #008000\">droplet\\nimpingement on the basis of images obtained in the experiment demonstrates the\\npracticality of the </span>\n",
       "<span style=\"color: #008000; text-decoration-color: #008000\">presented approach based on neural networks and synthetic\\ntraining data generation. The introduction of glare </span>\n",
       "<span style=\"color: #008000; text-decoration-color: #008000\">points from lateral light\\nsources in the experiments is shown to improve the reconstruction accuracy,\\nwhich </span>\n",
       "<span style=\"color: #008000; text-decoration-color: #008000\">indicates that the neural network learns to leverage the additional\\nthree-dimensional information encoded in the </span>\n",
       "<span style=\"color: #008000; text-decoration-color: #008000\">images for a more accurate depth\\nestimation. Furthermore, the physically reasonable reconstruction of </span>\n",
       "<span style=\"color: #008000; text-decoration-color: #008000\">unknown\\ngas-liquid interface shapes indicates that the neural network learned a\\nversatile model of the involved </span>\n",
       "<span style=\"color: #008000; text-decoration-color: #008000\">two-phase flow phenomena during droplet\\nimpingement.'</span>,\n",
       "    <span style=\"color: #008000; text-decoration-color: #008000\">'The technological advance of High Numerical Aperture Extreme Ultraviolet\\nLithography (High NA EUVL) has </span>\n",
       "<span style=\"color: #008000; text-decoration-color: #008000\">opened the gates to extensive researches on\\nthinner photoresists (below 30nm), necessary for the industrial </span>\n",
       "<span style=\"color: #008000; text-decoration-color: #008000\">implementation\\nof High NA EUVL. Consequently, images from Scanning Electron Microscopy (SEM)\\nsuffer from reduced </span>\n",
       "<span style=\"color: #008000; text-decoration-color: #008000\">imaging contrast and low Signal-to-Noise Ratio (SNR),\\nimpacting the measurement of unbiased Line Edge Roughness </span>\n",
       "<span style=\"color: #008000; text-decoration-color: #008000\">(uLER) and Line Width\\nRoughness (uLWR). Thus, the aim of this work is to enhance the SNR of SEM\\nimages by using a</span>\n",
       "<span style=\"color: #008000; text-decoration-color: #008000\">Deep Learning denoiser and enable robust roughness extraction\\nof the thin resist. For this study, we acquired SEM </span>\n",
       "<span style=\"color: #008000; text-decoration-color: #008000\">images of Line-Space (L/S)\\npatterns with a Chemically Amplified Resist (CAR) with different thicknesses\\n(15nm, </span>\n",
       "<span style=\"color: #008000; text-decoration-color: #008000\">20nm, 25nm, 30nm), underlayers (Spin-On-Glass-SOG, Organic\\nUnderlayer-OUL) and frames of averaging (4, 8, 16, 32, </span>\n",
       "<span style=\"color: #008000; text-decoration-color: #008000\">and 64 Fr). After\\ndenoising, a systematic analysis has been carried out on both noisy and\\ndenoised images using </span>\n",
       "<span style=\"color: #008000; text-decoration-color: #008000\">an open-source metrology software, SMILE 2.3.2, for\\ninvestigating mean CD, SNR improvement factor, biased and </span>\n",
       "<span style=\"color: #008000; text-decoration-color: #008000\">unbiased LWR/LER\\nPower Spectral Density (PSD). Denoised images with lower number of frames\\npresent unaltered </span>\n",
       "<span style=\"color: #008000; text-decoration-color: #008000\">Critical Dimensions (CDs), enhanced SNR (especially for low\\nnumber of integration frames), and accurate </span>\n",
       "<span style=\"color: #008000; text-decoration-color: #008000\">measurements of uLER and uLWR, with\\nthe same accuracy as for noisy images with a consistent higher number </span>\n",
       "<span style=\"color: #008000; text-decoration-color: #008000\">of\\nframes. Therefore, images with a small number of integration frames and with\\nSNR &lt; 2 can be successfully </span>\n",
       "<span style=\"color: #008000; text-decoration-color: #008000\">denoised, and advantageously used in improving\\nmetrology throughput while maintaining reliable roughness </span>\n",
       "<span style=\"color: #008000; text-decoration-color: #008000\">measurements for the\\nthin resist.'</span>,\n",
       "    <span style=\"color: #008000; text-decoration-color: #008000\">\"Colloidal particles can spontaneously self-assemble into ordered structures,\\nwhich not only can manipulate </span>\n",
       "<span style=\"color: #008000; text-decoration-color: #008000\">the propagation of light, but also vibration or\\nphonons. Using Monte Carlo simulation, we study the self-assembly </span>\n",
       "<span style=\"color: #008000; text-decoration-color: #008000\">of perfectly\\naligned segment rod particles with lateral flat cutting. Under the help of\\nsurface attractions, we </span>\n",
       "<span style=\"color: #008000; text-decoration-color: #008000\">find that particles with different cutting degree can\\nself-assemble into different crystal phases characterized by</span>\n",
       "<span style=\"color: #008000; text-decoration-color: #008000\">bond coordination\\n$z$ that varies from 3 to 6. Importantly, we identify a transformable\\nsuper-isostatic </span>\n",
       "<span style=\"color: #008000; text-decoration-color: #008000\">structures with \\\\emph{pgg} symmetry and redundant bonds\\n($z=5$). We find that this structure can support either </span>\n",
       "<span style=\"color: #008000; text-decoration-color: #008000\">the soft bulk model or\\nsoft edge model depending on its Poisson's ratio which can be tuned from\\npositive to </span>\n",
       "<span style=\"color: #008000; text-decoration-color: #008000\">negative by a uniform soft deformation. Importantly, the bulk soft\\nmodes are associated with states of self-stress</span>\n",
       "<span style=\"color: #008000; text-decoration-color: #008000\">along the direction of zero\\nstrain during the uniform soft deformation. This self-assembled </span>\n",
       "<span style=\"color: #008000; text-decoration-color: #008000\">transformable\\nsuper-isostatic structure may act as mechanical metamaterials with potential\\napplication in </span>\n",
       "<span style=\"color: #008000; text-decoration-color: #008000\">micro-mechanical engineering.\"</span>,\n",
       "    <span style=\"color: #008000; text-decoration-color: #008000\">'A couple of applications of B\\\\\"acklund transformations in the study of\\nnonlinear evolution equations is here</span>\n",
       "<span style=\"color: #008000; text-decoration-color: #008000\">given. Specifically, we are concerned\\nabout third order nonlinear evolution equations. Our attention is focussed </span>\n",
       "<span style=\"color: #008000; text-decoration-color: #008000\">on\\none side, on an invariance admitted by the interacting soliton equation and, on\\nthe other one, on the </span>\n",
       "<span style=\"color: #008000; text-decoration-color: #008000\">construction of solutions. Indeed, via B\\\\\"acklund\\ntransformations, a B\\\\\"acklund chart, connecting Abelian as </span>\n",
       "<span style=\"color: #008000; text-decoration-color: #008000\">well as non Abelian\\nequations can be constructed. The importance of such a net of links is twofold\\nsince it </span>\n",
       "<span style=\"color: #008000; text-decoration-color: #008000\">indicates invariances as well as allows to construct solutions\\nadmitted by the nonlinear evolution equations it </span>\n",
       "<span style=\"color: #008000; text-decoration-color: #008000\">relates. The present study\\nrefers to third order nonlinear evolution equations of KdV type. On the basis\\nof the </span>\n",
       "<span style=\"color: #008000; text-decoration-color: #008000\">Abelian wide B\\\\\"acklund chart which connects various different third\\norder nonlinear evolution equations an </span>\n",
       "<span style=\"color: #008000; text-decoration-color: #008000\">invariance admitted by the int sol. KdV\\nequation is obtained and an explicit solution is constructed. Then, </span>\n",
       "<span style=\"color: #008000; text-decoration-color: #008000\">the\\ncorresponding non-Abelian B\\\\\"acklund chart, shows how to construct matrix\\nsolutions of the mKdV equations: </span>\n",
       "<span style=\"color: #008000; text-decoration-color: #008000\">some recently obtained solutions are\\nreconsidered.'</span>,\n",
       "    <span style=\"color: #008000; text-decoration-color: #008000\">'The Jordan-Wigner transformation is frequently utilised to rewrite quantum\\nspin chains in terms of fermionic </span>\n",
       "<span style=\"color: #008000; text-decoration-color: #008000\">operators. When the resulting Hamiltonian is\\nbilinear in fermions, i.e. the fermions are free, the exact spectrum </span>\n",
       "<span style=\"color: #008000; text-decoration-color: #008000\">follows\\nfrom the eigenvalues of a matrix typically growing only linearly with the size\\nof the system. However, </span>\n",
       "<span style=\"color: #008000; text-decoration-color: #008000\">several Hamiltonians that do not admit a Jordan-Wigner\\ntransformation to fermion bilinears still have the same </span>\n",
       "<span style=\"color: #008000; text-decoration-color: #008000\">type of free-fermion\\nspectra. The spectra of such ``free fermions in disguise\" models can be found\\nexactly by an </span>\n",
       "<span style=\"color: #008000; text-decoration-color: #008000\">intricate but explicit construction of the raising and lowering\\noperators. We generalise the methods further to </span>\n",
       "<span style=\"color: #008000; text-decoration-color: #008000\">find a family of such spin\\nchains. We compute the exact spectrum, and generalise an elegant </span>\n",
       "<span style=\"color: #008000; text-decoration-color: #008000\">graph-theory\\nconstruction to our model. We also explain how this family admits an $N$=2\\nlattice supersymmetry.'</span>,\n",
       "    <span style=\"color: #008000; text-decoration-color: #008000\">'Protein mutations can significantly influence protein solubility, which\\nresults in altered protein functions </span>\n",
       "<span style=\"color: #008000; text-decoration-color: #008000\">and leads to various diseases. Despite of\\ntremendous effort, machine learning prediction of protein solubility </span>\n",
       "<span style=\"color: #008000; text-decoration-color: #008000\">changes\\nupon mutation remains a challenging task as indicated by the poor scores of\\nnormalized Correct Prediction</span>\n",
       "<span style=\"color: #008000; text-decoration-color: #008000\">Ratio (CPR). Part of the challenge stems from the\\nfact that there is no three-dimensional (3D) structures for the </span>\n",
       "<span style=\"color: #008000; text-decoration-color: #008000\">wild-type and\\nmutant proteins. This work integrates persistent Laplacians and pre-trained\\nTransformer for the </span>\n",
       "<span style=\"color: #008000; text-decoration-color: #008000\">task. The Transformer, pretrained with hunderds of millions\\nof protein sequences, embeds wild-type and mutant </span>\n",
       "<span style=\"color: #008000; text-decoration-color: #008000\">sequences, while persistent\\nLaplacians track the topological invariant change and homotopic shape </span>\n",
       "<span style=\"color: #008000; text-decoration-color: #008000\">evolution\\ninduced by mutations in 3D protein structures, which are rendered from\\nAlphaFold2. The resulting </span>\n",
       "<span style=\"color: #008000; text-decoration-color: #008000\">machine learning model was trained on an extensive\\ndata set labeled with three solubility types. Our model </span>\n",
       "<span style=\"color: #008000; text-decoration-color: #008000\">outperforms all\\nexisting predictive methods and improves the state-of-the-art up to 15%.'</span>,\n",
       "    <span style=\"color: #008000; text-decoration-color: #008000\">\"The two-dimensional transition metal carbide/nitride family (MXenes) has\\ngarnered significant attention due </span>\n",
       "<span style=\"color: #008000; text-decoration-color: #008000\">to their highly customizable surface\\nfunctional groups. Leveraging modern material science techniques, </span>\n",
       "<span style=\"color: #008000; text-decoration-color: #008000\">the\\ncustomizability of MXenes can be enhanced further through the construction of\\nassociated heterostructures. As</span>\n",
       "<span style=\"color: #008000; text-decoration-color: #008000\">indicated by recent research, the Mo2CTx/NiS\\nheterostructure has emerged as a promising candidate exhibiting </span>\n",
       "<span style=\"color: #008000; text-decoration-color: #008000\">superior\\nphysical and chemical application potential. The geometrical structure of\\nMo2CTx/NiS heterostructure is </span>\n",
       "<span style=\"color: #008000; text-decoration-color: #008000\">modeled and 6 possible configurations are\\nvalidated by Density Functional Theory simulations. The variation in </span>\n",
       "<span style=\"color: #008000; text-decoration-color: #008000\">functional\\ngroups leads to structural changes in Mo2CTx/NiS interfaces, primarily\\nattributed to the competition </span>\n",
       "<span style=\"color: #008000; text-decoration-color: #008000\">between van der Waals and covalent interactions.\\nThe presence of different functional groups results in </span>\n",
       "<span style=\"color: #008000; text-decoration-color: #008000\">significant band\\nfluctuations near the Fermi level for Ni and Mo atoms, influencing the role of\\natoms and </span>\n",
       "<span style=\"color: #008000; text-decoration-color: #008000\">electron's ability to escape near the interface. This, in turn,\\nmodulates the strength of covalent interactions at</span>\n",
       "<span style=\"color: #008000; text-decoration-color: #008000\">the MXenes/NiS interface and\\nalters the ease of dissociation of the MXenes/NiS complex. Notably, </span>\n",
       "<span style=\"color: #008000; text-decoration-color: #008000\">the\\nMo2CO2/NiS(P6_3/mmc) heterostructure exhibits polymorphism, signifying that two\\natomic arrangements can </span>\n",
       "<span style=\"color: #008000; text-decoration-color: #008000\">stabilize the structure. The transition process between\\nthese polymorphs is also simulated, further indicating the</span>\n",
       "<span style=\"color: #008000; text-decoration-color: #008000\">modulation of the\\nelectronic level of properties by a sliding operation.\"</span>,\n",
       "    <span style=\"color: #008000; text-decoration-color: #008000\">\"We consider a two-time (characterized by distinct speeds of causality) and\\nthree-space-dimensional Minkowski </span>\n",
       "<span style=\"color: #008000; text-decoration-color: #008000\">space and derive relativistic coordinate and\\nvelocity transformation formulas and expressions for a new effective </span>\n",
       "<span style=\"color: #008000; text-decoration-color: #008000\">speed\\nlimit. Extending the ideas of Einstein's Theory of Special Relativity, concepts\\nof five-velocity and </span>\n",
       "<span style=\"color: #008000; text-decoration-color: #008000\">five-momenta are introduced leading to a new formula for\\nthe rest energy of a massive object. Based on a </span>\n",
       "<span style=\"color: #008000; text-decoration-color: #008000\">non-relativistic limit, a\\ntwo-time dependent Schroedinger-like equation is developed. Its solution for\\ninfinite </span>\n",
       "<span style=\"color: #008000; text-decoration-color: #008000\">square-well potential, after compactifying the extra time dimension in\\na closed loop topology with a period </span>\n",
       "<span style=\"color: #008000; text-decoration-color: #008000\">matching the Planck time, generates\\ninterference of additional quantum states with an ultra-small period </span>\n",
       "<span style=\"color: #008000; text-decoration-color: #008000\">of\\noscillation, as well. Some cosmological implications of the concept of\\nfour-dimensional versus </span>\n",
       "<span style=\"color: #008000; text-decoration-color: #008000\">five-dimensional masses are briefly discussed, too.\"</span>,\n",
       "    <span style=\"color: #008000; text-decoration-color: #008000\">'Quantum-limited Josephson parametric amplifiers play a pivotal role in\\nadvancing the field of circuit quantum</span>\n",
       "<span style=\"color: #008000; text-decoration-color: #008000\">electrodynamics by enabling the fast and\\nhigh-fidelity measurement of weak microwave signals. Therefore, it is </span>\n",
       "<span style=\"color: #008000; text-decoration-color: #008000\">necessary\\nto develop robust parametric amplifiers with low noise, broad bandwidth, and\\nreduced design complexity </span>\n",
       "<span style=\"color: #008000; text-decoration-color: #008000\">for microwave detection. However, current broadband\\nparametric amplifiers either have degraded noise performance </span>\n",
       "<span style=\"color: #008000; text-decoration-color: #008000\">or rely on complex\\ndesigns. Here, we present a device based on the broadband impedance-transformed\\nJosephson </span>\n",
       "<span style=\"color: #008000; text-decoration-color: #008000\">parametric amplifier (IMPA) that integrates a horn-like coplanar\\nwaveguide (CPW) transmission line, which </span>\n",
       "<span style=\"color: #008000; text-decoration-color: #008000\">significantly decreases the design and\\nfabrication complexity, while keeping comparable performance. The device </span>\n",
       "<span style=\"color: #008000; text-decoration-color: #008000\">shows\\nan instantaneous bandwidth of 700(200) MHz for 15(20) dB gain with an average\\nsaturation power of -110 dBm </span>\n",
       "<span style=\"color: #008000; text-decoration-color: #008000\">and near quantum-limited added noise. The\\noperating frequency can be tuned over 1.4 GHz using an external flux </span>\n",
       "<span style=\"color: #008000; text-decoration-color: #008000\">bias. We\\nfurther demonstrate the negligible back-action from our device on a transmon\\nqubit. The amplification </span>\n",
       "<span style=\"color: #008000; text-decoration-color: #008000\">performance and simplicity of our device promise its\\nwide adaptation in quantum metrology, quantum communication, </span>\n",
       "<span style=\"color: #008000; text-decoration-color: #008000\">and quantum\\ninformation processing.'</span>,\n",
       "    <span style=\"color: #008000; text-decoration-color: #008000\">'We consider the Brans-Dicke theory in non-metricity gravity, which belongs to\\nthe family of symmetric </span>\n",
       "<span style=\"color: #008000; text-decoration-color: #008000\">teleparallel scalar-tensor theories. Our focus lies in\\nexploring the implications of the conformal transformation,</span>\n",
       "<span style=\"color: #008000; text-decoration-color: #008000\">as we derive the\\nconformal equivalent theory in the Einstein frame, distinct from the minimally\\ncoupled scalar </span>\n",
       "<span style=\"color: #008000; text-decoration-color: #008000\">field theory. The fundamental principle of the conformal\\ntransformation suggests the mathematical equivalence of </span>\n",
       "<span style=\"color: #008000; text-decoration-color: #008000\">the related theories.\\nHowever, to thoroughly analyze the impact on physical variables, we investigate\\nthe </span>\n",
       "<span style=\"color: #008000; text-decoration-color: #008000\">spatially flat Friedmann--Lema\\\\^{\\\\i}tre--Robertson--Walker geometry,\\ndefining the connection in the </span>\n",
       "<span style=\"color: #008000; text-decoration-color: #008000\">non-coincidence gauge. We construct exact\\nsolutions for the cosmological model in one frame and compare the </span>\n",
       "<span style=\"color: #008000; text-decoration-color: #008000\">physical\\nproperties in the conformal related frame. Surprisingly, we find that the\\ngeneral physical properties of</span>\n",
       "<span style=\"color: #008000; text-decoration-color: #008000\">the exact solutions remain invariant under the\\nconformal transformation. Finally, we construct, for the first </span>\n",
       "<span style=\"color: #008000; text-decoration-color: #008000\">time, an\\nanalytic solution for the symmetric teleparallel scalar-tensor cosmology.'</span>,\n",
       "    <span style=\"color: #008000; text-decoration-color: #008000\">'The control of the velocity of a high-speed laser-induced microjet is crucial\\nin applications such as </span>\n",
       "<span style=\"color: #008000; text-decoration-color: #008000\">needle-free injection. Previous studies have indicated\\nthat the jet velocity is heavily influenced by the volumes </span>\n",
       "<span style=\"color: #008000; text-decoration-color: #008000\">of secondary\\ncavitation bubbles generated through laser absorption. However, there has been\\na lack of </span>\n",
       "<span style=\"color: #008000; text-decoration-color: #008000\">investigation of the relationship between the positions of cavitation\\nbubbles and the jet velocity. In this study,</span>\n",
       "<span style=\"color: #008000; text-decoration-color: #008000\">we investigate the effects of\\ncavitation bubbles on the jet velocity of laser-induced microjets extracted\\nusing </span>\n",
       "<span style=\"color: #008000; text-decoration-color: #008000\">explainable artificial intelligence (XAI). An XAI is used to classify the\\njet velocity from images of cavitation </span>\n",
       "<span style=\"color: #008000; text-decoration-color: #008000\">bubbles and to extract features from the\\nimages through visualization of the classification process. For this </span>\n",
       "<span style=\"color: #008000; text-decoration-color: #008000\">purpose,\\nwe run 1000 experiments and collect the corresponding images. The XAI model,\\nwhich is a feedforward </span>\n",
       "<span style=\"color: #008000; text-decoration-color: #008000\">neural network (FNN), is trained to classify the jet\\nvelocity from the images of cavitation bubbles. After </span>\n",
       "<span style=\"color: #008000; text-decoration-color: #008000\">achieving a high\\nclassification accuracy, we analyze the classification process of the FNN. The\\npredictions of </span>\n",
       "<span style=\"color: #008000; text-decoration-color: #008000\">the FNN, when considering the cavitation positions, show a\\nhigher correlation with the jet velocity than the </span>\n",
       "<span style=\"color: #008000; text-decoration-color: #008000\">results considering only\\ncavitation volumes. Further investigation suggested that cavitation that occurs\\ncloser </span>\n",
       "<span style=\"color: #008000; text-decoration-color: #008000\">to the laser focus position has a higher acceleration effect. These\\nresults suggest that the velocity of a </span>\n",
       "<span style=\"color: #008000; text-decoration-color: #008000\">high-speed microjet is also affected by\\nthe cavitation position.'</span>,\n",
       "    <span style=\"color: #008000; text-decoration-color: #008000\">'Determination of optimal control protocols for Majorana zero modes during\\ntheir exchange is a crucial step </span>\n",
       "<span style=\"color: #008000; text-decoration-color: #008000\">towards the realisation of the topological\\nquantum computer. In this paper, we study the finite-time exchange </span>\n",
       "<span style=\"color: #008000; text-decoration-color: #008000\">process of\\nMajorana zero modes on a network formed by coupled $p$-wave superconducting\\none-dimensional nanowires.</span>\n",
       "<span style=\"color: #008000; text-decoration-color: #008000\">We provide scalable computational tools for\\noptimising such an exchange process relying on deep learning </span>\n",
       "<span style=\"color: #008000; text-decoration-color: #008000\">techniques. To\\naccomplish the scalability, we derive and implement an analytic formula for the\\ngradient of the </span>\n",
       "<span style=\"color: #008000; text-decoration-color: #008000\">quantum infidelity which measures the error in the topological\\nquantum gate generation in the Majorana zero modes </span>\n",
       "<span style=\"color: #008000; text-decoration-color: #008000\">exchange. Our optimisation\\nstrategy relies on learning the optimised transport protocol via a neural net\\nwhich is</span>\n",
       "<span style=\"color: #008000; text-decoration-color: #008000\">followed by direct gradient descent fine tuning. The optimised\\nexchange protocols in the super-adiabatic regime </span>\n",
       "<span style=\"color: #008000; text-decoration-color: #008000\">discover the fact that the\\nMajorana zero modes must necessarily stop before crossing a junction point in\\nthe </span>\n",
       "<span style=\"color: #008000; text-decoration-color: #008000\">network. We explain that this is caused by fast changes in the energy gap\\nof the system whenever one of the </span>\n",
       "<span style=\"color: #008000; text-decoration-color: #008000\">Majorana zero modes approaches a junction\\npoint. In particular, the energy gap exhibits oscillations followed by a</span>\n",
       "<span style=\"color: #008000; text-decoration-color: #008000\">sharp\\njump. We explain this phenomenon analytically in the regime where the Majorana\\nzero modes are completely </span>\n",
       "<span style=\"color: #008000; text-decoration-color: #008000\">localised. Finally, we study how the disorder in the\\nquantum nanowire affects the exchange protocols. This shows </span>\n",
       "<span style=\"color: #008000; text-decoration-color: #008000\">that understanding\\nthe disorder pattern would allow one to improve quantum gate fidelity by one to\\ntwo orders of </span>\n",
       "<span style=\"color: #008000; text-decoration-color: #008000\">magnitude.'</span>,\n",
       "    <span style=\"color: #008000; text-decoration-color: #008000\">'The efficiency of $H_2$ production via water electrolysis is typically\\nlimited to the sluggish oxygen </span>\n",
       "<span style=\"color: #008000; text-decoration-color: #008000\">evolution reaction (OER). As such, significant\\nemphasis has been placed upon improving the rate of OER through the</span>\n",
       "<span style=\"color: #008000; text-decoration-color: #008000\">anode\\ncatalyst. More recently, the Open Catalyst 2022 (OC22) has provided a large\\ndataset of density functional </span>\n",
       "<span style=\"color: #008000; text-decoration-color: #008000\">theory (DFT) calculated oxide catalysts for OER.\\nWhen coupled with state-of-the-art graph neural network models, </span>\n",
       "<span style=\"color: #008000; text-decoration-color: #008000\">total energy\\npredictions can be achieved with a mean absolute error as low as of 0.22 eV. In\\nthis work, we </span>\n",
       "<span style=\"color: #008000; text-decoration-color: #008000\">demonstrate the full utility of the OC22 framework by\\nconstructing a database of the total energy predictions for </span>\n",
       "<span style=\"color: #008000; text-decoration-color: #008000\">all slabs and OER\\nsurface intermediates for the 3,989 oxide materials in the original OC22\\ndataset. This </span>\n",
       "<span style=\"color: #008000; text-decoration-color: #008000\">expansion includes all terminations of all facets up to a maximum\\nMiller index of 1 with adsorption configurations</span>\n",
       "<span style=\"color: #008000; text-decoration-color: #008000\">for the three OER\\nintermediates: $O^*$, $OH^*$ and a subset of $OOH^*$. We considered two\\nthermodynamic models to</span>\n",
       "<span style=\"color: #008000; text-decoration-color: #008000\">interpret surface energy: a \"variant\" model where\\nsurface energy is a function of metal concentration and an </span>\n",
       "<span style=\"color: #008000; text-decoration-color: #008000\">\"invariant\" model\\nwhere surface energy is fixed at the equilibrium conditions for OER. We\\nvalidated the predicted</span>\n",
       "<span style=\"color: #008000; text-decoration-color: #008000\">overpotentials of these stable surfaces with quantities\\nfrom the experimental literature as well as our own DFT </span>\n",
       "<span style=\"color: #008000; text-decoration-color: #008000\">calculations. We then\\nconstructed a screening framework to identify viable candidate anode catalysts\\nfor OER by </span>\n",
       "<span style=\"color: #008000; text-decoration-color: #008000\">assessing the price, thermodynamic stability, resistance to\\ncorrosion, surface stability, and overpotential. </span>\n",
       "<span style=\"color: #008000; text-decoration-color: #008000\">Finally we verified the\\noverpotentials and reaction energies of the final candidate catalysts using\\nDFT.'</span>,\n",
       "    <span style=\"color: #008000; text-decoration-color: #008000\">'Transformer neural networks show promising capabilities, in particular for\\nuses in materials analysis, design</span>\n",
       "<span style=\"color: #008000; text-decoration-color: #008000\">and manufacturing, including their capacity\\nto work effectively with both human language, symbols, code, and </span>\n",
       "<span style=\"color: #008000; text-decoration-color: #008000\">numerical\\ndata. Here we explore the use of large language models (LLMs) as a tool that\\ncan support engineering </span>\n",
       "<span style=\"color: #008000; text-decoration-color: #008000\">analysis of materials, applied to retrieving key\\ninformation about subject areas, developing research hypotheses, </span>\n",
       "<span style=\"color: #008000; text-decoration-color: #008000\">discovery of\\nmechanistic relationships across disparate areas of knowledge, and writing and\\nexecuting simulation </span>\n",
       "<span style=\"color: #008000; text-decoration-color: #008000\">codes for active knowledge generation based on physical\\nground truths. When used as sets of AI agents with </span>\n",
       "<span style=\"color: #008000; text-decoration-color: #008000\">specific features,\\ncapabilities, and instructions, LLMs can provide powerful problem solution\\nstrategies for </span>\n",
       "<span style=\"color: #008000; text-decoration-color: #008000\">applications in analysis and design problems. Our experiments\\nfocus on using a fine-tuned model, MechGPT, </span>\n",
       "<span style=\"color: #008000; text-decoration-color: #008000\">developed based on training data in\\nthe mechanics of materials domain. We first affirm how finetuning endows </span>\n",
       "<span style=\"color: #008000; text-decoration-color: #008000\">LLMs\\nwith reasonable understanding of domain knowledge. However, when queried\\noutside the context of learned </span>\n",
       "<span style=\"color: #008000; text-decoration-color: #008000\">matter, LLMs can have difficulty to recall\\ncorrect information. We show how this can be addressed </span>\n",
       "<span style=\"color: #008000; text-decoration-color: #008000\">using\\nretrieval-augmented Ontological Knowledge Graph strategies that discern how the\\nmodel understands what </span>\n",
       "<span style=\"color: #008000; text-decoration-color: #008000\">concepts are important and how they are related.\\nIllustrated for a use case of relating distinct areas of </span>\n",
       "<span style=\"color: #008000; text-decoration-color: #008000\">knowledge - here,\\nmusic and proteins - such strategies can also provide an interpretable graph\\nstructure with </span>\n",
       "<span style=\"color: #008000; text-decoration-color: #008000\">rich information at the node, edge and subgraph level. We\\ndiscuss nonlinear sampling strategies and agent-based </span>\n",
       "<span style=\"color: #008000; text-decoration-color: #008000\">modeling applied to\\ncomplex question answering, code generation and execution in the context of\\nautomated force </span>\n",
       "<span style=\"color: #008000; text-decoration-color: #008000\">field development from actively learned Density Functional\\nTheory (DFT) modeling, and data analysis.'</span>,\n",
       "    <span style=\"color: #008000; text-decoration-color: #008000\">'The interaction of water with surfaces is crucially important in a wide range\\nof natural and technological </span>\n",
       "<span style=\"color: #008000; text-decoration-color: #008000\">settings. In particular, at low temperatures,\\nunveiling the atomistic structure of adsorbed water clusters would </span>\n",
       "<span style=\"color: #008000; text-decoration-color: #008000\">provide\\nvaluable data for understanding the ice nucleation process. Using\\nhigh-resolution Atomic Force Microscopy</span>\n",
       "<span style=\"color: #008000; text-decoration-color: #008000\">(AFM) and Scanning Tunnelling\\nMicroscopy, several studies have demonstrated the presence of water </span>\n",
       "<span style=\"color: #008000; text-decoration-color: #008000\">pentamers,\\nhexamers, heptamers (and of their combinations) on a variety of metallic\\nsurfaces, as well the initial</span>\n",
       "<span style=\"color: #008000; text-decoration-color: #008000\">stages of 2D ice growth on an insulating surface.\\nHowever, in all these cases, the observed structures were </span>\n",
       "<span style=\"color: #008000; text-decoration-color: #008000\">completely flat,\\nproviding a relatively straightforward path to interpretation. Here, we present\\nhigh-resolution </span>\n",
       "<span style=\"color: #008000; text-decoration-color: #008000\">AFM measurements of several new water clusters on Au(111) and\\nCu(111), whose understanding presents significant </span>\n",
       "<span style=\"color: #008000; text-decoration-color: #008000\">challenges, due to both their\\nhighly 3D configuration and to their large size. For each of them, we use </span>\n",
       "<span style=\"color: #008000; text-decoration-color: #008000\">a\\ncombination of machine learning, atomistic modelling with neural network\\npotentials and statistical sampling to</span>\n",
       "<span style=\"color: #008000; text-decoration-color: #008000\">propose an underlying atomic structure,\\nfinally comparing its AFM simulated images to the experimental ones. </span>\n",
       "<span style=\"color: #008000; text-decoration-color: #008000\">These\\nresults provide new insights into the early phases of ice formation, which is a\\nubiquitous phenomenon </span>\n",
       "<span style=\"color: #008000; text-decoration-color: #008000\">ranging from biology to astrophysics.'</span>,\n",
       "    <span style=\"color: #008000; text-decoration-color: #008000\">'We determine the phase diagram of strongly correlated fermions in the\\ncrossover from Bose-Einstein </span>\n",
       "<span style=\"color: #008000; text-decoration-color: #008000\">condensates of molecules (BEC) to Cooper pairs of\\nfermions (BCS) utilizing an artificial neural network. By </span>\n",
       "<span style=\"color: #008000; text-decoration-color: #008000\">applying advanced\\nimage recognition techniques to the momentum distribution of the fermions, a\\nquantity which has</span>\n",
       "<span style=\"color: #008000; text-decoration-color: #008000\">been widely considered as featureless for providing\\ninformation about the condensed state, we measure the critical</span>\n",
       "<span style=\"color: #008000; text-decoration-color: #008000\">temperature and\\nshow that it exhibits a maximum on the bosonic side of the crossover.\\nAdditionally, we </span>\n",
       "<span style=\"color: #008000; text-decoration-color: #008000\">back-analyze the trained neural network and demonstrate that\\nit interprets physically relevant quantities.'</span>,\n",
       "    <span style=\"color: #008000; text-decoration-color: #008000\">\"Predicting chemical reactions, a fundamental challenge in chemistry, involves\\nforecasting the resulting </span>\n",
       "<span style=\"color: #008000; text-decoration-color: #008000\">products from a given reaction process. Conventional\\ntechniques, notably those employing Graph Neural Networks </span>\n",
       "<span style=\"color: #008000; text-decoration-color: #008000\">(GNNs), are often\\nlimited by insufficient training data and their inability to utilize textual\\ninformation, </span>\n",
       "<span style=\"color: #008000; text-decoration-color: #008000\">undermining their applicability in real-world applications. In\\nthis work, we propose ReLM, a novel framework that </span>\n",
       "<span style=\"color: #008000; text-decoration-color: #008000\">leverages the chemical\\nknowledge encoded in language models (LMs) to assist GNNs, thereby enhancing\\nthe accuracy </span>\n",
       "<span style=\"color: #008000; text-decoration-color: #008000\">of real-world chemical reaction predictions. To further enhance\\nthe model's robustness and interpretability, we </span>\n",
       "<span style=\"color: #008000; text-decoration-color: #008000\">incorporate the confidence\\nscore strategy, enabling the LMs to self-assess the reliability of their\\npredictions. </span>\n",
       "<span style=\"color: #008000; text-decoration-color: #008000\">Our experimental results demonstrate that ReLM improves the\\nperformance of state-of-the-art GNN-based methods </span>\n",
       "<span style=\"color: #008000; text-decoration-color: #008000\">across various chemical\\nreaction datasets, especially in out-of-distribution settings. Codes are\\navailable at </span>\n",
       "<span style=\"color: #008000; text-decoration-color: #008000\">https://github.com/syr-cn/ReLM.\"</span>,\n",
       "    <span style=\"color: #008000; text-decoration-color: #008000\">'Sparse regression and feature extraction are the cornerstones of knowledge\\ndiscovery from massive data. Their</span>\n",
       "<span style=\"color: #008000; text-decoration-color: #008000\">goal is to discover interpretable and\\npredictive models that provide simple relationships among scientific </span>\n",
       "<span style=\"color: #008000; text-decoration-color: #008000\">variables.\\nWhile the statistical tools for model discovery are well established in the\\ncontext of linear </span>\n",
       "<span style=\"color: #008000; text-decoration-color: #008000\">regression, their generalization to nonlinear regression in\\nmaterial modeling is highly problem-specific and </span>\n",
       "<span style=\"color: #008000; text-decoration-color: #008000\">insufficiently understood.\\nHere we explore the potential of neural networks for automatic model discovery\\nand </span>\n",
       "<span style=\"color: #008000; text-decoration-color: #008000\">induce sparsity by a hybrid approach that combines two strategies:\\nregularization and physical constraints. We </span>\n",
       "<span style=\"color: #008000; text-decoration-color: #008000\">integrate the concept of Lp\\nregularization for subset selection with constitutive neural networks that\\nleverage </span>\n",
       "<span style=\"color: #008000; text-decoration-color: #008000\">our domain knowledge in kinematics and thermodynamics. We train our\\nnetworks with both, synthetic and real data, </span>\n",
       "<span style=\"color: #008000; text-decoration-color: #008000\">and perform several thousand\\ndiscovery runs to infer common guidelines and trends: L2 regularization or\\nridge </span>\n",
       "<span style=\"color: #008000; text-decoration-color: #008000\">regression is unsuitable for model discovery; L1 regularization or lasso\\npromotes sparsity, but induces strong </span>\n",
       "<span style=\"color: #008000; text-decoration-color: #008000\">bias; only L0 regularization allows us to\\ntransparently fine-tune the trade-off between interpretability </span>\n",
       "<span style=\"color: #008000; text-decoration-color: #008000\">and\\npredictability, simplicity and accuracy, and bias and variance. With these\\ninsights, we demonstrate that Lp </span>\n",
       "<span style=\"color: #008000; text-decoration-color: #008000\">regularized constitutive neural networks can\\nsimultaneously discover both, interpretable models and physically </span>\n",
       "<span style=\"color: #008000; text-decoration-color: #008000\">meaningful\\nparameters. We anticipate that our findings will generalize to alternative\\ndiscovery techniques such </span>\n",
       "<span style=\"color: #008000; text-decoration-color: #008000\">as sparse and symbolic regression, and to other\\ndomains such as biology, chemistry, or medicine. Our ability to </span>\n",
       "<span style=\"color: #008000; text-decoration-color: #008000\">automatically\\ndiscover material models from data could have tremendous applications in\\ngenerative material design</span>\n",
       "<span style=\"color: #008000; text-decoration-color: #008000\">and open new opportunities to manipulate matter,\\nalter properties of existing materials, and discover new </span>\n",
       "<span style=\"color: #008000; text-decoration-color: #008000\">materials with\\nuser-defined properties.'</span>,\n",
       "    <span style=\"color: #008000; text-decoration-color: #008000\">'Predicting quantum chemical properties is a fundamental challenge for\\ncomputational chemistry. While the </span>\n",
       "<span style=\"color: #008000; text-decoration-color: #008000\">development of graph neural networks has\\nadvanced molecular representation learning and property prediction, </span>\n",
       "<span style=\"color: #008000; text-decoration-color: #008000\">their\\nperformance could be further enhanced by incorporating 3D structural geometry\\ninto 2D molecular graph </span>\n",
       "<span style=\"color: #008000; text-decoration-color: #008000\">representation. In this study, we introduce the\\nPointGAT model for quantum molecular property prediction, which </span>\n",
       "<span style=\"color: #008000; text-decoration-color: #008000\">integrates 3D\\nmolecular coordinates with graph-attention modeling. Comparison with other\\ncurrent models in </span>\n",
       "<span style=\"color: #008000; text-decoration-color: #008000\">molecular prediction tasks showed that PointGAT could provide\\nhigher predictive accuracy in various benchmark </span>\n",
       "<span style=\"color: #008000; text-decoration-color: #008000\">datasets from MoleculeNet,\\nincluding ESOL, FreeSolv, Lipop, HIV, and 10 out of 12 tasks of the QM9\\ndataset. To </span>\n",
       "<span style=\"color: #008000; text-decoration-color: #008000\">further examine PointGAT prediction of quantum mechanical (QM)\\nenergies, we constructed a C10 dataset comprising </span>\n",
       "<span style=\"color: #008000; text-decoration-color: #008000\">11,841 charged and chiral\\ncarbocation intermediates with QM energies calculated at the\\nDM21/6-31G*//B3LYP/6-31G* </span>\n",
       "<span style=\"color: #008000; text-decoration-color: #008000\">levels. Notably, PointGAT achieved an R2 value of\\n0.950 and an MAE of 1.616 kcal/mol, outperforming other models. </span>\n",
       "<span style=\"color: #008000; text-decoration-color: #008000\">Additional\\nablation studies indicated that incorporating molecular geometry into the model\\nresulted in markedly </span>\n",
       "<span style=\"color: #008000; text-decoration-color: #008000\">higher predictive accuracy, reducing the MAE value from\\n1.802 kcal/mol to 1.616 kcal/mol. Moreover, visualization </span>\n",
       "<span style=\"color: #008000; text-decoration-color: #008000\">of PointGAT atomic\\nattention weights suggested its predictions were interpretable. Findings in\\nthis study support</span>\n",
       "<span style=\"color: #008000; text-decoration-color: #008000\">the application of PointGAT as a powerful and versatile tool\\nfor quantum chemical property prediction that can </span>\n",
       "<span style=\"color: #008000; text-decoration-color: #008000\">facilitate high-accuracy\\nmodeling for fundamental exploration of chemical space as well as drug design\\nand </span>\n",
       "<span style=\"color: #008000; text-decoration-color: #008000\">molecular engineering.'</span>\n",
       "<span style=\"font-weight: bold\">]</span>\n",
       "</pre>\n"
      ],
      "text/plain": [
       "\u001b[1m[\u001b[0m\n",
       "    \u001b[32m'We consider the problem of antibody sequence design given 3D structural\\ninformation. Building on previous \u001b[0m\n",
       "\u001b[32mwork, we propose a fine-tuned inverse folding\\nmodel that is specifically optimised for antibody structures and \u001b[0m\n",
       "\u001b[32moutperforms\\ngeneric protein models on sequence recovery and structure robustness when\\napplied on antibodies, with\u001b[0m\n",
       "\u001b[32mnotable improvement on the hypervariable CDR-H3\\nloop. We study the canonical conformations of \u001b[0m\n",
       "\u001b[32mcomplementarity-determining\\nregions and find improved encoding of these loops into known clusters. Finally,\\nwe \u001b[0m\n",
       "\u001b[32mconsider the applications of our model to drug discovery and binder design\\nand evaluate the quality of proposed \u001b[0m\n",
       "\u001b[32msequences using physics-based methods.'\u001b[0m,\n",
       "    \u001b[32m'In microfluidic systems, droplets undergo intricate deformations as they\\ntraverse flow-focusing junctions, \u001b[0m\n",
       "\u001b[32mposing a challenging task for accurate\\nmeasurement, especially during short transit times. This study investigates\u001b[0m\n",
       "\u001b[32mthe\\nphysical behavior of droplets within dense emulsions in diverse microchannel\\ngeometries, specifically \u001b[0m\n",
       "\u001b[32mfocusing on the impact of varying opening angles\\nwithin the primary channel and injection rates of fluid \u001b[0m\n",
       "\u001b[32mcomponents. Employing a\\nsophisticated droplet tracking tool based on deep-learning techniques, we\\nanalyze \u001b[0m\n",
       "\u001b[32mmultiple frames from flow-focusing experiments to quantitatively\\ncharacterize droplet deformation in terms of \u001b[0m\n",
       "\u001b[32mratio between maximum width and\\nheight and propensity to form liquid with hexagonal crystalline order. \u001b[0m\n",
       "\u001b[32mOur\\nfindings reveal the existence of an optimal opening angle where shape\\ndeformations are minimal and \u001b[0m\n",
       "\u001b[32mcrystal-like arrangement is maximal. Variations of\\nfluid injection rates are also found to affect size and packing\u001b[0m\n",
       "\u001b[32mfraction of the\\nemulsion in the exit channel. This paper offers insights into deformations,\\nsize and structure of\u001b[0m\n",
       "\u001b[32mfluid emulsions relative to microchannel geometry and\\nother flow-related parameters captured through machine \u001b[0m\n",
       "\u001b[32mlearning, with potential\\nimplications for the design of microchips utilized in cellular transport and\\ntissue \u001b[0m\n",
       "\u001b[32mengineering applications.'\u001b[0m,\n",
       "    \u001b[32m'Prediction and discovery of new materials with desired properties are at the\\nforefront of quantum science and\u001b[0m\n",
       "\u001b[32mtechnology research. A major bottleneck in\\nthis field is the computational resources and time complexity related \u001b[0m\n",
       "\u001b[32mto\\nfinding new materials from ab initio calculations. In this work, an effective\\nand robust deep learning-based \u001b[0m\n",
       "\u001b[32mmodel is proposed by incorporating persistent\\nhomology and graph neural network which offers an accuracy of 91.4% \u001b[0m\n",
       "\u001b[32mand an F1\\nscore of 88.5% in classifying topological vs. non-topological materials,\\noutperforming the other \u001b[0m\n",
       "\u001b[32mstate-of-the-art classifier models. The incorporation\\nof the graph neural network encodes the underlying relation \u001b[0m\n",
       "\u001b[32mbetween the atoms\\ninto the model based on their own crystalline structures and thus proved to be\\nan effective \u001b[0m\n",
       "\u001b[32mmethod to represent and process non-euclidean data like molecules\\nwith a relatively shallow network. The \u001b[0m\n",
       "\u001b[32mpersistent homology pipeline in the\\nsuggested neural network is capable of integrating the \u001b[0m\n",
       "\u001b[32matom-specific\\ntopological information into the deep learning model, increasing robustness,\\nand gain in \u001b[0m\n",
       "\u001b[32mperformance. It is believed that the presented work will be an\\nefficacious tool for predicting the topological \u001b[0m\n",
       "\u001b[32mclass and therefore enable the\\nhigh-throughput search for novel materials in this field.'\u001b[0m,\n",
       "    \u001b[32m\"Electrical Impedance Tomography \u001b[0m\u001b[32m(\u001b[0m\u001b[32mEIT\u001b[0m\u001b[32m)\u001b[0m\u001b[32m is a powerful imaging technique with\\ndiverse applications, e.g., \u001b[0m\n",
       "\u001b[32mmedical diagnosis, industrial monitoring, and\\nenvironmental studies. The EIT inverse problem is about inferring \u001b[0m\n",
       "\u001b[32mthe internal\\nconductivity distribution of an object from measurements taken on its boundary.\\nIt is severely \u001b[0m\n",
       "\u001b[32mill-posed, necessitating advanced computational methods for\\naccurate image reconstructions. Recent years have \u001b[0m\n",
       "\u001b[32mwitnessed significant\\nprogress, driven by innovations in analytic-based approaches and deep learning.\\nThis review\u001b[0m\n",
       "\u001b[32mexplores techniques for solving the EIT inverse problem, focusing\\non the interplay between contemporary deep \u001b[0m\n",
       "\u001b[32mlearning-based strategies and\\nclassical analytic-based methods. Four state-of-the-art deep learning\\nalgorithms \u001b[0m\n",
       "\u001b[32mare rigorously examined, harnessing the representational\\ncapabilities of deep neural networks to reconstruct \u001b[0m\n",
       "\u001b[32mintricate conductivity\\ndistributions. In parallel, two analytic-based methods, rooted in \u001b[0m\n",
       "\u001b[32mmathematical\\nformulations and regularisation techniques, are dissected for their strengths\\nand limitations. These\u001b[0m\n",
       "\u001b[32mmethodologies are evaluated through various numerical\\nexperiments, encompassing diverse scenarios that reflect \u001b[0m\n",
       "\u001b[32mreal-world\\ncomplexities. A suite of performance metrics is employed to assess the efficacy\\nof these methods. \u001b[0m\n",
       "\u001b[32mThese metrics collectively provide a nuanced understanding of\\nthe methods' ability to capture essential features \u001b[0m\n",
       "\u001b[32mand delineate complex\\nconductivity patterns. One novel feature of the study is the incorporation of\\nvariable \u001b[0m\n",
       "\u001b[32mconductivity scenarios, introducing a level of heterogeneity that\\nmimics textured inclusions. This departure from \u001b[0m\n",
       "\u001b[32muniform conductivity\\nassumptions mimics realistic scenarios where tissues or materials exhibit\\nspatially varying \u001b[0m\n",
       "\u001b[32melectrical properties. Exploring how each method responds to\\nsuch variable conductivity scenarios opens avenues \u001b[0m\n",
       "\u001b[32mfor understanding their\\nrobustness and adaptability.\"\u001b[0m,\n",
       "    \u001b[32m'Scanning electron microscopy \u001b[0m\u001b[32m(\u001b[0m\u001b[32mSEM\u001b[0m\u001b[32m)\u001b[0m\u001b[32m is indispensable in diverse applications\\nranging from microelectronics to \u001b[0m\n",
       "\u001b[32mfood processing because it provides large\\ndepth-of-field images with a resolution beyond the optical diffraction \u001b[0m\n",
       "\u001b[32mlimit.\\nHowever, the technology requires coating conductive films on insulator samples\\nand a vacuum environment. \u001b[0m\n",
       "\u001b[32mWe use deep learning to obtain the mapping\\nrelationship between optical super-resolution \u001b[0m\u001b[32m(\u001b[0m\u001b[32mOSR\u001b[0m\u001b[32m)\u001b[0m\u001b[32m images and SEM \u001b[0m\n",
       "\u001b[32mdomain\\nimages, which enables the transformation of OSR images into SEM-like large\\ndepth-of-field images. Our \u001b[0m\n",
       "\u001b[32mcustom-built scanning superlens microscopy \u001b[0m\u001b[32m(\u001b[0m\u001b[32mSSUM\u001b[0m\u001b[32m)\u001b[0m\u001b[32m\\nsystem, which requires neither coating samples by conductive \u001b[0m\n",
       "\u001b[32mfilms nor a vacuum\\nenvironment, is used to acquire the OSR images with features down to ~80 nm.\\nThe peak \u001b[0m\n",
       "\u001b[32msignal-to-noise ratio \u001b[0m\u001b[32m(\u001b[0m\u001b[32mPSNR\u001b[0m\u001b[32m)\u001b[0m\u001b[32m and structural similarity index measure\\nvalues indicate that the deep learning method\u001b[0m\n",
       "\u001b[32mperforms excellently in\\nimage-to-image translation, with a PSNR improvement of about 0.74 dB over the\\noptical \u001b[0m\n",
       "\u001b[32msuper-resolution images. The proposed method provides a high level of\\ndetail in the reconstructed results, \u001b[0m\n",
       "\u001b[32mindicating that it has broad applicability\\nto chip-level defect detection, biological sample analysis, forensics, \u001b[0m\n",
       "\u001b[32mand\\nvarious other fields.'\u001b[0m,\n",
       "    \u001b[32m'The present work introduces a deep learning approach for the\\nthree-dimensional reconstruction of the \u001b[0m\n",
       "\u001b[32mspatio-temporal dynamics of the\\ngas-liquid interface in two-phase flows on the basis of monocular images\\nobtained\u001b[0m\n",
       "\u001b[32mvia optical measurement techniques. The dynamics of liquid droplets\\nimpacting onto structured solid substrates are\u001b[0m\n",
       "\u001b[32mcaptured through high-speed\\nimaging in an extended shadowgraphy setup with additional reflective glare\\npoints \u001b[0m\n",
       "\u001b[32mfrom lateral light sources that encode further three-dimensional\\ninformation of the gas-liquid interface in the \u001b[0m\n",
       "\u001b[32mimages. A neural network is\\nlearned for the physically correct reconstruction of the droplet dynamics on \u001b[0m\n",
       "\u001b[32ma\\nlabelled dataset generated by synthetic image rendering on the basis of\\ngas-liquid interface shapes obtained \u001b[0m\n",
       "\u001b[32mfrom direct numerical simulation. The\\nemployment of synthetic image rendering allows for the efficient generation \u001b[0m\n",
       "\u001b[32mof\\ntraining data and circumvents the introduction of errors resulting from the\\ninherent discrepancy of the \u001b[0m\n",
       "\u001b[32mdroplet shapes between experiment and simulation.\\nThe accurate reconstruction of the gas-liquid interface during \u001b[0m\n",
       "\u001b[32mdroplet\\nimpingement on the basis of images obtained in the experiment demonstrates the\\npracticality of the \u001b[0m\n",
       "\u001b[32mpresented approach based on neural networks and synthetic\\ntraining data generation. The introduction of glare \u001b[0m\n",
       "\u001b[32mpoints from lateral light\\nsources in the experiments is shown to improve the reconstruction accuracy,\\nwhich \u001b[0m\n",
       "\u001b[32mindicates that the neural network learns to leverage the additional\\nthree-dimensional information encoded in the \u001b[0m\n",
       "\u001b[32mimages for a more accurate depth\\nestimation. Furthermore, the physically reasonable reconstruction of \u001b[0m\n",
       "\u001b[32munknown\\ngas-liquid interface shapes indicates that the neural network learned a\\nversatile model of the involved \u001b[0m\n",
       "\u001b[32mtwo-phase flow phenomena during droplet\\nimpingement.'\u001b[0m,\n",
       "    \u001b[32m'The technological advance of High Numerical Aperture Extreme Ultraviolet\\nLithography \u001b[0m\u001b[32m(\u001b[0m\u001b[32mHigh NA EUVL\u001b[0m\u001b[32m)\u001b[0m\u001b[32m has \u001b[0m\n",
       "\u001b[32mopened the gates to extensive researches on\\nthinner photoresists \u001b[0m\u001b[32m(\u001b[0m\u001b[32mbelow 30nm\u001b[0m\u001b[32m)\u001b[0m\u001b[32m, necessary for the industrial \u001b[0m\n",
       "\u001b[32mimplementation\\nof High NA EUVL. Consequently, images from Scanning Electron Microscopy \u001b[0m\u001b[32m(\u001b[0m\u001b[32mSEM\u001b[0m\u001b[32m)\u001b[0m\u001b[32m\\nsuffer from reduced \u001b[0m\n",
       "\u001b[32mimaging contrast and low Signal-to-Noise Ratio \u001b[0m\u001b[32m(\u001b[0m\u001b[32mSNR\u001b[0m\u001b[32m)\u001b[0m\u001b[32m,\\nimpacting the measurement of unbiased Line Edge Roughness \u001b[0m\n",
       "\u001b[32m(\u001b[0m\u001b[32muLER\u001b[0m\u001b[32m)\u001b[0m\u001b[32m and Line Width\\nRoughness \u001b[0m\u001b[32m(\u001b[0m\u001b[32muLWR\u001b[0m\u001b[32m)\u001b[0m\u001b[32m. Thus, the aim of this work is to enhance the SNR of SEM\\nimages by using a\u001b[0m\n",
       "\u001b[32mDeep Learning denoiser and enable robust roughness extraction\\nof the thin resist. For this study, we acquired SEM \u001b[0m\n",
       "\u001b[32mimages of Line-Space \u001b[0m\u001b[32m(\u001b[0m\u001b[32mL/S\u001b[0m\u001b[32m)\u001b[0m\u001b[32m\\npatterns with a Chemically Amplified Resist \u001b[0m\u001b[32m(\u001b[0m\u001b[32mCAR\u001b[0m\u001b[32m)\u001b[0m\u001b[32m with different thicknesses\\n\u001b[0m\u001b[32m(\u001b[0m\u001b[32m15nm, \u001b[0m\n",
       "\u001b[32m20nm, 25nm, 30nm\u001b[0m\u001b[32m)\u001b[0m\u001b[32m, underlayers \u001b[0m\u001b[32m(\u001b[0m\u001b[32mSpin-On-Glass-SOG, Organic\\nUnderlayer-OUL\u001b[0m\u001b[32m)\u001b[0m\u001b[32m and frames of averaging \u001b[0m\u001b[32m(\u001b[0m\u001b[32m4, 8, 16, 32, \u001b[0m\n",
       "\u001b[32mand 64 Fr\u001b[0m\u001b[32m)\u001b[0m\u001b[32m. After\\ndenoising, a systematic analysis has been carried out on both noisy and\\ndenoised images using \u001b[0m\n",
       "\u001b[32man open-source metrology software, SMILE 2.3.2, for\\ninvestigating mean CD, SNR improvement factor, biased and \u001b[0m\n",
       "\u001b[32munbiased LWR/LER\\nPower Spectral Density \u001b[0m\u001b[32m(\u001b[0m\u001b[32mPSD\u001b[0m\u001b[32m)\u001b[0m\u001b[32m. Denoised images with lower number of frames\\npresent unaltered \u001b[0m\n",
       "\u001b[32mCritical Dimensions \u001b[0m\u001b[32m(\u001b[0m\u001b[32mCDs\u001b[0m\u001b[32m)\u001b[0m\u001b[32m, enhanced SNR \u001b[0m\u001b[32m(\u001b[0m\u001b[32mespecially for low\\nnumber of integration frames\u001b[0m\u001b[32m)\u001b[0m\u001b[32m, and accurate \u001b[0m\n",
       "\u001b[32mmeasurements of uLER and uLWR, with\\nthe same accuracy as for noisy images with a consistent higher number \u001b[0m\n",
       "\u001b[32mof\\nframes. Therefore, images with a small number of integration frames and with\\nSNR < 2 can be successfully \u001b[0m\n",
       "\u001b[32mdenoised, and advantageously used in improving\\nmetrology throughput while maintaining reliable roughness \u001b[0m\n",
       "\u001b[32mmeasurements for the\\nthin resist.'\u001b[0m,\n",
       "    \u001b[32m\"Colloidal particles can spontaneously self-assemble into ordered structures,\\nwhich not only can manipulate \u001b[0m\n",
       "\u001b[32mthe propagation of light, but also vibration or\\nphonons. Using Monte Carlo simulation, we study the self-assembly \u001b[0m\n",
       "\u001b[32mof perfectly\\naligned segment rod particles with lateral flat cutting. Under the help of\\nsurface attractions, we \u001b[0m\n",
       "\u001b[32mfind that particles with different cutting degree can\\nself-assemble into different crystal phases characterized by\u001b[0m\n",
       "\u001b[32mbond coordination\\n$z$ that varies from 3 to 6. Importantly, we identify a transformable\\nsuper-isostatic \u001b[0m\n",
       "\u001b[32mstructures with \\\\emph\u001b[0m\u001b[32m{\u001b[0m\u001b[32mpgg\u001b[0m\u001b[32m}\u001b[0m\u001b[32m symmetry and redundant bonds\\n\u001b[0m\u001b[32m(\u001b[0m\u001b[32m$\u001b[0m\u001b[32mz\u001b[0m\u001b[32m=\u001b[0m\u001b[32m5\u001b[0m\u001b[32m$\u001b[0m\u001b[32m)\u001b[0m\u001b[32m. We find that this structure can support either \u001b[0m\n",
       "\u001b[32mthe soft bulk model or\\nsoft edge model depending on its Poisson's ratio which can be tuned from\\npositive to \u001b[0m\n",
       "\u001b[32mnegative by a uniform soft deformation. Importantly, the bulk soft\\nmodes are associated with states of self-stress\u001b[0m\n",
       "\u001b[32malong the direction of zero\\nstrain during the uniform soft deformation. This self-assembled \u001b[0m\n",
       "\u001b[32mtransformable\\nsuper-isostatic structure may act as mechanical metamaterials with potential\\napplication in \u001b[0m\n",
       "\u001b[32mmicro-mechanical engineering.\"\u001b[0m,\n",
       "    \u001b[32m'A couple of applications of B\\\\\"acklund transformations in the study of\\nnonlinear evolution equations is here\u001b[0m\n",
       "\u001b[32mgiven. Specifically, we are concerned\\nabout third order nonlinear evolution equations. Our attention is focussed \u001b[0m\n",
       "\u001b[32mon\\none side, on an invariance admitted by the interacting soliton equation and, on\\nthe other one, on the \u001b[0m\n",
       "\u001b[32mconstruction of solutions. Indeed, via B\\\\\"acklund\\ntransformations, a B\\\\\"acklund chart, connecting Abelian as \u001b[0m\n",
       "\u001b[32mwell as non Abelian\\nequations can be constructed. The importance of such a net of links is twofold\\nsince it \u001b[0m\n",
       "\u001b[32mindicates invariances as well as allows to construct solutions\\nadmitted by the nonlinear evolution equations it \u001b[0m\n",
       "\u001b[32mrelates. The present study\\nrefers to third order nonlinear evolution equations of KdV type. On the basis\\nof the \u001b[0m\n",
       "\u001b[32mAbelian wide B\\\\\"acklund chart which connects various different third\\norder nonlinear evolution equations an \u001b[0m\n",
       "\u001b[32minvariance admitted by the int sol. KdV\\nequation is obtained and an explicit solution is constructed. Then, \u001b[0m\n",
       "\u001b[32mthe\\ncorresponding non-Abelian B\\\\\"acklund chart, shows how to construct matrix\\nsolutions of the mKdV equations: \u001b[0m\n",
       "\u001b[32msome recently obtained solutions are\\nreconsidered.'\u001b[0m,\n",
       "    \u001b[32m'The Jordan-Wigner transformation is frequently utilised to rewrite quantum\\nspin chains in terms of fermionic \u001b[0m\n",
       "\u001b[32moperators. When the resulting Hamiltonian is\\nbilinear in fermions, i.e. the fermions are free, the exact spectrum \u001b[0m\n",
       "\u001b[32mfollows\\nfrom the eigenvalues of a matrix typically growing only linearly with the size\\nof the system. However, \u001b[0m\n",
       "\u001b[32mseveral Hamiltonians that do not admit a Jordan-Wigner\\ntransformation to fermion bilinears still have the same \u001b[0m\n",
       "\u001b[32mtype of free-fermion\\nspectra. The spectra of such ``free fermions in disguise\" models can be found\\nexactly by an \u001b[0m\n",
       "\u001b[32mintricate but explicit construction of the raising and lowering\\noperators. We generalise the methods further to \u001b[0m\n",
       "\u001b[32mfind a family of such spin\\nchains. We compute the exact spectrum, and generalise an elegant \u001b[0m\n",
       "\u001b[32mgraph-theory\\nconstruction to our model. We also explain how this family admits an $N$=2\\nlattice supersymmetry.'\u001b[0m,\n",
       "    \u001b[32m'Protein mutations can significantly influence protein solubility, which\\nresults in altered protein functions \u001b[0m\n",
       "\u001b[32mand leads to various diseases. Despite of\\ntremendous effort, machine learning prediction of protein solubility \u001b[0m\n",
       "\u001b[32mchanges\\nupon mutation remains a challenging task as indicated by the poor scores of\\nnormalized Correct Prediction\u001b[0m\n",
       "\u001b[32mRatio \u001b[0m\u001b[32m(\u001b[0m\u001b[32mCPR\u001b[0m\u001b[32m)\u001b[0m\u001b[32m. Part of the challenge stems from the\\nfact that there is no three-dimensional \u001b[0m\u001b[32m(\u001b[0m\u001b[32m3D\u001b[0m\u001b[32m)\u001b[0m\u001b[32m structures for the \u001b[0m\n",
       "\u001b[32mwild-type and\\nmutant proteins. This work integrates persistent Laplacians and pre-trained\\nTransformer for the \u001b[0m\n",
       "\u001b[32mtask. The Transformer, pretrained with hunderds of millions\\nof protein sequences, embeds wild-type and mutant \u001b[0m\n",
       "\u001b[32msequences, while persistent\\nLaplacians track the topological invariant change and homotopic shape \u001b[0m\n",
       "\u001b[32mevolution\\ninduced by mutations in 3D protein structures, which are rendered from\\nAlphaFold2. The resulting \u001b[0m\n",
       "\u001b[32mmachine learning model was trained on an extensive\\ndata set labeled with three solubility types. Our model \u001b[0m\n",
       "\u001b[32moutperforms all\\nexisting predictive methods and improves the state-of-the-art up to 15%.'\u001b[0m,\n",
       "    \u001b[32m\"The two-dimensional transition metal carbide/nitride family \u001b[0m\u001b[32m(\u001b[0m\u001b[32mMXenes\u001b[0m\u001b[32m)\u001b[0m\u001b[32m has\\ngarnered significant attention due \u001b[0m\n",
       "\u001b[32mto their highly customizable surface\\nfunctional groups. Leveraging modern material science techniques, \u001b[0m\n",
       "\u001b[32mthe\\ncustomizability of MXenes can be enhanced further through the construction of\\nassociated heterostructures. As\u001b[0m\n",
       "\u001b[32mindicated by recent research, the Mo2CTx/NiS\\nheterostructure has emerged as a promising candidate exhibiting \u001b[0m\n",
       "\u001b[32msuperior\\nphysical and chemical application potential. The geometrical structure of\\nMo2CTx/NiS heterostructure is \u001b[0m\n",
       "\u001b[32mmodeled and 6 possible configurations are\\nvalidated by Density Functional Theory simulations. The variation in \u001b[0m\n",
       "\u001b[32mfunctional\\ngroups leads to structural changes in Mo2CTx/NiS interfaces, primarily\\nattributed to the competition \u001b[0m\n",
       "\u001b[32mbetween van der Waals and covalent interactions.\\nThe presence of different functional groups results in \u001b[0m\n",
       "\u001b[32msignificant band\\nfluctuations near the Fermi level for Ni and Mo atoms, influencing the role of\\natoms and \u001b[0m\n",
       "\u001b[32melectron's ability to escape near the interface. This, in turn,\\nmodulates the strength of covalent interactions at\u001b[0m\n",
       "\u001b[32mthe MXenes/NiS interface and\\nalters the ease of dissociation of the MXenes/NiS complex. Notably, \u001b[0m\n",
       "\u001b[32mthe\\nMo2CO2/NiS\u001b[0m\u001b[32m(\u001b[0m\u001b[32mP6_3/mmc\u001b[0m\u001b[32m)\u001b[0m\u001b[32m heterostructure exhibits polymorphism, signifying that two\\natomic arrangements can \u001b[0m\n",
       "\u001b[32mstabilize the structure. The transition process between\\nthese polymorphs is also simulated, further indicating the\u001b[0m\n",
       "\u001b[32mmodulation of the\\nelectronic level of properties by a sliding operation.\"\u001b[0m,\n",
       "    \u001b[32m\"We consider a two-time \u001b[0m\u001b[32m(\u001b[0m\u001b[32mcharacterized by distinct speeds of causality\u001b[0m\u001b[32m)\u001b[0m\u001b[32m and\\nthree-space-dimensional Minkowski \u001b[0m\n",
       "\u001b[32mspace and derive relativistic coordinate and\\nvelocity transformation formulas and expressions for a new effective \u001b[0m\n",
       "\u001b[32mspeed\\nlimit. Extending the ideas of Einstein's Theory of Special Relativity, concepts\\nof five-velocity and \u001b[0m\n",
       "\u001b[32mfive-momenta are introduced leading to a new formula for\\nthe rest energy of a massive object. Based on a \u001b[0m\n",
       "\u001b[32mnon-relativistic limit, a\\ntwo-time dependent Schroedinger-like equation is developed. Its solution for\\ninfinite \u001b[0m\n",
       "\u001b[32msquare-well potential, after compactifying the extra time dimension in\\na closed loop topology with a period \u001b[0m\n",
       "\u001b[32mmatching the Planck time, generates\\ninterference of additional quantum states with an ultra-small period \u001b[0m\n",
       "\u001b[32mof\\noscillation, as well. Some cosmological implications of the concept of\\nfour-dimensional versus \u001b[0m\n",
       "\u001b[32mfive-dimensional masses are briefly discussed, too.\"\u001b[0m,\n",
       "    \u001b[32m'Quantum-limited Josephson parametric amplifiers play a pivotal role in\\nadvancing the field of circuit quantum\u001b[0m\n",
       "\u001b[32melectrodynamics by enabling the fast and\\nhigh-fidelity measurement of weak microwave signals. Therefore, it is \u001b[0m\n",
       "\u001b[32mnecessary\\nto develop robust parametric amplifiers with low noise, broad bandwidth, and\\nreduced design complexity \u001b[0m\n",
       "\u001b[32mfor microwave detection. However, current broadband\\nparametric amplifiers either have degraded noise performance \u001b[0m\n",
       "\u001b[32mor rely on complex\\ndesigns. Here, we present a device based on the broadband impedance-transformed\\nJosephson \u001b[0m\n",
       "\u001b[32mparametric amplifier \u001b[0m\u001b[32m(\u001b[0m\u001b[32mIMPA\u001b[0m\u001b[32m)\u001b[0m\u001b[32m that integrates a horn-like coplanar\\nwaveguide \u001b[0m\u001b[32m(\u001b[0m\u001b[32mCPW\u001b[0m\u001b[32m)\u001b[0m\u001b[32m transmission line, which \u001b[0m\n",
       "\u001b[32msignificantly decreases the design and\\nfabrication complexity, while keeping comparable performance. The device \u001b[0m\n",
       "\u001b[32mshows\\nan instantaneous bandwidth of 700\u001b[0m\u001b[32m(\u001b[0m\u001b[32m200\u001b[0m\u001b[32m)\u001b[0m\u001b[32m MHz for 15\u001b[0m\u001b[32m(\u001b[0m\u001b[32m20\u001b[0m\u001b[32m)\u001b[0m\u001b[32m dB gain with an average\\nsaturation power of -110 dBm \u001b[0m\n",
       "\u001b[32mand near quantum-limited added noise. The\\noperating frequency can be tuned over 1.4 GHz using an external flux \u001b[0m\n",
       "\u001b[32mbias. We\\nfurther demonstrate the negligible back-action from our device on a transmon\\nqubit. The amplification \u001b[0m\n",
       "\u001b[32mperformance and simplicity of our device promise its\\nwide adaptation in quantum metrology, quantum communication, \u001b[0m\n",
       "\u001b[32mand quantum\\ninformation processing.'\u001b[0m,\n",
       "    \u001b[32m'We consider the Brans-Dicke theory in non-metricity gravity, which belongs to\\nthe family of symmetric \u001b[0m\n",
       "\u001b[32mteleparallel scalar-tensor theories. Our focus lies in\\nexploring the implications of the conformal transformation,\u001b[0m\n",
       "\u001b[32mas we derive the\\nconformal equivalent theory in the Einstein frame, distinct from the minimally\\ncoupled scalar \u001b[0m\n",
       "\u001b[32mfield theory. The fundamental principle of the conformal\\ntransformation suggests the mathematical equivalence of \u001b[0m\n",
       "\u001b[32mthe related theories.\\nHowever, to thoroughly analyze the impact on physical variables, we investigate\\nthe \u001b[0m\n",
       "\u001b[32mspatially flat Friedmann--Lema\\\\^\u001b[0m\u001b[32m{\u001b[0m\u001b[32m\\\\i\u001b[0m\u001b[32m}\u001b[0m\u001b[32mtre--Robertson--Walker geometry,\\ndefining the connection in the \u001b[0m\n",
       "\u001b[32mnon-coincidence gauge. We construct exact\\nsolutions for the cosmological model in one frame and compare the \u001b[0m\n",
       "\u001b[32mphysical\\nproperties in the conformal related frame. Surprisingly, we find that the\\ngeneral physical properties of\u001b[0m\n",
       "\u001b[32mthe exact solutions remain invariant under the\\nconformal transformation. Finally, we construct, for the first \u001b[0m\n",
       "\u001b[32mtime, an\\nanalytic solution for the symmetric teleparallel scalar-tensor cosmology.'\u001b[0m,\n",
       "    \u001b[32m'The control of the velocity of a high-speed laser-induced microjet is crucial\\nin applications such as \u001b[0m\n",
       "\u001b[32mneedle-free injection. Previous studies have indicated\\nthat the jet velocity is heavily influenced by the volumes \u001b[0m\n",
       "\u001b[32mof secondary\\ncavitation bubbles generated through laser absorption. However, there has been\\na lack of \u001b[0m\n",
       "\u001b[32minvestigation of the relationship between the positions of cavitation\\nbubbles and the jet velocity. In this study,\u001b[0m\n",
       "\u001b[32mwe investigate the effects of\\ncavitation bubbles on the jet velocity of laser-induced microjets extracted\\nusing \u001b[0m\n",
       "\u001b[32mexplainable artificial intelligence \u001b[0m\u001b[32m(\u001b[0m\u001b[32mXAI\u001b[0m\u001b[32m)\u001b[0m\u001b[32m. An XAI is used to classify the\\njet velocity from images of cavitation \u001b[0m\n",
       "\u001b[32mbubbles and to extract features from the\\nimages through visualization of the classification process. For this \u001b[0m\n",
       "\u001b[32mpurpose,\\nwe run 1000 experiments and collect the corresponding images. The XAI model,\\nwhich is a feedforward \u001b[0m\n",
       "\u001b[32mneural network \u001b[0m\u001b[32m(\u001b[0m\u001b[32mFNN\u001b[0m\u001b[32m)\u001b[0m\u001b[32m, is trained to classify the jet\\nvelocity from the images of cavitation bubbles. After \u001b[0m\n",
       "\u001b[32machieving a high\\nclassification accuracy, we analyze the classification process of the FNN. The\\npredictions of \u001b[0m\n",
       "\u001b[32mthe FNN, when considering the cavitation positions, show a\\nhigher correlation with the jet velocity than the \u001b[0m\n",
       "\u001b[32mresults considering only\\ncavitation volumes. Further investigation suggested that cavitation that occurs\\ncloser \u001b[0m\n",
       "\u001b[32mto the laser focus position has a higher acceleration effect. These\\nresults suggest that the velocity of a \u001b[0m\n",
       "\u001b[32mhigh-speed microjet is also affected by\\nthe cavitation position.'\u001b[0m,\n",
       "    \u001b[32m'Determination of optimal control protocols for Majorana zero modes during\\ntheir exchange is a crucial step \u001b[0m\n",
       "\u001b[32mtowards the realisation of the topological\\nquantum computer. In this paper, we study the finite-time exchange \u001b[0m\n",
       "\u001b[32mprocess of\\nMajorana zero modes on a network formed by coupled $p$-wave superconducting\\none-dimensional nanowires.\u001b[0m\n",
       "\u001b[32mWe provide scalable computational tools for\\noptimising such an exchange process relying on deep learning \u001b[0m\n",
       "\u001b[32mtechniques. To\\naccomplish the scalability, we derive and implement an analytic formula for the\\ngradient of the \u001b[0m\n",
       "\u001b[32mquantum infidelity which measures the error in the topological\\nquantum gate generation in the Majorana zero modes \u001b[0m\n",
       "\u001b[32mexchange. Our optimisation\\nstrategy relies on learning the optimised transport protocol via a neural net\\nwhich is\u001b[0m\n",
       "\u001b[32mfollowed by direct gradient descent fine tuning. The optimised\\nexchange protocols in the super-adiabatic regime \u001b[0m\n",
       "\u001b[32mdiscover the fact that the\\nMajorana zero modes must necessarily stop before crossing a junction point in\\nthe \u001b[0m\n",
       "\u001b[32mnetwork. We explain that this is caused by fast changes in the energy gap\\nof the system whenever one of the \u001b[0m\n",
       "\u001b[32mMajorana zero modes approaches a junction\\npoint. In particular, the energy gap exhibits oscillations followed by a\u001b[0m\n",
       "\u001b[32msharp\\njump. We explain this phenomenon analytically in the regime where the Majorana\\nzero modes are completely \u001b[0m\n",
       "\u001b[32mlocalised. Finally, we study how the disorder in the\\nquantum nanowire affects the exchange protocols. This shows \u001b[0m\n",
       "\u001b[32mthat understanding\\nthe disorder pattern would allow one to improve quantum gate fidelity by one to\\ntwo orders of \u001b[0m\n",
       "\u001b[32mmagnitude.'\u001b[0m,\n",
       "    \u001b[32m'The efficiency of $H_2$ production via water electrolysis is typically\\nlimited to the sluggish oxygen \u001b[0m\n",
       "\u001b[32mevolution reaction \u001b[0m\u001b[32m(\u001b[0m\u001b[32mOER\u001b[0m\u001b[32m)\u001b[0m\u001b[32m. As such, significant\\nemphasis has been placed upon improving the rate of OER through the\u001b[0m\n",
       "\u001b[32manode\\ncatalyst. More recently, the Open Catalyst 2022 \u001b[0m\u001b[32m(\u001b[0m\u001b[32mOC22\u001b[0m\u001b[32m)\u001b[0m\u001b[32m has provided a large\\ndataset of density functional \u001b[0m\n",
       "\u001b[32mtheory \u001b[0m\u001b[32m(\u001b[0m\u001b[32mDFT\u001b[0m\u001b[32m)\u001b[0m\u001b[32m calculated oxide catalysts for OER.\\nWhen coupled with state-of-the-art graph neural network models, \u001b[0m\n",
       "\u001b[32mtotal energy\\npredictions can be achieved with a mean absolute error as low as of 0.22 eV. In\\nthis work, we \u001b[0m\n",
       "\u001b[32mdemonstrate the full utility of the OC22 framework by\\nconstructing a database of the total energy predictions for \u001b[0m\n",
       "\u001b[32mall slabs and OER\\nsurface intermediates for the 3,989 oxide materials in the original OC22\\ndataset. This \u001b[0m\n",
       "\u001b[32mexpansion includes all terminations of all facets up to a maximum\\nMiller index of 1 with adsorption configurations\u001b[0m\n",
       "\u001b[32mfor the three OER\\nintermediates: $O^*$, $OH^*$ and a subset of $OOH^*$. We considered two\\nthermodynamic models to\u001b[0m\n",
       "\u001b[32minterpret surface energy: a \"variant\" model where\\nsurface energy is a function of metal concentration and an \u001b[0m\n",
       "\u001b[32m\"invariant\" model\\nwhere surface energy is fixed at the equilibrium conditions for OER. We\\nvalidated the predicted\u001b[0m\n",
       "\u001b[32moverpotentials of these stable surfaces with quantities\\nfrom the experimental literature as well as our own DFT \u001b[0m\n",
       "\u001b[32mcalculations. We then\\nconstructed a screening framework to identify viable candidate anode catalysts\\nfor OER by \u001b[0m\n",
       "\u001b[32massessing the price, thermodynamic stability, resistance to\\ncorrosion, surface stability, and overpotential. \u001b[0m\n",
       "\u001b[32mFinally we verified the\\noverpotentials and reaction energies of the final candidate catalysts using\\nDFT.'\u001b[0m,\n",
       "    \u001b[32m'Transformer neural networks show promising capabilities, in particular for\\nuses in materials analysis, design\u001b[0m\n",
       "\u001b[32mand manufacturing, including their capacity\\nto work effectively with both human language, symbols, code, and \u001b[0m\n",
       "\u001b[32mnumerical\\ndata. Here we explore the use of large language models \u001b[0m\u001b[32m(\u001b[0m\u001b[32mLLMs\u001b[0m\u001b[32m)\u001b[0m\u001b[32m as a tool that\\ncan support engineering \u001b[0m\n",
       "\u001b[32manalysis of materials, applied to retrieving key\\ninformation about subject areas, developing research hypotheses, \u001b[0m\n",
       "\u001b[32mdiscovery of\\nmechanistic relationships across disparate areas of knowledge, and writing and\\nexecuting simulation \u001b[0m\n",
       "\u001b[32mcodes for active knowledge generation based on physical\\nground truths. When used as sets of AI agents with \u001b[0m\n",
       "\u001b[32mspecific features,\\ncapabilities, and instructions, LLMs can provide powerful problem solution\\nstrategies for \u001b[0m\n",
       "\u001b[32mapplications in analysis and design problems. Our experiments\\nfocus on using a fine-tuned model, MechGPT, \u001b[0m\n",
       "\u001b[32mdeveloped based on training data in\\nthe mechanics of materials domain. We first affirm how finetuning endows \u001b[0m\n",
       "\u001b[32mLLMs\\nwith reasonable understanding of domain knowledge. However, when queried\\noutside the context of learned \u001b[0m\n",
       "\u001b[32mmatter, LLMs can have difficulty to recall\\ncorrect information. We show how this can be addressed \u001b[0m\n",
       "\u001b[32musing\\nretrieval-augmented Ontological Knowledge Graph strategies that discern how the\\nmodel understands what \u001b[0m\n",
       "\u001b[32mconcepts are important and how they are related.\\nIllustrated for a use case of relating distinct areas of \u001b[0m\n",
       "\u001b[32mknowledge - here,\\nmusic and proteins - such strategies can also provide an interpretable graph\\nstructure with \u001b[0m\n",
       "\u001b[32mrich information at the node, edge and subgraph level. We\\ndiscuss nonlinear sampling strategies and agent-based \u001b[0m\n",
       "\u001b[32mmodeling applied to\\ncomplex question answering, code generation and execution in the context of\\nautomated force \u001b[0m\n",
       "\u001b[32mfield development from actively learned Density Functional\\nTheory \u001b[0m\u001b[32m(\u001b[0m\u001b[32mDFT\u001b[0m\u001b[32m)\u001b[0m\u001b[32m modeling, and data analysis.'\u001b[0m,\n",
       "    \u001b[32m'The interaction of water with surfaces is crucially important in a wide range\\nof natural and technological \u001b[0m\n",
       "\u001b[32msettings. In particular, at low temperatures,\\nunveiling the atomistic structure of adsorbed water clusters would \u001b[0m\n",
       "\u001b[32mprovide\\nvaluable data for understanding the ice nucleation process. Using\\nhigh-resolution Atomic Force Microscopy\u001b[0m\n",
       "\u001b[32m(\u001b[0m\u001b[32mAFM\u001b[0m\u001b[32m)\u001b[0m\u001b[32m and Scanning Tunnelling\\nMicroscopy, several studies have demonstrated the presence of water \u001b[0m\n",
       "\u001b[32mpentamers,\\nhexamers, heptamers \u001b[0m\u001b[32m(\u001b[0m\u001b[32mand of their combinations\u001b[0m\u001b[32m)\u001b[0m\u001b[32m on a variety of metallic\\nsurfaces, as well the initial\u001b[0m\n",
       "\u001b[32mstages of 2D ice growth on an insulating surface.\\nHowever, in all these cases, the observed structures were \u001b[0m\n",
       "\u001b[32mcompletely flat,\\nproviding a relatively straightforward path to interpretation. Here, we present\\nhigh-resolution \u001b[0m\n",
       "\u001b[32mAFM measurements of several new water clusters on Au\u001b[0m\u001b[32m(\u001b[0m\u001b[32m111\u001b[0m\u001b[32m)\u001b[0m\u001b[32m and\\nCu\u001b[0m\u001b[32m(\u001b[0m\u001b[32m111\u001b[0m\u001b[32m)\u001b[0m\u001b[32m, whose understanding presents significant \u001b[0m\n",
       "\u001b[32mchallenges, due to both their\\nhighly 3D configuration and to their large size. For each of them, we use \u001b[0m\n",
       "\u001b[32ma\\ncombination of machine learning, atomistic modelling with neural network\\npotentials and statistical sampling to\u001b[0m\n",
       "\u001b[32mpropose an underlying atomic structure,\\nfinally comparing its AFM simulated images to the experimental ones. \u001b[0m\n",
       "\u001b[32mThese\\nresults provide new insights into the early phases of ice formation, which is a\\nubiquitous phenomenon \u001b[0m\n",
       "\u001b[32mranging from biology to astrophysics.'\u001b[0m,\n",
       "    \u001b[32m'We determine the phase diagram of strongly correlated fermions in the\\ncrossover from Bose-Einstein \u001b[0m\n",
       "\u001b[32mcondensates of molecules \u001b[0m\u001b[32m(\u001b[0m\u001b[32mBEC\u001b[0m\u001b[32m)\u001b[0m\u001b[32m to Cooper pairs of\\nfermions \u001b[0m\u001b[32m(\u001b[0m\u001b[32mBCS\u001b[0m\u001b[32m)\u001b[0m\u001b[32m utilizing an artificial neural network. By \u001b[0m\n",
       "\u001b[32mapplying advanced\\nimage recognition techniques to the momentum distribution of the fermions, a\\nquantity which has\u001b[0m\n",
       "\u001b[32mbeen widely considered as featureless for providing\\ninformation about the condensed state, we measure the critical\u001b[0m\n",
       "\u001b[32mtemperature and\\nshow that it exhibits a maximum on the bosonic side of the crossover.\\nAdditionally, we \u001b[0m\n",
       "\u001b[32mback-analyze the trained neural network and demonstrate that\\nit interprets physically relevant quantities.'\u001b[0m,\n",
       "    \u001b[32m\"Predicting chemical reactions, a fundamental challenge in chemistry, involves\\nforecasting the resulting \u001b[0m\n",
       "\u001b[32mproducts from a given reaction process. Conventional\\ntechniques, notably those employing Graph Neural Networks \u001b[0m\n",
       "\u001b[32m(\u001b[0m\u001b[32mGNNs\u001b[0m\u001b[32m)\u001b[0m\u001b[32m, are often\\nlimited by insufficient training data and their inability to utilize textual\\ninformation, \u001b[0m\n",
       "\u001b[32mundermining their applicability in real-world applications. In\\nthis work, we propose ReLM, a novel framework that \u001b[0m\n",
       "\u001b[32mleverages the chemical\\nknowledge encoded in language models \u001b[0m\u001b[32m(\u001b[0m\u001b[32mLMs\u001b[0m\u001b[32m)\u001b[0m\u001b[32m to assist GNNs, thereby enhancing\\nthe accuracy \u001b[0m\n",
       "\u001b[32mof real-world chemical reaction predictions. To further enhance\\nthe model's robustness and interpretability, we \u001b[0m\n",
       "\u001b[32mincorporate the confidence\\nscore strategy, enabling the LMs to self-assess the reliability of their\\npredictions. \u001b[0m\n",
       "\u001b[32mOur experimental results demonstrate that ReLM improves the\\nperformance of state-of-the-art GNN-based methods \u001b[0m\n",
       "\u001b[32macross various chemical\\nreaction datasets, especially in out-of-distribution settings. Codes are\\navailable at \u001b[0m\n",
       "\u001b[32mhttps://github.com/syr-cn/ReLM.\"\u001b[0m,\n",
       "    \u001b[32m'Sparse regression and feature extraction are the cornerstones of knowledge\\ndiscovery from massive data. Their\u001b[0m\n",
       "\u001b[32mgoal is to discover interpretable and\\npredictive models that provide simple relationships among scientific \u001b[0m\n",
       "\u001b[32mvariables.\\nWhile the statistical tools for model discovery are well established in the\\ncontext of linear \u001b[0m\n",
       "\u001b[32mregression, their generalization to nonlinear regression in\\nmaterial modeling is highly problem-specific and \u001b[0m\n",
       "\u001b[32minsufficiently understood.\\nHere we explore the potential of neural networks for automatic model discovery\\nand \u001b[0m\n",
       "\u001b[32minduce sparsity by a hybrid approach that combines two strategies:\\nregularization and physical constraints. We \u001b[0m\n",
       "\u001b[32mintegrate the concept of Lp\\nregularization for subset selection with constitutive neural networks that\\nleverage \u001b[0m\n",
       "\u001b[32mour domain knowledge in kinematics and thermodynamics. We train our\\nnetworks with both, synthetic and real data, \u001b[0m\n",
       "\u001b[32mand perform several thousand\\ndiscovery runs to infer common guidelines and trends: L2 regularization or\\nridge \u001b[0m\n",
       "\u001b[32mregression is unsuitable for model discovery; L1 regularization or lasso\\npromotes sparsity, but induces strong \u001b[0m\n",
       "\u001b[32mbias; only L0 regularization allows us to\\ntransparently fine-tune the trade-off between interpretability \u001b[0m\n",
       "\u001b[32mand\\npredictability, simplicity and accuracy, and bias and variance. With these\\ninsights, we demonstrate that Lp \u001b[0m\n",
       "\u001b[32mregularized constitutive neural networks can\\nsimultaneously discover both, interpretable models and physically \u001b[0m\n",
       "\u001b[32mmeaningful\\nparameters. We anticipate that our findings will generalize to alternative\\ndiscovery techniques such \u001b[0m\n",
       "\u001b[32mas sparse and symbolic regression, and to other\\ndomains such as biology, chemistry, or medicine. Our ability to \u001b[0m\n",
       "\u001b[32mautomatically\\ndiscover material models from data could have tremendous applications in\\ngenerative material design\u001b[0m\n",
       "\u001b[32mand open new opportunities to manipulate matter,\\nalter properties of existing materials, and discover new \u001b[0m\n",
       "\u001b[32mmaterials with\\nuser-defined properties.'\u001b[0m,\n",
       "    \u001b[32m'Predicting quantum chemical properties is a fundamental challenge for\\ncomputational chemistry. While the \u001b[0m\n",
       "\u001b[32mdevelopment of graph neural networks has\\nadvanced molecular representation learning and property prediction, \u001b[0m\n",
       "\u001b[32mtheir\\nperformance could be further enhanced by incorporating 3D structural geometry\\ninto 2D molecular graph \u001b[0m\n",
       "\u001b[32mrepresentation. In this study, we introduce the\\nPointGAT model for quantum molecular property prediction, which \u001b[0m\n",
       "\u001b[32mintegrates 3D\\nmolecular coordinates with graph-attention modeling. Comparison with other\\ncurrent models in \u001b[0m\n",
       "\u001b[32mmolecular prediction tasks showed that PointGAT could provide\\nhigher predictive accuracy in various benchmark \u001b[0m\n",
       "\u001b[32mdatasets from MoleculeNet,\\nincluding ESOL, FreeSolv, Lipop, HIV, and 10 out of 12 tasks of the QM9\\ndataset. To \u001b[0m\n",
       "\u001b[32mfurther examine PointGAT prediction of quantum mechanical \u001b[0m\u001b[32m(\u001b[0m\u001b[32mQM\u001b[0m\u001b[32m)\u001b[0m\u001b[32m\\nenergies, we constructed a C10 dataset comprising \u001b[0m\n",
       "\u001b[32m11,841 charged and chiral\\ncarbocation intermediates with QM energies calculated at the\\nDM21/6-31G*//B3LYP/6-31G* \u001b[0m\n",
       "\u001b[32mlevels. Notably, PointGAT achieved an R2 value of\\n0.950 and an MAE of 1.616 kcal/mol, outperforming other models. \u001b[0m\n",
       "\u001b[32mAdditional\\nablation studies indicated that incorporating molecular geometry into the model\\nresulted in markedly \u001b[0m\n",
       "\u001b[32mhigher predictive accuracy, reducing the MAE value from\\n1.802 kcal/mol to 1.616 kcal/mol. Moreover, visualization \u001b[0m\n",
       "\u001b[32mof PointGAT atomic\\nattention weights suggested its predictions were interpretable. Findings in\\nthis study support\u001b[0m\n",
       "\u001b[32mthe application of PointGAT as a powerful and versatile tool\\nfor quantum chemical property prediction that can \u001b[0m\n",
       "\u001b[32mfacilitate high-accuracy\\nmodeling for fundamental exploration of chemical space as well as drug design\\nand \u001b[0m\n",
       "\u001b[32mmolecular engineering.'\u001b[0m\n",
       "\u001b[1m]\u001b[0m\n"
      ]
     },
     "metadata": {},
     "output_type": "display_data"
    }
   ],
   "source": [
    "print(df_cluster.abstract.values.tolist())"
   ]
  },
  {
   "attachments": {
    "image.png": {
     "image/png": "[encoded data removed]"
    }
   },
   "cell_type": "markdown",
   "metadata": {},
   "source": [
    "Raw stuffing took 5min for cluster n°5\n",
    "![image.png](attachment:image.png)"
   ]
  },
  {
   "cell_type": "code",
   "execution_count": null,
   "metadata": {},
   "outputs": [],
   "source": []
  },
  {
   "cell_type": "markdown",
   "metadata": {},
   "source": [
    "### [WIP] Resursive adaptive-window stuffing"
   ]
  },
  {
   "cell_type": "code",
   "execution_count": 68,
   "metadata": {},
   "outputs": [
    {
     "data": {
      "text/html": [
       "<pre style=\"white-space:pre;overflow-x:auto;line-height:normal;font-family:Menlo,'DejaVu Sans Mono',consolas,'Courier New',monospace\">Size of cluster n°<span style=\"color: #008080; text-decoration-color: #008080; font-weight: bold\">2</span>: <span style=\"color: #008080; text-decoration-color: #008080; font-weight: bold\">24</span>\n",
       "</pre>\n"
      ],
      "text/plain": [
       "Size of cluster n°\u001b[1;36m2\u001b[0m: \u001b[1;36m24\u001b[0m\n"
      ]
     },
     "metadata": {},
     "output_type": "display_data"
    },
    {
     "data": {
      "text/html": [
       "<div>\n",
       "<style scoped>\n",
       "    .dataframe tbody tr th:only-of-type {\n",
       "        vertical-align: middle;\n",
       "    }\n",
       "\n",
       "    .dataframe tbody tr th {\n",
       "        vertical-align: top;\n",
       "    }\n",
       "\n",
       "    .dataframe thead th {\n",
       "        text-align: right;\n",
       "    }\n",
       "</style>\n",
       "<table border=\"1\" class=\"dataframe\">\n",
       "  <thead>\n",
       "    <tr style=\"text-align: right;\">\n",
       "      <th></th>\n",
       "      <th>umap_0</th>\n",
       "      <th>umap_1</th>\n",
       "      <th>ID</th>\n",
       "      <th>title</th>\n",
       "      <th>abstract</th>\n",
       "      <th>date</th>\n",
       "      <th>category</th>\n",
       "      <th>cluster</th>\n",
       "      <th>noise</th>\n",
       "    </tr>\n",
       "  </thead>\n",
       "  <tbody>\n",
       "    <tr>\n",
       "      <th>31</th>\n",
       "      <td>0.039977</td>\n",
       "      <td>0.298236</td>\n",
       "      <td>http://arxiv.org/abs/2310.19513v1</td>\n",
       "      <td>Inverse folding for antibody sequence design u...</td>\n",
       "      <td>We consider the problem of antibody sequence d...</td>\n",
       "      <td>2023-10-30 13:12:41+00:00</td>\n",
       "      <td>q-bio.BM</td>\n",
       "      <td>5</td>\n",
       "      <td>0</td>\n",
       "    </tr>\n",
       "    <tr>\n",
       "      <th>33</th>\n",
       "      <td>0.026125</td>\n",
       "      <td>0.331508</td>\n",
       "      <td>http://arxiv.org/abs/2310.19374v1</td>\n",
       "      <td>Measuring arrangement and size distributions o...</td>\n",
       "      <td>In microfluidic systems, droplets undergo intr...</td>\n",
       "      <td>2023-10-30 09:29:39+00:00</td>\n",
       "      <td>physics.flu-dyn</td>\n",
       "      <td>5</td>\n",
       "      <td>0</td>\n",
       "    </tr>\n",
       "  </tbody>\n",
       "</table>\n",
       "</div>"
      ],
      "text/plain": [
       "      umap_0    umap_1                                 ID  \\\n",
       "31  0.039977  0.298236  http://arxiv.org/abs/2310.19513v1   \n",
       "33  0.026125  0.331508  http://arxiv.org/abs/2310.19374v1   \n",
       "\n",
       "                                                title  \\\n",
       "31  Inverse folding for antibody sequence design u...   \n",
       "33  Measuring arrangement and size distributions o...   \n",
       "\n",
       "                                             abstract  \\\n",
       "31  We consider the problem of antibody sequence d...   \n",
       "33  In microfluidic systems, droplets undergo intr...   \n",
       "\n",
       "                         date         category cluster  noise  \n",
       "31  2023-10-30 13:12:41+00:00         q-bio.BM       5      0  \n",
       "33  2023-10-30 09:29:39+00:00  physics.flu-dyn       5      0  "
      ]
     },
     "execution_count": 68,
     "metadata": {},
     "output_type": "execute_result"
    }
   ],
   "source": [
    "df_cluster = df_umap.query(\"cluster=='5'\").copy()\n",
    "print(f\"Size of cluster n°{cluster_idx}: {df_cluster.shape[0]}\")\n",
    "df_cluster.head(2)"
   ]
  },
  {
   "cell_type": "code",
   "execution_count": 66,
   "metadata": {},
   "outputs": [
    {
     "data": {
      "text/plain": [
       "PromptTemplate(input_variables=['text'], template='<s>[INST]You will be provided with a list of scientific paper abstracts that you must summarize.\\nWrite a concise summary which focuses on the theme of the provided group of papers.\\nHere is the list of abtracts:\\n\"{text}\"\\nCONCISE SUMMARY: [/INST]')"
      ]
     },
     "execution_count": 66,
     "metadata": {},
     "output_type": "execute_result"
    }
   ],
   "source": [
    "prompt"
   ]
  },
  {
   "cell_type": "code",
   "execution_count": 67,
   "metadata": {},
   "outputs": [
    {
     "data": {
      "text/plain": [
       "'<s>[INST]You will be provided with a list of scientific paper abstracts that you must summarize.\\nWrite a concise summary which focuses on the theme of the provided group of papers.\\nHere is the list of abtracts:\\n\"{text}\"\\nCONCISE SUMMARY: [/INST]'"
      ]
     },
     "execution_count": 67,
     "metadata": {},
     "output_type": "execute_result"
    }
   ],
   "source": [
    "prompt_template"
   ]
  },
  {
   "cell_type": "code",
   "execution_count": null,
   "metadata": {},
   "outputs": [],
   "source": [
    "def summarize(\n",
    "    hf_pipe: HuggingFacePipeline, \n",
    "    prompt_template: str,\n",
    "    docs: List[Document],\n",
    ") -> str:\n",
    "    \n",
    "    # define Stuff chain\n",
    "    prompt = PromptTemplate.from_template(prompt_template)\n",
    "    llm_chain = LLMChain(llm=hf_pipe, prompt=prompt)\n",
    "    stuff_chain = StuffDocumentsChain(llm_chain=llm_chain, document_variable_name=\"text\")\n",
    "\n",
    "    # TODO: sort documents based on their distance to O (origin)\n",
    "\n",
    "\n",
    "    # get max sequence length\n",
    "    # TODO: check this value is valid and functional \n",
    "    # --> https://github.com/huggingface/transformers/blob/f1cc6157210abd9ea953da097fb704a1dd778638/src/transformers/models/mistral/configuration_mistral.py#L63 \n",
    "    Lt_max = hf_pipe.pipeline.model.config.max_position_embeddings\n",
    "\n",
    "    # compute number of promt tokens\n",
    "    Lt_prompt = hf_pipe.get_num_tokens(prompt_template)\n",
    "\n",
    "    # compute nmber of tokens for docs\n",
    "    Lt_docs_list = [hf_pipe.get_num_tokens(doc.page_content) for doc in docs]\n",
    "    Lt_docs = np.sum(Lt_docs_list)\n",
    "    \n",
    "    # end case\n",
    "    # TODO: check if this context_length is valid\n",
    "    if Lt_docs + Lt_prompt <= Lt_max:\n",
    "        return stuff_chain.run(docs)\n",
    "    \n",
    "    else:\n",
    "\n",
    "        news_docs = []\n",
    "        j1, j2 = 0, 1\n",
    "\n",
    "        while j1 < len(docs) and j2 < len(docs):\n",
    "\n",
    "            if np.sum(Lt_docs_list[j1:j2+1])\n",
    "\n",
    "\n",
    "    "
   ]
  },
  {
   "cell_type": "code",
   "execution_count": null,
   "metadata": {},
   "outputs": [],
   "source": []
  },
  {
   "cell_type": "code",
   "execution_count": null,
   "metadata": {},
   "outputs": [],
   "source": []
  },
  {
   "cell_type": "code",
   "execution_count": null,
   "metadata": {},
   "outputs": [],
   "source": []
  },
  {
   "cell_type": "code",
   "execution_count": 137,
   "metadata": {},
   "outputs": [
    {
     "data": {
      "text/plain": [
       "32768"
      ]
     },
     "execution_count": 137,
     "metadata": {},
     "output_type": "execute_result"
    }
   ],
   "source": [
    "hf.pipeline.model.config.max_position_embeddings"
   ]
  },
  {
   "cell_type": "code",
   "execution_count": 106,
   "metadata": {},
   "outputs": [
    {
     "data": {
      "text/plain": [
       "(32768, 32768)"
      ]
     },
     "execution_count": 106,
     "metadata": {},
     "output_type": "execute_result"
    }
   ],
   "source": [
    "32768, 32 * 1024"
   ]
  },
  {
   "cell_type": "code",
   "execution_count": 116,
   "metadata": {},
   "outputs": [
    {
     "data": {
      "text/plain": [
       "MistralForCausalLM(\n",
       "  (model): MistralModel(\n",
       "    (embed_tokens): Embedding(32000, 4096)\n",
       "    (layers): ModuleList(\n",
       "      (0-31): 32 x MistralDecoderLayer(\n",
       "        (self_attn): MistralAttention(\n",
       "          (q_proj): Linear(in_features=4096, out_features=4096, bias=False)\n",
       "          (k_proj): Linear(in_features=4096, out_features=1024, bias=False)\n",
       "          (v_proj): Linear(in_features=4096, out_features=1024, bias=False)\n",
       "          (o_proj): Linear(in_features=4096, out_features=4096, bias=False)\n",
       "          (rotary_emb): MistralRotaryEmbedding()\n",
       "        )\n",
       "        (mlp): MistralMLP(\n",
       "          (gate_proj): Linear(in_features=4096, out_features=14336, bias=False)\n",
       "          (up_proj): Linear(in_features=4096, out_features=14336, bias=False)\n",
       "          (down_proj): Linear(in_features=14336, out_features=4096, bias=False)\n",
       "          (act_fn): SiLU()\n",
       "        )\n",
       "        (input_layernorm): MistralRMSNorm()\n",
       "        (post_attention_layernorm): MistralRMSNorm()\n",
       "      )\n",
       "    )\n",
       "    (norm): MistralRMSNorm()\n",
       "  )\n",
       "  (lm_head): Linear(in_features=4096, out_features=32000, bias=False)\n",
       ")"
      ]
     },
     "execution_count": 116,
     "metadata": {},
     "output_type": "execute_result"
    }
   ],
   "source": [
    "hf.pipeline.model"
   ]
  },
  {
   "cell_type": "code",
   "execution_count": 132,
   "metadata": {},
   "outputs": [
    {
     "data": {
      "text/html": [
       "<pre style=\"white-space:pre;overflow-x:auto;line-height:normal;font-family:Menlo,'DejaVu Sans Mono',consolas,'Courier New',monospace\"><span style=\"color: #000080; text-decoration-color: #000080\">╭─ </span><span style=\"color: #800080; text-decoration-color: #800080; font-weight: bold\">MistralForCausalLM</span><span style=\"color: #000080; text-decoration-color: #000080; font-weight: bold\">(</span><span style=\"color: #000080; text-decoration-color: #000080\">   </span><span style=\"color: #000080; text-decoration-color: #000080; font-weight: bold\">(</span><span style=\"color: #000080; text-decoration-color: #000080\">model</span><span style=\"color: #000080; text-decoration-color: #000080; font-weight: bold\">)</span><span style=\"color: #000080; text-decoration-color: #000080\">: </span><span style=\"color: #800080; text-decoration-color: #800080; font-weight: bold\">MistralModel</span><span style=\"color: #000080; text-decoration-color: #000080; font-weight: bold\">(</span><span style=\"color: #000080; text-decoration-color: #000080\">     </span><span style=\"color: #000080; text-decoration-color: #000080; font-weight: bold\">(</span><span style=\"color: #000080; text-decoration-color: #000080\">embed_tokens</span><span style=\"color: #000080; text-decoration-color: #000080; font-weight: bold\">)</span><span style=\"color: #000080; text-decoration-color: #000080\">: </span><span style=\"color: #800080; text-decoration-color: #800080; font-weight: bold\">Embedding</span><span style=\"color: #000080; text-decoration-color: #000080; font-weight: bold\">(</span><span style=\"color: #008080; text-decoration-color: #008080; font-weight: bold\">32000</span><span style=\"color: #000080; text-decoration-color: #000080\">, </span><span style=\"color: #008080; text-decoration-color: #008080; font-weight: bold\">4096</span><span style=\"color: #000080; text-decoration-color: #000080; font-weight: bold\">)</span><span style=\"color: #000080; text-decoration-color: #000080\">     </span><span style=\"color: #000080; text-decoration-color: #000080; font-weight: bold\">(</span><span style=\"color: #000080; text-decoration-color: #000080\">layers</span><span style=\"color: #000080; text-decoration-color: #000080; font-weight: bold\">)</span><span style=\"color: #000080; text-decoration-color: #000080\">: </span><span style=\"color: #800080; text-decoration-color: #800080; font-weight: bold\">ModuleLi</span><span style=\"color: #000080; text-decoration-color: #000080\">─╮</span>\n",
       "<span style=\"color: #000080; text-decoration-color: #000080\">│</span> <span style=\"color: #00ffff; text-decoration-color: #00ffff; font-style: italic\">def </span><span style=\"font-weight: bold\">(</span>*args, **kwargs<span style=\"font-weight: bold\">)</span>:                                                                                          <span style=\"color: #000080; text-decoration-color: #000080\">│</span>\n",
       "<span style=\"color: #000080; text-decoration-color: #000080\">│</span>                                                                                                                 <span style=\"color: #000080; text-decoration-color: #000080\">│</span>\n",
       "<span style=\"color: #000080; text-decoration-color: #000080\">│</span>               <span style=\"color: #808000; text-decoration-color: #808000; font-style: italic\">base_model_prefix</span> = <span style=\"color: #008000; text-decoration-color: #008000\">'model'</span>                                                                       <span style=\"color: #000080; text-decoration-color: #000080\">│</span>\n",
       "<span style=\"color: #000080; text-decoration-color: #000080\">│</span>                 <span style=\"color: #808000; text-decoration-color: #808000; font-style: italic\">call_super_init</span> = <span style=\"color: #ff0000; text-decoration-color: #ff0000; font-style: italic\">False</span>                                                                         <span style=\"color: #000080; text-decoration-color: #000080\">│</span>\n",
       "<span style=\"color: #000080; text-decoration-color: #000080\">│</span>                          <span style=\"color: #808000; text-decoration-color: #808000; font-style: italic\">config</span> = MistralConfig <span style=\"font-weight: bold\">{</span>                                                               <span style=\"color: #000080; text-decoration-color: #000080\">│</span>\n",
       "<span style=\"color: #000080; text-decoration-color: #000080\">│</span>                                     <span style=\"color: #008000; text-decoration-color: #008000\">\"_name_or_path\"</span>: <span style=\"color: #008000; text-decoration-color: #008000\">\"mistralai/Mistral-7B-Instruct-v0.2\"</span>,                      <span style=\"color: #000080; text-decoration-color: #000080\">│</span>\n",
       "<span style=\"color: #000080; text-decoration-color: #000080\">│</span>                                     <span style=\"color: #008000; text-decoration-color: #008000\">\"architectures\"</span>: <span style=\"font-weight: bold\">[</span>                                                          <span style=\"color: #000080; text-decoration-color: #000080\">│</span>\n",
       "<span style=\"color: #000080; text-decoration-color: #000080\">│</span>                                       <span style=\"color: #008000; text-decoration-color: #008000\">\"MistralForCausalLM\"</span>                                                      <span style=\"color: #000080; text-decoration-color: #000080\">│</span>\n",
       "<span style=\"color: #000080; text-decoration-color: #000080\">│</span>                                     <span style=\"font-weight: bold\">]</span>,                                                                          <span style=\"color: #000080; text-decoration-color: #000080\">│</span>\n",
       "<span style=\"color: #000080; text-decoration-color: #000080\">│</span>                                     <span style=\"color: #008000; text-decoration-color: #008000\">\"attention_dropout\"</span>: <span style=\"color: #008080; text-decoration-color: #008080; font-weight: bold\">0.0</span>,                                                   <span style=\"color: #000080; text-decoration-color: #000080\">│</span>\n",
       "<span style=\"color: #000080; text-decoration-color: #000080\">│</span>                                     <span style=\"color: #008000; text-decoration-color: #008000\">\"bos_token_id\"</span>: <span style=\"color: #008080; text-decoration-color: #008080; font-weight: bold\">1</span>,                                                          <span style=\"color: #000080; text-decoration-color: #000080\">│</span>\n",
       "<span style=\"color: #000080; text-decoration-color: #000080\">│</span>                                     <span style=\"color: #008000; text-decoration-color: #008000\">\"eos_token_id\"</span>: <span style=\"color: #008080; text-decoration-color: #008080; font-weight: bold\">2</span>,                                                          <span style=\"color: #000080; text-decoration-color: #000080\">│</span>\n",
       "<span style=\"color: #000080; text-decoration-color: #000080\">│</span>                                     <span style=\"color: #008000; text-decoration-color: #008000\">\"hidden_act\"</span>: <span style=\"color: #008000; text-decoration-color: #008000\">\"silu\"</span>,                                                       <span style=\"color: #000080; text-decoration-color: #000080\">│</span>\n",
       "<span style=\"color: #000080; text-decoration-color: #000080\">│</span>                                     <span style=\"color: #008000; text-decoration-color: #008000\">\"hidden_size\"</span>: <span style=\"color: #008080; text-decoration-color: #008080; font-weight: bold\">4096</span>,                                                        <span style=\"color: #000080; text-decoration-color: #000080\">│</span>\n",
       "<span style=\"color: #000080; text-decoration-color: #000080\">│</span>                                     <span style=\"color: #008000; text-decoration-color: #008000\">\"initializer_range\"</span>: <span style=\"color: #008080; text-decoration-color: #008080; font-weight: bold\">0.02</span>,                                                  <span style=\"color: #000080; text-decoration-color: #000080\">│</span>\n",
       "<span style=\"color: #000080; text-decoration-color: #000080\">│</span>                                     <span style=\"color: #008000; text-decoration-color: #008000\">\"intermediate_size\"</span>: <span style=\"color: #008080; text-decoration-color: #008080; font-weight: bold\">14336</span>,                                                 <span style=\"color: #000080; text-decoration-color: #000080\">│</span>\n",
       "<span style=\"color: #000080; text-decoration-color: #000080\">│</span>                                     <span style=\"color: #008000; text-decoration-color: #008000\">\"max_position_embeddings\"</span>: <span style=\"color: #008080; text-decoration-color: #008080; font-weight: bold\">32768</span>,                                           <span style=\"color: #000080; text-decoration-color: #000080\">│</span>\n",
       "<span style=\"color: #000080; text-decoration-color: #000080\">│</span>                                     <span style=\"color: #008000; text-decoration-color: #008000\">\"model_type\"</span>: <span style=\"color: #008000; text-decoration-color: #008000\">\"mistral\"</span>,                                                    <span style=\"color: #000080; text-decoration-color: #000080\">│</span>\n",
       "<span style=\"color: #000080; text-decoration-color: #000080\">│</span>                                     <span style=\"color: #008000; text-decoration-color: #008000\">\"num_attention_heads\"</span>: <span style=\"color: #008080; text-decoration-color: #008080; font-weight: bold\">32</span>,                                                  <span style=\"color: #000080; text-decoration-color: #000080\">│</span>\n",
       "<span style=\"color: #000080; text-decoration-color: #000080\">│</span>                                     <span style=\"color: #008000; text-decoration-color: #008000\">\"num_hidden_layers\"</span>: <span style=\"color: #008080; text-decoration-color: #008080; font-weight: bold\">32</span>,                                                    <span style=\"color: #000080; text-decoration-color: #000080\">│</span>\n",
       "<span style=\"color: #000080; text-decoration-color: #000080\">│</span>                                     <span style=\"color: #008000; text-decoration-color: #008000\">\"num_key_value_heads\"</span>: <span style=\"color: #008080; text-decoration-color: #008080; font-weight: bold\">8</span>,                                                   <span style=\"color: #000080; text-decoration-color: #000080\">│</span>\n",
       "<span style=\"color: #000080; text-decoration-color: #000080\">│</span>                                     <span style=\"color: #008000; text-decoration-color: #008000\">\"rms_norm_eps\"</span>: <span style=\"color: #008080; text-decoration-color: #008080; font-weight: bold\">1e-05</span>,                                                      <span style=\"color: #000080; text-decoration-color: #000080\">│</span>\n",
       "<span style=\"color: #000080; text-decoration-color: #000080\">│</span>                                     <span style=\"color: #008000; text-decoration-color: #008000\">\"rope_theta\"</span>: <span style=\"color: #008080; text-decoration-color: #008080; font-weight: bold\">1000000.0</span>,                                                    <span style=\"color: #000080; text-decoration-color: #000080\">│</span>\n",
       "<span style=\"color: #000080; text-decoration-color: #000080\">│</span>                                     <span style=\"color: #008000; text-decoration-color: #008000\">\"sliding_window\"</span>: null,                                                     <span style=\"color: #000080; text-decoration-color: #000080\">│</span>\n",
       "<span style=\"color: #000080; text-decoration-color: #000080\">│</span>                                     <span style=\"color: #008000; text-decoration-color: #008000\">\"tie_word_embeddings\"</span>: false,                                               <span style=\"color: #000080; text-decoration-color: #000080\">│</span>\n",
       "<span style=\"color: #000080; text-decoration-color: #000080\">│</span>                                     <span style=\"color: #008000; text-decoration-color: #008000\">\"torch_dtype\"</span>: <span style=\"color: #008000; text-decoration-color: #008000\">\"bfloat16\"</span>,                                                  <span style=\"color: #000080; text-decoration-color: #000080\">│</span>\n",
       "<span style=\"color: #000080; text-decoration-color: #000080\">│</span>                                     <span style=\"color: #008000; text-decoration-color: #008000\">\"transformers_version\"</span>: <span style=\"color: #008000; text-decoration-color: #008000\">\"4.36.2\"</span>,                                           <span style=\"color: #000080; text-decoration-color: #000080\">│</span>\n",
       "<span style=\"color: #000080; text-decoration-color: #000080\">│</span>                                     <span style=\"color: #008000; text-decoration-color: #008000\">\"use_cache\"</span>: true,                                                          <span style=\"color: #000080; text-decoration-color: #000080\">│</span>\n",
       "<span style=\"color: #000080; text-decoration-color: #000080\">│</span>                                     <span style=\"color: #008000; text-decoration-color: #008000\">\"vocab_size\"</span>: <span style=\"color: #008080; text-decoration-color: #008080; font-weight: bold\">32000</span>                                                         <span style=\"color: #000080; text-decoration-color: #000080\">│</span>\n",
       "<span style=\"color: #000080; text-decoration-color: #000080\">│</span>                                   <span style=\"font-weight: bold\">}</span>                                                                             <span style=\"color: #000080; text-decoration-color: #000080\">│</span>\n",
       "<span style=\"color: #000080; text-decoration-color: #000080\">│</span>                          <span style=\"color: #808000; text-decoration-color: #808000; font-style: italic\">device</span> = <span style=\"color: #800080; text-decoration-color: #800080; font-weight: bold\">device</span><span style=\"font-weight: bold\">(</span><span style=\"color: #808000; text-decoration-color: #808000\">type</span>=<span style=\"color: #008000; text-decoration-color: #008000\">'cuda'</span>, <span style=\"color: #808000; text-decoration-color: #808000\">index</span>=<span style=\"color: #008080; text-decoration-color: #008080; font-weight: bold\">0</span><span style=\"font-weight: bold\">)</span>                                                  <span style=\"color: #000080; text-decoration-color: #000080\">│</span>\n",
       "<span style=\"color: #000080; text-decoration-color: #000080\">│</span>                           <span style=\"color: #808000; text-decoration-color: #808000; font-style: italic\">dtype</span> = torch.bfloat16                                                                <span style=\"color: #000080; text-decoration-color: #000080\">│</span>\n",
       "<span style=\"color: #000080; text-decoration-color: #000080\">│</span>                    <span style=\"color: #808000; text-decoration-color: #808000; font-style: italic\">dummy_inputs</span> = <span style=\"font-weight: bold\">{</span>                                                                             <span style=\"color: #000080; text-decoration-color: #000080\">│</span>\n",
       "<span style=\"color: #000080; text-decoration-color: #000080\">│</span>                                       <span style=\"color: #008000; text-decoration-color: #008000\">'input_ids'</span>: <span style=\"color: #800080; text-decoration-color: #800080; font-weight: bold\">tensor</span><span style=\"font-weight: bold\">([[</span><span style=\"color: #008080; text-decoration-color: #008080; font-weight: bold\">7</span>, <span style=\"color: #008080; text-decoration-color: #008080; font-weight: bold\">6</span>, <span style=\"color: #008080; text-decoration-color: #008080; font-weight: bold\">0</span>, <span style=\"color: #008080; text-decoration-color: #008080; font-weight: bold\">0</span>, <span style=\"color: #008080; text-decoration-color: #008080; font-weight: bold\">1</span><span style=\"font-weight: bold\">]</span>,                                     <span style=\"color: #000080; text-decoration-color: #000080\">│</span>\n",
       "<span style=\"color: #000080; text-decoration-color: #000080\">│</span>                                           <span style=\"font-weight: bold\">[</span><span style=\"color: #008080; text-decoration-color: #008080; font-weight: bold\">1</span>, <span style=\"color: #008080; text-decoration-color: #008080; font-weight: bold\">2</span>, <span style=\"color: #008080; text-decoration-color: #008080; font-weight: bold\">3</span>, <span style=\"color: #008080; text-decoration-color: #008080; font-weight: bold\">0</span>, <span style=\"color: #008080; text-decoration-color: #008080; font-weight: bold\">0</span><span style=\"font-weight: bold\">]</span>,                                                      <span style=\"color: #000080; text-decoration-color: #000080\">│</span>\n",
       "<span style=\"color: #000080; text-decoration-color: #000080\">│</span>                                           <span style=\"font-weight: bold\">[</span><span style=\"color: #008080; text-decoration-color: #008080; font-weight: bold\">0</span>, <span style=\"color: #008080; text-decoration-color: #008080; font-weight: bold\">0</span>, <span style=\"color: #008080; text-decoration-color: #008080; font-weight: bold\">0</span>, <span style=\"color: #008080; text-decoration-color: #008080; font-weight: bold\">4</span>, <span style=\"color: #008080; text-decoration-color: #008080; font-weight: bold\">5</span><span style=\"font-weight: bold\">]])</span>                                                     <span style=\"color: #000080; text-decoration-color: #000080\">│</span>\n",
       "<span style=\"color: #000080; text-decoration-color: #000080\">│</span>                                   <span style=\"font-weight: bold\">}</span>                                                                             <span style=\"color: #000080; text-decoration-color: #000080\">│</span>\n",
       "<span style=\"color: #000080; text-decoration-color: #000080\">│</span>                    <span style=\"color: #808000; text-decoration-color: #808000; font-style: italic\">dump_patches</span> = <span style=\"color: #ff0000; text-decoration-color: #ff0000; font-style: italic\">False</span>                                                                         <span style=\"color: #000080; text-decoration-color: #000080\">│</span>\n",
       "<span style=\"color: #000080; text-decoration-color: #000080\">│</span>                       <span style=\"color: #808000; text-decoration-color: #808000; font-style: italic\">framework</span> = <span style=\"color: #008000; text-decoration-color: #008000\">'pt'</span>                                                                          <span style=\"color: #000080; text-decoration-color: #000080\">│</span>\n",
       "<span style=\"color: #000080; text-decoration-color: #000080\">│</span>               <span style=\"color: #808000; text-decoration-color: #808000; font-style: italic\">generation_config</span> = GenerationConfig <span style=\"font-weight: bold\">{</span>                                                            <span style=\"color: #000080; text-decoration-color: #000080\">│</span>\n",
       "<span style=\"color: #000080; text-decoration-color: #000080\">│</span>                                     <span style=\"color: #008000; text-decoration-color: #008000\">\"bos_token_id\"</span>: <span style=\"color: #008080; text-decoration-color: #008080; font-weight: bold\">1</span>,                                                          <span style=\"color: #000080; text-decoration-color: #000080\">│</span>\n",
       "<span style=\"color: #000080; text-decoration-color: #000080\">│</span>                                     <span style=\"color: #008000; text-decoration-color: #008000\">\"eos_token_id\"</span>: <span style=\"color: #008080; text-decoration-color: #008080; font-weight: bold\">2</span>                                                           <span style=\"color: #000080; text-decoration-color: #000080\">│</span>\n",
       "<span style=\"color: #000080; text-decoration-color: #000080\">│</span>                                   <span style=\"font-weight: bold\">}</span>                                                                             <span style=\"color: #000080; text-decoration-color: #000080\">│</span>\n",
       "<span style=\"color: #000080; text-decoration-color: #000080\">│</span>       <span style=\"color: #808000; text-decoration-color: #808000; font-style: italic\">is_gradient_checkpointing</span> = <span style=\"color: #ff0000; text-decoration-color: #ff0000; font-style: italic\">False</span>                                                                         <span style=\"color: #000080; text-decoration-color: #000080\">│</span>\n",
       "<span style=\"color: #000080; text-decoration-color: #000080\">│</span>               <span style=\"color: #808000; text-decoration-color: #808000; font-style: italic\">is_loaded_in_4bit</span> = <span style=\"color: #ff0000; text-decoration-color: #ff0000; font-style: italic\">False</span>                                                                         <span style=\"color: #000080; text-decoration-color: #000080\">│</span>\n",
       "<span style=\"color: #000080; text-decoration-color: #000080\">│</span>               <span style=\"color: #808000; text-decoration-color: #808000; font-style: italic\">is_loaded_in_8bit</span> = <span style=\"color: #ff0000; text-decoration-color: #ff0000; font-style: italic\">False</span>                                                                         <span style=\"color: #000080; text-decoration-color: #000080\">│</span>\n",
       "<span style=\"color: #000080; text-decoration-color: #000080\">│</span>               <span style=\"color: #808000; text-decoration-color: #808000; font-style: italic\">is_parallelizable</span> = <span style=\"color: #ff0000; text-decoration-color: #ff0000; font-style: italic\">False</span>                                                                         <span style=\"color: #000080; text-decoration-color: #000080\">│</span>\n",
       "<span style=\"color: #000080; text-decoration-color: #000080\">│</span>                 <span style=\"color: #808000; text-decoration-color: #808000; font-style: italic\">main_input_name</span> = <span style=\"color: #008000; text-decoration-color: #008000\">'input_ids'</span>                                                                   <span style=\"color: #000080; text-decoration-color: #000080\">│</span>\n",
       "<span style=\"color: #000080; text-decoration-color: #000080\">│</span>                    <span style=\"color: #808000; text-decoration-color: #808000; font-style: italic\">name_or_path</span> = <span style=\"color: #008000; text-decoration-color: #008000\">'mistralai/Mistral-7B-Instruct-v0.2'</span>                                          <span style=\"color: #000080; text-decoration-color: #000080\">│</span>\n",
       "<span style=\"color: #000080; text-decoration-color: #000080\">│</span> <span style=\"color: #808000; text-decoration-color: #808000; font-style: italic\">supports_gradient_checkpointing</span> = <span style=\"color: #00ff00; text-decoration-color: #00ff00; font-style: italic\">True</span>                                                                          <span style=\"color: #000080; text-decoration-color: #000080\">│</span>\n",
       "<span style=\"color: #000080; text-decoration-color: #000080\">│</span>                   <span style=\"color: #808000; text-decoration-color: #808000; font-style: italic\">T_destination</span> = ~T_destination                                                                <span style=\"color: #000080; text-decoration-color: #000080\">│</span>\n",
       "<span style=\"color: #000080; text-decoration-color: #000080\">│</span>                        <span style=\"color: #808000; text-decoration-color: #808000; font-style: italic\">training</span> = <span style=\"color: #ff0000; text-decoration-color: #ff0000; font-style: italic\">False</span>                                                                         <span style=\"color: #000080; text-decoration-color: #000080\">│</span>\n",
       "<span style=\"color: #000080; text-decoration-color: #000080\">│</span>                      <span style=\"color: #808000; text-decoration-color: #808000; font-style: italic\">vocab_size</span> = <span style=\"color: #008080; text-decoration-color: #008080; font-weight: bold\">32000</span>                                                                         <span style=\"color: #000080; text-decoration-color: #000080\">│</span>\n",
       "<span style=\"color: #000080; text-decoration-color: #000080\">│</span>                 <span style=\"color: #808000; text-decoration-color: #808000; font-style: italic\">warnings_issued</span> = <span style=\"font-weight: bold\">{}</span>                                                                            <span style=\"color: #000080; text-decoration-color: #000080\">│</span>\n",
       "<span style=\"color: #000080; text-decoration-color: #000080\">╰─────────────────────────────────────────────────────────────────────────────────────────────────────────────────╯</span>\n",
       "</pre>\n"
      ],
      "text/plain": [
       "\u001b[34m╭─\u001b[0m\u001b[34m \u001b[0m\u001b[1;35mMistralForCausalLM\u001b[0m\u001b[1;34m(\u001b[0m\u001b[34m   \u001b[0m\u001b[1;34m(\u001b[0m\u001b[34mmodel\u001b[0m\u001b[1;34m)\u001b[0m\u001b[34m: \u001b[0m\u001b[1;35mMistralModel\u001b[0m\u001b[1;34m(\u001b[0m\u001b[34m     \u001b[0m\u001b[1;34m(\u001b[0m\u001b[34membed_tokens\u001b[0m\u001b[1;34m)\u001b[0m\u001b[34m: \u001b[0m\u001b[1;35mEmbedding\u001b[0m\u001b[1;34m(\u001b[0m\u001b[1;36m32000\u001b[0m\u001b[34m, \u001b[0m\u001b[1;36m4096\u001b[0m\u001b[1;34m)\u001b[0m\u001b[34m     \u001b[0m\u001b[1;34m(\u001b[0m\u001b[34mlayers\u001b[0m\u001b[1;34m)\u001b[0m\u001b[34m: \u001b[0m\u001b[1;35mModuleLi\u001b[0m\u001b[34m─╮\u001b[0m\n",
       "\u001b[34m│\u001b[0m \u001b[3;96mdef \u001b[0m\u001b[1m(\u001b[0m*args, **kwargs\u001b[1m)\u001b[0m:                                                                                          \u001b[34m│\u001b[0m\n",
       "\u001b[34m│\u001b[0m                                                                                                                 \u001b[34m│\u001b[0m\n",
       "\u001b[34m│\u001b[0m               \u001b[3;33mbase_model_prefix\u001b[0m = \u001b[32m'model'\u001b[0m                                                                       \u001b[34m│\u001b[0m\n",
       "\u001b[34m│\u001b[0m                 \u001b[3;33mcall_super_init\u001b[0m = \u001b[3;91mFalse\u001b[0m                                                                         \u001b[34m│\u001b[0m\n",
       "\u001b[34m│\u001b[0m                          \u001b[3;33mconfig\u001b[0m = MistralConfig \u001b[1m{\u001b[0m                                                               \u001b[34m│\u001b[0m\n",
       "\u001b[34m│\u001b[0m                                     \u001b[32m\"_name_or_path\"\u001b[0m: \u001b[32m\"mistralai/Mistral-7B-Instruct-v0.2\"\u001b[0m,                      \u001b[34m│\u001b[0m\n",
       "\u001b[34m│\u001b[0m                                     \u001b[32m\"architectures\"\u001b[0m: \u001b[1m[\u001b[0m                                                          \u001b[34m│\u001b[0m\n",
       "\u001b[34m│\u001b[0m                                       \u001b[32m\"MistralForCausalLM\"\u001b[0m                                                      \u001b[34m│\u001b[0m\n",
       "\u001b[34m│\u001b[0m                                     \u001b[1m]\u001b[0m,                                                                          \u001b[34m│\u001b[0m\n",
       "\u001b[34m│\u001b[0m                                     \u001b[32m\"attention_dropout\"\u001b[0m: \u001b[1;36m0.0\u001b[0m,                                                   \u001b[34m│\u001b[0m\n",
       "\u001b[34m│\u001b[0m                                     \u001b[32m\"bos_token_id\"\u001b[0m: \u001b[1;36m1\u001b[0m,                                                          \u001b[34m│\u001b[0m\n",
       "\u001b[34m│\u001b[0m                                     \u001b[32m\"eos_token_id\"\u001b[0m: \u001b[1;36m2\u001b[0m,                                                          \u001b[34m│\u001b[0m\n",
       "\u001b[34m│\u001b[0m                                     \u001b[32m\"hidden_act\"\u001b[0m: \u001b[32m\"silu\"\u001b[0m,                                                       \u001b[34m│\u001b[0m\n",
       "\u001b[34m│\u001b[0m                                     \u001b[32m\"hidden_size\"\u001b[0m: \u001b[1;36m4096\u001b[0m,                                                        \u001b[34m│\u001b[0m\n",
       "\u001b[34m│\u001b[0m                                     \u001b[32m\"initializer_range\"\u001b[0m: \u001b[1;36m0.02\u001b[0m,                                                  \u001b[34m│\u001b[0m\n",
       "\u001b[34m│\u001b[0m                                     \u001b[32m\"intermediate_size\"\u001b[0m: \u001b[1;36m14336\u001b[0m,                                                 \u001b[34m│\u001b[0m\n",
       "\u001b[34m│\u001b[0m                                     \u001b[32m\"max_position_embeddings\"\u001b[0m: \u001b[1;36m32768\u001b[0m,                                           \u001b[34m│\u001b[0m\n",
       "\u001b[34m│\u001b[0m                                     \u001b[32m\"model_type\"\u001b[0m: \u001b[32m\"mistral\"\u001b[0m,                                                    \u001b[34m│\u001b[0m\n",
       "\u001b[34m│\u001b[0m                                     \u001b[32m\"num_attention_heads\"\u001b[0m: \u001b[1;36m32\u001b[0m,                                                  \u001b[34m│\u001b[0m\n",
       "\u001b[34m│\u001b[0m                                     \u001b[32m\"num_hidden_layers\"\u001b[0m: \u001b[1;36m32\u001b[0m,                                                    \u001b[34m│\u001b[0m\n",
       "\u001b[34m│\u001b[0m                                     \u001b[32m\"num_key_value_heads\"\u001b[0m: \u001b[1;36m8\u001b[0m,                                                   \u001b[34m│\u001b[0m\n",
       "\u001b[34m│\u001b[0m                                     \u001b[32m\"rms_norm_eps\"\u001b[0m: \u001b[1;36m1e-05\u001b[0m,                                                      \u001b[34m│\u001b[0m\n",
       "\u001b[34m│\u001b[0m                                     \u001b[32m\"rope_theta\"\u001b[0m: \u001b[1;36m1000000.0\u001b[0m,                                                    \u001b[34m│\u001b[0m\n",
       "\u001b[34m│\u001b[0m                                     \u001b[32m\"sliding_window\"\u001b[0m: null,                                                     \u001b[34m│\u001b[0m\n",
       "\u001b[34m│\u001b[0m                                     \u001b[32m\"tie_word_embeddings\"\u001b[0m: false,                                               \u001b[34m│\u001b[0m\n",
       "\u001b[34m│\u001b[0m                                     \u001b[32m\"torch_dtype\"\u001b[0m: \u001b[32m\"bfloat16\"\u001b[0m,                                                  \u001b[34m│\u001b[0m\n",
       "\u001b[34m│\u001b[0m                                     \u001b[32m\"transformers_version\"\u001b[0m: \u001b[32m\"4.36.2\"\u001b[0m,                                           \u001b[34m│\u001b[0m\n",
       "\u001b[34m│\u001b[0m                                     \u001b[32m\"use_cache\"\u001b[0m: true,                                                          \u001b[34m│\u001b[0m\n",
       "\u001b[34m│\u001b[0m                                     \u001b[32m\"vocab_size\"\u001b[0m: \u001b[1;36m32000\u001b[0m                                                         \u001b[34m│\u001b[0m\n",
       "\u001b[34m│\u001b[0m                                   \u001b[1m}\u001b[0m                                                                             \u001b[34m│\u001b[0m\n",
       "\u001b[34m│\u001b[0m                          \u001b[3;33mdevice\u001b[0m = \u001b[1;35mdevice\u001b[0m\u001b[1m(\u001b[0m\u001b[33mtype\u001b[0m=\u001b[32m'cuda'\u001b[0m, \u001b[33mindex\u001b[0m=\u001b[1;36m0\u001b[0m\u001b[1m)\u001b[0m                                                  \u001b[34m│\u001b[0m\n",
       "\u001b[34m│\u001b[0m                           \u001b[3;33mdtype\u001b[0m = torch.bfloat16                                                                \u001b[34m│\u001b[0m\n",
       "\u001b[34m│\u001b[0m                    \u001b[3;33mdummy_inputs\u001b[0m = \u001b[1m{\u001b[0m                                                                             \u001b[34m│\u001b[0m\n",
       "\u001b[34m│\u001b[0m                                       \u001b[32m'input_ids'\u001b[0m: \u001b[1;35mtensor\u001b[0m\u001b[1m(\u001b[0m\u001b[1m[\u001b[0m\u001b[1m[\u001b[0m\u001b[1;36m7\u001b[0m, \u001b[1;36m6\u001b[0m, \u001b[1;36m0\u001b[0m, \u001b[1;36m0\u001b[0m, \u001b[1;36m1\u001b[0m\u001b[1m]\u001b[0m,                                     \u001b[34m│\u001b[0m\n",
       "\u001b[34m│\u001b[0m                                           \u001b[1m[\u001b[0m\u001b[1;36m1\u001b[0m, \u001b[1;36m2\u001b[0m, \u001b[1;36m3\u001b[0m, \u001b[1;36m0\u001b[0m, \u001b[1;36m0\u001b[0m\u001b[1m]\u001b[0m,                                                      \u001b[34m│\u001b[0m\n",
       "\u001b[34m│\u001b[0m                                           \u001b[1m[\u001b[0m\u001b[1;36m0\u001b[0m, \u001b[1;36m0\u001b[0m, \u001b[1;36m0\u001b[0m, \u001b[1;36m4\u001b[0m, \u001b[1;36m5\u001b[0m\u001b[1m]\u001b[0m\u001b[1m]\u001b[0m\u001b[1m)\u001b[0m                                                     \u001b[34m│\u001b[0m\n",
       "\u001b[34m│\u001b[0m                                   \u001b[1m}\u001b[0m                                                                             \u001b[34m│\u001b[0m\n",
       "\u001b[34m│\u001b[0m                    \u001b[3;33mdump_patches\u001b[0m = \u001b[3;91mFalse\u001b[0m                                                                         \u001b[34m│\u001b[0m\n",
       "\u001b[34m│\u001b[0m                       \u001b[3;33mframework\u001b[0m = \u001b[32m'pt'\u001b[0m                                                                          \u001b[34m│\u001b[0m\n",
       "\u001b[34m│\u001b[0m               \u001b[3;33mgeneration_config\u001b[0m = GenerationConfig \u001b[1m{\u001b[0m                                                            \u001b[34m│\u001b[0m\n",
       "\u001b[34m│\u001b[0m                                     \u001b[32m\"bos_token_id\"\u001b[0m: \u001b[1;36m1\u001b[0m,                                                          \u001b[34m│\u001b[0m\n",
       "\u001b[34m│\u001b[0m                                     \u001b[32m\"eos_token_id\"\u001b[0m: \u001b[1;36m2\u001b[0m                                                           \u001b[34m│\u001b[0m\n",
       "\u001b[34m│\u001b[0m                                   \u001b[1m}\u001b[0m                                                                             \u001b[34m│\u001b[0m\n",
       "\u001b[34m│\u001b[0m       \u001b[3;33mis_gradient_checkpointing\u001b[0m = \u001b[3;91mFalse\u001b[0m                                                                         \u001b[34m│\u001b[0m\n",
       "\u001b[34m│\u001b[0m               \u001b[3;33mis_loaded_in_4bit\u001b[0m = \u001b[3;91mFalse\u001b[0m                                                                         \u001b[34m│\u001b[0m\n",
       "\u001b[34m│\u001b[0m               \u001b[3;33mis_loaded_in_8bit\u001b[0m = \u001b[3;91mFalse\u001b[0m                                                                         \u001b[34m│\u001b[0m\n",
       "\u001b[34m│\u001b[0m               \u001b[3;33mis_parallelizable\u001b[0m = \u001b[3;91mFalse\u001b[0m                                                                         \u001b[34m│\u001b[0m\n",
       "\u001b[34m│\u001b[0m                 \u001b[3;33mmain_input_name\u001b[0m = \u001b[32m'input_ids'\u001b[0m                                                                   \u001b[34m│\u001b[0m\n",
       "\u001b[34m│\u001b[0m                    \u001b[3;33mname_or_path\u001b[0m = \u001b[32m'mistralai/Mistral-7B-Instruct-v0.2'\u001b[0m                                          \u001b[34m│\u001b[0m\n",
       "\u001b[34m│\u001b[0m \u001b[3;33msupports_gradient_checkpointing\u001b[0m = \u001b[3;92mTrue\u001b[0m                                                                          \u001b[34m│\u001b[0m\n",
       "\u001b[34m│\u001b[0m                   \u001b[3;33mT_destination\u001b[0m = ~T_destination                                                                \u001b[34m│\u001b[0m\n",
       "\u001b[34m│\u001b[0m                        \u001b[3;33mtraining\u001b[0m = \u001b[3;91mFalse\u001b[0m                                                                         \u001b[34m│\u001b[0m\n",
       "\u001b[34m│\u001b[0m                      \u001b[3;33mvocab_size\u001b[0m = \u001b[1;36m32000\u001b[0m                                                                         \u001b[34m│\u001b[0m\n",
       "\u001b[34m│\u001b[0m                 \u001b[3;33mwarnings_issued\u001b[0m = \u001b[1m{\u001b[0m\u001b[1m}\u001b[0m                                                                            \u001b[34m│\u001b[0m\n",
       "\u001b[34m╰─────────────────────────────────────────────────────────────────────────────────────────────────────────────────╯\u001b[0m\n"
      ]
     },
     "metadata": {},
     "output_type": "display_data"
    }
   ],
   "source": [
    "from rich import inspect\n",
    "# inspect(hf.pipeline.model.model.layers[0].self_attn)\n",
    "inspect(hf.pipeline.model)\n",
    "\n"
   ]
  },
  {
   "cell_type": "code",
   "execution_count": null,
   "metadata": {},
   "outputs": [],
   "source": []
  },
  {
   "cell_type": "code",
   "execution_count": null,
   "metadata": {},
   "outputs": [],
   "source": []
  },
  {
   "cell_type": "code",
   "execution_count": null,
   "metadata": {},
   "outputs": [],
   "source": []
  },
  {
   "cell_type": "code",
   "execution_count": null,
   "metadata": {},
   "outputs": [],
   "source": []
  },
  {
   "cell_type": "code",
   "execution_count": null,
   "metadata": {},
   "outputs": [],
   "source": []
  }
 ],
 "metadata": {
  "kernelspec": {
   "display_name": "ai_news",
   "language": "python",
   "name": "python3"
  },
  "language_info": {
   "codemirror_mode": {
    "name": "ipython",
    "version": 3
   },
   "file_extension": ".py",
   "mimetype": "text/x-python",
   "name": "python",
   "nbconvert_exporter": "python",
   "pygments_lexer": "ipython3",
   "version": "3.10.13"
  }
 },
 "nbformat": 4,
 "nbformat_minor": 2
}
